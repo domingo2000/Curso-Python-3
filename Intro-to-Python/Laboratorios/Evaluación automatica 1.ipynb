{
 "cells": [
  {
   "cell_type": "code",
   "execution_count": 1,
   "metadata": {},
   "outputs": [],
   "source": [
    "from ipynb.fs.full.Tester import get_test_1"
   ]
  },
  {
   "cell_type": "code",
   "execution_count": 4,
   "metadata": {},
   "outputs": [],
   "source": [
    "test = get_test_1()"
   ]
  },
  {
   "cell_type": "code",
   "execution_count": 18,
   "metadata": {},
   "outputs": [],
   "source": [
    "## TODO: ##\n",
    "#Una funcion que sume todo tipo de variables\n",
    "def suma(a,b):\n",
    "    if type(a) == type(b):\n",
    "            return a + b\n",
    "    else:\n",
    "        if type(a) in [int,float, bool]:\n",
    "            if type(b) in [int,float, bool]:\n",
    "                return a + b\n",
    "        else:\n",
    "            print('Los parametros tienen que ser ambos números o ambos del mismo tipo en otro caso.')\n",
    "            return None"
   ]
  },
  {
   "cell_type": "markdown",
   "metadata": {},
   "source": [
    "# Disclosure:\n",
    "\n",
    "El alumno no tiene que cambiar nada de lo que viene aca abajo o podría romper el notebook y afectar la corrección de su trabajo."
   ]
  },
  {
   "cell_type": "markdown",
   "metadata": {},
   "source": [
    "## Testeo:"
   ]
  },
  {
   "cell_type": "code",
   "execution_count": 7,
   "metadata": {},
   "outputs": [
    {
     "name": "stdout",
     "output_type": "stream",
     "text": [
      "3\n",
      "5\n",
      "7.800000000000001\n",
      "isla\n"
     ]
    }
   ],
   "source": [
    "for i in test:\n",
    "    print(suma(i[0],i[1]))"
   ]
  },
  {
   "cell_type": "code",
   "execution_count": 19,
   "metadata": {},
   "outputs": [
    {
     "name": "stdout",
     "output_type": "stream",
     "text": [
      "3\n"
     ]
    }
   ],
   "source": [
    "a = suma(True, 2)\n",
    "print(a)"
   ]
  }
 ],
 "metadata": {
  "kernelspec": {
   "display_name": "Python 3",
   "language": "python",
   "name": "python3"
  },
  "language_info": {
   "codemirror_mode": {
    "name": "ipython",
    "version": 3
   },
   "file_extension": ".py",
   "mimetype": "text/x-python",
   "name": "python",
   "nbconvert_exporter": "python",
   "pygments_lexer": "ipython3",
   "version": "3.8.5"
  }
 },
 "nbformat": 4,
 "nbformat_minor": 4
}
