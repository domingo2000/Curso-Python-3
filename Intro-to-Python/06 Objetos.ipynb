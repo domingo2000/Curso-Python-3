{
 "cells": [
  {
   "cell_type": "markdown",
   "metadata": {},
   "source": [
    "<small><font style=\"font-size:6pt\"> <i>\n",
    "All of these python notebooks are available at https://gitlab.erc.monash.edu.au/andrease/Python4Maths.git </i>\n",
    "</font></small>"
   ]
  },
  {
   "cell_type": "markdown",
   "metadata": {},
   "source": [
    "# Clases y Objetos"
   ]
  },
  {
   "cell_type": "markdown",
   "metadata": {},
   "source": [
    "En la vida cotidiana estamos rodeados de diferentes cosas, con solo mirar a nuestro alrededor podemos diferenciar un perro de un gato, un lápiz de un plumón, una persona de una mesa, y así podríamos seguir indefinidamente. Dicha forma de ver el mundo lleva siglos en nuestras cabezas, de hecho la filosofía platónica dice que todos los objetos que hay en el mundo son el reflejo de una \"idea\" de dicho objeto. Pongamos un par de ejemplos para entender dicha forma de ver el mundo."
   ]
  },
  {
   "cell_type": "markdown",
   "metadata": {},
   "source": [
    "1. Idea de Perro: En el mundo hay cientos de perros, algunos son grandes, otros son pequeños, hay de diversos colores, diversos pelajes y diferentes razas. Pero ¿Que hay detrás de todos ellos?. Todos los perros sabemos que tienen 4 patas (Suponiendo que no están cojos), sabemos que ladran, sabemos que tienen un peso dado, una altura, y un tipo de raza, así hay características comúnes que unen a todos los perros. <br>\n",
    "A esta abstracción de todos los perros en una idea común Platón le llamaba \"Idea de un objeto\"."
   ]
  },
  {
   "cell_type": "markdown",
   "metadata": {},
   "source": [
    "2. Idea de un Auto:\n",
    "    Nuevamente en el mundo hay muchísimos autos, veamos primero que características comunes ***tienen*** los autos. Todos tienen un color, una marca, 4 ruedas, una cantidad de kilometros recorridos, una cantidad de puertas, y una bocina distinta. Por otro lado, que cosas ***hacen*** los autos se pueden encender, pueden tocar la bocina, y pueden avanzar kilometros al apretar el acelerador.\n",
    "\n",
    "Nuevamente, tenemos una abstracción de lo que hacer todos los autos, podríamos añadirle muchas cosas, pero la idea es quedarnos con algo general que abarque a todos los tipos de autos."
   ]
  },
  {
   "cell_type": "markdown",
   "metadata": {},
   "source": [
    "En programación existe un paradigma de programación que se llama **Programación Orientada a Objetos** o **OOP** (Por object oriented programing). Que busca plantear dicha forma de pensar en el código de un programa, es decir, para dicha forma de programar **todo** es un objeto, los objetos al igual que los ejemplos anteriores, tienen **atributos** que son las cosas que un objeto *tiene*, y por otro lado tienen **métodos** que son las cosas que un objeto *hace*. Veamos como separamos atributos de métodos en los ejemplos anteriores."
   ]
  },
  {
   "cell_type": "markdown",
   "metadata": {},
   "source": [
    "### Perro\n",
    "#### Atributos\n",
    "    - Nombre\n",
    "    - Color\n",
    "    - Raza\n",
    "    - Número de Patas\n",
    "    - Peso\n",
    "    - Altura\n",
    "#### Métodos\n",
    "    - Ladrar\n",
    "    - Comer"
   ]
  },
  {
   "cell_type": "markdown",
   "metadata": {},
   "source": [
    "### Auto\n",
    "#### Atributos\n",
    "    - Marca\n",
    "    - Modelo\n",
    "    - Color\n",
    "    - Kilómetros recorridos\n",
    "    - Encendido (dice si el auto está encendido o apagado)\n",
    "#### Métodos\n",
    "    - Encenderse\n",
    "    - Avanzar\n",
    "    - Tocar la bocina\n",
    "    - Apagarse\n",
    "    "
   ]
  },
  {
   "cell_type": "markdown",
   "metadata": {},
   "source": [
    "Dicha modelación y idea de objeto que define sus atributos y métodos se denomina **Clase**. Una clase es una abstracción de un objeto que permite crear múltiples **Instancias** de un mismo tipo de objeto. Por ejemplo puedo tener 2 instancias de perros:"
   ]
  },
  {
   "cell_type": "markdown",
   "metadata": {},
   "source": [
    "#### perro_1\n",
    "    - Nombre: Pancho\n",
    "    - Color: Amarillo\n",
    "    - Raza: Golden Retriever\n",
    "    - Número de Patas: 4\n",
    "    - Peso: 10 kg\n",
    "    - Altura: 50 cm"
   ]
  },
  {
   "cell_type": "markdown",
   "metadata": {},
   "source": [
    "#### perro_2\n",
    "    - Nombre: Firulais\n",
    "    - Color: Cafe\n",
    "    - Raza: Galgo\n",
    "    - Número de Patas: 4\n",
    "    - Peso: 1 kg\n",
    "    - Altura: 20 cm"
   ]
  },
  {
   "cell_type": "markdown",
   "metadata": {},
   "source": [
    "Así cada perro **distinto** tiene los mismos **atributos** que los definidos en la **clase Perro**."
   ]
  },
  {
   "cell_type": "markdown",
   "metadata": {},
   "source": [
    "Veamos ahora como podemos programar dicho perro en Python usando los conceptos de clases, atributos y métodos. La sintaxis completa es la siguiente, no se asusten, se explicará cada parte con detenimiento."
   ]
  },
  {
   "cell_type": "code",
   "execution_count": 5,
   "metadata": {},
   "outputs": [],
   "source": [
    "class Perro:\n",
    "    \"\"\"\n",
    "    Una clase que define a cualquier perro normal\n",
    "    \"\"\"\n",
    "    def __init__(self, nombre, color, raza, peso, altura):\n",
    "        \"\"\"\n",
    "        Inizializa el perro, donde self es la instancia de la clase\n",
    "        \"\"\"\n",
    "        self.nombre = nombre\n",
    "        self.color = color\n",
    "        self.raza = raza\n",
    "        self.peso = peso\n",
    "        self.altura = altura\n",
    "        self.patas = 4\n",
    "    \n",
    "    def ladrar(self):\n",
    "        print(\"Guau Guau!\")\n",
    "    \n",
    "    def comer(self):\n",
    "        \"\"\"\n",
    "        Hace comer al perro, actualizando su peso y su altura\n",
    "        \"\"\"\n",
    "        self.peso += 0.5 # self hace referencia a que se actualiza el peso del mismo objeto\n",
    "        self.altura += 0.1 # nuevamente usamos self para actualizar un atributo de la instancia."
   ]
  },
  {
   "cell_type": "markdown",
   "metadata": {
    "collapsed": true
   },
   "source": [
    "ya definida esa clase creemos entonces algunos perros o mejor dicho **instancias de la clase Perro**"
   ]
  },
  {
   "cell_type": "code",
   "execution_count": 6,
   "metadata": {},
   "outputs": [
    {
     "name": "stdout",
     "output_type": "stream",
     "text": [
      "choco\n",
      "café\n"
     ]
    }
   ],
   "source": [
    "perro_1 = Perro(\"choco\", \"café\", \"pastor alemán\", 15, 20) # Creamos un perro nuevo con los parámetros dados\n",
    "print(perro_1.nombre) # Accedemos a sus atributos\n",
    "print(perro_1.color)"
   ]
  },
  {
   "cell_type": "markdown",
   "metadata": {},
   "source": [
    "Desglozemos el código anterior. <br>\n",
    "En primer lugar tenemos un método (parecido a una función) que se llama `__init__(self, a, b, c, ...)`, dicho método de la clase es el que crea al perro, es decir cuando nosotros hacemos <br>\n",
    "`perro_1 = Perro(\"choco\", \"café\", \"pastor alemán\", 15, 20)` <br>\n",
    "Estamos creando un perro de dichas características que le pasamos al método `__init__`, algo importante a notar, es que no tenemos que pasarle todos los atributos, pues hay cosas que son intrínsecas de la clase, por ejemplo que un perro tiene 4 patas."
   ]
  },
  {
   "cell_type": "markdown",
   "metadata": {},
   "source": [
    "En segundo lugar tenemos el acceso a sus **atributos**, es decir podemos ver el nombre y color del perro haciendo <br>\n",
    "`ìnstancia.atributo`, o en nuestro caso `perro_1.nombre`"
   ]
  },
  {
   "cell_type": "markdown",
   "metadata": {},
   "source": [
    "Por otro lado, debajo del `__init__`, tenemos dos métodos más, que son `ladrar` y `comer`, dichos métodos actuan igual que una función, pero tienen la información del objeto, es decir, podemos hacer que el perro \"ladre\" haciendo:"
   ]
  },
  {
   "cell_type": "code",
   "execution_count": 7,
   "metadata": {},
   "outputs": [
    {
     "name": "stdout",
     "output_type": "stream",
     "text": [
      "Guau Guau!\n"
     ]
    }
   ],
   "source": [
    "perro_1.ladrar()"
   ]
  },
  {
   "cell_type": "markdown",
   "metadata": {},
   "source": [
    "Tambíen podemos hacer que el perro coma, lo cual hace que suba **su peso** y **su altura**, es decir al hacer que coma el perro, entonces se van a modificar sus atributos de peso y altura"
   ]
  },
  {
   "cell_type": "code",
   "execution_count": 9,
   "metadata": {},
   "outputs": [
    {
     "name": "stdout",
     "output_type": "stream",
     "text": [
      "El peso antes de comer es 15.5\n",
      "La altura del perro antes de comer es 20.1\n",
      "El peso despues de comer es 16.0\n",
      "La altura del perro despues de comer es 20.200000000000003\n"
     ]
    }
   ],
   "source": [
    "# Peso y altura antes de comer\n",
    "print(\"El peso antes de comer es\", perro_1.peso)\n",
    "print(\"La altura del perro antes de comer es\", perro_1.altura)\n",
    "# Llamamos al método de perro_1\n",
    "perro_1.comer()\n",
    "# Vemos que subió de peso y altura\n",
    "print(\"El peso despues de comer es\", perro_1.peso)\n",
    "print(\"La altura del perro despues de comer es\", perro_1.altura)\n"
   ]
  },
  {
   "cell_type": "markdown",
   "metadata": {},
   "source": [
    "Veamos el ejemplo del auto y programemos la clase:"
   ]
  },
  {
   "cell_type": "code",
   "execution_count": 15,
   "metadata": {},
   "outputs": [],
   "source": [
    "class Auto: # el nombre de la clase debe se CamelCase, es decir empezar con mayúscula y usar mayusculas para pablras distintas\n",
    "    \n",
    "    def __init__(self, marca, modelo, color):\n",
    "        self.marca = marca\n",
    "        self.modelo = modelo\n",
    "        self.color = color\n",
    "        self.kilometraje = 0\n",
    "        self.encendido = False\n",
    "        \n",
    "    def encender(self): # Debemos pasar self para que el objeto llame al método\n",
    "        print(\"BRuuum brummm\")\n",
    "        self.encendido = True\n",
    "        \n",
    "    def apagar(self):\n",
    "        print(\"zzzzz\")\n",
    "        self.encendido = False\n",
    "    \n",
    "    def tocar_bocina(self):\n",
    "        print(\"beeep beeeep\")\n",
    "    \n",
    "    def avanzar(self, kilometros): # Debe pasarse la cantidad de kilómetros que quieres que avance el auto\n",
    "        if self.encendido:\n",
    "            self.kilometraje += kilometros\n",
    "        else:\n",
    "            print(\"Debes encender el auto primero\")\n",
    "    "
   ]
  },
  {
   "cell_type": "code",
   "execution_count": 18,
   "metadata": {},
   "outputs": [
    {
     "name": "stdout",
     "output_type": "stream",
     "text": [
      "chevrolet\n",
      "volkswagen\n",
      "volkswagen\n",
      "Debes encender el auto primero\n"
     ]
    }
   ],
   "source": [
    "auto_1 = Auto(\"chevrolet\", \"aveo\", \"gris\")\n",
    "auto_2 = Auto(\"volkswagen\", \"gol\", \"rojo\")\n",
    "# Este auto no es el mismo que el anterior, son dos autos del mismo color, modelo y marca, pero son dos autos distintos\n",
    "auto_3 = Auto(\"volkswagen\", \"gol\", \"rojo\")\n",
    "\n",
    "print(auto_1.marca)\n",
    "print(auto_2.marca)\n",
    "print(auto_3.marca)\n",
    "\n",
    "auto_1.avanzar(20)"
   ]
  },
  {
   "cell_type": "code",
   "execution_count": 23,
   "metadata": {},
   "outputs": [
    {
     "name": "stdout",
     "output_type": "stream",
     "text": [
      "BRuuum brummm\n",
      "80\n",
      "0\n",
      "0\n"
     ]
    }
   ],
   "source": [
    "auto_1.encender()\n",
    "auto_1.avanzar(20)\n",
    "print(auto_1.kilometraje) # El auto 1 avanzó\n",
    "print(auto_2.kilometraje) # El auto 2 no ha avanzado\n",
    "print(auto_3.kilometraje) # El auto 3 tampoco avanzó"
   ]
  },
  {
   "cell_type": "code",
   "execution_count": 24,
   "metadata": {},
   "outputs": [
    {
     "name": "stdout",
     "output_type": "stream",
     "text": [
      "beeep beeeep\n"
     ]
    }
   ],
   "source": [
    "auto_1.tocar_bocina()"
   ]
  },
  {
   "cell_type": "markdown",
   "metadata": {},
   "source": [
    "Como pueden ver el código dentro de comer cambió el peso y altura del perro."
   ]
  },
  {
   "cell_type": "markdown",
   "metadata": {},
   "source": [
    "## Inheritance"
   ]
  },
  {
   "cell_type": "markdown",
   "metadata": {},
   "source": [
    "There might be cases where a new class would have all the previous characteristics of an already defined class. So the new class can \"inherit\" the previous class and add it's own methods to it. This is called as inheritance."
   ]
  },
  {
   "cell_type": "markdown",
   "metadata": {},
   "source": [
    "Consider class SoftwareEngineer which has a method salary."
   ]
  },
  {
   "cell_type": "code",
   "execution_count": 25,
   "metadata": {
    "collapsed": true
   },
   "outputs": [],
   "source": [
    "class SoftwareEngineer:\n",
    "    def __init__(self,name,age):\n",
    "        self.name = name\n",
    "        self.age = age\n",
    "    def salary(self, value):\n",
    "        self.money = value\n",
    "        print(self.name,\"earns\",self.money)"
   ]
  },
  {
   "cell_type": "code",
   "execution_count": 26,
   "metadata": {},
   "outputs": [],
   "source": [
    "a = SoftwareEngineer('Kartik',26)"
   ]
  },
  {
   "cell_type": "code",
   "execution_count": 27,
   "metadata": {},
   "outputs": [
    {
     "name": "stdout",
     "output_type": "stream",
     "text": [
      "Kartik earns 40000\n"
     ]
    }
   ],
   "source": [
    "a.salary(40000)"
   ]
  },
  {
   "cell_type": "code",
   "execution_count": 29,
   "metadata": {},
   "outputs": [
    {
     "data": {
      "text/plain": [
       "['salary']"
      ]
     },
     "execution_count": 29,
     "metadata": {},
     "output_type": "execute_result"
    }
   ],
   "source": [
    "[ name for name in dir(SoftwareEngineer) if not name.startswith(\"_\")]"
   ]
  },
  {
   "cell_type": "markdown",
   "metadata": {},
   "source": [
    "Now consider another class Artist which tells us about the amount of money an artist earns and his artform."
   ]
  },
  {
   "cell_type": "code",
   "execution_count": 33,
   "metadata": {},
   "outputs": [],
   "source": [
    "class Artist:\n",
    "    def __init__(self,name,age):\n",
    "        self.name = name\n",
    "        self.age = age\n",
    "    def money(self,value):\n",
    "        self.money = value\n",
    "        print(self.name,\"earns\",self.money)\n",
    "    def artform(self, job):\n",
    "        self.job = job\n",
    "        print(self.name,\"is a\", self.job)"
   ]
  },
  {
   "cell_type": "code",
   "execution_count": 34,
   "metadata": {
    "collapsed": true
   },
   "outputs": [],
   "source": [
    "b = Artist('Nitin',20)"
   ]
  },
  {
   "cell_type": "code",
   "execution_count": 35,
   "metadata": {},
   "outputs": [
    {
     "name": "stdout",
     "output_type": "stream",
     "text": [
      "Nitin earns 50000\n",
      "Nitin is a Musician\n"
     ]
    }
   ],
   "source": [
    "b.money(50000)\n",
    "b.artform('Musician')"
   ]
  },
  {
   "cell_type": "code",
   "execution_count": 38,
   "metadata": {},
   "outputs": [
    {
     "data": {
      "text/plain": [
       "['age', 'artform', 'job', 'money', 'name']"
      ]
     },
     "execution_count": 38,
     "metadata": {},
     "output_type": "execute_result"
    }
   ],
   "source": [
    "[ name for name in dir(b) if not name.startswith(\"_\")]"
   ]
  },
  {
   "cell_type": "markdown",
   "metadata": {},
   "source": [
    "money method and salary method are the same. So we can generalize the method to salary and inherit the SoftwareEngineer class to Artist class. Now the artist class becomes,"
   ]
  },
  {
   "cell_type": "code",
   "execution_count": 37,
   "metadata": {},
   "outputs": [],
   "source": [
    "class Artist(SoftwareEngineer):\n",
    "    def artform(self, job):\n",
    "        self.job = job\n",
    "        print self.name,\"is a\", self.job"
   ]
  },
  {
   "cell_type": "code",
   "execution_count": 38,
   "metadata": {},
   "outputs": [],
   "source": [
    "c = Artist('Nishanth',21)"
   ]
  },
  {
   "cell_type": "code",
   "execution_count": 39,
   "metadata": {},
   "outputs": [
    {
     "data": {
      "text/plain": [
       "['__doc__', '__init__', '__module__', 'artform', 'salary']"
      ]
     },
     "execution_count": 39,
     "metadata": {},
     "output_type": "execute_result"
    }
   ],
   "source": [
    "dir(Artist)"
   ]
  },
  {
   "cell_type": "code",
   "execution_count": 40,
   "metadata": {},
   "outputs": [
    {
     "name": "stdout",
     "output_type": "stream",
     "text": [
      "Nishanth earns 60000\n",
      "Nishanth is a Dancer\n"
     ]
    }
   ],
   "source": [
    "c.salary(60000)\n",
    "c.artform('Dancer')"
   ]
  },
  {
   "cell_type": "markdown",
   "metadata": {},
   "source": [
    "Suppose say while inheriting a particular method is not suitable for the new class. One can override this method by defining again that method with the same name inside the new class."
   ]
  },
  {
   "cell_type": "code",
   "execution_count": 39,
   "metadata": {
    "collapsed": true
   },
   "outputs": [],
   "source": [
    "class Artist(SoftwareEngineer):\n",
    "    def artform(self, job):\n",
    "        self.job = job\n",
    "        print(self.name,\"is a\", self.job)\n",
    "    def salary(self, value):\n",
    "        self.money = value\n",
    "        print(self.name,\"earns\",self.money)\n",
    "        print(\"I am overriding the SoftwareEngineer class's salary method\")"
   ]
  },
  {
   "cell_type": "code",
   "execution_count": 40,
   "metadata": {
    "collapsed": true
   },
   "outputs": [],
   "source": [
    "c = Artist('Nishanth',21)"
   ]
  },
  {
   "cell_type": "code",
   "execution_count": 41,
   "metadata": {},
   "outputs": [
    {
     "name": "stdout",
     "output_type": "stream",
     "text": [
      "Nishanth earns 60000\n",
      "I am overriding the SoftwareEngineer class's salary method\n",
      "Nishanth is a Dancer\n"
     ]
    }
   ],
   "source": [
    "c.salary(60000)\n",
    "c.artform('Dancer')"
   ]
  },
  {
   "cell_type": "markdown",
   "metadata": {},
   "source": [
    "If the number of input arguments varies from instance to instance asterisk can be used as shown."
   ]
  },
  {
   "cell_type": "code",
   "execution_count": 42,
   "metadata": {},
   "outputs": [],
   "source": [
    "class NotSure:\n",
    "    def __init__(self, *args):\n",
    "        self.data = ' '.join(list(args)) "
   ]
  },
  {
   "cell_type": "code",
   "execution_count": 43,
   "metadata": {},
   "outputs": [],
   "source": [
    "yz = NotSure('I', 'Do' , 'Not', 'Know', 'What', 'To','Type')"
   ]
  },
  {
   "cell_type": "code",
   "execution_count": 44,
   "metadata": {},
   "outputs": [
    {
     "data": {
      "text/plain": [
       "'I Do Not Know What To Type'"
      ]
     },
     "execution_count": 44,
     "metadata": {},
     "output_type": "execute_result"
    }
   ],
   "source": [
    "yz.data"
   ]
  },
  {
   "cell_type": "markdown",
   "metadata": {},
   "source": [
    "## Introspection\n",
    "We have already seen the `dir()` function for working out what is in a class. Python has many facilities to make introspection easy (that is working out what is in a Python object or module). Some useful functions are **hasattr**, **getattr**, and **setattr**:"
   ]
  },
  {
   "cell_type": "code",
   "execution_count": 45,
   "metadata": {},
   "outputs": [
    {
     "name": "stdout",
     "output_type": "stream",
     "text": [
      "ns.copy = test\n"
     ]
    }
   ],
   "source": [
    "ns = NotSure('test')\n",
    "if hasattr(ns,'data'): # check if ns.data exists\n",
    "    setattr(ns,'copy', # set ns.copy\n",
    "            getattr(ns,'data')) # get ns.data\n",
    "print('ns.copy =',ns.copy)"
   ]
  }
 ],
 "metadata": {
  "kernelspec": {
   "display_name": "Python 3",
   "language": "python",
   "name": "python3"
  },
  "language_info": {
   "codemirror_mode": {
    "name": "ipython",
    "version": 3
   },
   "file_extension": ".py",
   "mimetype": "text/x-python",
   "name": "python",
   "nbconvert_exporter": "python",
   "pygments_lexer": "ipython3",
   "version": "3.7.8"
  }
 },
 "nbformat": 4,
 "nbformat_minor": 1
}
