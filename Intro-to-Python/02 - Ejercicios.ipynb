{
  "nbformat": 4,
  "nbformat_minor": 0,
  "metadata": {
    "colab": {
      "name": "Ejercicios Control de flujo.ipynb",
      "provenance": [],
      "collapsed_sections": []
    },
    "kernelspec": {
      "display_name": "Python 3",
      "language": "python",
      "name": "python3"
    },
    "language_info": {
      "codemirror_mode": {
        "name": "ipython",
        "version": 3
      },
      "file_extension": ".py",
      "mimetype": "text/x-python",
      "name": "python",
      "nbconvert_exporter": "python",
      "pygments_lexer": "ipython3",
      "version": "3.7.8"
    }
  },
  "cells": [
    {
      "cell_type": "markdown",
      "metadata": {
        "id": "PyAidb6v-r6y"
      },
      "source": [
        "# Ejercicios de Control de flujo\n"
      ]
    },
    {
      "cell_type": "markdown",
      "metadata": {
        "id": "HI5uotYp-yps"
      },
      "source": [
        "### Ejercicio 1\n",
        "Escribir un programa que pregunte al usuario su edad y muestre por pantalla si es mayor de edad o no."
      ]
    },
    {
      "cell_type": "code",
      "metadata": {
        "id": "eD-TFFOG-0aV"
      },
      "source": [
        "# Escriba aqui su solución"
      ],
      "execution_count": null,
      "outputs": []
    },
    {
      "cell_type": "markdown",
      "metadata": {
        "id": "JIznzlP_-y0r"
      },
      "source": [
        "### Ejercicio 2\n",
        "Escribir un programa que almacene la cadena de caracteres \"***contraseña***\" en una variable, pregunte al usuario por la contraseña e imprima por pantalla si la contraseña introducida por el usuario coincide con la guardada en la variable sin tener en cuenta mayúsculas y minúsculas.\n",
        "\n",
        "\n"
      ]
    },
    {
      "cell_type": "code",
      "metadata": {
        "id": "1emvzYqr_LfT"
      },
      "source": [
        "# Escriba aqui su solución"
      ],
      "execution_count": null,
      "outputs": []
    },
    {
      "cell_type": "markdown",
      "metadata": {
        "id": "FMHTQXz1-y5b"
      },
      "source": [
        "### Ejercicio 3\n",
        "Escribir un programa que pida al usuario dos números y muestre por pantalla su división. Si el divisor es cero el programa debe mostrar un error."
      ]
    },
    {
      "cell_type": "code",
      "metadata": {
        "id": "ckb5T0md_NJC"
      },
      "source": [
        "# Escriba aqui su solución"
      ],
      "execution_count": null,
      "outputs": []
    },
    {
      "cell_type": "markdown",
      "metadata": {
        "id": "ahReISEQ_N_w"
      },
      "source": [
        "### Ejercicio 4\n",
        "Escribir un programa que pida al usuario un número entero y muestre por pantalla si es par o impar."
      ]
    },
    {
      "cell_type": "code",
      "metadata": {
        "id": "l2dccERB_OKC"
      },
      "source": [
        "# Escriba aqui su solución"
      ],
      "execution_count": null,
      "outputs": []
    },
    {
      "cell_type": "markdown",
      "metadata": {
        "id": "BVok_pwK_OS-"
      },
      "source": [
        "### Ejercicio 5\n",
        "Para tributar un determinado impuesto se debe ser mayor de 18 años y tener unos ingresos iguales o superiores a $1.000.000  mensuales. Escribir un programa que pregunte al usuario su edad y sus ingresos mensuales y muestre por pantalla si el usuario tiene que tributar o no."
      ]
    },
    {
      "cell_type": "code",
      "metadata": {
        "id": "6BnENpzd_Ob8"
      },
      "source": [
        "# Escriba aqui su solución"
      ],
      "execution_count": null,
      "outputs": []
    },
    {
      "cell_type": "markdown",
      "metadata": {
        "id": "22sopR73_O2n"
      },
      "source": [
        "### Ejercicio 7\n",
        "\n",
        "Los tramos impositivos para la declaración de la renta en un determinado país son los siguientes:\n",
        "\n",
        "|         Renta          | % de impuesto |\n",
        "| :--------------------: | :-------------: |\n",
        "|    Menos de 1.000.000    |       5%        |\n",
        "| Entre 1.000.000 y 2.000.000  |       15%       |\n",
        "| Entre 2.000.000 y 3.500.000  |       20%       |\n",
        "| Entre 3.500.000 y 6.000.000  |       30%       |\n",
        "|     Más de 6.000.000     |       45%       |\n",
        "\n",
        "Escribir un programa que pregunte al usuario su renta anual y muestre por pantalla lo que tiene que pagar. <br>\n",
        "Notar que los impuestos se aplican de forma marginal, eso quiere decir que si yo gano\n",
        "1.500.000 entonces los 500.000 sobre el millon pagan el 15% de impuestos y el otro millón restante paga el 5%, a continuación se muestran algunos ejemplos de cálculo de impuestos. Dada la dificultad que significa calcular impuestos por tramos a mano este programa es muy útil para simular diferentes impuestos para diferentes rentas rapidamente.\n",
        "#### Ejemplo 1\n",
        "Renta de 6.500.000\n",
        "Dinero sobre 6 millones 500.000: <br>\n",
        "500.000 * 0.45 = **225.000** de impuesto en el último tramo<br>\n",
        "Dinero entre 3.500.000 y 6.000.000 = 2.500.000 <br>\n",
        "2.500.000 * 0.30 = **750.000** de impuesto en el cuarto tramo<br>\n",
        "Dinero entre 2.000.000 y 3.500.000 = 1.500.000 <br>\n",
        "1.500.000 * 0.20 = **300.000** de impuesto en el tercer tramo<br>\n",
        "Dinero entre 1.000.000 y 2.000.000 = 1.000.000 <br>\n",
        "1.000.000 * 0.15 = **150.000** de impuesto en el segundo tramo<br>\n",
        "Dinero entre 0 y 1.000.000 = 1.000.000<br>\n",
        "1.000.000 * 0.05 = **50.000**\n",
        "\n",
        "Impuesto total = 225.000 + 750.000 + 300.000 + 150.000 + 50.000 = 1.475.000 pesos de impuesto total\n",
        "#### Ejemplo 2\n",
        "renta total de 1.300.000 <br>\n",
        "los 300.000 sobre el millon pagan un 15% de impuestos = **45.000** <br>\n",
        "el millon restante paga el 5 % de impuesto pues está en el primer tramo = **50.000** <br>\n",
        "Impuesto Total de **95.000**\n",
        "\n",
        "Dato freak: ¿Porque se calculan de esa manera los impuestos y no simplemente se les saca el porcentaje completo?. Esto se hace para que los impuestos sean más justos y se evite la evasión de impuestos, puesto que si se cobraran directamente todos tratarían de bajar de tramo para que les cobren menos impuestos (ej: si se cobrara el 45% de 6.500.000 entonces convendría ganar 5.999.999 para que no me afecte el 45% en todo mi sueldo)."
      ]
    },
    {
      "cell_type": "code",
      "metadata": {
        "id": "bpw3aFRj_O-f",
        "outputId": "33b13f60-cf02-4c92-8303-b30855b43527"
      },
      "source": [
        "# Escriba aqui su solución"
      ],
      "execution_count": null,
      "outputs": [
        {
          "output_type": "stream",
          "text": [
            "Ingrese su renta anual: 3500000\n",
            "El impuesto total a pagar es de $500000.0\n"
          ],
          "name": "stdout"
        }
      ]
    },
    {
      "cell_type": "markdown",
      "metadata": {
        "id": "-13s8_Qo_PHy"
      },
      "source": [
        "### Ejercicio 8\n",
        "\n",
        "En una determinada empresa, sus empleados son evaluados al final de cada año. Los puntos que pueden obtener en la evaluación comienzan en 0.0 y pueden ir aumentando, traduciéndose en mejores beneficios.\n",
        "Los puntos que pueden conseguir los empleados pueden ser 0.0, 0.4. o 0.6, pero no valores intermedios entre las cifras mencionadas.\n",
        "A continuación se muestra una tabla con los niveles correspondientes a cada puntuación.\n",
        "La cantidad de dinero conseguida en cada nivel es de 2.400€ multiplicada por la puntuación del nivel.\n",
        "\n",
        "|    Nivel    | Puntuación |\n",
        "| :---------: | :--------: |\n",
        "| Inaceptable |    0.0     |\n",
        "|  Aceptable  |    0.4     |\n",
        "|  Meritorio  |    0.6     |\n",
        "\n",
        "Escribir un programa que lea la puntuación del usuario e indique su nivel de rendimiento, así como la cantidad de dinero que recibirá el usuario."
      ]
    },
    {
      "cell_type": "code",
      "metadata": {
        "id": "W60cmZSL_PPE"
      },
      "source": [
        "# Escriba aqui su solución"
      ],
      "execution_count": null,
      "outputs": []
    },
    {
      "cell_type": "markdown",
      "metadata": {
        "id": "uVVKoW5r_PXx"
      },
      "source": [
        "#Ejercicio 9\n",
        "Escribir un programa para una empresa que tiene salas de juegos para todas las edades y quiere calcular de forma automática el precio que debe cobrar a sus clientes por entrar. El programa debe preguntar al usuario la edad del cliente y mostrar el precio de la entrada. Si el cliente es menor de 4 años puede entrar gratis, si tiene entre 4 y 18 años debe pagar \\$5.000 y si es mayor de 18 años, \\$10.000."
      ]
    },
    {
      "cell_type": "code",
      "metadata": {
        "id": "j7hwNNg8_PfZ"
      },
      "source": [
        "# Escriba aqui su solución"
      ],
      "execution_count": null,
      "outputs": []
    },
    {
      "cell_type": "markdown",
      "metadata": {
        "id": "CdcJD494_PnL"
      },
      "source": [
        "### Ejercicio 10\n",
        "\n",
        "\n",
        "La pizzería Bella Napoli ofrece pizzas vegetarianas y no vegetarianas a sus clientes.\n",
        "Los ingredientes para cada tipo de pizza aparecen a continuación.\n",
        "\n",
        "- Ingredientes vegetarianos: Pimiento y tofu.\n",
        "- Ingredientes no vegetarianos: Peperoni, Jamón y Salmón.\n",
        "\n",
        "Escribir un programa que pregunte al usuario si quiere una pizza vegetariana o no, y en función de su respuesta le muestre un menú con los ingredientes disponibles para que elija.\n",
        "Solo se puede eligir un ingrediente además de la mozzarella y el tomate que están en todas la pizzas.\n",
        "Al final se debe mostrar por pantalla si la pizza elegida es vegetariana o no y todos los ingredientes que lleva.\n"
      ]
    },
    {
      "cell_type": "code",
      "metadata": {
        "id": "pls61EAH_Pux"
      },
      "source": [
        "# Escriba aqui su solución"
      ],
      "execution_count": null,
      "outputs": []
    },
    {
      "cell_type": "markdown",
      "metadata": {
        "id": "zTW7MD_rVd4x"
      },
      "source": [
        "### Ejercicio 11\n",
        "Se requiere calcular el área de tres figuras geométricas: cuadrado (figura tipo 1), círculo (figura tipo 2) y triángulo (figura tipo 3). Tu programa primero debe preguntar qué tipo es la figura, luego preguntar la información relevante para calcular el área, guardar el área calculada en una variable llamada area, e imprimir su valor en pantalla al finalizar."
      ]
    },
    {
      "cell_type": "code",
      "metadata": {
        "id": "e9iO3hvzVeKh"
      },
      "source": [
        "# Escriba aqui su solución"
      ],
      "execution_count": null,
      "outputs": []
    },
    {
      "cell_type": "markdown",
      "metadata": {
        "id": "Dc4suDxmVeSA"
      },
      "source": [
        "### Ejercicio 12\n",
        "Realiza un programa que pida al usuario dos números a y b. Luego debe pedir un tercer número que representa una operación matemática (1 para sumar, 2 para resta, 3 para multiplicación y 4 para división). Debe imprimir en pantalla el resultado de operar a con b mediante el operador que quería usar el usuario."
      ]
    },
    {
      "cell_type": "code",
      "metadata": {
        "id": "AhxguA_3Veap"
      },
      "source": [
        "# Escriba aqui su solución"
      ],
      "execution_count": null,
      "outputs": []
    },
    {
      "cell_type": "markdown",
      "metadata": {
        "id": "3lKTrIy4Vei1"
      },
      "source": [
        ""
      ]
    },
    {
      "cell_type": "code",
      "metadata": {
        "id": "2FsNke7aVeq4"
      },
      "source": [
        "# Escriba aqui su solución"
      ],
      "execution_count": null,
      "outputs": []
    },
    {
      "cell_type": "markdown",
      "metadata": {
        "id": "Dzs7m33hVeys"
      },
      "source": [
        ""
      ]
    },
    {
      "cell_type": "code",
      "metadata": {
        "id": "b2q2oDnYVe6R"
      },
      "source": [
        "# Escriba aqui su solución"
      ],
      "execution_count": null,
      "outputs": []
    }
  ]
}