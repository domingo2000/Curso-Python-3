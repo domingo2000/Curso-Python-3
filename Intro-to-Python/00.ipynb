{
 "cells": [
  {
   "cell_type": "markdown",
   "metadata": {
    "id": "lP21K_wk0Iqk"
   },
   "source": [
    "# Curso Python Programación"
   ]
  },
  {
   "cell_type": "markdown",
   "metadata": {
    "id": "gjYuHAff0Iqn"
   },
   "source": [
    "## Contenidos 📚\n",
    "\n",
    "Este curso se separa en varios notebooks (capítulos)\n",
    "\n",
    "* [00](00.ipynb) Introducción a Python y como empezar a correrlo en Google Colab\n",
    "* [01](01.ipynb) Tipos básicos de datos y operaciones (Números y Strings)\n",
    "* [02](02.ipynb) Control de Flujo: sentencias if, for, while, y try\n",
    "* [03](03.ipynb) Funciones\n",
    "* [04](04.ipynb) Estructuras de datos: Listas y Tuplas\n",
    "* [05](05.ipynb) Estructuras de datos (continuación): diccionarios\n",
    "* [06](06.ipynb) Manipulación de Strings \n",
    "* [07](07.ipynb) Clases y Pogramación Orientada a Objetos (POO) básico\n",
    "\n",
    "<!-- Unidades extra incluidas en el curso original -->\n",
    "<!--- * [08](08.ipynb) Scipy: libraries for arrays (matrices) and plotting --><!--- * [09](09.ipynb) Mixed Integer Linear Programming using the mymip library. -->\n",
    "<!--- * [10](10.ipynb) Networks and graphs under python - a very brief introduction -->\n",
    "<!--- * [11](11.ipynb) Using the numba library for fast numerical computing. -->\n",
    "\n",
    "\n",
    "\n",
    "\n",
    "\n",
    "Este es un tutorial de introducción a python 3. Para un resumen/torpedo de  toda la syntaxis de python puedes ir al siguiente link [Guía Syntaxis Python](http://www.cs.put.poznan.pl/csobaniec/software/python/py-qrc.html) la cual les será de utilidad para el resto del electivo. Una versión más detallada a este tutorial esta disponible en la documentación oficial de python. https://docs.python.org/3/tutorial/\n"
   ]
  },
  {
   "cell_type": "markdown",
   "metadata": {
    "id": "fP3zzzQw0Iqo"
   },
   "source": [
    "# Introducción\n"
   ]
  },
  {
   "cell_type": "markdown",
   "metadata": {
    "id": "toIMZ2Bw0Iqp"
   },
   "source": [
    "## Google Colab\n",
    "\n",
    "\n",
    "![Logo Colab](https://raw.githubusercontent.com/domingo2000/Curso-Python-3/master/Intro-to-Python/pictures/colab_logo.png)\n",
    "\n",
    "\n",
    "### Instalación 🖥️\n",
    "\n",
    "Para los fines de este curso trabajaremos con una herramienta online llamada Google Colab la cual tiene muchas ventajas frente a usar una instalación directa de python, algunas de las siguientes son:\n",
    "\n",
    "1. Servicio en linea igual para todos sin depender del sistema operativo\n",
    "2. Sistema de control de versiones, siempre puedes volver atrás igual que un Google Docs\n",
    "3. Texto y codigo en un mismo lugar, puedes explicar con \"Markdown\" tus programas y programar en un solo entorno\n",
    "4. Rendimiento, Google Colab corre los codigos por ti y te da recursos, no importa que tengas un mal procesador o una baja RAM.\n",
    "5. Es gratis\n",
    "\n",
    "![Its Free meme](https://raw.githubusercontent.com/domingo2000/Curso-Python-3/master/Intro-to-Python/pictures/its_free.png)"
   ]
  },
  {
   "cell_type": "markdown",
   "metadata": {
    "id": "K-2TBVHq0Iqp"
   },
   "source": [
    "## Abriendo un Notebook desde Google Colab 🟠⚪"
   ]
  },
  {
   "cell_type": "markdown",
   "metadata": {
    "id": "XFE5Ueb-0Iqq"
   },
   "source": [
    "Para abrir un notebook del material del curso deberás seguir las siguientes instrucciones\n",
    "### Instrucciones Abrir Notebook  del Material\n",
    "1. Ingresa a https://colab.research.google.com en una pestaña nueva\n",
    "2. Selecciona la opción \"GitHub\" de la siguiente ventana <strong> (En caso de no ver esa ventana ve al paso 2.1 más abajo y luego continua con los demás )</strong>\n",
    "![tutorial_colab_1.png](https://raw.githubusercontent.com/domingo2000/Curso-Python-3/master/Intro-to-Python/pictures/tutorial_colab_1.png)\n",
    "\n",
    "\n",
    "5. <strong>Copia</strong> el siguiente link https://github.com/domingo2000/Curso-Python-3 y pégalo en la primera línea que te deja ingresar texto, luego presiona la lupita.\n",
    "![tutorial_colab_1.png](https://raw.githubusercontent.com/domingo2000/Curso-Python-3/master/Intro-to-Python/pictures/tutorial_colab_2.png)\n",
    "\n",
    "6. Por último selecciona el archivo .pynb que quieres abrir, en este caso el 00, !Listo, ahora solo sigue leyendo pero en Google Colab!.\n",
    "\n",
    "![tutorial_colab_1.png](https://raw.githubusercontent.com/domingo2000/Curso-Python-3/master/Intro-to-Python/pictures/tutorial_colab_3.png)\n",
    "\n",
    "\n",
    "2.1. Selecciona \"Archivo\" o \"File\"\n",
    "\n",
    "    Archivo > Open Notebook\n",
    "\n",
    "vuelve al paso 2.\n",
    "![tutorial_colab_1.png](https://raw.githubusercontent.com/domingo2000/Curso-Python-3/master/Intro-to-Python/pictures/tutorial_colab_4.png)\n",
    "\n"
   ]
  },
  {
   "cell_type": "markdown",
   "metadata": {
    "id": "wEseSzk00Iqq"
   },
   "source": [
    "### Jupyter Notebooks y Markdown 📕\n",
    "Cuando tu trabajas en colab en el fondo estás corriendo un <strong>Jupyter notebook</strong>, estos funcionan como un cuaderno, en el que puedes escribir texto o programar código en celdas diferentes."
   ]
  },
  {
   "cell_type": "markdown",
   "metadata": {
    "id": "rFLSqyr60Iqq"
   },
   "source": [
    "#### Mi primera celda de código ⌨️\n",
    "En primer lugar borraremos todo lo que se corre automáticamente cuando abres el archivo, para ello debemos presionar los siguientes menús en este orden.\n",
    "\n",
    "    Edit > Clear all Output\n",
    "\n",
    "![tutorial_colab_5.png](https://raw.githubusercontent.com/domingo2000/Curso-Python-3/master/Intro-to-Python/pictures/tutorial_colab_5.png)\n",
    "\n",
    "Luego para correr cada celda de código en Colab solo debes hacer clic en el botón ![Boton Play](https://raw.githubusercontent.com/domingo2000/Curso-Python-3/master/Intro-to-Python/pictures/boton_play_colab.png)\n",
    "Alternativamente puedes presionar `shift + enter ↵` para correr la celda.\n",
    "A continuación se muestra tu primer codigo python con el clásico ``Hello World!``\n"
   ]
  },
  {
   "cell_type": "code",
   "execution_count": null,
   "metadata": {
    "id": "n-3SVImm0Iqr",
    "outputId": "d92933f2-2be2-41c3-cd88-f55a1f6930a7"
   },
   "outputs": [
    {
     "name": "stdout",
     "output_type": "stream",
     "text": [
      "Hello World!\n"
     ]
    }
   ],
   "source": [
    "print(\"Hello World!\")"
   ]
  },
  {
   "cell_type": "markdown",
   "metadata": {
    "id": "wnkf6Rse0Iqt"
   },
   "source": [
    "<strong> !Genial, acabas de correr tu primer programa de python! 😀 💻💻</strong>"
   ]
  },
  {
   "cell_type": "markdown",
   "metadata": {
    "id": "3fCVzcp90Iqt"
   },
   "source": [
    "### Markdown #️⃣#️⃣\n",
    "\n",
    "Markdown es un tipo de lenguaje de formateo de texto que busca que el texto sea fácil de leer tanto en el \"codigo\" como en la salida que este produce, todo el texto de este tutorial está escrito en markdown para que tengas una idea de que cosas se pueden hacer con el.\n",
    "\n",
    "Si haces doble click en esta celda te daras cuenta de como se estructura el markdown, al igual que las celdas de codigo, puedes correrlas presionando `shift + enter ↵` o presionando en una celda distinta a esta.\n",
    "\n",
    "#### Esctructura básica\n",
    "\n",
    "Puedes escribir texto simple como este\n",
    "\n",
    "# Puedes escribir Titulos usando los \"#\"\n",
    "## Puedes escribir Titulos usando los \"##\"\n",
    "### Puedes escribir Titulos usando los \"##\"\n",
    "#### Puedes escribir Titulos usando los \"##\" etc...\n",
    "\n",
    "Con esto ya debrías lograr expresar tus ideas en los bloques de texto, pero con las siguientes cosas puedes poner más énfasis y hacer un mejor trabajo.\n",
    "\n",
    "* Puedes poner tu texto en **Negrita** usando \\*\\*texto** (hazle doble click a la celda para ver como se escriben dichos tags)\n",
    "* Puedes poner tu texto en *Itálica* usando \\*text\\*\n",
    "* Puedes ponerle ***ambas cosas*** usando \\*\\*\\*texto\\*\\*\\*\n",
    "\n",
    "Puedes hacer listas de cosas haciendo usando 1. y *\n",
    "1. Item 1\n",
    "2. Item 2\n",
    "3. Item 3\n",
    "* Item 3\n",
    "* Item 2\n",
    "* Item 1\n",
    "\n",
    "Si quieres buscar mas cosas que puedes hacer en markdown puedes ir a <br>\n",
    "https://www.markdownguide.org/basic-syntax/\n",
    "\n",
    "Si quieres saber mas sobre markdown puedes encontrar mas información en <br>\n",
    "https://es.wikipedia.org/wiki/Markdown\n"
   ]
  },
  {
   "cell_type": "markdown",
   "metadata": {
    "id": "dP9EhoHC0Iqu"
   },
   "source": [
    "## ¿Que es Python?\n",
    "\n",
    "![Logo Python](https://raw.githubusercontent.com/domingo2000/Curso-Python-3/master/Intro-to-Python/pictures/python_logo.png)\n",
    "Python es un lenguaje moderno, robusto y de alto nivel de programación hoy es usado en gran medida en usos científicos variados y análisis de datos. Tiene la ventaja de ser bastante intuitivo y fácil de usar incluso si eres nuevo en la programación. Por otro lado tiene las desventajas de no ser tan rápido como otros lenguajes tipo C++, o Java, pero tiene la ventaja de ser mucho más rápido de programar debido a la syntaxis (Forma de escribir código) que este tiene.\n",
    "A continuación si corres la siguiente celda se mostrará un texto con la filosofía detrás de python, la cual sustenta este lenguaje y además son grandes consejos que te incentivan a escribir un **mejor codigo**"
   ]
  },
  {
   "cell_type": "code",
   "execution_count": null,
   "metadata": {
    "id": "tJi5qkHJ0Iqu"
   },
   "outputs": [],
   "source": [
    "import this"
   ]
  },
  {
   "cell_type": "markdown",
   "metadata": {
    "id": "shTWYB_y0Iqu"
   },
   "source": [
    "En español (Traducido por google traductor que probablemente tiene mejor inglés que yo...) se lee lo siguiente:\n",
    "\n",
    "El zen de Python, por Tim Peters <br>\n",
    "<em>\n",
    "Lo bello es mejor que lo feo.<br>\n",
    "Explícito es mejor que implícito.<br>\n",
    "Lo simple es mejor que lo complejo.<br>\n",
    "Complejo es mejor que complicado.<br>\n",
    "Plano es mejor que anidado.<br>\n",
    "Es mejor escaso que denso.<br>\n",
    "La legibilidad cuenta.<br>\n",
    "Los casos especiales no son lo suficientemente especiales como para romper las reglas.<br>\n",
    "Aunque la practicidad vence a la pureza.<br>\n",
    "Los errores nunca deben pasar en silencio.<br>\n",
    "A menos que esté explícitamente silenciado.<br>\n",
    "Ante la ambigüedad, rechace la tentación de adivinar.<br>\n",
    "Debe haber una, y preferiblemente solo una, forma obvia de hacerlo.<br>\n",
    "Aunque esa forma puede no ser obvia al principio a menos que seas holandés.<br>\n",
    "Ahora es mejor que nunca.<br>\n",
    "Aunque a menudo nunca es mejor que * ahora mismo *.<br>\n",
    "Si la implementación es difícil de explicar, es una mala idea.<br>\n",
    "Si la implementación es fácil de explicar, puede ser una buena idea.<br>\n",
    "Los espacios de nombres son una gran idea, ¡hagamos más de eso!<br>\n",
    "</em>\n",
    "\n",
    "<strong> Sigan esta filosofía y les aseguro que podrán tener programas mejores... </strong>\n"
   ]
  },
  {
   "cell_type": "markdown",
   "metadata": {
    "id": "VMLcBUh50Iqu"
   },
   "source": [
    "A modo de ejercicio piensen cuantas de estas cosas no han seguido en sus propios códigos hasta ahora, un error dejado de lado, una solución demasiado compleja que podía ser mucho más simple, un código que al leerlo no queda explícito que es lo que hace, etc..."
   ]
  },
  {
   "cell_type": "markdown",
   "metadata": {
    "id": "QhLwG0xX0Iqv"
   },
   "source": [
    "## Licencia"
   ]
  },
  {
   "cell_type": "markdown",
   "metadata": {
    "id": "HcaS7gmZ0Iqv"
   },
   "source": [
    "This work is licensed under the Creative Commons Attribution 3.0 Unported License. To view a copy of this license, visit http://creativecommons.org/licenses/by/3.0/\n",
    "\n",
    "<small><font style=\"font-size:6pt\"><i>\n",
    "Este curso se encuentra disponible en https://github.com/domingo2000/Python-Lectures\n",
    "<br>\n",
    "La versión original fue escrita por Rajath Kumar y está disponible en\n",
    "https://github.com/rajathkumarmp/Python-Lectures.<br>\n",
    "Además se sacó esta versión del trabajo de Andreas Ernst desde el siguiente link  https://gitlab.erc.monash.edu.au/andrease/Python4Maths/tree/master\n",
    "</i></font></small>"
   ]
  }
 ],
 "metadata": {
  "colab": {
   "name": "00.ipynb",
   "provenance": []
  },
  "kernelspec": {
   "display_name": "Python 3",
   "language": "python",
   "name": "python3"
  },
  "language_info": {
   "codemirror_mode": {
    "name": "ipython",
    "version": 3
   },
   "file_extension": ".py",
   "mimetype": "text/x-python",
   "name": "python",
   "nbconvert_exporter": "python",
   "pygments_lexer": "ipython3",
   "version": "3.7.8"
  }
 },
 "nbformat": 4,
 "nbformat_minor": 1
}
