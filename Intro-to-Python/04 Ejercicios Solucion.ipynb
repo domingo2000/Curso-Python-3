{
  "nbformat": 4,
  "nbformat_minor": 0,
  "metadata": {
    "colab": {
      "name": "Ejercicios Listas Solucion.ipynb",
      "provenance": [],
      "collapsed_sections": []
    },
    "kernelspec": {
      "display_name": "Python 3",
      "language": "python",
      "name": "python3"
    },
    "language_info": {
      "codemirror_mode": {
        "name": "ipython",
        "version": 3
      },
      "file_extension": ".py",
      "mimetype": "text/x-python",
      "name": "python",
      "nbconvert_exporter": "python",
      "pygments_lexer": "ipython3",
      "version": "3.8.10"
    }
  },
  "cells": [
    {
      "cell_type": "markdown",
      "metadata": {
        "id": "42R-i9ck8MNP"
      },
      "source": [
        "# Guía Ejercicios listas"
      ]
    },
    {
      "cell_type": "code",
      "metadata": {
        "id": "KXpHAn1CWT_R"
      },
      "source": [
        "# Importamos todas las librerias externas que vallamos a usar\n",
        "import random\n",
        "# Tambien pueden hacer 'from random import randint' y usar randint directamente"
      ],
      "execution_count": 9,
      "outputs": []
    },
    {
      "cell_type": "markdown",
      "metadata": {
        "id": "GEkR60nXDzsw"
      },
      "source": [
        "## Ejercicio 1\n",
        "Realizar un programa que inicialice una lista con 10 valores aleatorios (del 1 al 10) y posteriormente muestre en pantalla cada elemento de la lista junto con su cuadrado y su cubo."
      ]
    },
    {
      "cell_type": "code",
      "metadata": {
        "colab": {
          "base_uri": "https://localhost:8080/"
        },
        "id": "wk6ji2sn4TW5",
        "outputId": "f30568e8-7c0c-4307-8966-73f8abcc5eb5"
      },
      "source": [
        "# Escriba aqui su solución\n",
        "numeros = []\n",
        "for i in range(10): # pues debo meter 10 valores\n",
        "  numero = random.randint(1, 10)\n",
        "  numeros.append(numero)\n",
        "\n",
        "for numero in numeros:\n",
        "  cuadrado = numero ** 2\n",
        "  cubo = numero ** 3\n",
        "  \n",
        "  print(numero, cuadrado, cubo)"
      ],
      "execution_count": null,
      "outputs": [
        {
          "output_type": "stream",
          "text": [
            "7 49 343\n",
            "7 49 343\n",
            "2 4 8\n",
            "1 1 1\n",
            "1 1 1\n",
            "10 100 1000\n",
            "5 25 125\n",
            "6 36 216\n",
            "5 25 125\n",
            "9 81 729\n"
          ],
          "name": "stdout"
        }
      ]
    },
    {
      "cell_type": "markdown",
      "metadata": {
        "id": "XnoHh0zGECor"
      },
      "source": [
        "## Ejercicio 2\n",
        "Crea una lista e inicializala con 5 cadenas de caracteres leídas por teclado. Copia los elementos de la lista en otra lista pero en orden inverso, y muestra sus elementos por la pantalla."
      ]
    },
    {
      "cell_type": "code",
      "metadata": {
        "colab": {
          "base_uri": "https://localhost:8080/"
        },
        "id": "XgUGKHlMECyZ",
        "outputId": "4140f485-7c60-4a71-8faa-799f664b7438"
      },
      "source": [
        "# Escriba aqui su solución\n",
        "strings = []\n",
        "for i in range(5):\n",
        "  string = input(\"Ingrese un string: \")\n",
        "  strings.append(string)\n",
        "strings2 = []\n",
        "for i in range(len(strings)):\n",
        "  strings2.append(strings[-i - 1])\n",
        "\n",
        "print(strings2)\n",
        "\n",
        "for string in strings2:\n",
        "  print(string)"
      ],
      "execution_count": null,
      "outputs": [
        {
          "output_type": "stream",
          "text": [
            "Ingrese un string: ola\n",
            "Ingrese un string: como\n",
            "Ingrese un string: estas\n",
            "Ingrese un string: bien\n",
            "Ingrese un string: y\n",
            "['y', 'bien', 'estas', 'como', 'ola']\n",
            "y\n",
            "bien\n",
            "estas\n",
            "como\n",
            "ola\n"
          ],
          "name": "stdout"
        }
      ]
    },
    {
      "cell_type": "markdown",
      "metadata": {
        "id": "BnpunKnyEC88"
      },
      "source": [
        "## Ejercicio 3\n",
        "Se quiere realizar un programa que lea por teclado las 5 notas obtenidas por un alumno (comprendidas entre 1 y 7). A continuación debe mostrar todas las notas, la nota media, la nota más alta que ha sacado y la menor.\n",
        "\n"
      ]
    },
    {
      "cell_type": "code",
      "metadata": {
        "colab": {
          "base_uri": "https://localhost:8080/"
        },
        "id": "1RxuLA-IEDGf",
        "outputId": "021d5f25-9c2b-489a-a112-f3b4adac3c1f"
      },
      "source": [
        "# Primero definimos funciones que nos serán utiles para el programa\n",
        "def media(lista):\n",
        "  \"\"\"\n",
        "  Saca la media de una lista de numeros\n",
        "  input: lista de numeros\n",
        "  output: valor de la media\n",
        "  \"\"\"\n",
        "  suma = 0\n",
        "  \n",
        "  for numero in lista:\n",
        "    suma += numero\n",
        "  \n",
        "  return suma / len(lista)\n",
        "\n",
        "# Flujo principal del programa\n",
        "notas = []\n",
        "\n",
        "while len(notas) < 5: # Mientras no hayan 5 notas le pedimos notas nuevas\n",
        "  nota = float(input(\"Ingrese una nota \"))\n",
        "\n",
        "  # Validamos que sea entre 1 y 7, si lo es lo metemos a la lista, si no no hacemos nada\n",
        "  if 1 <= nota <= 7:\n",
        "    notas.append(nota)\n",
        "\n",
        "# Aqui ya tenemos las 5 notas en la lista por inputs\n",
        "print(\"Su Promedio fue:\",media(notas))\n",
        "print(\"Su mejor nota fue:\",max(notas))\n",
        "print(\"Su peor nota fue:\",min(notas))"
      ],
      "execution_count": null,
      "outputs": [
        {
          "output_type": "stream",
          "text": [
            "Ingrese una nota 4.4\n",
            "Ingrese una nota 3.2\n",
            "Ingrese una nota 6.0\n",
            "Ingrese una nota 7.0\n",
            "Ingrese una nota 5.0\n",
            "Su Promedio fue: 5.12\n",
            "Su mejor nota fue: 7.0\n",
            "Su peor nota fue: 3.2\n"
          ],
          "name": "stdout"
        }
      ]
    },
    {
      "cell_type": "markdown",
      "metadata": {
        "id": "H95jMDHdEDQe"
      },
      "source": [
        "## Ejercicio 4\n",
        "realice un programa que declare una lista y la vaya llenando de números hasta que introduzcamos un número negativo. Entonces se debe imprimir el vector (sólo los elementos introducidos)."
      ]
    },
    {
      "cell_type": "code",
      "metadata": {
        "colab": {
          "base_uri": "https://localhost:8080/"
        },
        "id": "QeBKS7onEDak",
        "outputId": "237796dc-3721-43cd-a8fd-bb8cbddd35a7"
      },
      "source": [
        "# Escriba aqui su solución\n",
        "l = []\n",
        "numero = int(input(\"Ingrese un numero, si quiere salir ingrese un numero negativo: \"))\n",
        "\n",
        "while numero > 0:\n",
        "  l.append(numero)\n",
        "  numero = int(input(\"Ingrese un numero, si quiere salir ingrese un numero negativo: \"))\n",
        "\n",
        "print(l)"
      ],
      "execution_count": null,
      "outputs": [
        {
          "output_type": "stream",
          "text": [
            "Ingrese un numero, si quiere salir ingrese un numero negativo: 1\n",
            "Ingrese un numero, si quiere salir ingrese un numero negativo: 4\n",
            "Ingrese un numero, si quiere salir ingrese un numero negativo: 2\n",
            "Ingrese un numero, si quiere salir ingrese un numero negativo: 4\n",
            "Ingrese un numero, si quiere salir ingrese un numero negativo: 3\n",
            "Ingrese un numero, si quiere salir ingrese un numero negativo: 8\n",
            "Ingrese un numero, si quiere salir ingrese un numero negativo: -1\n",
            "[1, 4, 2, 4, 3, 8]\n"
          ],
          "name": "stdout"
        }
      ]
    },
    {
      "cell_type": "markdown",
      "metadata": {
        "id": "sNHAAUdREDkO"
      },
      "source": [
        "## Ejercicio 5\n",
        "Hacer un programa que inicialice una lista de números con valores aleatorios (10 valores), y posterior ordene los elementos de menor a mayor."
      ]
    },
    {
      "cell_type": "code",
      "metadata": {
        "colab": {
          "base_uri": "https://localhost:8080/"
        },
        "id": "R4pZX2tcEDtc",
        "outputId": "0b0d1bcb-188d-4e86-acd1-a3fa87dbb503"
      },
      "source": [
        "# Escriba aqui su solución\n",
        "l = []\n",
        "for i in range(10):\n",
        "  l.append(random.randint(0, 20)) # Elegi el 0 y 20 porque si nomas\n",
        "\n",
        "l.sort()\n",
        "print(l)\n",
        "# Si quisieramos ordenar de mayor a menor\n",
        "l.sort(reverse = True) # reverse es un parametro que por default viene False y nosotros lo fijamos como True\n",
        "print(l)"
      ],
      "execution_count": 10,
      "outputs": [
        {
          "output_type": "stream",
          "text": [
            "[0, 3, 5, 5, 6, 6, 14, 14, 14, 16]\n",
            "[16, 14, 14, 14, 6, 6, 5, 5, 3, 0]\n"
          ],
          "name": "stdout"
        }
      ]
    },
    {
      "cell_type": "markdown",
      "metadata": {
        "id": "MgiZbuU3ED33"
      },
      "source": [
        "## Ejercicio 6\n",
        "Crea un programa que pida un número al usuario un número de mes (por ejemplo, el 4) y diga cuántos días tiene (por ejemplo, 30) y el nombre del mes. Debes usar listas. Para simplificarlo vamos a suponer que febrero tiene 28 días.\n",
        "\n"
      ]
    },
    {
      "cell_type": "code",
      "metadata": {
        "id": "FRh1t0V3EEBi",
        "colab": {
          "base_uri": "https://localhost:8080/"
        },
        "outputId": "3095db26-b634-4b18-c54d-78d351ffca59"
      },
      "source": [
        "# Escriba aqui su solución\n",
        "# Hacemos una lista de listas para los datos de los meses, los anotamos en orden de\n",
        "# Enero a Diciembre y siempre en el mismo orden los datos de cada mes\n",
        "# Escribo asi la lista por legibilidad del código, pero es lo mismo que escribirla hacia el lado\n",
        "datos_meses = [[\"enero\", 31],\n",
        "               [\"febrero\", 28],\n",
        "               [\"marzo\", 31],\n",
        "               [\"abril\", 30],\n",
        "               [\"mayo\", 31],\n",
        "               [\"junio\", 30],\n",
        "               [\"julio\", 31],\n",
        "               [\"agosto\", 31],\n",
        "               [\"septiembre\", 30],\n",
        "               [\"octubre\", 31],\n",
        "               [\"noviembre\", 30],\n",
        "               [\"diciembre\", 31]\n",
        "]\n",
        "numero_mes = int(input(\"Ingrese el numero del mes: \"))\n",
        "datos_mes = datos_meses[numero_mes - 1] # - 1 porque contamos desde el 0 los indices, ejemplo enero es 1 pero tiene indice 0 en nuestros datos\n",
        "nombre_mes = datos_mes[0]\n",
        "dias_mes = datos_mes[1]\n",
        "print(\"El mes \" + nombre_mes + \" tiene \"+ str(dias_mes) + \" dias.\")"
      ],
      "execution_count": 14,
      "outputs": [
        {
          "output_type": "stream",
          "text": [
            "Ingrese el numero del mes: 5\n",
            "El mes mayo tiene 31 dias.\n"
          ],
          "name": "stdout"
        }
      ]
    },
    {
      "cell_type": "markdown",
      "metadata": {
        "id": "NW0Kg2eXEEKj"
      },
      "source": [
        "## Ejercicio 7\n",
        "Programa que declare tres listas ‘lista1’, ‘lista2’ y ‘lista3’ de cinco enteros cada uno, pida valores para ‘lista1’ y ‘lista2’ y calcule lista3=lista1+lista2."
      ]
    },
    {
      "cell_type": "code",
      "metadata": {
        "id": "1rGf8j4nEETe",
        "colab": {
          "base_uri": "https://localhost:8080/"
        },
        "outputId": "6de4f77e-dfb1-4768-ecc1-b7fa8cd16db6"
      },
      "source": [
        "# Escriba aqui su solución\n",
        "lista1 = []\n",
        "lista2 = []\n",
        "lista3 = []\n",
        "\n",
        "# LLenamos la lista 1 y 2 con inputs de valores enters\n",
        "for i in range(5):\n",
        "  num1 = int(input(\"Ingrese un número entero para la lista 1: \"))\n",
        "  num2 = int(input(\"Ingrese un número entero para la lista 2: \"))\n",
        "  lista1.append(num1)\n",
        "  lista2.append(num2)\n",
        "\n",
        "# Iteramos sobre ambas listas usando índices y hacemos la suma para meterlos en la lista 3\n",
        "for i in range(5):\n",
        "  suma = lista1[i] + lista2[i]\n",
        "  lista3.append(suma)\n",
        "\n",
        "print(lista3)"
      ],
      "execution_count": 16,
      "outputs": [
        {
          "output_type": "stream",
          "text": [
            "Ingrese un número entero para la lista 1: 1\n",
            "Ingrese un número entero para la lista 2: 2\n",
            "Ingrese un número entero para la lista 1: 3\n",
            "Ingrese un número entero para la lista 2: 4\n",
            "Ingrese un número entero para la lista 1: 5\n",
            "Ingrese un número entero para la lista 2: 6\n",
            "Ingrese un número entero para la lista 1: 7\n",
            "Ingrese un número entero para la lista 2: 8\n",
            "Ingrese un número entero para la lista 1: 9\n",
            "Ingrese un número entero para la lista 2: 0\n",
            "[3, 7, 11, 15, 9]\n"
          ],
          "name": "stdout"
        }
      ]
    },
    {
      "cell_type": "markdown",
      "metadata": {
        "id": "SdYVAUjxEEdJ"
      },
      "source": [
        "## Ejercicio 8\n",
        "Queremos guardar los nombres y la edades de los alumnos de un curso. Realiza un programa que introduzca el nombre y la edad de cada alumno. El proceso de lectura de datos terminará cuando se introduzca como nombre un asterisco (*) Al finalizar se mostrará los siguientes datos:\n",
        "\n",
        "* Todos lo alumnos mayores de edad.\n",
        "* Los alumnos mayores (los que tienen más edad)"
      ]
    },
    {
      "cell_type": "code",
      "metadata": {
        "id": "V6PMbFFCEEmh",
        "colab": {
          "base_uri": "https://localhost:8080/"
        },
        "outputId": "1f462bd7-76ef-45bc-dbfe-b262620201d4"
      },
      "source": [
        "# Escriba aqui su solución\n",
        "datos_alumnos = [] # Lista de listas con datos de los alumnos de la forma [nombre, edad] dentro de ella\n",
        "\n",
        "while True: # Podemos definir un para siempre y salir con breaks tambien\n",
        "  nombre = input(\"Ingrese su nombre: \")\n",
        "  if nombre == \"*\":\n",
        "    break\n",
        "  edad = input(\"Ingrese su edad: \")\n",
        "  if edad == \"*\":\n",
        "    break\n",
        "  \n",
        "  # Convertimos a edad a entero y metemos los datos a la lista\n",
        "  edad = int(edad)\n",
        "  dato_alumno = [nombre, edad]\n",
        "  datos_alumnos.append(dato_alumno)\n",
        "\n",
        "print(datos_alumnos)\n",
        "\n",
        "# Iteramos sobre cada alumno, además veremos cual es la edad mayor\n",
        "edad_mayor = -1 # Partimos con -1 asi siempre podemos reemplazarlo por edades mas grandes\n",
        "print(\"Alumnos mayores de edad: \")\n",
        "print(\"-----------------------\")\n",
        "for alumno in datos_alumnos:\n",
        "  nombre_alumno = alumno[0]\n",
        "  edad_alumno = alumno[1]\n",
        "  if edad_alumno > 18:\n",
        "    print(nombre_alumno, \"edad:\", edad_alumno)\n",
        "\n",
        "  # Vemos si el alumno actual es mas grande que el mayor y lo reemplazamos si es el caso\n",
        "  if edad_alumno > edad_mayor:\n",
        "    edad_mayor = edad_alumno\n",
        "print(\"-----------------------\")\n",
        "\n",
        "# Ahora vemos cuales son los con mas edad pues ya sabemos cuantos años tienen\n",
        "print(\"Alumnos mayores de la generación\")\n",
        "for alumno in datos_alumnos:\n",
        "  nombre_alumno = alumno[0]\n",
        "  edad = alumno[1]\n",
        "  if edad == edad_mayor:\n",
        "    print(nombre_alumno, \"edad:\", edad)\n",
        "  "
      ],
      "execution_count": 23,
      "outputs": [
        {
          "output_type": "stream",
          "text": [
            "Ingrese su nombre: domingo\n",
            "Ingrese su edad: 21\n",
            "Ingrese su nombre: fran\n",
            "Ingrese su edad: 21\n",
            "Ingrese su nombre: diego\n",
            "Ingrese su edad: 15\n",
            "Ingrese su nombre: *\n",
            "[['domingo', 21], ['fran', 21], ['diego', 15]]\n",
            "Alumnos mayores de edad: \n",
            "-----------------------\n",
            "domingo edad: 21\n",
            "21 -1 True\n",
            "fran edad: 21\n",
            "-----------------------\n",
            "Alumnos mayores de la generación\n",
            "La edad mayor es 21\n",
            "domingo edad: 15\n",
            "La edad mayor es 21\n",
            "fran edad: 15\n"
          ],
          "name": "stdout"
        }
      ]
    },
    {
      "cell_type": "markdown",
      "metadata": {
        "id": "6xaCTq2BEEv0"
      },
      "source": [
        "## Ejercicio 9\n",
        "Diseñar un programa, que:\n",
        "\n",
        "* Crea una tabla (lista con dos dimensiones) de 5x5 enteros.\n",
        "* Carga la tabla con valores numéricos enteros.\n",
        "* Suma todos los elementos de cada fila y todos los elementos de cada columna visualizando los resultados en pantalla."
      ]
    },
    {
      "cell_type": "code",
      "metadata": {
        "id": "L6NvueTYEE5I",
        "colab": {
          "base_uri": "https://localhost:8080/"
        },
        "outputId": "582aede1-d5e1-4b1c-90b3-1557ee34bdfa"
      },
      "source": [
        "# Escriba aqui su solución\n",
        "# Definimos una funcion para imprimir la tabla mas bonita\n",
        "def imprimir(tabla):\n",
        "  print(\"------------------\")\n",
        "  for fila in tabla:\n",
        "    print(fila)\n",
        "  \n",
        "  print(\"------------------\")\n",
        "# En primer lugar hacemos la tabla con valores por defecto, en este caso 0\n",
        "tabla = []\n",
        "for i in range(5): # pues son 5 filas\n",
        "  fila = []\n",
        "  for j in range(5): # pues son 5 columnas\n",
        "    fila.append(0)\n",
        "  tabla.append(fila)\n",
        "\n",
        "print(tabla) # Imprime la tabla con los ceros\n",
        "\n",
        "# Cargamos la tabla con valores numericos (los haré random pero podrían ser inputs)\n",
        "for i in range(5):\n",
        "  for j in range(5):\n",
        "    tabla[i][j] = random.randint(0, 1)\n",
        "\n",
        "imprimir(tabla)\n",
        "\n",
        "# Sumamos los valores de las filas y las columnas por separado, usando los indices\n",
        "# Los valores de i son el indice de la fila y el j el de la columna\n",
        "# notar que para sumar una fila fijamos el i y variamos el j\n",
        "# para sumar una columna fijamos el j y variamos el i\n",
        "for i in range(5):\n",
        "  fila = tabla[i]\n",
        "  suma_fila = 0\n",
        "  suma_columna = 0\n",
        "  \n",
        "  for j in range(5):\n",
        "    suma_fila += tabla[i][j] # [i][j] pues es fila\n",
        "    suma_columna += tabla[j][i] # [j][i] pues es columna\n",
        "  print(\"La suma de la fila\", i, \"vale\", suma_fila)\n",
        "  print(\"La suma de la columna\", i, \"vale\", suma_columna)"
      ],
      "execution_count": 32,
      "outputs": [
        {
          "output_type": "stream",
          "text": [
            "[[0, 0, 0, 0, 0], [0, 0, 0, 0, 0], [0, 0, 0, 0, 0], [0, 0, 0, 0, 0], [0, 0, 0, 0, 0]]\n",
            "------------------\n",
            "[0, 0, 0, 0, 1]\n",
            "[0, 1, 0, 0, 1]\n",
            "[0, 1, 0, 1, 0]\n",
            "[0, 0, 0, 1, 0]\n",
            "[1, 1, 0, 1, 1]\n",
            "------------------\n",
            "La suma de la fila 0 vale 1\n",
            "La suma de la columna 0 vale 1\n",
            "La suma de la fila 1 vale 2\n",
            "La suma de la columna 1 vale 3\n",
            "La suma de la fila 2 vale 2\n",
            "La suma de la columna 2 vale 0\n",
            "La suma de la fila 3 vale 1\n",
            "La suma de la columna 3 vale 3\n",
            "La suma de la fila 4 vale 4\n",
            "La suma de la columna 4 vale 3\n"
          ],
          "name": "stdout"
        }
      ]
    },
    {
      "cell_type": "markdown",
      "metadata": {
        "id": "YE0o4GIREFC2"
      },
      "source": [
        "## Ejercicio 10\n",
        "Genere una función que reciba una lista de números y entregue las misma lista con el orden inverso de los elementos."
      ]
    },
    {
      "cell_type": "code",
      "metadata": {
        "id": "8vQlktBFEFLd",
        "colab": {
          "base_uri": "https://localhost:8080/"
        },
        "outputId": "83b7d69b-1aaa-4216-d8d8-3aca549e78d6"
      },
      "source": [
        "# Escriba aqui su solución\n",
        "def invertir(lista):\n",
        "  lista_invertida = []\n",
        "  for i in range(len(lista)):\n",
        "    lista_invertida.append(lista[-i - 1])\n",
        "\n",
        "  return lista_invertida\n",
        "\n",
        "l = [1,2,3,4]\n",
        "print(invertir(l))\n",
        "\n",
        "l = [\"A\",\"B\",\"C\",True]\n",
        "print(invertir(l))"
      ],
      "execution_count": 33,
      "outputs": [
        {
          "output_type": "stream",
          "text": [
            "[4, 3, 2, 1]\n",
            "[True, 'C', 'B', 'A']\n"
          ],
          "name": "stdout"
        }
      ]
    },
    {
      "cell_type": "markdown",
      "metadata": {
        "id": "Qtr1Nlr_EFU6"
      },
      "source": [
        "## Ejercicio 11\n",
        "Genere una función que reciba una lista de números desordenados, un parámetro para definir tipo de orden, seteado por default en descendente, y entregue de vuelta la misma lista ordenada de mayor a menor o menor a mayor."
      ]
    },
    {
      "cell_type": "code",
      "metadata": {
        "id": "o7g9cLdpEFeN",
        "colab": {
          "base_uri": "https://localhost:8080/"
        },
        "outputId": "54f4e25b-d161-4bd2-adfd-36a921c29574"
      },
      "source": [
        "# Escriba aqui su solución\n",
        "def ordenar(lista, orden=\"ascendente\"):\n",
        "  if orden == \"ascendente\":\n",
        "    lista.sort()\n",
        "  elif orden == \"descendente\":\n",
        "    lista.sort(reverse = True)\n",
        "  \n",
        "  return lista\n",
        "\n",
        "l = [2,1,3,4]\n",
        "print(ordenar(l))\n",
        "print(ordenar(l, orden = \"descendente\"))"
      ],
      "execution_count": 37,
      "outputs": [
        {
          "output_type": "stream",
          "text": [
            "[1, 2, 3, 4]\n",
            "[4, 3, 2, 1]\n"
          ],
          "name": "stdout"
        }
      ]
    },
    {
      "cell_type": "markdown",
      "metadata": {
        "id": "gHnA7VrYEFnD"
      },
      "source": [
        "## Ejercicio 12\n",
        "Aprovechando las funciones creadas anteriormente, cree una función que reciba una lista genere un diccionario con llaves: normal, dada_vuelta, orden_ascendente y orden_descendente, y con valores correspondientes a la lista transformada como la llave lo pide."
      ]
    },
    {
      "cell_type": "code",
      "metadata": {
        "id": "F4iXG8Z4EFwH"
      },
      "source": [
        "# Escriba aqui su solución"
      ],
      "execution_count": null,
      "outputs": []
    },
    {
      "cell_type": "markdown",
      "metadata": {
        "id": "w-Fx1WtoEF5e"
      },
      "source": [
        ""
      ]
    },
    {
      "cell_type": "code",
      "metadata": {
        "id": "lYnfx1uUEGCC"
      },
      "source": [
        "# Escriba aqui su solución"
      ],
      "execution_count": null,
      "outputs": []
    },
    {
      "cell_type": "markdown",
      "metadata": {
        "id": "CI5sovV6EGK5"
      },
      "source": [
        "## Ejercicio 13\n",
        "Cree una variable con una matriz de 3x3, donde cada fila de la matriz tenga en algún orden, los números del 1 al 3. Luego cree una función que tome la matriz y revise si existen coincidencias de números en una misma fila o columna, así como lo realiza un sudoku."
      ]
    },
    {
      "cell_type": "code",
      "metadata": {
        "id": "lClh3ipeEGTw",
        "colab": {
          "base_uri": "https://localhost:8080/"
        },
        "outputId": "4ab5c7d7-5e91-4664-820f-f2a7e915890c"
      },
      "source": [
        "# Escriba aqui su solución\n",
        "tablero = []\n",
        "for i in range(3):\n",
        "  fila = []\n",
        "  for j in range(3):\n",
        "    numero = random.randint(1,3)\n",
        "    fila.append(numero)\n",
        "  tablero.append(fila)\n",
        "imprimir(tablero)\n",
        "\n",
        "\n",
        "def hay_repetidos(lista):\n",
        "  \"\"\"\n",
        "  toma una lista con 3 valores y chequea coincidencias\n",
        "  [1,2,3] -> False\n",
        "  [1,1,2] -> True\n",
        "  [2,1,1] -> True\n",
        "  \"\"\"\n",
        "  if lista[0] == lista[1] or lista[1] == lista[2] or lista[0] == lista[2]:\n",
        "    return True\n",
        "  else:\n",
        "    return False\n",
        "\n",
        "def coincidencias(tablero):\n",
        "  \"\"\"\n",
        "  Si hay coincidencias en los numeros retorna True, si no las hay retorna false\n",
        "  \"\"\"\n",
        "  filas = [] # Lista con todas las filas [fila1, fila2, fila3]\n",
        "  columnas = [] # lista con todas las columnas [columna1, columna2, columna3]\n",
        "  for i in range(3): # Chequeamos 3 filas y 3 columnas\n",
        "    fila = []\n",
        "    columna = []\n",
        "    for j in range(3): # Chequeamos solo las adyacentes no consigo misma, es decir 2 casillas\n",
        "      fila.append(tablero[i][j])\n",
        "      columna.append(tablero[j][i])\n",
        "    filas.append(fila)\n",
        "    columnas.append(columna)\n",
        "  print(filas)\n",
        "  print(columnas)\n",
        "\n",
        "  # Iteramos sobre todas las filas y columnas usando la funcion que chequea si hay repetidos\n",
        "  for fila in filas:\n",
        "    if hay_repetidos(fila):\n",
        "      return True\n",
        "  for columna in columnas:\n",
        "    if hay_repetidos(columna):\n",
        "      return True\n",
        "\n",
        "   # Si llegamos hasta aca es porque no habían repetidos ni en filas ni en columnas  \n",
        "  return False\n",
        "\n",
        "\n",
        "\n",
        "# Probamos la funcion con un par de tableros para ver si funciona bien\n",
        "tablero = [\n",
        "           [1, 2, 3],\n",
        "           [3, 1, 2],\n",
        "           [2, 3, 1],\n",
        "]\n",
        "print(coincidencias(tablero))\n",
        "\n",
        "tablero = [\n",
        "           [1, 3, 3],\n",
        "           [3, 1, 2],\n",
        "           [2, 3, 1],\n",
        "]\n",
        "print(coincidencias(tablero))"
      ],
      "execution_count": 55,
      "outputs": [
        {
          "output_type": "stream",
          "text": [
            "------------------\n",
            "[1, 3, 2]\n",
            "[2, 2, 2]\n",
            "[1, 1, 1]\n",
            "------------------\n",
            "[[1, 2, 3], [3, 1, 2], [2, 3, 1]]\n",
            "[[1, 3, 2], [2, 1, 3], [3, 2, 1]]\n",
            "False\n",
            "[[1, 3, 3], [3, 1, 2], [2, 3, 1]]\n",
            "[[1, 3, 2], [3, 1, 3], [3, 2, 1]]\n",
            "True\n"
          ],
          "name": "stdout"
        }
      ]
    },
    {
      "cell_type": "markdown",
      "metadata": {
        "id": "Lr3u-qkCH2Ct"
      },
      "source": [
        "## Ejercicio 14\n",
        "Vamos a crear un programa que tenga el siguiente menú:\n",
        "\n",
        "* Añadir número a la lista: Me pide un número de la lista y lo añade al final de la lista.\n",
        "* Añadir número de la lista en una posición: Me pide un número y una posición, y si la posición existe en la lista lo añade a ella (la posición se pide a partir de 1).\n",
        "* Longitud de la lista: te muestra el número de elementos de la lista.\n",
        "* Eliminar el último número: Muestra el último número de la lista y lo borra.\n",
        "* Eliminar un número: Pide una posición, y si la posición existe en la lista lo * borra de ella (la posición se pide a partir de 1).\n",
        "* Contar números: Te pide un número y te dice cuantas apariciones hay en la lista.\n",
        "* Posiciones de un número: Te pide un número y te dice en que posiciones está (contando desde 1).\n",
        "*Mostrar números: Muestra los números de la lista\n",
        "* Salir"
      ]
    },
    {
      "cell_type": "code",
      "metadata": {
        "id": "9NRlOz3_H2NJ",
        "colab": {
          "base_uri": "https://localhost:8080/"
        },
        "outputId": "2a7d04af-48bf-46bd-9903-de7c57fa2fef"
      },
      "source": [
        "# Escriba aqui su solución\n",
        "def imprimir_menu():\n",
        "  print(\"-\" * 10)\n",
        "  print(\"Añadir Numero al final [0]\")\n",
        "  print(\"Añadir Numero en posición [1]\")\n",
        "  print(\"Longitud de la lista [2]\")\n",
        "  print(\"Eliminar ultimo [3]\")\n",
        "  print(\"Eliminar segun posicion [4]\")\n",
        "  print(\"Contar apariciones numero [5]\")\n",
        "  print(\"Posicion de un numero [6]\")\n",
        "  print(\"Mostrar numeros [7]\")\n",
        "  print(\"Salir [8]\")\n",
        "\n",
        "lista = [] # Lista vacía para el uso del programa\n",
        "imprimir_menu()\n",
        "entrada = int(input(\"Ingrese la acción que desea realizar: \"))\n",
        "\n",
        "while entrada != 8:\n",
        "  if entrada == 0:\n",
        "    numero = int(input(\"Ingrese el numero a añadir: \"))\n",
        "    lista.append(numero)\n",
        "  elif entrada == 1:\n",
        "    numero = int(input(\"Ingrese el numero a añadir: \"))\n",
        "    pos = int(input(\"Ingrese la posicion en la cual lo quiere añadir\"))\n",
        "\n",
        "    # Chequea si es valido el índice\n",
        "    while pos > len(lista) or pos <= 0:\n",
        "      print(\"Posición inválida, ingrese otra.\")\n",
        "      pos = int(input(\"Ingrese la posicion en la cual lo quiere añadir\"))\n",
        "    lista.insert(pos - 1, numero)\n",
        "  elif entrada == 2:\n",
        "    print(len(lista))\n",
        "  elif entrada == 3:\n",
        "    lista.pop()\n",
        "  elif entrada == 4:\n",
        "    pos = int(input(\"Ingrese la posicion del numero que quiere remover\"))\n",
        "    \n",
        "    # Chequea si es valido el índice\n",
        "    while pos > len(lista) or pos <= 0:\n",
        "      print(\"Posición inválida, ingrese otra.\")\n",
        "      pos = int(input(\"Ingrese la posicion en la cual lo quiere añadir\"))\n",
        "    lista.pop(pos - 1)\n",
        "  elif entrada == 5:\n",
        "    numero = int(input(\"Ingrese un número para ver cuantos de ellos hay: \"))\n",
        "    print(lista.count(numero))\n",
        "  elif entrada == 6:\n",
        "    numero = int(input(\"Ingrese un número para ver su posición: \"))\n",
        "    print(lista.index(numero))\n",
        "  elif entrada == 7:\n",
        "    print(lista)\n",
        "\n",
        "  imprimir_menu()\n",
        "  entrada = int(input(\"Ingrese la acción que desea realizar: \"))\n",
        "\n",
        "print(\"Hasta luego!\")"
      ],
      "execution_count": 57,
      "outputs": [
        {
          "output_type": "stream",
          "text": [
            "----------\n",
            "Añadir Numero al final [0]\n",
            "Añadir Numero en posición [1]\n",
            "Longitud de la lista [2]\n",
            "Eliminar ultimo [3]\n",
            "Eliminar segun posicion [4]\n",
            "Contar apariciones numero [5]\n",
            "Posicion de un numero [6]\n",
            "Mostrar numeros [7]\n",
            "Salir [8]\n",
            "Ingrese la acción que desea realizar: 0\n",
            "Ingrese el numero a añadir: 1\n",
            "----------\n",
            "Añadir Numero al final [0]\n",
            "Añadir Numero en posición [1]\n",
            "Longitud de la lista [2]\n",
            "Eliminar ultimo [3]\n",
            "Eliminar segun posicion [4]\n",
            "Contar apariciones numero [5]\n",
            "Posicion de un numero [6]\n",
            "Mostrar numeros [7]\n",
            "Salir [8]\n",
            "Ingrese la acción que desea realizar: 1\n",
            "Ingrese el numero a añadir: 23\n",
            "Ingrese la posicion en la cual lo quiere añadir23\n",
            "Posición inválida, ingrese otra.\n",
            "Ingrese la posicion en la cual lo quiere añadir0\n",
            "Posición inválida, ingrese otra.\n",
            "Ingrese la posicion en la cual lo quiere añadir7\n",
            "Posición inválida, ingrese otra.\n",
            "Ingrese la posicion en la cual lo quiere añadir1\n",
            "----------\n",
            "Añadir Numero al final [0]\n",
            "Añadir Numero en posición [1]\n",
            "Longitud de la lista [2]\n",
            "Eliminar ultimo [3]\n",
            "Eliminar segun posicion [4]\n",
            "Contar apariciones numero [5]\n",
            "Posicion de un numero [6]\n",
            "Mostrar numeros [7]\n",
            "Salir [8]\n",
            "Ingrese la acción que desea realizar: 7\n",
            "[23, 1]\n",
            "----------\n",
            "Añadir Numero al final [0]\n",
            "Añadir Numero en posición [1]\n",
            "Longitud de la lista [2]\n",
            "Eliminar ultimo [3]\n",
            "Eliminar segun posicion [4]\n",
            "Contar apariciones numero [5]\n",
            "Posicion de un numero [6]\n",
            "Mostrar numeros [7]\n",
            "Salir [8]\n",
            "Ingrese la acción que desea realizar: 8\n",
            "Hasta luego!\n"
          ],
          "name": "stdout"
        }
      ]
    },
    {
      "cell_type": "markdown",
      "metadata": {
        "id": "uFGHxZhfH2XT"
      },
      "source": [
        "## Ejercicio 15\n",
        "Crear un programa que añada números a una lista hasta que introducimos un número negativo. A continuación debe crear una nueva lista igual que la anterior pero eliminando los números duplicados. Muestra esta segunda lista para comprobar que hemos eliminados los duplicados."
      ]
    },
    {
      "cell_type": "code",
      "metadata": {
        "id": "4AasaNi5H2gy"
      },
      "source": [
        "# Escriba aqui su solución\n"
      ],
      "execution_count": null,
      "outputs": []
    },
    {
      "cell_type": "markdown",
      "metadata": {
        "id": "LGA3KvJSH2q2"
      },
      "source": [
        "## Ejercicio 16\n",
        "Escriba un programa que permita crear una lista de palabras y que, a continuación de tres opciones:\n",
        "\n",
        "* Contar: Me pide una cadena, y me dice cuantas veces aparece en la lista\n",
        "* Modificar: Me pide una cadena, y otra cadena a modificar, y modifica todas alas apariciones de la primera por la segunda en la lista.\n",
        "* Eliminar: Me pide una cadena, y la elimina de la lista.\n",
        "* Mostrar: Muestra la lista de cadenas\n",
        "* Terminar"
      ]
    },
    {
      "cell_type": "code",
      "metadata": {
        "id": "Y6y0wQqeH2z7"
      },
      "source": [
        "# Escriba aqui su solución"
      ],
      "execution_count": null,
      "outputs": []
    },
    {
      "cell_type": "markdown",
      "metadata": {
        "id": "XFPyKPMyH29W"
      },
      "source": [
        "## Ejercicio 17\n",
        "Escribir un programa que almacene las asignaturas de un curso (por ejemplo Matemáticas, Física, Química, Historia y Lenguaje, Biología, Programación) en una lista, pregunte al usuario la nota que ha sacado en cada asignatura y elimine de la lista las asignaturas aprobadas. Al final el programa debe mostrar por pantalla las asignaturas que el usuario tiene que repetir."
      ]
    },
    {
      "cell_type": "code",
      "metadata": {
        "id": "BZtsb_meH3G8"
      },
      "source": [
        "# Escriba aqui su solución"
      ],
      "execution_count": null,
      "outputs": []
    }
  ]
}