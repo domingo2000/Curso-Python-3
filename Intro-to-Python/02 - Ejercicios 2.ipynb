{
 "cells": [
  {
   "cell_type": "markdown",
   "metadata": {
    "id": "MZgcu2a75XRr"
   },
   "source": [
    "# Ejercicios de Control de flujo"
   ]
  },
  {
   "cell_type": "markdown",
   "metadata": {
    "id": "eqgCi0rC5agF"
   },
   "source": [
    "### Ejercicio 1\n",
    "Escribir un programa que pida al usuario una palabra y la muestre por pantalla 10 veces.\n"
   ]
  },
  {
   "cell_type": "code",
   "execution_count": 3,
   "metadata": {
    "id": "2coSnNFp5UKc"
   },
   "outputs": [],
   "source": [
    "# Escriba aqui su solución"
   ]
  },
  {
   "cell_type": "markdown",
   "metadata": {
    "id": "5zn5rSp15jdU"
   },
   "source": [
    "### Ejercicio 2\n",
    "Escribir un programa que pregunte al usuario su edad y muestre por pantalla todos los años que ha cumplido (desde 1 hasta su edad)."
   ]
  },
  {
   "cell_type": "code",
   "execution_count": null,
   "metadata": {
    "id": "SHOrFoyd5jl9"
   },
   "outputs": [],
   "source": [
    "# Escriba aqui su solución"
   ]
  },
  {
   "cell_type": "markdown",
   "metadata": {
    "id": "GzIrM7z-5jw8"
   },
   "source": [
    "### Ejercicio 3\n",
    "Escribir un programa que pida al usuario un número entero positivo y muestre por pantalla todos los números impares desde 1 hasta ese número separados por comas.\n",
    "\n",
    "\n"
   ]
  },
  {
   "cell_type": "code",
   "execution_count": null,
   "metadata": {
    "id": "S20a2jQg5j5Q"
   },
   "outputs": [],
   "source": [
    "# Escriba aqui su solución"
   ]
  },
  {
   "cell_type": "markdown",
   "metadata": {
    "id": "lXTGYkxN5kBc"
   },
   "source": [
    "### Ejercicio 4\n",
    "Escribir un programa que pida al usuario un número entero positivo y muestre por pantalla la cuenta atrás desde ese número hasta cero separados por comas."
   ]
  },
  {
   "cell_type": "code",
   "execution_count": null,
   "metadata": {
    "id": "OGbRuu-25kIo"
   },
   "outputs": [],
   "source": [
    "# Escriba aqui su solución"
   ]
  },
  {
   "cell_type": "markdown",
   "metadata": {
    "id": "892TNELd5kRL"
   },
   "source": [
    "### Ejercicio 5\n",
    "Escribir un programa que pregunte al usuario una cantidad a invertir, el interés anual y el número de años, y muestre por pantalla el capital obtenido en la inversión cada año que dura la inversión."
   ]
  },
  {
   "cell_type": "code",
   "execution_count": null,
   "metadata": {
    "id": "K_gwsXPd5kYR"
   },
   "outputs": [],
   "source": [
    "# Escriba aqui su solución"
   ]
  },
  {
   "cell_type": "markdown",
   "metadata": {
    "id": "_VEjbBXA5kfz"
   },
   "source": [
    "### Ejercicio 6\n",
    "Escribir un programa que pida al usuario un número entero y muestre por pantalla un triángulo rectángulo como el de más abajo, de altura el número introducido.<br>\n",
    "\n",
    "```\n",
    "+\n",
    "++\n",
    "+++\n",
    "++++\n",
    "+++++\n",
    "++++++\n",
    "```"
   ]
  },
  {
   "cell_type": "code",
   "execution_count": null,
   "metadata": {
    "id": "obB30SBW5knn"
   },
   "outputs": [],
   "source": [
    "# Escriba aqui su solución"
   ]
  },
  {
   "cell_type": "markdown",
   "metadata": {
    "id": "fuQK5oWM5kvJ"
   },
   "source": [
    "### Ejercicio 7\n",
    "Escribir un programa que muestre por pantalla la tabla de multiplicar del 1 al 10.\n",
    "\n",
    "\n"
   ]
  },
  {
   "cell_type": "code",
   "execution_count": null,
   "metadata": {
    "id": "J4o4Qx5H5k2l"
   },
   "outputs": [],
   "source": [
    "# Escriba aqui su solución"
   ]
  },
  {
   "cell_type": "markdown",
   "metadata": {
    "id": "QOCGuR3s5k-R"
   },
   "source": [
    "### Ejercicio 8\n",
    "Escribir un programa que pida al usuario un número entero y muestre por pantalla un triángulo rectángulo como el de más abajo. (Un triángulo con los número impares menores o igual al número entero ingresado)ej. Si se ingresa 9 o 10, debiera mostrar lo siguiente:\n",
    "```\n",
    "1\n",
    "3 1\n",
    "5 3 1\n",
    "7 5 3 1\n",
    "9 7 5 3 1\n",
    "```"
   ]
  },
  {
   "cell_type": "code",
   "execution_count": null,
   "metadata": {
    "id": "6Vk2fM_95lFr"
   },
   "outputs": [],
   "source": [
    "# Escriba aqui su solución"
   ]
  },
  {
   "cell_type": "markdown",
   "metadata": {
    "id": "WTpG62Mx5lNa"
   },
   "source": [
    "### Ejercicio 9\n",
    "Escribir un programa que pida al usuario un número entero y muestre por pantalla si es un número primo o no."
   ]
  },
  {
   "cell_type": "code",
   "execution_count": null,
   "metadata": {
    "id": "T9bQQFae5lU1"
   },
   "outputs": [],
   "source": [
    "# Escriba aqui su solución"
   ]
  },
  {
   "cell_type": "markdown",
   "metadata": {
    "id": "TaWpP9gp5lb-"
   },
   "source": [
    "### Ejercicio 10\n",
    "Escribir un programa que almacene la cadena de caracteres \"**contraseña**\" en una variable, pregunte al usuario por la contraseña hasta que introduzca la contraseña correcta."
   ]
  },
  {
   "cell_type": "code",
   "execution_count": null,
   "metadata": {
    "id": "0s2zO-r75ljR"
   },
   "outputs": [],
   "source": [
    "# Escriba aqui su solución"
   ]
  },
  {
   "cell_type": "markdown",
   "metadata": {
    "id": "w7Viubd55lrD"
   },
   "source": [
    "### Ejercicio 11\n",
    "Escribir un programa que pida al usuario una palabra y luego muestre por pantalla una a una las letras de la palabra introducida empezando por la última."
   ]
  },
  {
   "cell_type": "code",
   "execution_count": 1,
   "metadata": {
    "id": "Yw552KJF5lxa"
   },
   "outputs": [],
   "source": [
    "# Escriba aqui su solución"
   ]
  },
  {
   "cell_type": "markdown",
   "metadata": {
    "id": "kFac_LXt8Nn5"
   },
   "source": [
    "### Ejercicio 12\n",
    "Escribir un programa en el que se pregunte al usuario por una frase y una letra, y muestre por pantalla el número de veces que aparece la letra en la frase."
   ]
  },
  {
   "cell_type": "code",
   "execution_count": 2,
   "metadata": {
    "id": "_1zHi5kF8Nwx"
   },
   "outputs": [],
   "source": [
    "# Escriba aqui su solución"
   ]
  },
  {
   "cell_type": "markdown",
   "metadata": {
    "id": "JezCTRTj8N4z"
   },
   "source": [
    "### Ejercicio 13\n",
    "Escribir un programa que escriba todo lo que el usuario introduzca hasta que el usuario escriba “salir” que terminará."
   ]
  },
  {
   "cell_type": "code",
   "execution_count": null,
   "metadata": {
    "id": "WxrCO7Yx8OBg"
   },
   "outputs": [],
   "source": [
    "# Escriba aqui su solución"
   ]
  },
  {
   "cell_type": "markdown",
   "metadata": {
    "id": "CUQ0SS4t8OJC"
   },
   "source": [
    "### Ejercicio 14\n",
    "Escriba un programa que imprima en pantalla los múltiplos de 3 entre el 1 y el 100 que además no sean múltiplos de 9."
   ]
  },
  {
   "cell_type": "code",
   "execution_count": null,
   "metadata": {
    "id": "VC8XvjFm8OQ7"
   },
   "outputs": [],
   "source": [
    "# Escriba aqui su solución"
   ]
  },
  {
   "cell_type": "markdown",
   "metadata": {
    "id": "jOi3BWXP8OZT"
   },
   "source": [
    "### Ejercicio 15\n",
    "Escribe un programa que simule el resultado del lanzamiento repetitivo de dos dados de seis caras, y que lance los dados hasta que la suma de los dados sea 7."
   ]
  },
  {
   "cell_type": "code",
   "execution_count": null,
   "metadata": {
    "id": "dYYsA8js8Og5"
   },
   "outputs": [],
   "source": [
    "# Escriba aqui su solución"
   ]
  },
  {
   "cell_type": "markdown",
   "metadata": {
    "id": "CeQ9hOyI8Oo4"
   },
   "source": [
    "### Ejercicio 16\n",
    "Escribe un programa que simule el resultado del lanzamiento repetitivo de dos dados de seis caras, y que lance los dados hasta que se obtenga un doble 6."
   ]
  },
  {
   "cell_type": "code",
   "execution_count": null,
   "metadata": {
    "id": "G5qHAQcm8Ow0"
   },
   "outputs": [],
   "source": [
    "# Escriba aqui su solución"
   ]
  },
  {
   "cell_type": "markdown",
   "metadata": {
    "id": "CyiGunl9ABwk"
   },
   "source": [
    "### Ejercicio 17\n",
    "Escribe un programa que simule el resultado del lanzamiento repetitivo de dos dados de seis caras, y que lance los dados hasta que se obtenga un 6 y un número impar."
   ]
  },
  {
   "cell_type": "code",
   "execution_count": null,
   "metadata": {
    "id": "vX63CxnSAB3o"
   },
   "outputs": [],
   "source": [
    "# Escriba aqui su solución"
   ]
  }
 ],
 "metadata": {
  "colab": {
   "name": "Ciclos while y for.ipynb",
   "provenance": []
  },
  "kernelspec": {
   "display_name": "Python 3",
   "language": "python",
   "name": "python3"
  },
  "language_info": {
   "codemirror_mode": {
    "name": "ipython",
    "version": 3
   },
   "file_extension": ".py",
   "mimetype": "text/x-python",
   "name": "python",
   "nbconvert_exporter": "python",
   "pygments_lexer": "ipython3",
   "version": "3.8.5"
  }
 },
 "nbformat": 4,
 "nbformat_minor": 1
}
