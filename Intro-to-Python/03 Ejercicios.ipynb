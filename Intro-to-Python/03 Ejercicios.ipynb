{
 "cells": [
  {
   "cell_type": "markdown",
   "metadata": {
    "id": "wr-eyFLQLQfN"
   },
   "source": [
    "# Guía ejercicios Funciones de python"
   ]
  },
  {
   "cell_type": "markdown",
   "metadata": {
    "id": "E2Yawce46uRt"
   },
   "source": [
    "## Ejercicio 1\n",
    "Escribir una función que muestre por pantalla el saludo ¡Hola amiga! cada vez que se la invoque."
   ]
  },
  {
   "cell_type": "code",
   "execution_count": 1,
   "metadata": {
    "id": "eC80XcxJ6rQY"
   },
   "outputs": [],
   "source": [
    "# Escriba aqui su solución"
   ]
  },
  {
   "cell_type": "markdown",
   "metadata": {
    "id": "h8aV7xOe6wy5"
   },
   "source": [
    "## Ejercicio 2\n",
    "Escribir una función a la que se le pase una cadena \\<nombre\\> y muestre por pantalla el saludo ¡hola \\<nombre\\>!."
   ]
  },
  {
   "cell_type": "code",
   "execution_count": 2,
   "metadata": {
    "id": "CUyXt6Wy6sgy"
   },
   "outputs": [],
   "source": [
    "# Escriba aqui su solución"
   ]
  },
  {
   "cell_type": "markdown",
   "metadata": {
    "id": "i5IMc00G6zS1"
   },
   "source": [
    "## Ejercicio 3\n",
    "Escribir una función que reciba un número entero positivo y devuelva su factorial."
   ]
  },
  {
   "cell_type": "code",
   "execution_count": 3,
   "metadata": {
    "id": "bAJAxqJE6zfS"
   },
   "outputs": [],
   "source": [
    "# Escriba aqui su solución"
   ]
  },
  {
   "cell_type": "markdown",
   "metadata": {
    "id": "j58GpRcH6zwI"
   },
   "source": [
    "## Ejercicio 4\n",
    "Escribir una función que calcule el total de una factura tras aplicarle el IVA. La función debe recibir la cantidad sin IVA y el porcentaje de IVA a aplicar, y devolver el total de la factura. Si se invoca la función sin pasarle el porcentaje de IVA, deberá aplicar un 19%."
   ]
  },
  {
   "cell_type": "code",
   "execution_count": 4,
   "metadata": {
    "id": "CwZoaXoa6z5d"
   },
   "outputs": [],
   "source": [
    "# Escriba aqui su solución"
   ]
  },
  {
   "cell_type": "markdown",
   "metadata": {
    "id": "-OrVgLiT60Bt"
   },
   "source": [
    "## Ejercicio 5\n",
    "Escribir una función que calcule el área de un círculo y otra que calcule el volumen de un cilindro usando la primera función."
   ]
  },
  {
   "cell_type": "code",
   "execution_count": 5,
   "metadata": {
    "id": "PlFGfFb060J0"
   },
   "outputs": [],
   "source": [
    "# Escriba aqui su solución"
   ]
  },
  {
   "cell_type": "markdown",
   "metadata": {
    "id": "P0tgEFM260TM"
   },
   "source": [
    "## Ejercicio 6\n",
    "Escribir una función que reciba una muestra de números en una lista y devuelva su media."
   ]
  },
  {
   "cell_type": "code",
   "execution_count": 6,
   "metadata": {
    "id": "EWyzlq6e60cI"
   },
   "outputs": [],
   "source": [
    "# Escriba aqui su solución"
   ]
  },
  {
   "cell_type": "markdown",
   "metadata": {
    "id": "KvG3rPkf60lu"
   },
   "source": [
    "## Ejercicio 7\n",
    "Escribir una función que reciba un número y devuelva las potencias cuadrado y cubo de dicho número."
   ]
  },
  {
   "cell_type": "code",
   "execution_count": 7,
   "metadata": {
    "id": "7pMmtm2360us"
   },
   "outputs": [],
   "source": [
    "# Escriba aqui su solución"
   ]
  },
  {
   "cell_type": "markdown",
   "metadata": {
    "id": "MTkBUyWe603-"
   },
   "source": [
    "## Ejercicio 8\n",
    "Escribir una función que reciba una muestra de números en una lista y devuelva un diccionario con su media, varianza y desviación típica."
   ]
  },
  {
   "cell_type": "code",
   "execution_count": 8,
   "metadata": {
    "id": "jkhLEtf561AJ"
   },
   "outputs": [],
   "source": [
    "# Escriba aqui su solución"
   ]
  },
  {
   "cell_type": "markdown",
   "metadata": {
    "id": "FBpi3uNf61JR"
   },
   "source": [
    "## Ejercicio 9\n",
    "Escribir una función que calcule el máximo común divisor de dos números y otra que calcule el mínimo común múltiplo.\n"
   ]
  },
  {
   "cell_type": "code",
   "execution_count": 9,
   "metadata": {
    "id": "MlfLTAip61Rk"
   },
   "outputs": [],
   "source": [
    "# Escriba aqui su solución"
   ]
  },
  {
   "cell_type": "markdown",
   "metadata": {
    "id": "Mk00dBDg61ac"
   },
   "source": [
    "## Ejercicio 10\n",
    "Escribir una función que convierta un número decimal en binario y otra que convierta un número binario en decimal."
   ]
  },
  {
   "cell_type": "code",
   "execution_count": 10,
   "metadata": {
    "id": "ShxzQmy961kJ"
   },
   "outputs": [],
   "source": [
    "# Escriba aqui su solución"
   ]
  },
  {
   "cell_type": "markdown",
   "metadata": {
    "id": "g_MfIIEP618g"
   },
   "source": [
    "## Ejercicio 11\n",
    "Escribir un programa que reciba el radio de una circunferencia y devuelva su área y perimetro."
   ]
  },
  {
   "cell_type": "code",
   "execution_count": 11,
   "metadata": {
    "id": "iwH1_7nK62GX"
   },
   "outputs": [],
   "source": [
    "# Escriba aqui su solución"
   ]
  },
  {
   "cell_type": "markdown",
   "metadata": {
    "id": "jgylSR3HCMDN"
   },
   "source": [
    "## Ejercicio 12\n",
    "Solicitar números al usuario hasta que ingrese el cero. Por cada uno, mostrar la suma de sus dígitos (utilizando una función que realice dicha suma)."
   ]
  },
  {
   "cell_type": "code",
   "execution_count": 12,
   "metadata": {
    "id": "gvvUVdoRCMSw"
   },
   "outputs": [],
   "source": [
    "# Escriba aqui su solución"
   ]
  },
  {
   "cell_type": "markdown",
   "metadata": {
    "id": "cxeCliCEC-iz"
   },
   "source": [
    "## Ejercicio 13\n",
    "Solicitar números al usuario hasta que ingrese el cero. Por cada uno, mostrar la suma de sus dígitos. Al finalizar, mostrar la sumatoria de todos los números ingresados y la suma de sus dígitos. Reutilizar la misma función realizada en el ejercicio 2.\n"
   ]
  },
  {
   "cell_type": "code",
   "execution_count": 13,
   "metadata": {
    "id": "YIR9b5-xC-sR"
   },
   "outputs": [],
   "source": [
    "# Escriba aqui su solución"
   ]
  },
  {
   "cell_type": "markdown",
   "metadata": {
    "id": "DmKna2rAC-1A"
   },
   "source": [
    "## Ejercicio 14\n",
    "Escribir una función que, dado un número de RUN, retorne True si el número es válido y False si no lo es. Para que un número de RUN sea válido debe tener 8 dígitos y dígito verificador. Ejemplos 04234345-k o 11646567-6"
   ]
  },
  {
   "cell_type": "code",
   "execution_count": 14,
   "metadata": {
    "id": "U_N7StX4C-9w"
   },
   "outputs": [],
   "source": [
    "# Escriba aqui su solución"
   ]
  },
  {
   "cell_type": "markdown",
   "metadata": {
    "id": "Uc62q91TC_GJ"
   },
   "source": [
    "## Ejercicio 15\n",
    "Escribir la función titulo(), la cual recibe un string y lo retorna convirtiendo la primera letra de cada palabra a mayúscula y las demás letras a minúscula, dejando inalterados los demás caracteres. Precondición: el separador de palabras es el espacio: \" \". Agregar doctests con suficientes casos de prueba para validar que la función retorna el valor esperado ante distintos argumentos."
   ]
  },
  {
   "cell_type": "code",
   "execution_count": null,
   "metadata": {
    "id": "t6GuXMXNC_Or"
   },
   "outputs": [],
   "source": [
    "# Escriba aqui su solución"
   ]
  }
 ],
 "metadata": {
  "colab": {
   "collapsed_sections": [],
   "name": "funciones.ipynb",
   "provenance": []
  },
  "kernelspec": {
   "display_name": "Python 3",
   "language": "python",
   "name": "python3"
  },
  "language_info": {
   "codemirror_mode": {
    "name": "ipython",
    "version": 3
   },
   "file_extension": ".py",
   "mimetype": "text/x-python",
   "name": "python",
   "nbconvert_exporter": "python",
   "pygments_lexer": "ipython3",
   "version": "3.7.8"
  }
 },
 "nbformat": 4,
 "nbformat_minor": 1
}
