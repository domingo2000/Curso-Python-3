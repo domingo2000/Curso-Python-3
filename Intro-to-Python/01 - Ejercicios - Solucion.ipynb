{
 "cells": [
  {
   "cell_type": "markdown",
   "metadata": {
    "id": "ymnKk6t13sY-"
   },
   "source": [
    "# Ejercicios 01"
   ]
  },
  {
   "cell_type": "markdown",
   "metadata": {
    "id": "DQmuioSJ3sY_"
   },
   "source": [
    "A continuación se muestran los ejercicios de la guía 01, a continuación verás varios enunciados, que debes responder programando codigo en las celdas de codigo correspondiente."
   ]
  },
  {
   "cell_type": "markdown",
   "metadata": {},
   "source": [
    "### Ejercicio 1\n",
    "Escribir un programa que muestre por pantalla la cadena ¡Hola Mundo, bienvenidos al 2021 un mundo con COVID!."
   ]
  },
  {
   "cell_type": "code",
   "execution_count": 1,
   "metadata": {},
   "outputs": [
    {
     "name": "stdout",
     "output_type": "stream",
     "text": [
      "¡Hola Mundo, bienvenidos al 2021 un mundo con COVID!\n"
     ]
    }
   ],
   "source": [
    "# Escriba aqui su solución\n",
    "print(\"¡Hola Mundo, bienvenidos al 2021 un mundo con COVID!\")"
   ]
  },
  {
   "cell_type": "markdown",
   "metadata": {},
   "source": [
    "### Ejercicio 2\n",
    "Escribir un programa que almacene la cadena ¡Hola Mundo! en una variable y luego muestre por pantalla el contenido de la variable.\n"
   ]
  },
  {
   "cell_type": "code",
   "execution_count": 2,
   "metadata": {},
   "outputs": [
    {
     "name": "stdout",
     "output_type": "stream",
     "text": [
      "¡Hola mundo!\n"
     ]
    }
   ],
   "source": [
    "# Escriba aqui su solución\n",
    "a = \"¡Hola mundo!\"\n",
    "print(a)"
   ]
  },
  {
   "cell_type": "markdown",
   "metadata": {},
   "source": [
    "### Ejercicio 3\n",
    "Escribir un programa que pregunte el nombre del usuario en la consola y después de que el usuario lo introduzca muestre por pantalla la cadena ¡Hola \"Nombre\"!, donde \"Nombre\" es el nombre que el usuario haya introducido."
   ]
  },
  {
   "cell_type": "code",
   "execution_count": 17,
   "metadata": {},
   "outputs": [
    {
     "name": "stdout",
     "output_type": "stream",
     "text": [
      "Ingrese su nombre: Domingo\n",
      "¡Hola Domingo!\n"
     ]
    }
   ],
   "source": [
    "# Escriba aqui su solución\n",
    "nombre = input(\"Ingrese su nombre: \")\n",
    "print(\"¡Hola \" + nombre + \"!\") # Podemos concatenar strings para juntar la información"
   ]
  },
  {
   "cell_type": "markdown",
   "metadata": {},
   "source": [
    "### Ejercicio 4\n",
    "Escribir un programa que muestre por pantalla el resultado de la siguiente operación aritmética ![CodeCogsEqn.gif](data:image/gif;base64,R0lGODlhQgA1ALMAAP///wAAANzc3DIyMnZ2dpiYmIiIiERERCIiIhAQEFRUVKqqqrq6uu7u7szMzGZmZiH5BAEAAAAALAAAAABCADUAAAT+EMhJq70466u2/yBoDGFphsJCnmxbFc3qmoszNctREdjSxDMTgzdZqCqOx2UBAAZDsokgKiEwKoZCwZAoPD8Eg2VqcVoc0SlhexB8JYkL2aJgVgSPrhQRSCjcGw0gBTpjVBILHR4pJQVXHgpihnIBH4whjh8Jj3cIGAE2GwJZBVYemR4BgBRDXasTCF6BkgAIoRmoGgIBgiUDtCAPhbicGQ6VJgdEIVwWDwrQCgMD0QrLFMcWAdvcyBPKHgh2AAbeGLkZu71QwBgDq8Ib6BgNqhYLpUoWsae9DQmvLszDsOmOJGvabmnYQuBBQIHFMhxoh0YCoTvm3gAYuETRBQLR1wDk0EjhB4g4FxogWCehDkkWazgobOLpJYthEwzYeGXK5gkGwBg8opXEZ4saEnZxWxbSqNOnUD91m0q1qtWrWLNOjcr16YMFeB52NaGgj6yxLs6inRGm1FgDDQ+MQ1FFrVMCgOrZxYTTqa0JD2qCcFBoZFQ9VTKKkvVgb9QDhzbgM9CO666Za00McCzgb2YNMS84KKiNalctn1swGOc4NYYkQlfrC9EGbYKpsz/U68bStQYHjwRE9P2hNfEMBHof19DA4/JTTZ9jiCT9w9cZEQAAOw==)."
   ]
  },
  {
   "cell_type": "code",
   "execution_count": 6,
   "metadata": {},
   "outputs": [
    {
     "name": "stdout",
     "output_type": "stream",
     "text": [
      "3.5437499999999997\n"
     ]
    }
   ],
   "source": [
    "# Escriba aqui su solución\n",
    "resultado = (5 + (1 / 2) ** 4) / (2 * (5 / 7))\n",
    "print(resultado)"
   ]
  },
  {
   "cell_type": "markdown",
   "metadata": {},
   "source": [
    "### Ejercicio 5\n",
    "Escribir un programa que pregunte al usuario por el número de horas trabajadas y el coste por hora. Después debe mostrar por pantalla cuanto es el dinero que le corresponde."
   ]
  },
  {
   "cell_type": "code",
   "execution_count": 18,
   "metadata": {},
   "outputs": [
    {
     "name": "stdout",
     "output_type": "stream",
     "text": [
      "Ingrese la cantidad de horas trabajadas: 30\n",
      "Ingrese el costo por hora: 20\n",
      "La cantidad de dinero que le corresponde es: $600.0 Pesos\n"
     ]
    }
   ],
   "source": [
    "# Escriba aqui su solución\n",
    "horas_trabajadas = int(input(\"Ingrese la cantidad de horas trabajadas: \"))\n",
    "coste_hora = float(input(\"Ingrese el costo por hora: \"))\n",
    "dinero_pago = horas_trabajadas * coste_hora\n",
    "# Notar que si queremos concatenar un número al string entonces se debe convertir el número a string\n",
    "print(\"La cantidad de dinero que le corresponde es: $\" + str(dinero_pago) + \" Pesos\")"
   ]
  },
  {
   "cell_type": "markdown",
   "metadata": {},
   "source": [
    "### Ejercicio 6\n",
    "Escribir un programa que lea un entero positivo,\"n\" , introducido por el usuario y después muestre en pantalla la suma de todos los enteros desde 1 hasta \"n\". La suma de los  primeros enteros positivos puede ser calculada de la siguiente forma: n * (n + 1) / 2"
   ]
  },
  {
   "cell_type": "code",
   "execution_count": 19,
   "metadata": {},
   "outputs": [
    {
     "name": "stdout",
     "output_type": "stream",
     "text": [
      "Ingrese un numero entero: 201\n",
      "20301.0\n"
     ]
    }
   ],
   "source": [
    "# Escriba aqui su solución\n",
    "n = int(input(\"Ingrese un numero entero: \"))\n",
    "suma_total = (n * (n + 1)) / 2\n",
    "# Notar que si no concatenamos no es necesario pasar el número a string\n",
    "print(suma_total)"
   ]
  },
  {
   "cell_type": "markdown",
   "metadata": {},
   "source": [
    "### Ejercicio 7\n",
    "<br>Escribir un programa que pida al usuario su peso (en kg) y estatura (en metros), calcule el índice de masa corporal y lo almacene en una variable, y muestre por pantalla la frase \"Tu índice de masa corporal es 'imc' donde \"imc\" es el índice de masa corporal calculado redondeado con dos decimales.<br>\n",
    "![imc.png](data:image/png;base64,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)"
   ]
  },
  {
   "cell_type": "code",
   "execution_count": 21,
   "metadata": {},
   "outputs": [
    {
     "name": "stdout",
     "output_type": "stream",
     "text": [
      "Ingrese su peso en kg: 30\n",
      "Ingrese su altura en metros: 30\n",
      "Tu índice de masa corporal es 0.03\n"
     ]
    }
   ],
   "source": [
    "# Escriba aqui su solución\n",
    "peso = float(input(\"Ingrese su peso en kg: \"))\n",
    "estatura = float(input(\"Ingrese su altura en metros: \"))\n",
    "imc = peso / (estatura ** 2)\n",
    "imc = round(imc, 2)\n",
    "# Tambien podemos pasarle varias variables a print separadas por coma y se imprimira todo separado por un espacio\n",
    "print(\"Tu índice de masa corporal es\", imc)"
   ]
  },
  {
   "cell_type": "markdown",
   "metadata": {},
   "source": [
    "### Ejercicio 8\n",
    "<br>Escribir un programa que pida al usuario dos números enteros y muestre por pantalla la división entre \"**n**\" y \"**m**\" da como cociente \"**c**\" y un resto \"**r**\" donde \"**n**\" y \"**m**\" son los números introducidos por el usuario, y \"**c**\" y \"**r**\" son el cociente y el resto de la división entera respectivamente.<br>\n",
    "Ejemplo: si los datos ingresados son 13 y 7, debiera decir: \"La división entre 13 y 7 es 1 y el resto es 5\""
   ]
  },
  {
   "cell_type": "code",
   "execution_count": 16,
   "metadata": {},
   "outputs": [
    {
     "name": "stdout",
     "output_type": "stream",
     "text": [
      "Ingrese un número entero: 12\n",
      "Ingrese otro número entero: 10\n",
      "La division entre 12 y 10 es 1 y el resto es 2\n"
     ]
    }
   ],
   "source": [
    "# Escriba aqui su solución\n",
    "n = int(input(\"Ingrese un número entero: \"))\n",
    "m = int(input(\"Ingrese otro número entero: \"))\n",
    "cociente = n // m\n",
    "resto = n % m\n",
    "respuesta = \"La division entre \" + str(n) + \" y \" + str(m) + \" es \" + str(cociente) + \" y el resto es \" + str(resto)\n",
    "print(respuesta)"
   ]
  },
  {
   "cell_type": "markdown",
   "metadata": {},
   "source": [
    "### Ejercicio 9\n",
    "<br>Escribir un programa que pregunte al usuario una cantidad a invertir, el interés anual y el número de años, y muestre por pantalla el capital obtenido en la inversión.<br>\n",
    "Cf = Ci(1+i/100)^t\n",
    "\n"
   ]
  },
  {
   "cell_type": "code",
   "execution_count": 27,
   "metadata": {},
   "outputs": [
    {
     "name": "stdout",
     "output_type": "stream",
     "text": [
      "Ingrese la cantidad de dinero que va a invertir en pesos chilenos: 40\n",
      "Ingrese el interés anual: 40\n",
      "Ingrese el numero de años transcurridos: 40\n",
      "El capital final es de $28001507.863642726 CLP\n"
     ]
    }
   ],
   "source": [
    "# Escriba aqui su solución\n",
    "cantidad_inversion = float(input(\"Ingrese la cantidad de dinero que va a invertir en pesos chilenos: \"))\n",
    "interes = float(input(\"Ingrese el interés anual: \"))\n",
    "num_años = int(input(\"Ingrese el numero de años transcurridos: \"))\n",
    "capital_obtenido = cantidad_inversion * (1 + (interes / 100)) ** num_años\n",
    "print(\"El capital final es de $\"+ str(capital_obtenido) + \" CLP\")"
   ]
  },
  {
   "cell_type": "markdown",
   "metadata": {},
   "source": [
    "### Ejercicio 10\n",
    "Una juguetería tiene mucho éxito en dos de sus productos: vasos y corbatas. Suele hacer venta por correo y la empresa de logística les cobra por peso de cada paquete así que deben calcular el peso de los vasos y corbatas que saldrán en cada paquete a demanda. Cada vaso pesa 112 g y cada corbata 75 g. Escribir un programa que lea el número de vasos y corbatas vendidos en el último pedido y calcule el peso total del paquete que será enviado."
   ]
  },
  {
   "cell_type": "code",
   "execution_count": 31,
   "metadata": {},
   "outputs": [
    {
     "name": "stdout",
     "output_type": "stream",
     "text": [
      "Ingrese la cantidad de vasos: 30\n",
      "Ingrese la cantidad de corbatas: 12\n",
      "El peso total del paquere es de 4260 gramos\n"
     ]
    }
   ],
   "source": [
    "# Escriba aqui su solución\n",
    "peso_vaso = 112\n",
    "peso_corbata = 75\n",
    "num_vasos = int(input(\"Ingrese la cantidad de vasos: \"))\n",
    "num_corbatas = int(input(\"Ingrese la cantidad de corbatas: \"))\n",
    "peso_total = peso_vaso * num_vasos + peso_corbata * num_corbatas\n",
    "print(\"El peso total del paquere es de\", peso_total, \"gramos\")"
   ]
  },
  {
   "cell_type": "markdown",
   "metadata": {},
   "source": [
    "### Ejercicio 11\n",
    "Imagina que acabas de abrir una nueva cuenta de ahorros que te ofrece el 4% de interés al año. Estos ahorros debido a intereses, que no se cobran hasta finales de año, se te añaden al balance final de tu cuenta de ahorros. Escribir un programa que comience leyendo la cantidad de dinero depositada en la cuenta de ahorros, introducida por el usuario. Después el programa debe calcular y mostrar por pantalla la cantidad de ahorros tras el primer, segundo y tercer años. Redondear cada cantidad a dos decimales."
   ]
  },
  {
   "cell_type": "code",
   "execution_count": 35,
   "metadata": {},
   "outputs": [
    {
     "name": "stdout",
     "output_type": "stream",
     "text": [
      "Ingrese el dinero depositado en la cuenta: 100\n",
      "El dinero tras 1 año es : 104.0 pesos\n",
      "El dinero tras 2 años es : 108.16 pesos\n",
      "El dinero tras 3 años es : 112.4864 pesos\n"
     ]
    }
   ],
   "source": [
    "# Escriba aqui su solución\n",
    "interes = 1.04\n",
    "dinero_cuenta = float(input(\"Ingrese el dinero depositado en la cuenta: \"))\n",
    "dinero_cuenta = dinero_cuenta *  interes # Usando x = x + a\n",
    "print(\"El dinero tras 1 año es :\", dinero_cuenta, \"pesos\")\n",
    "dinero_cuenta *=  interes # Usando *= que es lo mismo que antes con otra sintaxis\n",
    "print(\"El dinero tras 2 años es :\", dinero_cuenta, \"pesos\")\n",
    "dinero_cuenta *=  interes\n",
    "print(\"El dinero tras 3 años es :\", dinero_cuenta, \"pesos\")"
   ]
  },
  {
   "cell_type": "markdown",
   "metadata": {},
   "source": [
    "### Ejercicio 12\n",
    "Una panadería vende barras de pan a $1670 cada una. El pan que no es del día tiene un descuento del 40%. Escribir un programa que comience leyendo el número de barras vendidas que no son del día. Después el programa debe mostrar el precio habitual de una barra de pan, el descuento que se le hace por no ser fresca y el coste final total.\n"
   ]
  },
  {
   "cell_type": "code",
   "execution_count": 38,
   "metadata": {},
   "outputs": [
    {
     "name": "stdout",
     "output_type": "stream",
     "text": [
      "Ingrese la cantidad de barras que no son del día: 100\n",
      "El precio habitual del pan es de $1670\n",
      "El precio con descuento del pan viejo es de $668.0\n",
      "El precio total a pagar con descuento es de $66800.0\n"
     ]
    }
   ],
   "source": [
    "# Escriba aqui su solución\n",
    "precio_pan = 1670\n",
    "descuento = 0.4\n",
    "barras_antiguas = int(input(\"Ingrese la cantidad de barras que no son del día: \"))\n",
    "print(\"El precio habitual del pan es de $1670\")\n",
    "precio_descuento = precio_pan * descuento\n",
    "print(\"El precio con descuento del pan viejo es de $\" + str(precio_descuento))\n",
    "dinero_total = precio_descuento * barras_antiguas\n",
    "print(\"El precio total a pagar con descuento es de $\" + str(dinero_total))"
   ]
  },
  {
   "cell_type": "markdown",
   "metadata": {
    "id": "rgmL-IHO3sY_"
   },
   "source": [
    "### Ejercicio 13: El culpable del Covid"
   ]
  },
  {
   "cell_type": "markdown",
   "metadata": {
    "id": "Shlf3UOR3sY_"
   },
   "source": [
    "Estamos en una gran pandemia, y todos le quieren hechar la culpa a alguien por haber traido el Covid, algunos dicen que fue un murcielago, otros dicen que fue un chino, otros dicen que fue un arma química de EEUU. <br>\n",
    "A continuación se muestra un string inicial, tu misión es concatenarlo con algúna persona que creas que sea el culpable del covid y lo muestres en la salida del programa.<br>\n",
    "Ejemplo:<br>\n",
    "     **El culpable del covid es el come murciélagos** <br>\n",
    "     **El culpable del covid es el profesor Domingo**"
   ]
  },
  {
   "cell_type": "code",
   "execution_count": 40,
   "metadata": {
    "id": "_-Ca0JTa3sZA"
   },
   "outputs": [
    {
     "name": "stdout",
     "output_type": "stream",
     "text": [
      "Ingrese quien es el culpable del covid: El chupacabras\n",
      "El culpable del Covid es El chupacabras\n"
     ]
    }
   ],
   "source": [
    "a = \"El culpable del Covid es \"\n",
    "# Ingresa tu codigo bajo este comentario\n",
    "culpable  = input(\"Ingrese quien es el culpable del covid: \")\n",
    "string = a + culpable\n",
    "print(string)"
   ]
  },
  {
   "cell_type": "markdown",
   "metadata": {
    "id": "dPDwVrEE3sZA"
   },
   "source": [
    "Sabemos que no le podemos hechar simplemente la culpa a alguien sino que le debemos dar una razón, concatena los strings anteriores con uno nuevo para dar la razon de porque **x** es el culpable del covid. <br>\n",
    "Ejemplo: <br>\n",
    "**El culpable del covid es el come murcélagos porque estás pasados a virus los murciélagos**"
   ]
  },
  {
   "cell_type": "code",
   "execution_count": 42,
   "metadata": {
    "id": "H7AiUqYt3sZA"
   },
   "outputs": [
    {
     "name": "stdout",
     "output_type": "stream",
     "text": [
      "Ingrese la razon de porque es el culpable: chupasangre\n",
      "El culpable del Covid es El chupacabras porque chupasangre\n"
     ]
    }
   ],
   "source": [
    "razon = input(\"Ingrese la razon de porque es el culpable: \")\n",
    "print(string + \" porque \" + razon)"
   ]
  },
  {
   "cell_type": "markdown",
   "metadata": {
    "id": "-idEz2bQ3sZB"
   },
   "source": [
    "### Ejercicio 14  El granjero Jorge\n",
    "Jorge es un granjero esforzado y trabajador, pero lamentablemente es extremadamente malo para las matemáticas, aquello le genera que siempre tenga problemas para contar los m^2 que tiene su campo y siempre compra mal las semillas. <br>\n",
    "Realize un programa que tome como entrada de usuario el ancho y largo del campo (en m), calcule el área del campo (en m^2) y lo muestre en la consola (Output)."
   ]
  },
  {
   "cell_type": "code",
   "execution_count": 46,
   "metadata": {
    "id": "Wo-4zzsm3sZB"
   },
   "outputs": [
    {
     "name": "stdout",
     "output_type": "stream",
     "text": [
      "Ingrese el ancho del campo en metros: 1000\n",
      "Ingrese el largo del campo en metros: 1000\n",
      "La cantidad de metros cuadrados del campo es de 1000000.0 m^2\n"
     ]
    }
   ],
   "source": [
    "# Ingresa tu codigo bajo este comentario\n",
    "ancho = float(input(\"Ingrese el ancho del campo en metros: \"))\n",
    "largo= float(input(\"Ingrese el largo del campo en metros: \"))\n",
    "m_2 = ancho * largo\n",
    "print(\"La cantidad de metros cuadrados del campo es de\", m_2, \"m^2\")"
   ]
  },
  {
   "cell_type": "markdown",
   "metadata": {
    "id": "b-cGpYdy3sZC"
   },
   "source": [
    "Ya que tienes calculado el area del campo, calcula un programa que calcule la cantidad de semillas que debe usar jorge usando la variable `CANTIDAD_DE_SEMILLAS_POR_M2` declarada en el bloque a continuacion."
   ]
  },
  {
   "cell_type": "code",
   "execution_count": 47,
   "metadata": {
    "id": "OM2H4qzl3sZC"
   },
   "outputs": [
    {
     "name": "stdout",
     "output_type": "stream",
     "text": [
      "La cantidad total de semillas que necesitas para tu campo son 276000000.0 semillas\n"
     ]
    }
   ],
   "source": [
    "CANTIDAD_DE_SEMILLAS_POR_M2 = 276\n",
    "# Ingresa tu codigo bajo este comentario\n",
    "semillas = m_2 * CANTIDAD_DE_SEMILLAS_POR_M2\n",
    "print(\"La cantidad total de semillas que necesitas para tu campo son\", semillas, \"semillas\")"
   ]
  },
  {
   "cell_type": "markdown",
   "metadata": {
    "id": "WmwZMLJo3sZC"
   },
   "source": [
    "Por último sabemos que Jorge como buen granjero no sabe nada de m^2 pues no sabe matemáticas, el solo conoce la palabra hectárea, por lo que, toma el valor de los m^2 calculados anteriormente y muestraselos a Jorge como hectareas en la consola. (puedes buscar en google a cuanto corresponde una hectarea)"
   ]
  },
  {
   "cell_type": "code",
   "execution_count": 48,
   "metadata": {
    "id": "hTPsL6b43sZD"
   },
   "outputs": [
    {
     "name": "stdout",
     "output_type": "stream",
     "text": [
      "La cantidad de hectareas que tiene su campo es de 100.0 hectáreas\n"
     ]
    }
   ],
   "source": [
    "# Ingresa tu codigo bajo este comentario\n",
    "multiplicador = 0.0001\n",
    "cantidad_hectareas = m_2 * multiplicador\n",
    "print(\"La cantidad de hectareas que tiene su campo es de\", cantidad_hectareas, \"hectáreas\")"
   ]
  },
  {
   "cell_type": "code",
   "execution_count": null,
   "metadata": {},
   "outputs": [],
   "source": []
  }
 ],
 "metadata": {
  "colab": {
   "name": "01 - Ejercicios.ipynb",
   "provenance": []
  },
  "kernelspec": {
   "display_name": "Python 3",
   "language": "python",
   "name": "python3"
  },
  "language_info": {
   "codemirror_mode": {
    "name": "ipython",
    "version": 3
   },
   "file_extension": ".py",
   "mimetype": "text/x-python",
   "name": "python",
   "nbconvert_exporter": "python",
   "pygments_lexer": "ipython3",
   "version": "3.7.8"
  }
 },
 "nbformat": 4,
 "nbformat_minor": 1
}
