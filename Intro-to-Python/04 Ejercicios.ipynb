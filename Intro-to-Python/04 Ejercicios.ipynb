{
 "cells": [
  {
   "cell_type": "markdown",
   "metadata": {
    "id": "42R-i9ck8MNP"
   },
   "source": [
    "# Guía Ejercicios listas"
   ]
  },
  {
   "cell_type": "markdown",
   "metadata": {
    "id": "GEkR60nXDzsw"
   },
   "source": [
    "## Ejercicio 1\n",
    "Realizar un programa que inicialice una lista con 10 valores aleatorios (del 1 al 10) y posteriormente muestre en pantalla cada elemento de la lista junto con su cuadrado y su cubo."
   ]
  },
  {
   "cell_type": "code",
   "execution_count": 1,
   "metadata": {
    "id": "wk6ji2sn4TW5"
   },
   "outputs": [],
   "source": [
    "# Escriba aqui su solución"
   ]
  },
  {
   "cell_type": "markdown",
   "metadata": {
    "id": "XnoHh0zGECor"
   },
   "source": [
    "## Ejercicio 2\n",
    "Crea una lista e inicializala con 5 cadenas de caracteres leídas por teclado. Copia los elementos de la lista en otra lista pero en orden inverso, y muestra sus elementos por la pantalla."
   ]
  },
  {
   "cell_type": "code",
   "execution_count": null,
   "metadata": {
    "id": "XgUGKHlMECyZ"
   },
   "outputs": [],
   "source": [
    "# Escriba aqui su solución"
   ]
  },
  {
   "cell_type": "markdown",
   "metadata": {
    "id": "BnpunKnyEC88"
   },
   "source": [
    "## Ejercicio 3\n",
    "Se quiere realizar un programa que lea por teclado las 5 notas obtenidas por un alumno (comprendidas entre 1 y 7). A continuación debe mostrar todas las notas, la nota media, la nota más alta que ha sacado y la menor.\n",
    "\n"
   ]
  },
  {
   "cell_type": "code",
   "execution_count": null,
   "metadata": {
    "id": "1RxuLA-IEDGf"
   },
   "outputs": [],
   "source": [
    "# Escriba aqui su solución"
   ]
  },
  {
   "cell_type": "markdown",
   "metadata": {
    "id": "H95jMDHdEDQe"
   },
   "source": [
    "## Ejercicio 4\n",
    "realice un programa que declare una lista y la vaya llenando de números hasta que introduzcamos un número negativo. Entonces se debe imprimir el vector (sólo los elementos introducidos)."
   ]
  },
  {
   "cell_type": "code",
   "execution_count": null,
   "metadata": {
    "id": "QeBKS7onEDak"
   },
   "outputs": [],
   "source": [
    "# Escriba aqui su solución"
   ]
  },
  {
   "cell_type": "markdown",
   "metadata": {
    "id": "sNHAAUdREDkO"
   },
   "source": [
    "## Ejercicio 5\n",
    "Hacer un programa que inicialice una lista de números con valores aleatorios (10 valores), y posterior ordene los elementos de menor a mayor."
   ]
  },
  {
   "cell_type": "code",
   "execution_count": null,
   "metadata": {
    "id": "R4pZX2tcEDtc"
   },
   "outputs": [],
   "source": [
    "# Escriba aqui su solución"
   ]
  },
  {
   "cell_type": "markdown",
   "metadata": {
    "id": "MgiZbuU3ED33"
   },
   "source": [
    "## Ejercicio 6\n",
    "Crea un programa que pida un número al usuario un número de mes (por ejemplo, el 4) y diga cuántos días tiene (por ejemplo, 30) y el nombre del mes. Debes usar listas. Para simplificarlo vamos a suponer que febrero tiene 28 días.\n",
    "\n"
   ]
  },
  {
   "cell_type": "code",
   "execution_count": null,
   "metadata": {
    "id": "FRh1t0V3EEBi"
   },
   "outputs": [],
   "source": [
    "# Escriba aqui su solución"
   ]
  },
  {
   "cell_type": "markdown",
   "metadata": {
    "id": "NW0Kg2eXEEKj"
   },
   "source": [
    "## Ejercicio 7\n",
    "Programa que declare tres listas ‘lista1’, ‘lista2’ y ‘lista3’ de cinco enteros cada uno, pida valores para ‘lista1’ y ‘lista2’ y calcule lista3=lista1+lista2."
   ]
  },
  {
   "cell_type": "code",
   "execution_count": null,
   "metadata": {
    "id": "1rGf8j4nEETe"
   },
   "outputs": [],
   "source": [
    "# Escriba aqui su solución"
   ]
  },
  {
   "cell_type": "markdown",
   "metadata": {
    "id": "SdYVAUjxEEdJ"
   },
   "source": [
    "## Ejercicio 8\n",
    "Queremos guardar los nombres y la edades de los alumnos de un curso. Realiza un programa que introduzca el nombre y la edad de cada alumno. El proceso de lectura de datos terminará cuando se introduzca como nombre un asterisco (*) Al finalizar se mostrará los siguientes datos:\n",
    "\n",
    "* Todos lo alumnos mayores de edad.\n",
    "* Los alumnos mayores (los que tienen más edad)"
   ]
  },
  {
   "cell_type": "code",
   "execution_count": null,
   "metadata": {
    "id": "V6PMbFFCEEmh"
   },
   "outputs": [],
   "source": [
    "# Escriba aqui su solución"
   ]
  },
  {
   "cell_type": "markdown",
   "metadata": {
    "id": "6xaCTq2BEEv0"
   },
   "source": [
    "## Ejercicio 9\n",
    "Diseñar un programa, que:\n",
    "\n",
    "* Crea una tabla (lista con dos dimensiones) de 5x5 enteros.\n",
    "* Carga la tabla con valores numéricos enteros.\n",
    "* Suma todos los elementos de cada fila y todos los elementos de cada columna visualizando los resultados en pantalla."
   ]
  },
  {
   "cell_type": "code",
   "execution_count": null,
   "metadata": {
    "id": "L6NvueTYEE5I"
   },
   "outputs": [],
   "source": [
    "# Escriba aqui su solución"
   ]
  },
  {
   "cell_type": "markdown",
   "metadata": {
    "id": "YE0o4GIREFC2"
   },
   "source": [
    "## Ejercicio 10\n",
    "Genere una función que reciba una lista de números y entregue las misma lista con el orden inverso de los elementos."
   ]
  },
  {
   "cell_type": "code",
   "execution_count": null,
   "metadata": {
    "id": "8vQlktBFEFLd"
   },
   "outputs": [],
   "source": [
    "# Escriba aqui su solución"
   ]
  },
  {
   "cell_type": "markdown",
   "metadata": {
    "id": "Qtr1Nlr_EFU6"
   },
   "source": [
    "## Ejercicio 11\n",
    "Genere una función que reciba una lista de números desordenados, un parámetro para definir tipo de orden, seteado por default en descendente, y entregue de vuelta la misma lista ordenada de mayor a menor o menor a mayor."
   ]
  },
  {
   "cell_type": "code",
   "execution_count": null,
   "metadata": {
    "id": "o7g9cLdpEFeN"
   },
   "outputs": [],
   "source": [
    "# Escriba aqui su solución"
   ]
  },
  {
   "cell_type": "markdown",
   "metadata": {
    "id": "gHnA7VrYEFnD"
   },
   "source": [
    "## Ejercicio 12\n",
    "Aprovechando las funciones creadas anteriormente, cree una función que reciba una lista genere un diccionario con llaves: normal, dada_vuelta, orden_ascendente y orden_descendente, y con valores correspondientes a la lista transformada como la llave lo pide."
   ]
  },
  {
   "cell_type": "code",
   "execution_count": null,
   "metadata": {
    "id": "F4iXG8Z4EFwH"
   },
   "outputs": [],
   "source": [
    "# Escriba aqui su solución"
   ]
  },
  {
   "cell_type": "markdown",
   "metadata": {
    "id": "w-Fx1WtoEF5e"
   },
   "source": []
  },
  {
   "cell_type": "code",
   "execution_count": null,
   "metadata": {
    "id": "lYnfx1uUEGCC"
   },
   "outputs": [],
   "source": [
    "# Escriba aqui su solución"
   ]
  },
  {
   "cell_type": "markdown",
   "metadata": {
    "id": "CI5sovV6EGK5"
   },
   "source": [
    "## Ejercicio 13\n",
    "Cree una variable con una matriz de 3x3, donde cada fila de la matriz tenga en algún orden, los números del 1 al 3. Luego cree una función que tome la matriz y revise si existen coincidencias de números en una misma fila o columna, así como lo realiza un sudoku."
   ]
  },
  {
   "cell_type": "code",
   "execution_count": null,
   "metadata": {
    "id": "lClh3ipeEGTw"
   },
   "outputs": [],
   "source": [
    "# Escriba aqui su solución"
   ]
  },
  {
   "cell_type": "markdown",
   "metadata": {
    "id": "Lr3u-qkCH2Ct"
   },
   "source": [
    "## Ejercicio 14\n",
    "Vamos a crear un programa que tenga el siguiente menú:\n",
    "\n",
    "* Añadir número a la lista: Me pide un número de la lista y lo añade al final de la lista.\n",
    "* Añadir número de la lista en una posición: Me pide un número y una posición, y si la posición existe en la lista lo añade a ella (la posición se pide a partir de 1).\n",
    "* Longitud de la lista: te muestra el número de elementos de la lista.\n",
    "* Eliminar el último número: Muestra el último número de la lista y lo borra.\n",
    "* Eliminar un número: Pide una posición, y si la posición existe en la lista lo * borra de ella (la posición se pide a partir de 1).\n",
    "* Contar números: Te pide un número y te dice cuantas apariciones hay en la lista.\n",
    "* Posiciones de un número: Te pide un número y te dice en que posiciones está (contando desde 1).\n",
    "*Mostrar números: Muestra los números de la lista\n",
    "* Salir"
   ]
  },
  {
   "cell_type": "code",
   "execution_count": null,
   "metadata": {
    "id": "9NRlOz3_H2NJ"
   },
   "outputs": [],
   "source": [
    "# Escriba aqui su solución"
   ]
  },
  {
   "cell_type": "markdown",
   "metadata": {
    "id": "uFGHxZhfH2XT"
   },
   "source": [
    "## Ejercicio 15\n",
    "Crear un programa que añada números a una lista hasta que introducimos un número negativo. A continuación debe crear una nueva lista igual que la anterior pero eliminando los números duplicados. Muestra esta segunda lista para comprobar que hemos eliminados los duplicados."
   ]
  },
  {
   "cell_type": "code",
   "execution_count": null,
   "metadata": {
    "id": "4AasaNi5H2gy"
   },
   "outputs": [],
   "source": [
    "# Escriba aqui su solución"
   ]
  },
  {
   "cell_type": "markdown",
   "metadata": {
    "id": "LGA3KvJSH2q2"
   },
   "source": [
    "## Ejercicio 16\n",
    "Escriba un programa que permita crear una lista de palabras y que, a continuación de tres opciones:\n",
    "\n",
    "* Contar: Me pide una cadena, y me dice cuantas veces aparece en la lista\n",
    "* Modificar: Me pide una cadena, y otra cadena a modificar, y modifica todas alas apariciones de la primera por la segunda en la lista.\n",
    "* Eliminar: Me pide una cadena, y la elimina de la lista.\n",
    "* Mostrar: Muestra la lista de cadenas\n",
    "* Terminar"
   ]
  },
  {
   "cell_type": "code",
   "execution_count": null,
   "metadata": {
    "id": "Y6y0wQqeH2z7"
   },
   "outputs": [],
   "source": [
    "# Escriba aqui su solución"
   ]
  },
  {
   "cell_type": "markdown",
   "metadata": {
    "id": "XFPyKPMyH29W"
   },
   "source": [
    "## Ejercicio 17\n",
    "Escribir un programa que almacene las asignaturas de un curso (por ejemplo Matemáticas, Física, Química, Historia y Lenguaje, Biología, Programación) en una lista, pregunte al usuario la nota que ha sacado en cada asignatura y elimine de la lista las asignaturas aprobadas. Al final el programa debe mostrar por pantalla las asignaturas que el usuario tiene que repetir."
   ]
  },
  {
   "cell_type": "code",
   "execution_count": null,
   "metadata": {
    "id": "BZtsb_meH3G8"
   },
   "outputs": [],
   "source": [
    "# Escriba aqui su solución"
   ]
  }
 ],
 "metadata": {
  "colab": {
   "name": "Ejercicios Listas.ipynb",
   "provenance": []
  },
  "kernelspec": {
   "display_name": "Python 3",
   "language": "python",
   "name": "python3"
  },
  "language_info": {
   "codemirror_mode": {
    "name": "ipython",
    "version": 3
   },
   "file_extension": ".py",
   "mimetype": "text/x-python",
   "name": "python",
   "nbconvert_exporter": "python",
   "pygments_lexer": "ipython3",
   "version": "3.8.10"
  }
 },
 "nbformat": 4,
 "nbformat_minor": 1
}
