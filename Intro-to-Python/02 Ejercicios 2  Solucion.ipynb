{
 "cells": [
  {
   "cell_type": "markdown",
   "metadata": {
    "id": "MZgcu2a75XRr"
   },
   "source": [
    "# Ejercicios de Control de flujo"
   ]
  },
  {
   "cell_type": "markdown",
   "metadata": {
    "id": "eqgCi0rC5agF"
   },
   "source": [
    "### Ejercicio 1\n",
    "Escribir un programa que pida al usuario una palabra y la muestre por pantalla 10 veces.\n"
   ]
  },
  {
   "cell_type": "code",
   "execution_count": 1,
   "metadata": {
    "id": "2coSnNFp5UKc"
   },
   "outputs": [
    {
     "name": "stdout",
     "output_type": "stream",
     "text": [
      "Ingrese la palabra que quiere imprimir: ola\n",
      "ola\n",
      "ola\n",
      "ola\n",
      "ola\n",
      "ola\n",
      "ola\n",
      "ola\n",
      "ola\n",
      "ola\n",
      "ola\n"
     ]
    }
   ],
   "source": [
    "# Escriba aqui su solución\n",
    "palabra = input(\"Ingrese la palabra que quiere imprimir: \")\n",
    "for i in range(10):\n",
    "    print(palabra)"
   ]
  },
  {
   "cell_type": "markdown",
   "metadata": {
    "id": "5zn5rSp15jdU"
   },
   "source": [
    "### Ejercicio 2\n",
    "Escribir un programa que pregunte al usuario su edad y muestre por pantalla todos los años que ha cumplido (desde 1 hasta su edad)."
   ]
  },
  {
   "cell_type": "code",
   "execution_count": 6,
   "metadata": {
    "id": "SHOrFoyd5jl9"
   },
   "outputs": [
    {
     "name": "stdout",
     "output_type": "stream",
     "text": [
      "Ingrese su edad: 3\n",
      "Felicidades has cumplido 1 años!\n",
      "Felicidades has cumplido 2 años!\n",
      "Felicidades has cumplido 3 años!\n"
     ]
    }
   ],
   "source": [
    "# Escriba aqui su solución\n",
    "edad = int(input(\"Ingrese su edad: \"))\n",
    "for ano in range(1, edad + 1): # Recuerden que range va de [a, b[ como intervalo al hacer range(a, b)\n",
    "    mensaje = \"Felicidades has cumplido \" + str(ano) + \" años!\"\n",
    "    print(mensaje)"
   ]
  },
  {
   "cell_type": "markdown",
   "metadata": {
    "id": "GzIrM7z-5jw8"
   },
   "source": [
    "### Ejercicio 3\n",
    "Escribir un programa que pida al usuario un número entero positivo y muestre por pantalla todos los números impares desde 1 hasta ese número separados por comas.\n",
    "\n",
    "\n"
   ]
  },
  {
   "cell_type": "code",
   "execution_count": 9,
   "metadata": {
    "id": "S20a2jQg5j5Q"
   },
   "outputs": [
    {
     "name": "stdout",
     "output_type": "stream",
     "text": [
      "Ingrese un número entero positivo: 10\n",
      "El numero 1 es impar\n",
      "El numero 3 es impar\n",
      "El numero 5 es impar\n",
      "El numero 7 es impar\n",
      "El numero 9 es impar\n"
     ]
    }
   ],
   "source": [
    "# Escriba aqui su solución\n",
    "numero = int(input(\"Ingrese un número entero positivo: \"))\n",
    "for i in range(1, numero + 1):\n",
    "    if not ((i % 2) == 0):\n",
    "        print(\"El numero \" + str(i) + \" es impar\")"
   ]
  },
  {
   "cell_type": "markdown",
   "metadata": {
    "id": "lXTGYkxN5kBc"
   },
   "source": [
    "### Ejercicio 4\n",
    "Escribir un programa que pida al usuario un número entero positivo y muestre por pantalla la cuenta atrás desde ese número hasta cero separados por comas."
   ]
  },
  {
   "cell_type": "code",
   "execution_count": 12,
   "metadata": {
    "id": "OGbRuu-25kIo"
   },
   "outputs": [
    {
     "name": "stdout",
     "output_type": "stream",
     "text": [
      "Ingrese un número entero positivo: 5\n",
      "5\n",
      "4\n",
      "3\n",
      "2\n",
      "1\n",
      "0\n"
     ]
    }
   ],
   "source": [
    "# Escriba aqui su solución\n",
    "numero = int(input(\"Ingrese un número entero positivo: \"))\n",
    "contador = numero\n",
    "for i in range(numero):\n",
    "    print(contador)\n",
    "    contador -= 1\n",
    "print(contador) # Como el ciclo recorre solo las veces del número hay que imprimir el 0 también."
   ]
  },
  {
   "cell_type": "markdown",
   "metadata": {
    "id": "892TNELd5kRL"
   },
   "source": [
    "### Ejercicio 5\n",
    "Escribir un programa que pregunte al usuario una cantidad a invertir, el interés anual y el número de años, y muestre por pantalla el capital obtenido en la inversión cada año que dura la inversión."
   ]
  },
  {
   "cell_type": "code",
   "execution_count": 19,
   "metadata": {
    "id": "K_gwsXPd5kYR"
   },
   "outputs": [
    {
     "name": "stdout",
     "output_type": "stream",
     "text": [
      "Ingrese su capital a invertir: 100\n",
      "Ingrese el interés anual (ejemplo 5% ingrese el numero 5): 3\n",
      "Ingrese la cantidad de años: 3\n",
      "El capital actual en el año 0 es de $100\n",
      "El capital actual en el año 1 es de $103\n",
      "El capital actual en el año 2 es de $109\n"
     ]
    }
   ],
   "source": [
    "# Escriba aqui su solución\n",
    "capital = float(input(\"Ingrese su capital a invertir: \"))\n",
    "interes = float(input(\"Ingrese el interés anual (ejemplo 5% ingrese el numero 5): \"))\n",
    "interes = interes * 0.01 # Lo pasamos de porcentaje a decimal\n",
    "años = int(input(\"Ingrese la cantidad de años: \"))\n",
    "for año in range(años):\n",
    "    capital = capital * (1 + interes) ** año\n",
    "    mensaje = \"El capital actual en el año \" + str(año) + \" es de $\" + str(round(capital))\n",
    "    print(mensaje)\n"
   ]
  },
  {
   "cell_type": "markdown",
   "metadata": {
    "id": "_VEjbBXA5kfz"
   },
   "source": [
    "### Ejercicio 6\n",
    "Escribir un programa que pida al usuario un número entero y muestre por pantalla un triángulo rectángulo como el de más abajo, de altura el número introducido.<br>\n",
    "\n",
    "```\n",
    "+\n",
    "++\n",
    "+++\n",
    "++++\n",
    "+++++\n",
    "++++++\n",
    "```"
   ]
  },
  {
   "cell_type": "code",
   "execution_count": 22,
   "metadata": {
    "id": "obB30SBW5knn"
   },
   "outputs": [
    {
     "name": "stdout",
     "output_type": "stream",
     "text": [
      "Ingrese una altura enera para el triangulo: 3\n",
      "+\n",
      "++\n",
      "+++\n"
     ]
    }
   ],
   "source": [
    "# Escriba aqui su solución\n",
    "h = int(input(\"Ingrese una altura enera para el triangulo: \"))\n",
    "char = \"+\"\n",
    "for i in range(h):\n",
    "    string = char * (i + 1)\n",
    "    print(string)"
   ]
  },
  {
   "cell_type": "markdown",
   "metadata": {
    "id": "fuQK5oWM5kvJ"
   },
   "source": [
    "### Ejercicio 7\n",
    "Escribir un programa que muestre por pantalla la tabla de multiplicar del 1 al 10.\n",
    "\n",
    "\n"
   ]
  },
  {
   "cell_type": "code",
   "execution_count": 25,
   "metadata": {
    "id": "J4o4Qx5H5k2l"
   },
   "outputs": [
    {
     "name": "stdout",
     "output_type": "stream",
     "text": [
      "Tabla del 1\n",
      "1 x 1 = 1\n",
      "1 x 2 = 2\n",
      "1 x 3 = 3\n",
      "1 x 4 = 4\n",
      "1 x 5 = 5\n",
      "1 x 6 = 6\n",
      "1 x 7 = 7\n",
      "1 x 8 = 8\n",
      "1 x 9 = 9\n",
      "1 x 10 = 10\n",
      "---------------\n",
      "Tabla del 2\n",
      "2 x 1 = 2\n",
      "2 x 2 = 4\n",
      "2 x 3 = 6\n",
      "2 x 4 = 8\n",
      "2 x 5 = 10\n",
      "2 x 6 = 12\n",
      "2 x 7 = 14\n",
      "2 x 8 = 16\n",
      "2 x 9 = 18\n",
      "2 x 10 = 20\n",
      "---------------\n",
      "Tabla del 3\n",
      "3 x 1 = 3\n",
      "3 x 2 = 6\n",
      "3 x 3 = 9\n",
      "3 x 4 = 12\n",
      "3 x 5 = 15\n",
      "3 x 6 = 18\n",
      "3 x 7 = 21\n",
      "3 x 8 = 24\n",
      "3 x 9 = 27\n",
      "3 x 10 = 30\n",
      "---------------\n",
      "Tabla del 4\n",
      "4 x 1 = 4\n",
      "4 x 2 = 8\n",
      "4 x 3 = 12\n",
      "4 x 4 = 16\n",
      "4 x 5 = 20\n",
      "4 x 6 = 24\n",
      "4 x 7 = 28\n",
      "4 x 8 = 32\n",
      "4 x 9 = 36\n",
      "4 x 10 = 40\n",
      "---------------\n",
      "Tabla del 5\n",
      "5 x 1 = 5\n",
      "5 x 2 = 10\n",
      "5 x 3 = 15\n",
      "5 x 4 = 20\n",
      "5 x 5 = 25\n",
      "5 x 6 = 30\n",
      "5 x 7 = 35\n",
      "5 x 8 = 40\n",
      "5 x 9 = 45\n",
      "5 x 10 = 50\n",
      "---------------\n",
      "Tabla del 6\n",
      "6 x 1 = 6\n",
      "6 x 2 = 12\n",
      "6 x 3 = 18\n",
      "6 x 4 = 24\n",
      "6 x 5 = 30\n",
      "6 x 6 = 36\n",
      "6 x 7 = 42\n",
      "6 x 8 = 48\n",
      "6 x 9 = 54\n",
      "6 x 10 = 60\n",
      "---------------\n",
      "Tabla del 7\n",
      "7 x 1 = 7\n",
      "7 x 2 = 14\n",
      "7 x 3 = 21\n",
      "7 x 4 = 28\n",
      "7 x 5 = 35\n",
      "7 x 6 = 42\n",
      "7 x 7 = 49\n",
      "7 x 8 = 56\n",
      "7 x 9 = 63\n",
      "7 x 10 = 70\n",
      "---------------\n",
      "Tabla del 8\n",
      "8 x 1 = 8\n",
      "8 x 2 = 16\n",
      "8 x 3 = 24\n",
      "8 x 4 = 32\n",
      "8 x 5 = 40\n",
      "8 x 6 = 48\n",
      "8 x 7 = 56\n",
      "8 x 8 = 64\n",
      "8 x 9 = 72\n",
      "8 x 10 = 80\n",
      "---------------\n",
      "Tabla del 9\n",
      "9 x 1 = 9\n",
      "9 x 2 = 18\n",
      "9 x 3 = 27\n",
      "9 x 4 = 36\n",
      "9 x 5 = 45\n",
      "9 x 6 = 54\n",
      "9 x 7 = 63\n",
      "9 x 8 = 72\n",
      "9 x 9 = 81\n",
      "9 x 10 = 90\n",
      "---------------\n",
      "Tabla del 10\n",
      "10 x 1 = 10\n",
      "10 x 2 = 20\n",
      "10 x 3 = 30\n",
      "10 x 4 = 40\n",
      "10 x 5 = 50\n",
      "10 x 6 = 60\n",
      "10 x 7 = 70\n",
      "10 x 8 = 80\n",
      "10 x 9 = 90\n",
      "10 x 10 = 100\n",
      "---------------\n"
     ]
    }
   ],
   "source": [
    "# Escriba aqui su solución\n",
    "# Debemos hacer dos ciclos for pues para cada número i debemos hacer toda su tabla es decir\n",
    "# todos los numeros denuevo para que se de el i * j\n",
    "for i in range(1, 11):\n",
    "    print(\"Tabla del \" + str(i))\n",
    "    for j in range(1, 11):\n",
    "        multiplicacion = i * j\n",
    "        string = str(i) + \" x \" + str(j) + \" = \" + str(multiplicacion)\n",
    "        print(string)\n",
    "    print(\"-\" * 15)"
   ]
  },
  {
   "cell_type": "markdown",
   "metadata": {
    "id": "QOCGuR3s5k-R"
   },
   "source": [
    "### Ejercicio 8\n",
    "Escribir un programa que pida al usuario un número entero y muestre por pantalla un triángulo rectángulo como el de más abajo. (Un triángulo con los número impares menores o igual al número entero ingresado)ej. Si se ingresa 9 o 10, debiera mostrar lo siguiente:\n",
    "```\n",
    "1\n",
    "3 1\n",
    "5 3 1\n",
    "7 5 3 1\n",
    "9 7 5 3 1\n",
    "```"
   ]
  },
  {
   "cell_type": "code",
   "execution_count": 31,
   "metadata": {
    "id": "6Vk2fM_95lFr"
   },
   "outputs": [
    {
     "name": "stdout",
     "output_type": "stream",
     "text": [
      "Ingrese un número entero: 15\n",
      "1 \n",
      "3 1 \n",
      "5 3 1 \n",
      "7 5 3 1 \n",
      "9 7 5 3 1 \n",
      "11 9 7 5 3 1 \n",
      "13 11 9 7 5 3 1 \n",
      "15 13 11 9 7 5 3 1 \n"
     ]
    }
   ],
   "source": [
    "# Escriba aqui su solución\n",
    "n = int(input(\"Ingrese un número entero: \"))\n",
    "impares = \"\" # En este string vamos a ir acumulando todos los numeros impares\n",
    "for i in range(1, n + 1):\n",
    "    if not i % 2 == 0:\n",
    "        impares = str(i) + \" \" + impares\n",
    "        print(impares)"
   ]
  },
  {
   "cell_type": "markdown",
   "metadata": {
    "id": "WTpG62Mx5lNa"
   },
   "source": [
    "### Ejercicio 9\n",
    "Escribir un programa que pida al usuario un número entero y muestre por pantalla si es un número primo o no."
   ]
  },
  {
   "cell_type": "code",
   "execution_count": 36,
   "metadata": {
    "id": "T9bQQFae5lU1"
   },
   "outputs": [
    {
     "name": "stdout",
     "output_type": "stream",
     "text": [
      "Ingrese un número entero: 991\n",
      "El numero 991 es primo\n"
     ]
    }
   ],
   "source": [
    "# Escriba aqui su solución\n",
    "numero = int(input(\"Ingrese un número entero: \"))\n",
    "primo = True # Es primo hasta que se \"demuestre lo contrario\" en el for\n",
    "for i in range(2, numero): # Recorremos todos los números desde el 2 al anterior del número\n",
    "    if numero % i == 0: # Si es que es divisible por i significa que no es primo\n",
    "        primo = False\n",
    "        break # Para no seguir probando los números siguintes y sea mas rápido\n",
    "\n",
    "if primo:\n",
    "    print(\"El numero\", numero, \"es primo\")\n",
    "else:\n",
    "    print(\"El numero\", numero, \"no es primo\")"
   ]
  },
  {
   "cell_type": "markdown",
   "metadata": {
    "id": "TaWpP9gp5lb-"
   },
   "source": [
    "### Ejercicio 10\n",
    "Escribir un programa que almacene la cadena de caracteres \"**contraseña**\" en una variable, pregunte al usuario por la contraseña hasta que introduzca la contraseña correcta."
   ]
  },
  {
   "cell_type": "code",
   "execution_count": 40,
   "metadata": {
    "id": "0s2zO-r75ljR"
   },
   "outputs": [
    {
     "name": "stdout",
     "output_type": "stream",
     "text": [
      "Ingrese su constraseña: abcd\n",
      "La contraseña es incorrecta debes ingresarla nuevamente :(\n",
      "Ingrese su constraseña: abcdefg\n",
      "La contraseña es correcta!\n"
     ]
    }
   ],
   "source": [
    "# Escriba aqui su solución\n",
    "contraseña = \"abcdefg\"\n",
    "correcto = False\n",
    "while not correcto:\n",
    "    entrada = input(\"Ingrese su constraseña: \")\n",
    "    if entrada == contraseña:\n",
    "        print(\"La contraseña es correcta!\")\n",
    "        correcto = True\n",
    "    else:\n",
    "        print(\"La contraseña es incorrecta debes ingresarla nuevamente :(\")\n",
    "    "
   ]
  },
  {
   "cell_type": "markdown",
   "metadata": {
    "id": "w7Viubd55lrD"
   },
   "source": [
    "### Ejercicio 11\n",
    "Escribir un programa que pida al usuario una palabra y luego muestre por pantalla una a una las letras de la palabra introducida empezando por la última."
   ]
  },
  {
   "cell_type": "code",
   "execution_count": 47,
   "metadata": {
    "id": "Yw552KJF5lxa"
   },
   "outputs": [
    {
     "name": "stdout",
     "output_type": "stream",
     "text": [
      "Ingrese una palabra: Hola\n",
      "a\n",
      "l\n",
      "o\n",
      "H\n"
     ]
    }
   ],
   "source": [
    "# Escriba aqui su solución\n",
    "palabra = input(\"Ingrese una palabra: \")\n",
    "count = len(palabra) # Definimos un contador que valla hacia atras para ir recorriendo la palabra\n",
    "for _ in range(len(palabra)):\n",
    "    letra = palabra[count - 1] # Usamos los índices para ir sacando cada letra\n",
    "    print(letra)\n",
    "    count -= 1"
   ]
  },
  {
   "cell_type": "markdown",
   "metadata": {
    "id": "kFac_LXt8Nn5"
   },
   "source": [
    "### Ejercicio 12\n",
    "Escribir un programa en el que se pregunte al usuario por una frase y una letra, y muestre por pantalla el número de veces que aparece la letra en la frase."
   ]
  },
  {
   "cell_type": "code",
   "execution_count": 50,
   "metadata": {
    "id": "_1zHi5kF8Nwx"
   },
   "outputs": [
    {
     "name": "stdout",
     "output_type": "stream",
     "text": [
      "Ingrese una palabra: waaazaaa\n",
      "Ingrese una letraa\n",
      "La letra a aparece 6 veces\n"
     ]
    }
   ],
   "source": [
    "# Escriba aqui su solución\n",
    "palabra = input(\"Ingrese una palabra: \")\n",
    "letra = input(\"Ingrese una letra\")\n",
    "veces_letra = 0\n",
    "for i in range(len(palabra)):\n",
    "    if palabra[i] == letra:\n",
    "        veces_letra += 1\n",
    "mensaje = \"La letra \" + letra + \" aparece \" + str(veces_letra) + \" veces\"\n",
    "print(mensaje)"
   ]
  },
  {
   "cell_type": "markdown",
   "metadata": {
    "id": "JezCTRTj8N4z"
   },
   "source": [
    "### Ejercicio 13\n",
    "Escribir un programa que escriba todo lo que el usuario introduzca hasta que el usuario escriba “salir” que terminará."
   ]
  },
  {
   "cell_type": "code",
   "execution_count": 54,
   "metadata": {
    "id": "WxrCO7Yx8OBg"
   },
   "outputs": [
    {
     "name": "stdout",
     "output_type": "stream",
     "text": [
      "Escriba una palabra para imprimir, si quiere parar escriba \"salir\": ola\n",
      "ola\n",
      "Escriba una palabra para imprimir, si quiere parar escriba \"salir\": asf\n",
      "asf\n",
      "Escriba una palabra para imprimir, si quiere parar escriba \"salir\": sdaf\n",
      "sdaf\n",
      "Escriba una palabra para imprimir, si quiere parar escriba \"salir\": salir\n",
      "Saliendo del programa...\n"
     ]
    }
   ],
   "source": [
    "# Escriba aqui su solución\n",
    "# Aca hacemos la misma linea dos veces, la primera vez antes del ciclo y luego\n",
    "# dentro del ciclo para pedirle todo el tiempo una entrada nueva\n",
    "entrada = input('Escriba una palabra para imprimir, si quiere parar escriba \"salir\": ')\n",
    "while entrada != \"salir\":\n",
    "    print(entrada)\n",
    "    entrada = input('Escriba una palabra para imprimir, si quiere parar escriba \"salir\": ')\n",
    "print(\"Saliendo del programa...\")"
   ]
  },
  {
   "cell_type": "markdown",
   "metadata": {
    "id": "CUQ0SS4t8OJC"
   },
   "source": [
    "### Ejercicio 14\n",
    "Escriba un programa que imprima en pantalla los múltiplos de 3 entre el 1 y el 100 que además no sean múltiplos de 9."
   ]
  },
  {
   "cell_type": "code",
   "execution_count": 55,
   "metadata": {
    "id": "VC8XvjFm8OQ7"
   },
   "outputs": [
    {
     "name": "stdout",
     "output_type": "stream",
     "text": [
      "El numero 3 es múliplo de 3 y no de 9\n",
      "El numero 6 es múliplo de 3 y no de 9\n",
      "El numero 12 es múliplo de 3 y no de 9\n",
      "El numero 15 es múliplo de 3 y no de 9\n",
      "El numero 21 es múliplo de 3 y no de 9\n",
      "El numero 24 es múliplo de 3 y no de 9\n",
      "El numero 30 es múliplo de 3 y no de 9\n",
      "El numero 33 es múliplo de 3 y no de 9\n",
      "El numero 39 es múliplo de 3 y no de 9\n",
      "El numero 42 es múliplo de 3 y no de 9\n",
      "El numero 48 es múliplo de 3 y no de 9\n",
      "El numero 51 es múliplo de 3 y no de 9\n",
      "El numero 57 es múliplo de 3 y no de 9\n",
      "El numero 60 es múliplo de 3 y no de 9\n",
      "El numero 66 es múliplo de 3 y no de 9\n",
      "El numero 69 es múliplo de 3 y no de 9\n",
      "El numero 75 es múliplo de 3 y no de 9\n",
      "El numero 78 es múliplo de 3 y no de 9\n",
      "El numero 84 es múliplo de 3 y no de 9\n",
      "El numero 87 es múliplo de 3 y no de 9\n",
      "El numero 93 es múliplo de 3 y no de 9\n",
      "El numero 96 es múliplo de 3 y no de 9\n"
     ]
    }
   ],
   "source": [
    "# Escriba aqui su solución\n",
    "for i in range(1, 100 + 1):\n",
    "    if i % 3 == 0:\n",
    "        if not i % 9 == 0:\n",
    "            print(\"El numero\", i, \"es múliplo de 3 y no de 9\")\n"
   ]
  },
  {
   "cell_type": "markdown",
   "metadata": {
    "id": "jOi3BWXP8OZT"
   },
   "source": [
    "### Ejercicio 15\n",
    "Escribe un programa que simule el resultado del lanzamiento repetitivo de dos dados de seis caras, y que lance los dados hasta que la suma de los dados sea 7."
   ]
  },
  {
   "cell_type": "code",
   "execution_count": 67,
   "metadata": {
    "id": "dYYsA8js8Og5"
   },
   "outputs": [
    {
     "name": "stdout",
     "output_type": "stream",
     "text": [
      "La suma de los dados es 9\n",
      "La suma de los dados es 8\n",
      "La suma de los dados es 3\n",
      "La suma de los dados es 3\n",
      "La suma de los dados es 5\n",
      "La suma de los dados es 8\n",
      "La suma de los dados es 7\n"
     ]
    }
   ],
   "source": [
    "# Escriba aqui su solución\n",
    "import random # importamos random y la usamos para simular un dado aleatorio\n",
    "dado_1 = random.randint(1, 6)\n",
    "dado_2 = random.randint(1, 6)\n",
    "suma = dado_1 + dado_2\n",
    "while suma != 7:\n",
    "    print(\"La suma de los dados es\", suma)\n",
    "    dado_1 = random.randint(1, 6)\n",
    "    dado_2 = random.randint(1, 6)\n",
    "    suma = dado_1 + dado_2\n",
    "print(\"La suma de los dados es\", suma) # El último print cuando sale del ciclo para que se muestre el 7"
   ]
  },
  {
   "cell_type": "markdown",
   "metadata": {
    "id": "CeQ9hOyI8Oo4"
   },
   "source": [
    "### Ejercicio 16\n",
    "Escribe un programa que simule el resultado del lanzamiento repetitivo de dos dados de seis caras, y que lance los dados hasta que se obtenga un doble 6."
   ]
  },
  {
   "cell_type": "code",
   "execution_count": 70,
   "metadata": {
    "id": "G5qHAQcm8Ow0"
   },
   "outputs": [
    {
     "name": "stdout",
     "output_type": "stream",
     "text": [
      "La suma de los dados es 6\n",
      "La suma de los dados es 8\n",
      "La suma de los dados es 8\n",
      "La suma de los dados es 11\n",
      "La suma de los dados es 11\n",
      "La suma de los dados es 8\n",
      "La suma de los dados es 11\n",
      "La suma de los dados es 6\n",
      "La suma de los dados es 8\n",
      "La suma de los dados es 3\n",
      "La suma de los dados es 7\n",
      "La suma de los dados es 5\n",
      "La suma de los dados es 8\n",
      "La suma de los dados es 2\n",
      "La suma de los dados es 10\n",
      "La suma de los dados es 11\n",
      "La suma de los dados es 12\n"
     ]
    }
   ],
   "source": [
    "# Escriba aqui su solución\n",
    "# no es necesario importarlo denuevo pues lo importamos en la celda anterior\n",
    "# igual lo importo para clarificar que si fuera un archivo aparte debería ser importado\n",
    "import random \n",
    "dado_1 = random.randint(1, 6)\n",
    "dado_2 = random.randint(1, 6)\n",
    "suma = dado_1 + dado_2\n",
    "while suma != 12:\n",
    "    print(\"La suma de los dados es\", suma)\n",
    "    dado_1 = random.randint(1, 6)\n",
    "    dado_2 = random.randint(1, 6)\n",
    "    suma = dado_1 + dado_2\n",
    "print(\"La suma de los dados es\", suma)"
   ]
  },
  {
   "cell_type": "markdown",
   "metadata": {
    "id": "CyiGunl9ABwk"
   },
   "source": [
    "### Ejercicio 17\n",
    "Escribe un programa que simule el resultado del lanzamiento repetitivo de dos dados de seis caras, y que lance los dados hasta que se obtenga un 6 y un número impar."
   ]
  },
  {
   "cell_type": "code",
   "execution_count": 87,
   "metadata": {},
   "outputs": [
    {
     "name": "stdout",
     "output_type": "stream",
     "text": [
      "Los dados fueron 2 4\n",
      "Los dados fueron 5 3\n",
      "Los dados fueron 2 6\n",
      "Los dados fueron 4 4\n",
      "Los dados fueron 2 4\n",
      "Los dados fueron 3 4\n",
      "Los dados fueron 2 2\n",
      "Los dados fueron 1 1\n",
      "Los dados fueron 6 5\n"
     ]
    }
   ],
   "source": [
    "# Escriba aqui su solución\n",
    "import random \n",
    "dado_1 = random.randint(1, 6)\n",
    "dado_2 = random.randint(1, 6)\n",
    "\n",
    "if not dado_1 % 2 == 0:\n",
    "    impar = True\n",
    "elif not dado_2 % 2 == 0:\n",
    "    impar = True\n",
    "else:\n",
    "    impar = False\n",
    "\n",
    "while not ((dado_1 == 6 and impar) or (dado_2 == 6 and impar)):\n",
    "    print(\"Los dados fueron\", dado_1, dado_2)\n",
    "    dado_1 = random.randint(1, 6)\n",
    "    dado_2 = random.randint(1, 6)\n",
    "    \n",
    "    if not dado_1 % 2 == 0:\n",
    "        impar = True\n",
    "    elif not dado_2 % 2 == 0:\n",
    "        impar = True\n",
    "    else:\n",
    "        impar = False\n",
    "print(\"Los dados fueron\", dado_1, dado_2)"
   ]
  },
  {
   "cell_type": "code",
   "execution_count": null,
   "metadata": {},
   "outputs": [],
   "source": []
  }
 ],
 "metadata": {
  "colab": {
   "name": "Ciclos while y for.ipynb",
   "provenance": []
  },
  "kernelspec": {
   "display_name": "Python 3",
   "language": "python",
   "name": "python3"
  },
  "language_info": {
   "codemirror_mode": {
    "name": "ipython",
    "version": 3
   },
   "file_extension": ".py",
   "mimetype": "text/x-python",
   "name": "python",
   "nbconvert_exporter": "python",
   "pygments_lexer": "ipython3",
   "version": "3.8.5"
  }
 },
 "nbformat": 4,
 "nbformat_minor": 1
}
