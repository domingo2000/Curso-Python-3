{
 "cells": [
  {
   "cell_type": "markdown",
   "metadata": {},
   "source": [
    "<small><font style=\"font-size:6pt\"> <i>\n",
    "All of these python notebooks are available at https://gitlab.erc.monash.edu.au/andrease/Python4Maths.git </i>\n",
    "</font></small>"
   ]
  },
  {
   "cell_type": "markdown",
   "metadata": {},
   "source": [
    "## Diccionarios"
   ]
  },
  {
   "cell_type": "markdown",
   "metadata": {},
   "source": [
    "Los diccionarios son estructuras de datos que mapean desde llaves a valores, es decir cada elemento de un diccionario corresponde a un par `key -> value`. Veamos un ejemplo para ver a que nos referimos."
   ]
  },
  {
   "cell_type": "markdown",
   "metadata": {},
   "source": [
    "Para definir un diccionario usamos llaves y rellenamos con pares llave, valor.<br>\n",
    "``{key1:value1, key2:value2, key3:value3, ...}``"
   ]
  },
  {
   "cell_type": "code",
   "execution_count": 86,
   "metadata": {},
   "outputs": [
    {
     "name": "stdout",
     "output_type": "stream",
     "text": [
      "{'pedro': 18, 'juan': 21, 'diego': 32}\n"
     ]
    }
   ],
   "source": [
    "edades = {\"pedro\":18, \"juan\":21, \"diego\":32}\n",
    "# Aqui las llaves son pedro, juan y diego, y los valores son las edades 18, 21 y 32\n",
    "print(edades)"
   ]
  },
  {
   "cell_type": "markdown",
   "metadata": {},
   "source": [
    "Para acceder a los valores de un diccionarios usamos indexamiento, pero esta vez no pasamos indices, sino que pasamos las llaves del diccionario dentro de los corchetes de la forma:<br>\n",
    "`diccionario[llave]`\n",
    "la cual nos dara el valor correspondiente a esa llave"
   ]
  },
  {
   "cell_type": "code",
   "execution_count": 87,
   "metadata": {},
   "outputs": [
    {
     "name": "stdout",
     "output_type": "stream",
     "text": [
      "18\n",
      "21\n",
      "32\n"
     ]
    }
   ],
   "source": [
    "print(edades[\"pedro\"])\n",
    "print(edades[\"juan\"])\n",
    "print(edades[\"diego\"])"
   ]
  },
  {
   "cell_type": "markdown",
   "metadata": {},
   "source": [
    "Como ya debes haber pensado, cada llave dentro del diccionario debe ser única, pues si tenemos dos veces la misma llave al acceder al valor entonces no sabríamos cual elegir."
   ]
  },
  {
   "cell_type": "code",
   "execution_count": 88,
   "metadata": {},
   "outputs": [
    {
     "name": "stdout",
     "output_type": "stream",
     "text": [
      "{'pedro': 31}\n"
     ]
    }
   ],
   "source": [
    "edades = {\"pedro\":20, \"pedro\":31}\n",
    "print(edades) # Se elimina un dato pues las llaves tienen que ser úncias."
   ]
  },
  {
   "cell_type": "markdown",
   "metadata": {},
   "source": [
    "Otra condición para las llaves es que solo se aceptan algunos tipos de datos como llave, estos pueden ser del tipo `int`, `float`, `bool`, `string`, `tuple` o cualquier tipo **hasheable** (No importa que sepan que es hasheable, pero se darán cuenta si pasan una llave inválida en el error que tira python). Ejemplos de tipos que no pueden ser llaves son las listas. Veamos un ejemplo."
   ]
  },
  {
   "cell_type": "code",
   "execution_count": 89,
   "metadata": {},
   "outputs": [
    {
     "name": "stdout",
     "output_type": "stream",
     "text": [
      "{1: 'hola', 2: 'chao', 3: 'hasta luego'}\n",
      "{1.1: 'hola', 1.2: 'chao', 1.3: 'hasta luego'}\n",
      "{False: 'chao', True: 'hasta luego'}\n",
      "{'a': 'chao', 'b': 'hasta luego'}\n"
     ]
    }
   ],
   "source": [
    "# Tipos de llaves válidas\n",
    "a = {1:\"hola\", 2: \"chao\", 3:\"hasta luego\"} # LLaves enteras\n",
    "b = {1.1:\"hola\", 1.2: \"chao\", 1.3:\"hasta luego\"} # LLaves float\n",
    "c = {False: \"chao\", True:\"hasta luego\"} # LLaves float\n",
    "d = {\"a\": \"chao\", \"b\":\"hasta luego\"} # LLaves string\n",
    "print(a)\n",
    "print(b)\n",
    "print(c)\n",
    "print(d)"
   ]
  },
  {
   "cell_type": "code",
   "execution_count": 90,
   "metadata": {},
   "outputs": [
    {
     "ename": "TypeError",
     "evalue": "unhashable type: 'list'",
     "output_type": "error",
     "traceback": [
      "\u001b[1;31m---------------------------------------------------------------------------\u001b[0m",
      "\u001b[1;31mTypeError\u001b[0m                                 Traceback (most recent call last)",
      "\u001b[1;32m<ipython-input-90-8ce4a0134227>\u001b[0m in \u001b[0;36m<module>\u001b[1;34m\u001b[0m\n\u001b[0;32m      1\u001b[0m \u001b[1;31m# Llaves invalidas\u001b[0m\u001b[1;33m\u001b[0m\u001b[1;33m\u001b[0m\u001b[1;33m\u001b[0m\u001b[0m\n\u001b[1;32m----> 2\u001b[1;33m \u001b[0me\u001b[0m \u001b[1;33m=\u001b[0m \u001b[1;33m{\u001b[0m\u001b[1;33m[\u001b[0m\u001b[1;36m1\u001b[0m\u001b[1;33m,\u001b[0m\u001b[1;36m2\u001b[0m\u001b[1;33m]\u001b[0m\u001b[1;33m:\u001b[0m \u001b[1;34m\"a\"\u001b[0m\u001b[1;33m,\u001b[0m \u001b[1;33m[\u001b[0m\u001b[1;36m2\u001b[0m\u001b[1;33m,\u001b[0m\u001b[1;36m3\u001b[0m\u001b[1;33m]\u001b[0m\u001b[1;33m:\u001b[0m \u001b[1;34m\"B\"\u001b[0m\u001b[1;33m}\u001b[0m\u001b[1;33m\u001b[0m\u001b[1;33m\u001b[0m\u001b[0m\n\u001b[0m\u001b[0;32m      3\u001b[0m \u001b[0mprint\u001b[0m\u001b[1;33m(\u001b[0m\u001b[0me\u001b[0m\u001b[1;33m)\u001b[0m\u001b[1;33m\u001b[0m\u001b[1;33m\u001b[0m\u001b[0m\n",
      "\u001b[1;31mTypeError\u001b[0m: unhashable type: 'list'"
     ]
    }
   ],
   "source": [
    "# Llaves invalidas\n",
    "e = {[1,2]: \"a\", [2,3]: \"B\"}\n",
    "print(e)"
   ]
  },
  {
   "cell_type": "markdown",
   "metadata": {},
   "source": [
    "Como pueden ver no nos deja poner como llave listas"
   ]
  },
  {
   "cell_type": "markdown",
   "metadata": {},
   "source": [
    "Por otro lado, los valores de los diccionarios pueden tener cualquier tipo de dato, incluyendo listas, enteros, floats o incluso otros diccionarios. Veamos un ejemplo en el cual almacenamos datos de personas. En este caso elegimos que las llaves sean ruts y para que sean únicos los valores."
   ]
  },
  {
   "cell_type": "code",
   "execution_count": 91,
   "metadata": {},
   "outputs": [
    {
     "name": "stdout",
     "output_type": "stream",
     "text": [
      "['Pedro', 15, 'Hombre']\n",
      "Pedro\n",
      "15\n",
      "Hombre\n",
      "['Fran', 18, 'Mujer']\n"
     ]
    }
   ],
   "source": [
    "# Diccionario con llaves los ruts y valor una lista en el orden [nombre, edad, sexo]\n",
    "personas = {\"20482918-2\": [\"Pedro\", 15, \"Hombre\"], \n",
    "            \"7284928-K\": [\"Juan\", 32, \"Hombre\"],\n",
    "            \"22102929-7\": [\"Sofia\", 25, \"Mujer\"],\n",
    "            \"15291029-8\": [\"Fran\", 18, \"Mujer\"]}\n",
    "\n",
    "print(personas[\"20482918-2\"])\n",
    "print(personas[\"20482918-2\"][0]) # Saca el nombre\n",
    "print(personas[\"20482918-2\"][1]) # Saca la edad\n",
    "print(personas[\"20482918-2\"][2]) # Saca el sexo.\n",
    "\n",
    "print(personas[\"15291029-8\"])"
   ]
  },
  {
   "cell_type": "markdown",
   "metadata": {},
   "source": [
    "Para añadir datos nuevos al diccionario debemos hacer lo siguiente <br>\n",
    "`diccionario[llave_nueva] = valor_nuevo` <br>\n",
    "Para reemplazar un valor debemos usar la llave que accede a ese valor de la forma <br>\n",
    "`diccionario[llave_a_cambiar] = valor_nuevo` <br>\n",
    "Veamos un ejemplo con nuestro diccionario de personas"
   ]
  },
  {
   "cell_type": "code",
   "execution_count": 92,
   "metadata": {},
   "outputs": [
    {
     "name": "stdout",
     "output_type": "stream",
     "text": [
      "{'20482918-2': ['Pedro', 15, 'Hombre'], '7284928-K': ['Juan', 32, 'Hombre'], '22102929-7': ['Sofia', 25, 'Mujer'], '15291029-8': ['Fran', 18, 'Mujer'], '20482192-8': ['Domingo', '21', 'Hombre']}\n",
      "{'20482918-2': ['Pedro', 15, 'Hombre'], '7284928-K': ['Juan', 32, 'Hombre'], '22102929-7': ['Sofia', 25, 'Mujer'], '15291029-8': ['Fran', 18, 'Mujer'], '20482192-8': ['Dominga', '35', 'Mujer']}\n"
     ]
    }
   ],
   "source": [
    "# Metemos una persona nueva dando un rut nuevo\n",
    "personas[\"20482192-8\"] = [\"Domingo\", \"21\", \"Hombre\"]\n",
    "print(personas)\n",
    "\n",
    "# Ahora cambiemos la informacion de la persona que acabamos de meter.\n",
    "personas[\"20482192-8\"] = [\"Dominga\", \"35\", \"Mujer\"]\n",
    "print(personas)"
   ]
  },
  {
   "cell_type": "markdown",
   "metadata": {},
   "source": [
    "Luego para eliminar un dato de un diccionario debemos hacer <br>\n",
    "`del diccionario[llave]`"
   ]
  },
  {
   "cell_type": "code",
   "execution_count": 93,
   "metadata": {},
   "outputs": [
    {
     "name": "stdout",
     "output_type": "stream",
     "text": [
      "{'7284928-K': ['Juan', 32, 'Hombre'], '22102929-7': ['Sofia', 25, 'Mujer'], '15291029-8': ['Fran', 18, 'Mujer'], '20482192-8': ['Dominga', '35', 'Mujer']}\n"
     ]
    }
   ],
   "source": [
    "del personas[\"20482918-2\"] # Eliminamos a pedro con su rut que es la llave\n",
    "print(personas) # Vemos que ya no está en el diccionario."
   ]
  },
  {
   "cell_type": "markdown",
   "metadata": {},
   "source": [
    "Al igual que las listas, si tratamos de acceder, actualizar o eliminar un valor que no se encuentra en el diccionario python nos arrojará un error del tipo `KeyError` pues no existe dicha llave en el diccionario."
   ]
  },
  {
   "cell_type": "code",
   "execution_count": 94,
   "metadata": {},
   "outputs": [
    {
     "ename": "KeyError",
     "evalue": "'20482413-5'",
     "output_type": "error",
     "traceback": [
      "\u001b[1;31m---------------------------------------------------------------------------\u001b[0m",
      "\u001b[1;31mKeyError\u001b[0m                                  Traceback (most recent call last)",
      "\u001b[1;32m<ipython-input-94-f4a6d268785f>\u001b[0m in \u001b[0;36m<module>\u001b[1;34m\u001b[0m\n\u001b[1;32m----> 1\u001b[1;33m \u001b[1;32mdel\u001b[0m \u001b[0mpersonas\u001b[0m\u001b[1;33m[\u001b[0m\u001b[1;34m\"20482413-5\"\u001b[0m\u001b[1;33m]\u001b[0m\u001b[1;33m\u001b[0m\u001b[1;33m\u001b[0m\u001b[0m\n\u001b[0m",
      "\u001b[1;31mKeyError\u001b[0m: '20482413-5'"
     ]
    }
   ],
   "source": [
    "del personas[\"20482413-5\"]"
   ]
  },
  {
   "cell_type": "code",
   "execution_count": 95,
   "metadata": {},
   "outputs": [
    {
     "ename": "KeyError",
     "evalue": "'20482413-5'",
     "output_type": "error",
     "traceback": [
      "\u001b[1;31m---------------------------------------------------------------------------\u001b[0m",
      "\u001b[1;31mKeyError\u001b[0m                                  Traceback (most recent call last)",
      "\u001b[1;32m<ipython-input-95-8557296dcea5>\u001b[0m in \u001b[0;36m<module>\u001b[1;34m\u001b[0m\n\u001b[1;32m----> 1\u001b[1;33m \u001b[0mprint\u001b[0m\u001b[1;33m(\u001b[0m\u001b[0mpersonas\u001b[0m\u001b[1;33m[\u001b[0m\u001b[1;34m\"20482413-5\"\u001b[0m\u001b[1;33m]\u001b[0m\u001b[1;33m)\u001b[0m\u001b[1;33m\u001b[0m\u001b[1;33m\u001b[0m\u001b[0m\n\u001b[0m",
      "\u001b[1;31mKeyError\u001b[0m: '20482413-5'"
     ]
    }
   ],
   "source": [
    "print(personas[\"20482413-5\"])"
   ]
  },
  {
   "cell_type": "markdown",
   "metadata": {},
   "source": [
    "Algunas funciones built-in que funcionan también con diccionarios."
   ]
  },
  {
   "cell_type": "code",
   "execution_count": 96,
   "metadata": {},
   "outputs": [
    {
     "data": {
      "text/plain": [
       "3"
      ]
     },
     "execution_count": 96,
     "metadata": {},
     "output_type": "execute_result"
    }
   ],
   "source": [
    "d = { 1: 'One', 2 : 'Two', 100 : 'Hundred'}\n",
    "len(d)"
   ]
  },
  {
   "cell_type": "markdown",
   "metadata": {},
   "source": [
    "**OJO**: A diferencia de las listas, los diccionarios no necesariamente estan ordenados de derecha a izquierda, por lo que no podemos asumir que si los recorremos (por ejemplo con un for) nos dará el mismo orden con que pusimos los elementos. Siempre se tiene que tratar de acceder por las llaves si buscamos un elemento especifico.\n",
    "\n",
    "De igual forma podemos recorrer un diccionario con un for de la siguiente manera, lo que nos asegura pasar por todos sus elementos, pero **NO EN EL MISMO ORDEN SIEMPRE**."
   ]
  },
  {
   "cell_type": "code",
   "execution_count": 97,
   "metadata": {},
   "outputs": [
    {
     "name": "stdout",
     "output_type": "stream",
     "text": [
      "Iteracion sin especificar itera sobre llaves: \n",
      "1 a\n",
      "2 b\n",
      "3 c\n",
      "4 d\n",
      "----------\n",
      "Iteracion sobre items: \n",
      "1 a\n",
      "2 b\n",
      "3 c\n",
      "4 d\n",
      "----------\n",
      "Iteracion sobre llaves: \n",
      "1\n",
      "2\n",
      "3\n",
      "4\n",
      "----------\n",
      "Iteracion sobre valores: \n",
      "a\n",
      "b\n",
      "c\n",
      "d\n"
     ]
    }
   ],
   "source": [
    "d = {1: \"a\", 2:\"b\", 3:\"c\", 4:\"d\"}\n",
    "print(\"Iteracion sin especificar itera sobre llaves: \")\n",
    "for i in d: # i recorre los indices\n",
    "    key = i\n",
    "    value = d[key]\n",
    "    print(key, value)\n",
    "print(\"-\" * 10)\n",
    "print(\"Iteracion sobre items: \")\n",
    "# Tambien podemos directamente iterar sobre ambos usando diccionario.items().\n",
    "for key, value in d.items():\n",
    "    print(key, value)\n",
    "    \n",
    "print(\"-\" * 10)\n",
    "print(\"Iteracion sobre llaves: \")\n",
    "# Si queremos explicitamente iterar sobre las llaves hacemos\n",
    "for key in d.keys():\n",
    "    print(key)\n",
    "    \n",
    "print(\"-\" * 10)\n",
    "print(\"Iteracion sobre valores: \")\n",
    "# Si queremos iterar sobre los valores hacemos\n",
    "for value in d.values():\n",
    "    print(value)"
   ]
  },
  {
   "cell_type": "markdown",
   "metadata": {},
   "source": [
    "Perfecto! Recapitulando, ya sabes\n",
    "1. Definir un diccionario (Vacio o con elementos iniciales)\n",
    "3. Acceder a sus elementos por llaves\n",
    "4. Actualizar los valores de sus elementos\n",
    "5. Agregar elementos nuevos (items)\n",
    "6. Eliminar elementos\n",
    "7. Iterar sobre el diccionario (Por llave, valores o ambos)\n",
    "Ya eres un experto en diccionarios!.<br>\n",
    "\n",
    "Veamos ahora como algunas funciones de python también funcionan en diccionarios."
   ]
  },
  {
   "cell_type": "markdown",
   "metadata": {},
   "source": [
    "### Built-in Functions"
   ]
  },
  {
   "cell_type": "markdown",
   "metadata": {},
   "source": [
    "The `len()` function and `in` operator have the obvious meaning:\n",
    "La función `len()` sigue dando la cantidad de elementos del diccionario. <br>\n",
    "La función `in` chequea si es que la **llave** está en el diccionario **NO un valor**"
   ]
  },
  {
   "cell_type": "code",
   "execution_count": 98,
   "metadata": {},
   "outputs": [
    {
     "name": "stdout",
     "output_type": "stream",
     "text": [
      "La cantidad de elementos en d es: 4\n",
      "La llave 1 está en el diccionario: True\n",
      "La llave 0 está en el diccionario: False\n",
      "d\n"
     ]
    }
   ],
   "source": [
    "d = {1: \"a\", 2:\"b\", 3:\"c\", 4:\"d\"}\n",
    "print(\"La cantidad de elementos en d es:\", len(d))\n",
    "\n",
    "print(\"La llave 1 está en el diccionario:\", 1 in d)\n",
    "print(\"La llave 0 está en el diccionario:\", 0 in d)\n",
    "\n",
    "if 4 in d: # Podemos usar el in para condicionales, whiles o lo que queramos igual que con las listas\n",
    "    print(d[4])"
   ]
  },
  {
   "cell_type": "markdown",
   "metadata": {},
   "source": [
    "El método `clear()` borra todos los datos del diccionario"
   ]
  },
  {
   "cell_type": "code",
   "execution_count": 99,
   "metadata": {},
   "outputs": [
    {
     "name": "stdout",
     "output_type": "stream",
     "text": [
      "{}\n"
     ]
    }
   ],
   "source": [
    "d.clear()\n",
    "print(d)"
   ]
  },
  {
   "cell_type": "markdown",
   "metadata": {},
   "source": [
    "`diccionario.pop(key)` remueve el elemento con la llave dada y retorna el valor de dicho elemento, veamos un ejemplo."
   ]
  },
  {
   "cell_type": "code",
   "execution_count": 100,
   "metadata": {},
   "outputs": [
    {
     "name": "stdout",
     "output_type": "stream",
     "text": [
      "{'b': 2, 'c': 3, 'd': 4}\n",
      "Removed 1\n"
     ]
    }
   ],
   "source": [
    "d = {\"a\": 1, \"b\":2, \"c\":3, \"d\":4}\n",
    "val = d.pop(\"a\")\n",
    "print(d)\n",
    "print(\"Removed\",val)"
   ]
  },
  {
   "cell_type": "markdown",
   "metadata": {},
   "source": [
    "Notese que solo se devuelve el valor del elemento y no su llave, asi que la variable `val` solo toma el valor de 1, cuya llave era `\"a\"`"
   ]
  },
  {
   "cell_type": "markdown",
   "metadata": {
    "collapsed": true
   },
   "source": [
    "# Porque queremos usar diccionarios?\n",
    "\n",
    "Los diccionarios tienen la ventaja de que podemos darles llaves que sean fáciles de leer, y nos hacen más facil leer y acceder a la información. Además tienen la gracia de que se demoran un tiempo constante en encontrar un dato en el, por lo que si tenemos miles de datos se demorará lo mismo en encontrarlo que si tuvieramos solo unos pocos, a diferencia de las listas. Veamos cuanto nos demoramos buscando en 100000 valores."
   ]
  },
  {
   "cell_type": "code",
   "execution_count": 101,
   "metadata": {},
   "outputs": [
    {
     "name": "stdout",
     "output_type": "stream",
     "text": [
      "List lookup time: 1.746600 ms\n",
      "Set lookup time:  0.075400 ms\n"
     ]
    },
    {
     "name": "stderr",
     "output_type": "stream",
     "text": [
      "c:\\users\\domingo\\appdata\\local\\programs\\python\\python37\\lib\\site-packages\\ipykernel_launcher.py:4: DeprecationWarning: time.clock has been deprecated in Python 3.3 and will be removed from Python 3.8: use time.perf_counter or time.process_time instead\n",
      "  after removing the cwd from sys.path.\n",
      "c:\\users\\domingo\\appdata\\local\\programs\\python\\python37\\lib\\site-packages\\ipykernel_launcher.py:6: DeprecationWarning: time.clock has been deprecated in Python 3.3 and will be removed from Python 3.8: use time.perf_counter or time.process_time instead\n",
      "  \n",
      "c:\\users\\domingo\\appdata\\local\\programs\\python\\python37\\lib\\site-packages\\ipykernel_launcher.py:7: DeprecationWarning: time.clock has been deprecated in Python 3.3 and will be removed from Python 3.8: use time.perf_counter or time.process_time instead\n",
      "  import sys\n",
      "c:\\users\\domingo\\appdata\\local\\programs\\python\\python37\\lib\\site-packages\\ipykernel_launcher.py:9: DeprecationWarning: time.clock has been deprecated in Python 3.3 and will be removed from Python 3.8: use time.perf_counter or time.process_time instead\n",
      "  if __name__ == '__main__':\n"
     ]
    }
   ],
   "source": [
    "import time\n",
    "bigList = [i for i in range(0,100000)]\n",
    "bigSet = set(bigList)\n",
    "start = time.clock()  # how long to find the last number out of 10,000 items?\n",
    "99999 in bigList\n",
    "print(\"List lookup time: %.6f ms\" % (1000*(time.clock()-start)))\n",
    "start = time.clock()\n",
    "99999 in bigSet\n",
    "print(\"Set lookup time:  %.6f ms\" % (1000*(time.clock()-start)))"
   ]
  },
  {
   "cell_type": "markdown",
   "metadata": {},
   "source": [
    "Como se puede ver en el diccionario nos demoramos mucho menos tiempo que en la lista. Lo que podría afectar en programas con muchos datos."
   ]
  },
  {
   "cell_type": "markdown",
   "metadata": {},
   "source": [
    "Veamos además un ejemplo en que los datos se volverían engorrosos usando listas, pero usando diccionarios entendemos y accedemos mejor a ellos"
   ]
  },
  {
   "cell_type": "code",
   "execution_count": 102,
   "metadata": {},
   "outputs": [
    {
     "name": "stdout",
     "output_type": "stream",
     "text": [
      "Cañon de Agua\n"
     ]
    }
   ],
   "source": [
    "# Ordenamos los pokemones por [id, [nombre, vida, daño, defensa, [ataques]]]\n",
    "pokemones = [[1, [\"Charmander\", 100, 50, 30, [\"Llamarada\", \"Quemar\"]]],\n",
    "             [2, [\"Squirtle\", 70, 40, 20, [\"Cañon de Agua\", \"Burbujas\"]]]]\n",
    "# Para imprimir un ataque tendríamos que saber los ordenes de la lista, donde está cada pokemon y ir metiendonos con indices :(.\n",
    "ataque_squirtle = pokemones[1][1][4][0] # Dificil no?\n",
    "print(ataque_squirtle)"
   ]
  },
  {
   "cell_type": "code",
   "execution_count": 103,
   "metadata": {},
   "outputs": [
    {
     "name": "stdout",
     "output_type": "stream",
     "text": [
      "Squirtle\n",
      "70\n",
      "40\n",
      "20\n",
      "['Cañon de Agua', 'Burbujas']\n",
      "Cañon de Agua\n",
      "------------------------------\n",
      "Llamarada\n"
     ]
    }
   ],
   "source": [
    "# Veamos como ordenamos estos datos usando diccionrios anidados, notar que tenemos el diccionario principal\n",
    "# el cual tiene indices \"id\" valores un diccionario con los datos del pokemon \n",
    "# Ponemos espacion y identaciones solo para una lectura mas facil\n",
    "pokemones = {\n",
    "    \"1\": {\"nombre\": \"Charmander\",\n",
    "        \"vida\": 100,\n",
    "        \"daño\": 50,\n",
    "        \"defensa\": 30,\n",
    "        \"ataques\": [\"Llamarada\", \"Quemar\"]\n",
    "    },\n",
    "    \"2\": {\"nombre\": \"Squirtle\",\n",
    "        \"vida\": 70,\n",
    "        \"daño\": 40,\n",
    "        \"defensa\": 20,\n",
    "        \"ataques\": [\"Cañon de Agua\", \"Burbujas\"]\n",
    "    }\n",
    "}\n",
    "\n",
    "# Para acceder a los datos del pokemon con id = 2 usamos indices por llave\n",
    "squirtle = pokemones[\"2\"] # Sabemos que el pokemon con id = \"2\" es squirtle\n",
    "# Vemos el nombre\n",
    "print(squirtle[\"nombre\"])\n",
    "print(squirtle[\"vida\"])\n",
    "print(squirtle[\"daño\"])\n",
    "print(squirtle[\"defensa\"])\n",
    "print(squirtle[\"ataques\"])\n",
    "print(squirtle[\"ataques\"][0]) # el valor de ataques es una lista con los ataques asi que accedemos por indices numéricos\n",
    "\n",
    "print(\"-\" * 30)\n",
    "# Podemos hacer todos los indices de una vez para charmander e imprimir su primer ataque\n",
    "print(pokemones[\"1\"][\"ataques\"][0])"
   ]
  },
  {
   "cell_type": "markdown",
   "metadata": {},
   "source": [
    "Para terminar con diccionarios supongamos que a nuestro diccionario de pokemones le queremos añadir pokemones nuevos. Veamos como lo haríamos"
   ]
  },
  {
   "cell_type": "code",
   "execution_count": 104,
   "metadata": {},
   "outputs": [
    {
     "name": "stdout",
     "output_type": "stream",
     "text": [
      "{'1': {'ataques': ['Llamarada', 'Quemar'],\n",
      "       'daño': 50,\n",
      "       'defensa': 30,\n",
      "       'nombre': 'Charmander',\n",
      "       'vida': 100},\n",
      " '2': {'ataques': ['Cañon de Agua', 'Burbujas'],\n",
      "       'daño': 40,\n",
      "       'defensa': 20,\n",
      "       'nombre': 'Squirtle',\n",
      "       'vida': 70},\n",
      " '3': {'ataques': ['Brote', 'Semilla'],\n",
      "       'daño': 50,\n",
      "       'defensa': 30,\n",
      "       'nombre': 'Bulbasur',\n",
      "       'vida': 80}}\n"
     ]
    }
   ],
   "source": [
    "from pprint import pprint # Esto es para que se impriman mas bonitos los diccionarios\n",
    "pokemones[\"3\"] = {\"nombre\": \"Bulbasur\",\n",
    "                  \"vida\": 80,\n",
    "                  \"daño\": 50,\n",
    "                  \"defensa\": 30,\n",
    "                  \"ataques\": [\"Brote\", \"Semilla\"]\n",
    "}\n",
    "pprint(pokemones)"
   ]
  },
  {
   "cell_type": "markdown",
   "metadata": {},
   "source": [
    "Como pueden ver hay que escribir harto para añadir un solo pokemon, por lo que podemos definir una función que nos inserte un pokemon al diccionario."
   ]
  },
  {
   "cell_type": "code",
   "execution_count": 105,
   "metadata": {},
   "outputs": [],
   "source": [
    "def meter_pokemon(diccionario, _id, nombre, vida, daño, defensa, ataques):\n",
    "    pokemones[_id] = {\"nombre\": nombre,\n",
    "                  \"vida\": vida,\n",
    "                  \"daño\": daño,\n",
    "                  \"defensa\": defensa,\n",
    "                  \"ataques\": ataques\n",
    "                }\n",
    "    return pokemones\n",
    "\n",
    "pokemones = meter_pokemon(pokemones, \"200\", \"Lucario\", 1000, 500, 400, [\"Bola de energía\"])"
   ]
  },
  {
   "cell_type": "code",
   "execution_count": 106,
   "metadata": {
    "scrolled": true
   },
   "outputs": [
    {
     "name": "stdout",
     "output_type": "stream",
     "text": [
      "{'1': {'ataques': ['Llamarada', 'Quemar'],\n",
      "       'daño': 50,\n",
      "       'defensa': 30,\n",
      "       'nombre': 'Charmander',\n",
      "       'vida': 100},\n",
      " '2': {'ataques': ['Cañon de Agua', 'Burbujas'],\n",
      "       'daño': 40,\n",
      "       'defensa': 20,\n",
      "       'nombre': 'Squirtle',\n",
      "       'vida': 70},\n",
      " '200': {'ataques': ['Bola de energía'],\n",
      "         'daño': 500,\n",
      "         'defensa': 400,\n",
      "         'nombre': 'Lucario',\n",
      "         'vida': 1000},\n",
      " '3': {'ataques': ['Brote', 'Semilla'],\n",
      "       'daño': 50,\n",
      "       'defensa': 30,\n",
      "       'nombre': 'Bulbasur',\n",
      "       'vida': 80}}\n"
     ]
    }
   ],
   "source": [
    "pprint(pokemones)\n",
    "# Notese que los diccionarios no se imprimieron en orden, pues como dijimos los diccionarios \n",
    "# a diferencia de las listas no son ordenados"
   ]
  },
  {
   "cell_type": "markdown",
   "metadata": {},
   "source": [
    "Y eso es todo!, si quieres saber más del uso de diccionarios para guardar informacion (Así como lo hicmos para los pokemones) puedes leer el siguiente articulo de wikipedia https://es.wikipedia.org/wiki/JSON el cual explica el formato JSON, que se usa para enviar diccionarios con información a través de internet, en bases de datos u otras aplicaciones."
   ]
  }
 ],
 "metadata": {
  "celltoolbar": "Raw Cell Format",
  "kernelspec": {
   "display_name": "Python 3",
   "language": "python",
   "name": "python3"
  },
  "language_info": {
   "codemirror_mode": {
    "name": "ipython",
    "version": 3
   },
   "file_extension": ".py",
   "mimetype": "text/x-python",
   "name": "python",
   "nbconvert_exporter": "python",
   "pygments_lexer": "ipython3",
   "version": "3.7.8"
  }
 },
 "nbformat": 4,
 "nbformat_minor": 1
}
