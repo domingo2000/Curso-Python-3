{
 "cells": [
  {
   "cell_type": "markdown",
   "metadata": {},
   "source": [
    "# Funciones"
   ]
  },
  {
   "cell_type": "markdown",
   "metadata": {},
   "source": [
    "Las funciones son un mecanismo para reusar código, nos ayudan a descomponer el código en partes mas pequeñas y simples. Las funciones pueden representar, una función tanto matemática, asi como cualquier otro tipo de algoritmo que se quiera realizar.\n",
    "\n",
    "**Important:** *Starting to write a python program by just writing a few lines of code and testing as you go is great -- but a common beginner mistake is to keep doing this. You do not want to have a program that consists of 20,000 lines in one long file/notebook. Think of functions like paragraphs in writing English. Whenever you start a new idea, start a new function. This makes your code much more readable, easier to debug and ultimately to re-use parts of the code in ways that may not have been anticipated when initially writing the code.*\n",
    "\n",
    "**Importante:** *Escribir un programa en python simplemente usando unas pocas lineas de código está bien, pero los principiantes en programación suelen cometer el error de seguir haciendo esto hasta tener programas largos de miles de lineas repitiendo una y otra vez los mismos códigos. Piensa en las funciones como párrafos de un lenguaje, cada vez que tengas una idea nueva entonces esta debería estar encapsulada en una función, esto hace que tu código sea más facil de leer, debuguear, y permite reusar el código en el futuro*"
   ]
  },
  {
   "cell_type": "markdown",
   "metadata": {},
   "source": [
    "La sintáxis básica de una función en python es la siguiente:\n",
    "\n",
    "```python\n",
    "def funcion(arg1, arg2,... argN):\n",
    "    ''' Document String''' # Aquí deberías explicar que es lo que hace tu función.\n",
    "    statements\n",
    "    return value```"
   ]
  },
  {
   "cell_type": "markdown",
   "metadata": {},
   "source": [
    "Vamos descomponiendo que es lo que hace cada parte:\n",
    "1. `def funcion` es para decir que vas a escribir una función llamada `funcion`\n",
    "2. `''' Document String'''` es un gran comentario que sirve para explicar tu función, no es obligatorio pero es áltamente recomendable para mejorar la legibilidad del código.\n",
    "3. `(arg1, arg, ....N)` son los parametros que usarás para tu función (Puedes no pasarle ningún parámetro)\n",
    "4. `statements` son las lineas de código que correran dentro de tu función.\n",
    "5. `return` devuelve el valor para ser usado despues, por default si no retornas nada la función retorna `None` que es un tipo de dato que significa *Nada*\n",
    "\n",
    "**OJO \\:** `Return` No es lo mismo que `print`, `print` sirve para mostrar algo en la consola (salida del programa), mientras que `return` es para devolver un valor y poder usarlo, si tienes cualquier duda, hay unos ejemplos a continuación que lo lo clarifican. "
   ]
  },
  {
   "cell_type": "markdown",
   "metadata": {},
   "source": [
    "#### Ejemplo 1: Saludando a los usuarios\n",
    "Imaginemos que queremos saludar a muchas personas, en este caso hay 4 personas pero podrían ser cientos de personas, para saludarlas a todas como lo hacíamos antes haríamos lo siguiente:"
   ]
  },
  {
   "cell_type": "code",
   "execution_count": 3,
   "metadata": {},
   "outputs": [
    {
     "name": "stdout",
     "output_type": "stream",
     "text": [
      "Hola Fransico!\n",
      "¿Francisco, como estás?\n",
      "Hola Jorge!\n",
      "¿Jorge, como estás?\n",
      "Hola Domingo!\n",
      "¿Domingo, como estás?\n",
      "Hola Felipe!\n",
      "¿Felipe, como estás?\n"
     ]
    }
   ],
   "source": [
    "print(\"Hola Fransico!\")\n",
    "print(\"¿Francisco, como estás?\")\n",
    "print(\"Hola Jorge!\")\n",
    "print(\"¿Jorge, como estás?\")\n",
    "print(\"Hola Domingo!\")\n",
    "print(\"¿Domingo, como estás?\")\n",
    "print(\"Hola Felipe!\")\n",
    "print(\"¿Felipe, como estás?\")"
   ]
  },
  {
   "cell_type": "markdown",
   "metadata": {},
   "source": [
    "Como pueden ver estamos repitiendo el mismo código una y otra vez. En vez de hacer eso lo que haremos es **encapsular** (Juntar todo) el código en una función, la cual se encargará de saludar a una persona.<br>\n",
    "A continuación se muestra la definición de la función `saludar`"
   ]
  },
  {
   "cell_type": "code",
   "execution_count": 10,
   "metadata": {},
   "outputs": [],
   "source": [
    "def saludar(nombre):\n",
    "    print(\"Hola \" +  nombre + \"!\")\n",
    "    print(\"¿\" + nombre + \" como estás?\")"
   ]
  },
  {
   "cell_type": "markdown",
   "metadata": {},
   "source": [
    "Para usar la función `saludar` que definimos debemos `llamarla`, para llamar la función hacemos lo siguiente:"
   ]
  },
  {
   "cell_type": "code",
   "execution_count": 12,
   "metadata": {},
   "outputs": [
    {
     "name": "stdout",
     "output_type": "stream",
     "text": [
      "Hola Fransico!\n",
      "¿Fransico como estás?\n",
      "Hola Jorge!\n",
      "¿Jorge como estás?\n",
      "Hola Domingo!\n",
      "¿Domingo como estás?\n",
      "Hola Felipe!\n",
      "¿Felipe como estás?\n"
     ]
    }
   ],
   "source": [
    "saludar(\"Fransico\")\n",
    "saludar(\"Jorge\")\n",
    "saludar(\"Domingo\")\n",
    "saludar(\"Felipe\")"
   ]
  },
  {
   "cell_type": "code",
   "execution_count": 16,
   "metadata": {},
   "outputs": [
    {
     "name": "stdout",
     "output_type": "stream",
     "text": [
      "Ingresa tu nombre: 50\n",
      "Hola 50!\n",
      "¿50 como estás?\n"
     ]
    }
   ],
   "source": [
    "# Tambien podemos pedir una entrada de usuario para que nuestro programa lo salude reusando la funcion\n",
    "nombre = input(\"Ingresa tu nombre: \")\n",
    "saludar(nombre)"
   ]
  },
  {
   "cell_type": "markdown",
   "metadata": {},
   "source": [
    "## La sentencia `return`"
   ]
  },
  {
   "cell_type": "markdown",
   "metadata": {},
   "source": [
    "Cuando la funcion debe devolver algún valor que tiene alguna variable para luego seguir usando dicho valor en el resto del programa entonces usamos la sentencia `return`"
   ]
  },
  {
   "cell_type": "markdown",
   "metadata": {},
   "source": [
    "#### Ejemplo 2: Cálculo de una multiplicación"
   ]
  },
  {
   "cell_type": "markdown",
   "metadata": {},
   "source": [
    "La función `mult` definida toma como parámetros (o argumentos) dos valores `x` y `y`, y devuelte el valor `z` el cual es el producto entre `x` e `y`."
   ]
  },
  {
   "cell_type": "code",
   "execution_count": 27,
   "metadata": {},
   "outputs": [],
   "source": [
    "def mult(x,y):\n",
    "    \"\"\" Esta función toma dos valores y entrega la multiplicación \"\"\"\n",
    "    z = x * y\n",
    "    return z\n",
    "    z = 17 # notese que no se corre nada luego de que se retorna el valor, pues ya \"terminó la función\""
   ]
  },
  {
   "cell_type": "code",
   "execution_count": 28,
   "metadata": {},
   "outputs": [
    {
     "name": "stdout",
     "output_type": "stream",
     "text": [
      "20\n"
     ]
    }
   ],
   "source": [
    "c = mult(4,5) # Asignamos el valor retornado a la variable c\n",
    "print(c) # Imprimimos dicho valor"
   ]
  },
  {
   "cell_type": "markdown",
   "metadata": {},
   "source": [
    "Si es que solamente llamamos a la función esta no imprime el resultado, pues `return` no imprime, solo devuelve un objeto, no es lo mismo tener una foto de una persona que tener a una persona, una foto nos hace ver a la persona, pero no puede hablar saltar ni nada de lo que hace una persona, de la misma manera, no es lo mismo tener el valor impreso en la consola, a tener un valor retornado por `return`, con un numero (o cualquier cosa retornada), podemos seguir operando, podemos sumarlo, multiplicarlo o hacer lo que queramos con el."
   ]
  },
  {
   "cell_type": "code",
   "execution_count": 31,
   "metadata": {},
   "outputs": [
    {
     "name": "stdout",
     "output_type": "stream",
     "text": [
      "Hola\n"
     ]
    }
   ],
   "source": [
    "mult(4,5) # Esto no se imprime\n",
    "print(\"Hola\")"
   ]
  },
  {
   "cell_type": "code",
   "execution_count": 32,
   "metadata": {},
   "outputs": [
    {
     "name": "stdout",
     "output_type": "stream",
     "text": [
      "20\n",
      "Hola\n"
     ]
    }
   ],
   "source": [
    "c = mult(4, 5)\n",
    "print(c)\n",
    "print(\"Hola\")"
   ]
  },
  {
   "cell_type": "markdown",
   "metadata": {},
   "source": [
    "Dato: *Un último detalle es que en Jupyter notebook si llamas sólamente a una función entonces si se muestra el valor en consola, esto es solamente por como funcionan los notebooks, pues estos imprimen el ultimo valor **retornado** en la celda, por lo que si en una celda solamente llamas a la función si se mostrará el valor*"
   ]
  },
  {
   "cell_type": "markdown",
   "metadata": {},
   "source": [
    "Multiple variable can also be returned as a tuple. However this tends not to be very readable when returning many value, and can easily introduce errors when the order of return values is interpreted incorrectly.\n",
    "Podemos retornar multiples valores en una función, pero esto se vuelve dificil de leer si es que empiezas a retornar demasiadas cosas en una sola función, para devolver varios valores se hace lo siguiente."
   ]
  },
  {
   "cell_type": "code",
   "execution_count": 53,
   "metadata": {},
   "outputs": [],
   "source": [
    "def partes_division(dividendo, divisor):\n",
    "    resultado = dividendo / divisor\n",
    "    resto = dividendo % divisor\n",
    "    return resultado, resto"
   ]
  },
  {
   "cell_type": "code",
   "execution_count": 54,
   "metadata": {},
   "outputs": [
    {
     "name": "stdout",
     "output_type": "stream",
     "text": [
      "2.857142857142857 6\n",
      "1.5 1\n"
     ]
    }
   ],
   "source": [
    "resultado, resto = partes_division(20, 7)\n",
    "a, b = partes_division(3, 2)\n",
    "print(resultado, resto)\n",
    "print(a, b)"
   ]
  },
  {
   "cell_type": "markdown",
   "metadata": {},
   "source": [
    "Dato: *Cuando devuelves varios valores estos se devuelven como una* ***tupla*** *, la cual es una estructura que estudiaremos más adelante.*"
   ]
  },
  {
   "cell_type": "code",
   "execution_count": 55,
   "metadata": {},
   "outputs": [
    {
     "name": "stdout",
     "output_type": "stream",
     "text": [
      "(3.0, 0)\n"
     ]
    }
   ],
   "source": [
    "a = partes_division(3, 1)\n",
    "print(a) # (1.5, 3) es una tupla"
   ]
  },
  {
   "cell_type": "markdown",
   "metadata": {},
   "source": [
    "## Parámetros por *default*"
   ]
  },
  {
   "cell_type": "markdown",
   "metadata": {},
   "source": [
    "When an argument of a function is common in majority of the cases this can be specified with a default value. This is also called an implicit argument.\n",
    "Cuando un parámetro de una función es casi siempre el mismo, pero queremos que igual se pueda cambiar usamos lo que se llama un parámetro por **default**, a continuación se muestra una función saludar que siempre saluda en español a menos que se le pase otro idioma"
   ]
  },
  {
   "cell_type": "code",
   "execution_count": 69,
   "metadata": {},
   "outputs": [],
   "source": [
    "def saludar(nombre, idioma=\"español\"):\n",
    "    if idioma == \"español\":\n",
    "        print(\"Hola \" +  nombre + \"!\")\n",
    "        print(\"¿\" + nombre + \" como estás?\")\n",
    "    elif idioma == \"ingles\":\n",
    "        print(\"Hello \" +  nombre + \"!\")\n",
    "        print(nombre + \" how are you?\")\n",
    "    elif idioma == \"japones\":\n",
    "        print(\"こにちは\" + nombre + \"さん!\")\n",
    "        print( nombre + \"さん\" + \"お元気ですか？\")"
   ]
  },
  {
   "cell_type": "code",
   "execution_count": 70,
   "metadata": {},
   "outputs": [
    {
     "name": "stdout",
     "output_type": "stream",
     "text": [
      "Hola Fransisco!\n",
      "¿Fransisco como estás?\n",
      "--------------------------\n",
      "Hola Jorge!\n",
      "¿Jorge como estás?\n",
      "--------------------------\n",
      "Hello Felipe!\n",
      "Felipe how are you?\n",
      "--------------------------\n",
      "こにちはDomingoさん!\n",
      "Domingoさんお元気ですか？\n"
     ]
    }
   ],
   "source": [
    "saludar(\"Fransisco\") # Si no le pasamos el idioma entonces saluda en español\n",
    "print(\"--------------------------\")\n",
    "saludar(\"Jorge\", idioma=\"español\")\n",
    "print(\"--------------------------\")\n",
    "saludar(\"Felipe\", idioma=\"ingles\")\n",
    "print(\"--------------------------\")\n",
    "saludar(\"Domingo\", idioma=\"japones\")"
   ]
  },
  {
   "cell_type": "markdown",
   "metadata": {},
   "source": [
    "Los parametros(argumentos) pueden ser **positional arguments**, que se refiere a que se llaman por el orden en que aparecen en la función, o pueden ser **keyword arguments**, que se llaman por el nombre del parámetro.<br>\n",
    "A continuación se muestran algunos ejemplos"
   ]
  },
  {
   "cell_type": "code",
   "execution_count": 86,
   "metadata": {},
   "outputs": [
    {
     "name": "stdout",
     "output_type": "stream",
     "text": [
      "Hola Jorge!\n",
      "¿Jorge como estás?\n"
     ]
    }
   ],
   "source": [
    "# Solo positional arguments (deben pasarse en el orden correcto)\n",
    "saludar(\"Jorge\", \"español\")"
   ]
  },
  {
   "cell_type": "code",
   "execution_count": 87,
   "metadata": {},
   "outputs": [
    {
     "name": "stdout",
     "output_type": "stream",
     "text": [
      "Hola Jorge!\n",
      "¿Jorge como estás?\n",
      "Hola Jorge!\n",
      "¿Jorge como estás?\n"
     ]
    }
   ],
   "source": [
    "# Solo keyword arguments\n",
    "saludar(nombre=\"Jorge\", idioma=\"español\")\n",
    "saludar(idioma=\"español\", nombre=\"Jorge\")"
   ]
  },
  {
   "cell_type": "code",
   "execution_count": 88,
   "metadata": {},
   "outputs": [
    {
     "name": "stdout",
     "output_type": "stream",
     "text": [
      "Hola Jorge!\n",
      "¿Jorge como estás?\n"
     ]
    }
   ],
   "source": [
    "# Positional y keyword arguments\n",
    "saludar(\"Jorge\", idioma=\"español\")"
   ]
  },
  {
   "cell_type": "code",
   "execution_count": 89,
   "metadata": {},
   "outputs": [
    {
     "ename": "SyntaxError",
     "evalue": "positional argument follows keyword argument (<ipython-input-89-e4a628b82c99>, line 3)",
     "output_type": "error",
     "traceback": [
      "\u001b[1;36m  File \u001b[1;32m\"<ipython-input-89-e4a628b82c99>\"\u001b[1;36m, line \u001b[1;32m3\u001b[0m\n\u001b[1;33m    saludar(idioma=\"español\", \"Jorge\")\u001b[0m\n\u001b[1;37m                              ^\u001b[0m\n\u001b[1;31mSyntaxError\u001b[0m\u001b[1;31m:\u001b[0m positional argument follows keyword argument\n"
     ]
    }
   ],
   "source": [
    "# No podemos pasar keyword arguments y despues pasar positional arguments pues eso resulta en un error pues\n",
    "# python no sabe en que orden poner los parámetros en la función.\n",
    "saludar(idioma=\"español\", \"Jorge\")"
   ]
  },
  {
   "cell_type": "markdown",
   "metadata": {},
   "source": [
    "However we can call the same function with two or three arguments. A useful feature is to explicitly name the argument values being passed into the function. This gives great flexibility in how to call a function with optional arguments. All off the following are valid:"
   ]
  },
  {
   "cell_type": "code",
   "execution_count": 17,
   "metadata": {},
   "outputs": [
    {
     "name": "stdout",
     "output_type": "stream",
     "text": [
      "4 + 4 + 0 = 8\n",
      "4 + 5 + 6 = 15\n",
      "4 + 3 + 7 = 14\n",
      "2 + 1 + 9 = 12\n",
      "1 + 3 + 0 = 4\n"
     ]
    },
    {
     "data": {
      "text/plain": [
       "4"
      ]
     },
     "execution_count": 17,
     "metadata": {},
     "output_type": "execute_result"
    }
   ],
   "source": [
    "implicitadd(4,4)\n",
    "implicitadd(4,5,6)\n",
    "implicitadd(4,z=7)\n",
    "implicitadd(2,y=1,z=9)\n",
    "implicitadd(x=1)"
   ]
  },
  {
   "cell_type": "markdown",
   "metadata": {},
   "source": [
    "## Any number of arguments"
   ]
  },
  {
   "cell_type": "markdown",
   "metadata": {},
   "source": [
    "If the number of arguments that is to be accepted by a function is not known then a asterisk symbol is used before the name of the argument to hold the remainder of the arguments. The following function requires at least one argument but can have many more."
   ]
  },
  {
   "cell_type": "code",
   "execution_count": 18,
   "metadata": {},
   "outputs": [],
   "source": [
    "def add_n(first,*args):\n",
    "    \"return the sum of one or more numbers\"\n",
    "    reslist = [first] + [value for value in args]\n",
    "    print(reslist)\n",
    "    return sum(reslist)"
   ]
  },
  {
   "cell_type": "markdown",
   "metadata": {},
   "source": [
    "The above function defines a list of all of the arguments, prints the list and returns the sum of all of the arguments."
   ]
  },
  {
   "cell_type": "code",
   "execution_count": 19,
   "metadata": {},
   "outputs": [
    {
     "name": "stdout",
     "output_type": "stream",
     "text": [
      "[1, 2, 3, 4, 5]\n"
     ]
    },
    {
     "data": {
      "text/plain": [
       "15"
      ]
     },
     "execution_count": 19,
     "metadata": {},
     "output_type": "execute_result"
    }
   ],
   "source": [
    "add_n(1,2,3,4,5)"
   ]
  },
  {
   "cell_type": "code",
   "execution_count": 20,
   "metadata": {},
   "outputs": [
    {
     "name": "stdout",
     "output_type": "stream",
     "text": [
      "[6.5]\n"
     ]
    },
    {
     "data": {
      "text/plain": [
       "6.5"
      ]
     },
     "execution_count": 20,
     "metadata": {},
     "output_type": "execute_result"
    }
   ],
   "source": [
    "add_n(6.5)"
   ]
  },
  {
   "cell_type": "markdown",
   "metadata": {},
   "source": [
    "Arbitrary numbers of named arguments can also be accepted using `**`. When the function is called all of the additional named arguments are provided in a dictionary "
   ]
  },
  {
   "cell_type": "code",
   "execution_count": 21,
   "metadata": {},
   "outputs": [
    {
     "name": "stdout",
     "output_type": "stream",
     "text": [
      "x=12  animal=mouse  z=(1+2j)\n"
     ]
    }
   ],
   "source": [
    "def namedArgs(**names):\n",
    "    'print the named arguments'\n",
    "    # names is a dictionary of keyword : value\n",
    "    print(\"  \".join(name+\"=\"+str(value) \n",
    "                    for name,value in names.items()))\n",
    "\n",
    "namedArgs(x=3*4,animal='mouse',z=(1+2j))"
   ]
  },
  {
   "cell_type": "markdown",
   "metadata": {},
   "source": [
    "##  Global and Local Variables"
   ]
  },
  {
   "cell_type": "markdown",
   "metadata": {},
   "source": [
    "Whatever variable is declared inside a function is local variable and outside the function in global variable."
   ]
  },
  {
   "cell_type": "code",
   "execution_count": 22,
   "metadata": {},
   "outputs": [],
   "source": [
    "eg1 = [1,2,3,4,5]\n"
   ]
  },
  {
   "cell_type": "markdown",
   "metadata": {},
   "source": [
    "In the below function we are appending a element to the declared list inside the function. eg2 variable declared inside the function is a local variable."
   ]
  },
  {
   "cell_type": "code",
   "execution_count": 23,
   "metadata": {},
   "outputs": [],
   "source": [
    "def egfunc1():\n",
    "    x=1\n",
    "    def thirdfunc():\n",
    "        x=2\n",
    "        print(\"Inside thirdfunc x =\", x) \n",
    "    thirdfunc()\n",
    "    print(\"Outside x =\", x)"
   ]
  },
  {
   "cell_type": "code",
   "execution_count": 24,
   "metadata": {},
   "outputs": [
    {
     "name": "stdout",
     "output_type": "stream",
     "text": [
      "Inside thirdfunc x = 2\n",
      "Outside x = 1\n",
      "Global x = 12\n"
     ]
    }
   ],
   "source": [
    "x=12\n",
    "egfunc1()\n",
    "print(\"Global x =\",x)"
   ]
  },
  {
   "cell_type": "markdown",
   "metadata": {},
   "source": [
    "If a `global` variable is defined as shown in the example below then that variable can be called from anywhere. Global values should be used sparingly as they make functions harder to re-use."
   ]
  },
  {
   "cell_type": "code",
   "execution_count": 25,
   "metadata": {},
   "outputs": [],
   "source": [
    "eg3 = [1,2,3,4,5]"
   ]
  },
  {
   "cell_type": "code",
   "execution_count": 26,
   "metadata": {},
   "outputs": [],
   "source": [
    "def egfunc1():\n",
    "    x = 1.0 # local variable for egfunc1\n",
    "    def thirdfunc():\n",
    "        global x # globally defined variable \n",
    "        x = 2.0\n",
    "        print(\"Inside thirdfunc x =\", x) \n",
    "    thirdfunc()\n",
    "    print(\"Outside x =\", x)"
   ]
  },
  {
   "cell_type": "code",
   "execution_count": 27,
   "metadata": {},
   "outputs": [
    {
     "name": "stdout",
     "output_type": "stream",
     "text": [
      "Inside thirdfunc x = 2.0\n",
      "Outside x = 1.0\n",
      "Globally defined x = 2.0\n"
     ]
    }
   ],
   "source": [
    "egfunc1()\n",
    "print(\"Globally defined x =\",x)"
   ]
  },
  {
   "cell_type": "markdown",
   "metadata": {},
   "source": [
    "## Lambda Functions"
   ]
  },
  {
   "cell_type": "markdown",
   "metadata": {},
   "source": [
    "These are small functions which are not defined with any name and carry a single expression whose result is returned. Lambda functions comes very handy when operating with lists. These function are defined by the keyword `lambda` followed by the variables, a colon and the expression."
   ]
  },
  {
   "cell_type": "code",
   "execution_count": 28,
   "metadata": {},
   "outputs": [],
   "source": [
    "z = lambda x: x * x"
   ]
  },
  {
   "cell_type": "code",
   "execution_count": 29,
   "metadata": {},
   "outputs": [
    {
     "data": {
      "text/plain": [
       "64"
      ]
     },
     "execution_count": 29,
     "metadata": {},
     "output_type": "execute_result"
    }
   ],
   "source": [
    "z(8)"
   ]
  },
  {
   "cell_type": "markdown",
   "metadata": {},
   "source": [
    "### Composing functions"
   ]
  },
  {
   "cell_type": "markdown",
   "metadata": {},
   "source": [
    "Lambda functions can also be used to compose functions"
   ]
  },
  {
   "cell_type": "code",
   "execution_count": 30,
   "metadata": {},
   "outputs": [
    {
     "name": "stdout",
     "output_type": "stream",
     "text": [
      "doublesquare is a <class 'function'>\n"
     ]
    },
    {
     "data": {
      "text/plain": [
       "18"
      ]
     },
     "execution_count": 30,
     "metadata": {},
     "output_type": "execute_result"
    }
   ],
   "source": [
    "def double(x):\n",
    "    return 2*x\n",
    "def square(x):\n",
    "    return x*x\n",
    "def f_of_g(f,g):\n",
    "    \"Compose two functions of a single variable\"\n",
    "    return lambda x: f(g(x))\n",
    "doublesquare= f_of_g(double,square)\n",
    "print(\"doublesquare is a\",type(doublesquare))\n",
    "doublesquare(3)"
   ]
  },
  {
   "cell_type": "markdown",
   "metadata": {
    "collapsed": true
   },
   "source": [
    "### Functions are objects\n",
    "Functions are a type of \"value\" that can be assigned to variables, stored in lists and so on.\n"
   ]
  },
  {
   "cell_type": "code",
   "execution_count": 31,
   "metadata": {},
   "outputs": [
    {
     "name": "stdout",
     "output_type": "stream",
     "text": [
      "g(3.6) = 31.72\n",
      "evaluating at 2.0 yields: 9.0\n",
      "evaluating at 2.0 yields: 4.0\n",
      "evaluating at 2.0 yields: 4.0\n",
      "evaluating at 2.0 yields: 8.0\n"
     ]
    }
   ],
   "source": [
    "def f(x):\n",
    "    return 2*x**2 +3*x-5\n",
    "g = f\n",
    "print(\"g(3.6) =\",g(3.6) )\n",
    "\n",
    "for func in [f,square, double, doublesquare]:\n",
    "    print(\"evaluating at 2.0 yields:\", func(2.0) )"
   ]
  },
  {
   "cell_type": "code",
   "execution_count": null,
   "metadata": {},
   "outputs": [],
   "source": []
  }
 ],
 "metadata": {
  "kernelspec": {
   "display_name": "Python 3",
   "language": "python",
   "name": "python3"
  },
  "language_info": {
   "codemirror_mode": {
    "name": "ipython",
    "version": 3
   },
   "file_extension": ".py",
   "mimetype": "text/x-python",
   "name": "python",
   "nbconvert_exporter": "python",
   "pygments_lexer": "ipython3",
   "version": "3.7.8"
  }
 },
 "nbformat": 4,
 "nbformat_minor": 1
}
