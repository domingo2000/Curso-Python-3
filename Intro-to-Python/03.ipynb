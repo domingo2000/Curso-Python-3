{
 "cells": [
  {
   "cell_type": "markdown",
   "metadata": {},
   "source": [
    "# Funciones"
   ]
  },
  {
   "cell_type": "markdown",
   "metadata": {},
   "source": [
    "Las funciones son un mecanismo para reusar código, nos ayudan a descomponer el código en partes mas pequeñas y simples. Las funciones pueden representar, una función tanto matemática, asi como cualquier otro tipo de algoritmo que se quiera realizar.\n",
    "\n",
    "**Importante:** *Escribir un programa en python simplemente usando unas pocas lineas de código está bien, pero los principiantes en programación suelen cometer el error de seguir haciendo esto hasta tener programas largos de miles de lineas repitiendo una y otra vez los mismos códigos. Piensa en las funciones como párrafos de un lenguaje, cada vez que tengas una idea nueva entonces esta debería estar encapsulada en una función, esto hace que tu código sea más facil de leer, debuguear, y permite reusar el código en el futuro.*"
   ]
  },
  {
   "cell_type": "markdown",
   "metadata": {},
   "source": [
    "La sintáxis básica de una función en python es la siguiente:\n",
    "\n",
    "```python\n",
    "def funcion(arg1, arg2,... argN):\n",
    "    ''' Document String''' # Aquí deberías explicar que es lo que hace tu función.\n",
    "    statements\n",
    "    return value```"
   ]
  },
  {
   "cell_type": "markdown",
   "metadata": {},
   "source": [
    "Vamos descomponiendo que es lo que hace cada parte:\n",
    "1. `def funcion` es para decir que vas a escribir una función llamada `funcion`\n",
    "2. `''' Document String'''` es un gran comentario que sirve para explicar tu función, no es obligatorio pero es áltamente recomendable para mejorar la legibilidad del código.\n",
    "3. `(arg1, arg, ....N)` son los parametros que usarás para tu función (Puedes no pasarle ningún parámetro si es que no lo necesita)\n",
    "4. `statements` son las lineas de código que correran dentro de tu función.\n",
    "5. `return` devuelve el valor para ser usado despues, por default si no retornas nada la función retorna `None` que es un tipo de dato que significa *Nada*\n",
    "\n",
    "**OJO \\:** `Return` No es lo mismo que `print`, `print` sirve para mostrar algo en la consola (salida del programa), mientras que `return` es para devolver un valor y poder usarlo, si tienes cualquier duda, hay unos ejemplos a continuación que lo clarifican. "
   ]
  },
  {
   "cell_type": "markdown",
   "metadata": {},
   "source": [
    "#### Ejemplo 1: Saludando a los usuarios\n",
    "Imaginemos que queremos saludar a muchas personas, en este caso hay 4 personas pero podrían ser cientos de personas, para saludarlas a todas como lo hacíamos antes haríamos lo siguiente:"
   ]
  },
  {
   "cell_type": "code",
   "execution_count": 1,
   "metadata": {},
   "outputs": [
    {
     "name": "stdout",
     "output_type": "stream",
     "text": [
      "Hola Fransico!\n",
      "¿Francisco, como estás?\n",
      "Hola Jorge!\n",
      "¿Jorge, como estás?\n",
      "Hola Domingo!\n",
      "¿Domingo, como estás?\n",
      "Hola Felipe!\n",
      "¿Felipe, como estás?\n"
     ]
    }
   ],
   "source": [
    "print(\"Hola Fransico!\")\n",
    "print(\"¿Francisco, como estás?\")\n",
    "print(\"Hola Jorge!\")\n",
    "print(\"¿Jorge, como estás?\")\n",
    "print(\"Hola Domingo!\")\n",
    "print(\"¿Domingo, como estás?\")\n",
    "print(\"Hola Felipe!\")\n",
    "print(\"¿Felipe, como estás?\")"
   ]
  },
  {
   "cell_type": "markdown",
   "metadata": {},
   "source": [
    "Como pueden ver estamos repitiendo el mismo código una y otra vez. En vez de hacer eso lo que haremos es **encapsular** (Juntar todo) el código en una función, la cual se encargará de saludar a una persona.<br>\n",
    "A continuación se muestra la definición de la función `saludar`"
   ]
  },
  {
   "cell_type": "code",
   "execution_count": 2,
   "metadata": {},
   "outputs": [],
   "source": [
    "def saludar(nombre):\n",
    "    print(\"Hola \" +  nombre + \"!\")\n",
    "    print(\"¿\" + nombre + \" como estás?\")"
   ]
  },
  {
   "cell_type": "markdown",
   "metadata": {},
   "source": [
    "Para usar la función `saludar` que definimos debemos `llamarla`, para llamar la función hacemos lo siguiente:"
   ]
  },
  {
   "cell_type": "code",
   "execution_count": 3,
   "metadata": {},
   "outputs": [
    {
     "name": "stdout",
     "output_type": "stream",
     "text": [
      "Hola Fransico!\n",
      "¿Fransico como estás?\n",
      "Hola Jorge!\n",
      "¿Jorge como estás?\n",
      "Hola Domingo!\n",
      "¿Domingo como estás?\n",
      "Hola Felipe!\n",
      "¿Felipe como estás?\n"
     ]
    }
   ],
   "source": [
    "saludar(\"Fransico\")\n",
    "saludar(\"Jorge\")\n",
    "saludar(\"Domingo\")\n",
    "saludar(\"Felipe\")"
   ]
  },
  {
   "cell_type": "code",
   "execution_count": 4,
   "metadata": {},
   "outputs": [
    {
     "name": "stdout",
     "output_type": "stream",
     "text": [
      "Ingresa tu nombre: Alexis\n",
      "Hola Alexis!\n",
      "¿Alexis como estás?\n"
     ]
    }
   ],
   "source": [
    "# Tambien podemos pedir una entrada de usuario para que nuestro programa lo salude reusando la funcion\n",
    "nombre = input(\"Ingresa tu nombre: \")\n",
    "saludar(nombre)"
   ]
  },
  {
   "cell_type": "markdown",
   "metadata": {},
   "source": [
    "## La sentencia `return`"
   ]
  },
  {
   "cell_type": "markdown",
   "metadata": {},
   "source": [
    "Cuando la funcion debe devolver algún valor que tiene alguna variable para luego seguir usando dicho valor en el resto del programa entonces usamos la sentencia `return`"
   ]
  },
  {
   "cell_type": "markdown",
   "metadata": {},
   "source": [
    "#### Ejemplo 2: Cálculo de una multiplicación"
   ]
  },
  {
   "cell_type": "markdown",
   "metadata": {},
   "source": [
    "La función `mult` definida toma como parámetros (o argumentos) dos valores `x` y `y`, y devuelte el valor `z` el cual es el producto entre `x` e `y`."
   ]
  },
  {
   "cell_type": "code",
   "execution_count": 5,
   "metadata": {},
   "outputs": [],
   "source": [
    "def mult(x,y):\n",
    "    \"\"\" Esta función toma dos valores y entrega la multiplicación de ellos \"\"\"\n",
    "    z = x * y\n",
    "    return z\n",
    "    # notese que no se corre nada luego del return, pues ya \"terminó la función\"\n",
    "    print(\"weeeena como estas?\")"
   ]
  },
  {
   "cell_type": "code",
   "execution_count": 6,
   "metadata": {},
   "outputs": [
    {
     "name": "stdout",
     "output_type": "stream",
     "text": [
      "20\n"
     ]
    }
   ],
   "source": [
    "c = mult(4,5) # Asignamos el valor retornado a la variable c\n",
    "print(c) # Imprimimos dicho valor"
   ]
  },
  {
   "cell_type": "markdown",
   "metadata": {},
   "source": [
    "Si es que solamente llamamos a la función esta no imprime el resultado, pues `return` no imprime, solo devuelve un objeto, no es lo mismo tener una foto de una persona que tener a una persona, una foto nos hace ver a la persona, pero no puede hablar saltar ni nada de lo que hace una persona, de la misma manera, no es lo mismo tener el valor impreso en la consola, a tener un valor retornado por `return`, con un numero (o cualquier cosa retornada), podemos seguir operando, podemos sumarlo, multiplicarlo o hacer lo que queramos con el."
   ]
  },
  {
   "cell_type": "code",
   "execution_count": 7,
   "metadata": {},
   "outputs": [
    {
     "name": "stdout",
     "output_type": "stream",
     "text": [
      "Hola\n"
     ]
    }
   ],
   "source": [
    "mult(4,5) # Esto no se imprime\n",
    "print(\"Hola\")"
   ]
  },
  {
   "cell_type": "code",
   "execution_count": 8,
   "metadata": {},
   "outputs": [
    {
     "name": "stdout",
     "output_type": "stream",
     "text": [
      "20\n",
      "Hola\n",
      "10\n"
     ]
    }
   ],
   "source": [
    "c = mult(4, 5)\n",
    "print(c)\n",
    "print(\"Hola\")\n",
    "print(c - 10)"
   ]
  },
  {
   "cell_type": "markdown",
   "metadata": {},
   "source": [
    "Dato: *Un último detalle es que en Jupyter notebook si llamas sólamente a una función entonces si se muestra el valor en consola, esto es solamente por como funcionan los notebooks, pues estos imprimen el ultimo valor **retornado** en la celda, por lo que si en una celda solamente llamas a la función si se mostrará el valor*"
   ]
  },
  {
   "cell_type": "markdown",
   "metadata": {},
   "source": [
    "Podemos retornar multiples valores en una función, pero esto se vuelve dificil de leer si es que empiezas a retornar demasiadas cosas en una sola función, para devolver varios valores se hace lo siguiente."
   ]
  },
  {
   "cell_type": "code",
   "execution_count": 9,
   "metadata": {},
   "outputs": [],
   "source": [
    "def partes_division(dividendo, divisor):\n",
    "    resultado = dividendo / divisor\n",
    "    resto = dividendo % divisor\n",
    "    return resultado, resto"
   ]
  },
  {
   "cell_type": "code",
   "execution_count": 10,
   "metadata": {},
   "outputs": [
    {
     "name": "stdout",
     "output_type": "stream",
     "text": [
      "2.857142857142857 6\n",
      "1.5 1\n"
     ]
    }
   ],
   "source": [
    "resultado, resto = partes_division(20, 7) # Como devuelve dos valores definimos dos variables\n",
    "a, b = partes_division(3, 2) # Como devuelve dos valores definimos dos variables\n",
    "print(resultado, resto)\n",
    "print(a, b)"
   ]
  },
  {
   "cell_type": "markdown",
   "metadata": {},
   "source": [
    "Dato: *Cuando devuelves varios valores estos se devuelven como una* ***tupla*** *, la cual es una estructura de datos que estudiaremos más adelante.*"
   ]
  },
  {
   "cell_type": "code",
   "execution_count": 11,
   "metadata": {},
   "outputs": [
    {
     "name": "stdout",
     "output_type": "stream",
     "text": [
      "(3.0, 0)\n"
     ]
    }
   ],
   "source": [
    "a = partes_division(3, 1)\n",
    "print(a) # (1.5, 3) es una tupla"
   ]
  },
  {
   "cell_type": "markdown",
   "metadata": {},
   "source": [
    "## Parámetros por *default*"
   ]
  },
  {
   "cell_type": "markdown",
   "metadata": {},
   "source": [
    "Cuando un parámetro de una función es casi siempre el mismo, pero queremos que igual se pueda cambiar usamos lo que se llama un parámetro por **default**, a continuación se muestra una función saludar que siempre saluda en español a menos que se le pase otro idioma"
   ]
  },
  {
   "cell_type": "code",
   "execution_count": 12,
   "metadata": {},
   "outputs": [],
   "source": [
    "def saludar(nombre, idioma=\"español\"):\n",
    "    if idioma == \"español\":\n",
    "        print(\"Hola \" +  nombre + \"!\")\n",
    "        print(\"¿\" + nombre + \" como estás?\")\n",
    "    elif idioma == \"ingles\":\n",
    "        print(\"Hello \" +  nombre + \"!\")\n",
    "        print(nombre + \" how are you?\")\n",
    "    elif idioma == \"japones\":\n",
    "        print(\"こにちは\" + nombre + \"さん!\")\n",
    "        print( nombre + \"さん\" + \"お元気ですか？\")"
   ]
  },
  {
   "cell_type": "code",
   "execution_count": 13,
   "metadata": {},
   "outputs": [
    {
     "name": "stdout",
     "output_type": "stream",
     "text": [
      "Hola Fransisco!\n",
      "¿Fransisco como estás?\n",
      "--------------------------\n",
      "Hola Jorge!\n",
      "¿Jorge como estás?\n",
      "--------------------------\n",
      "Hello Felipe!\n",
      "Felipe how are you?\n",
      "--------------------------\n",
      "こにちはDomingoさん!\n",
      "Domingoさんお元気ですか？\n"
     ]
    }
   ],
   "source": [
    "saludar(\"Fransisco\") # Si no le pasamos el idioma entonces saluda en español\n",
    "print(\"--------------------------\")\n",
    "saludar(\"Jorge\", idioma=\"español\") # Si le pasamos un idioma específico saluda en ese idioma\n",
    "print(\"--------------------------\")\n",
    "saludar(\"Felipe\", idioma=\"ingles\") # Si le pasamos un idioma específico saluda en ese idioma\n",
    "print(\"--------------------------\")\n",
    "saludar(\"Domingo\", idioma=\"japones\")"
   ]
  },
  {
   "cell_type": "markdown",
   "metadata": {},
   "source": [
    "Los parametros(argumentos) pueden ser **positional arguments**, que se refiere a que se llaman por el orden en que aparecen en la función, o pueden ser **keyword arguments**, que se llaman por el nombre del parámetro.<br>\n",
    "A continuación se muestran algunos ejemplos"
   ]
  },
  {
   "cell_type": "code",
   "execution_count": 14,
   "metadata": {},
   "outputs": [
    {
     "name": "stdout",
     "output_type": "stream",
     "text": [
      "Hola Jorge!\n",
      "¿Jorge como estás?\n"
     ]
    }
   ],
   "source": [
    "# Solo positional arguments (deben pasarse en el orden correcto)\n",
    "saludar(\"Jorge\", \"español\") # Primero el nombre y luego el idioma"
   ]
  },
  {
   "cell_type": "code",
   "execution_count": 15,
   "metadata": {},
   "outputs": [
    {
     "name": "stdout",
     "output_type": "stream",
     "text": [
      "Hola Jorge!\n",
      "¿Jorge como estás?\n",
      "Hola Jorge!\n",
      "¿Jorge como estás?\n"
     ]
    }
   ],
   "source": [
    "# Solo keyword arguments\n",
    "# Especificamos que significa cada parametro por lo que podemos ponerlos en cualquier orden\n",
    "saludar(nombre=\"Jorge\", idioma=\"español\") \n",
    "saludar(idioma=\"español\", nombre=\"Jorge\")"
   ]
  },
  {
   "cell_type": "code",
   "execution_count": 16,
   "metadata": {},
   "outputs": [
    {
     "name": "stdout",
     "output_type": "stream",
     "text": [
      "Hola Jorge!\n",
      "¿Jorge como estás?\n"
     ]
    }
   ],
   "source": [
    "# Positional y keyword arguments\n",
    "saludar(\"Jorge\", idioma=\"español\")"
   ]
  },
  {
   "cell_type": "code",
   "execution_count": 17,
   "metadata": {},
   "outputs": [
    {
     "ename": "SyntaxError",
     "evalue": "positional argument follows keyword argument (<ipython-input-17-5446aba1def9>, line 3)",
     "output_type": "error",
     "traceback": [
      "\u001b[1;36m  File \u001b[1;32m\"<ipython-input-17-5446aba1def9>\"\u001b[1;36m, line \u001b[1;32m3\u001b[0m\n\u001b[1;33m    saludar(idioma=\"español\", \"Jorge\")\u001b[0m\n\u001b[1;37m                              ^\u001b[0m\n\u001b[1;31mSyntaxError\u001b[0m\u001b[1;31m:\u001b[0m positional argument follows keyword argument\n"
     ]
    }
   ],
   "source": [
    "# No podemos pasar keyword arguments y despues pasar positional arguments pues eso resulta en un error pues\n",
    "# python no sabe en que orden poner los parámetros en la función luego de un keyword argument.\n",
    "saludar(idioma=\"español\", \"Jorge\")"
   ]
  },
  {
   "cell_type": "markdown",
   "metadata": {},
   "source": [
    "##  Variables locales, globales y scope"
   ]
  },
  {
   "cell_type": "markdown",
   "metadata": {},
   "source": [
    "Siempre que una variable sea definida dentro de una funcion es una **variable local** eso quiere decir que solo existe dentro de la funcion y no la podemos usar fuera de ella, mientras que todas las definidas fuera de la función se llaman **globales**. Cuando definimos una función entonces hablamos de que estamos en un **scope** distinto, es decir lo que está fuera de la funcion no \"sabe\" que es lo que pasa dentro de ella."
   ]
  },
  {
   "cell_type": "code",
   "execution_count": 18,
   "metadata": {},
   "outputs": [
    {
     "name": "stdout",
     "output_type": "stream",
     "text": [
      "Puedo ver la variable local y vale: 6\n"
     ]
    },
    {
     "ename": "NameError",
     "evalue": "name 'var' is not defined",
     "output_type": "error",
     "traceback": [
      "\u001b[1;31m---------------------------------------------------------------------------\u001b[0m",
      "\u001b[1;31mNameError\u001b[0m                                 Traceback (most recent call last)",
      "\u001b[1;32m<ipython-input-18-f0d8327bcbc5>\u001b[0m in \u001b[0;36m<module>\u001b[1;34m\u001b[0m\n\u001b[0;32m      5\u001b[0m \u001b[0mf\u001b[0m\u001b[1;33m(\u001b[0m\u001b[1;33m)\u001b[0m \u001b[1;31m# Llamos a la función y se ejecuta\u001b[0m\u001b[1;33m\u001b[0m\u001b[1;33m\u001b[0m\u001b[0m\n\u001b[0;32m      6\u001b[0m \u001b[1;31m# Nos arroja un error pues var es local y el programa no puede acceder a variables definidad dentro de funciones\u001b[0m\u001b[1;33m\u001b[0m\u001b[1;33m\u001b[0m\u001b[1;33m\u001b[0m\u001b[0m\n\u001b[1;32m----> 7\u001b[1;33m \u001b[0mprint\u001b[0m\u001b[1;33m(\u001b[0m\u001b[0mvar\u001b[0m\u001b[1;33m)\u001b[0m\u001b[1;33m\u001b[0m\u001b[1;33m\u001b[0m\u001b[0m\n\u001b[0m",
      "\u001b[1;31mNameError\u001b[0m: name 'var' is not defined"
     ]
    }
   ],
   "source": [
    "a = 6 # Variable global, todos pueden acceder a ella\n",
    "def f():\n",
    "    var = 6 # Variable local, solo la función sabe de ella\n",
    "    print(\"Puedo ver la variable local y vale:\", var)\n",
    "f() # Llamos a la función y se ejecuta\n",
    "# Nos arroja un error pues var es local y el programa no puede acceder a variables definidad dentro de funciones\n",
    "print(var) "
   ]
  },
  {
   "cell_type": "markdown",
   "metadata": {},
   "source": [
    "Todo esto de variables locales y globales nos permite **encapsular** de mejor manera nuestro código, así no mezclamos variables definidas con los mismos nombres y todo funciona como queremos que funcione. <br>\n",
    "Por ejemplo podemos hacer dos funciones con los mismos nombres de variables y no tenemos problema alguno"
   ]
  },
  {
   "cell_type": "code",
   "execution_count": 19,
   "metadata": {},
   "outputs": [
    {
     "name": "stdout",
     "output_type": "stream",
     "text": [
      "Ingresa un número: \n"
     ]
    },
    {
     "ename": "ValueError",
     "evalue": "invalid literal for int() with base 10: ''",
     "output_type": "error",
     "traceback": [
      "\u001b[1;31m---------------------------------------------------------------------------\u001b[0m",
      "\u001b[1;31mValueError\u001b[0m                                Traceback (most recent call last)",
      "\u001b[1;32m<ipython-input-19-8277426f3ad2>\u001b[0m in \u001b[0;36m<module>\u001b[1;34m\u001b[0m\n\u001b[0;32m      9\u001b[0m     \u001b[1;32mreturn\u001b[0m \u001b[0ma\u001b[0m \u001b[1;33m+\u001b[0m \u001b[0mb\u001b[0m\u001b[1;33m\u001b[0m\u001b[1;33m\u001b[0m\u001b[0m\n\u001b[0;32m     10\u001b[0m \u001b[1;33m\u001b[0m\u001b[0m\n\u001b[1;32m---> 11\u001b[1;33m \u001b[0mprint\u001b[0m\u001b[1;33m(\u001b[0m\u001b[0mmult\u001b[0m\u001b[1;33m(\u001b[0m\u001b[1;33m)\u001b[0m\u001b[1;33m)\u001b[0m\u001b[1;33m\u001b[0m\u001b[1;33m\u001b[0m\u001b[0m\n\u001b[0m\u001b[0;32m     12\u001b[0m \u001b[0mprint\u001b[0m\u001b[1;33m(\u001b[0m\u001b[0msuma\u001b[0m\u001b[1;33m(\u001b[0m\u001b[1;33m)\u001b[0m\u001b[1;33m)\u001b[0m\u001b[1;33m\u001b[0m\u001b[1;33m\u001b[0m\u001b[0m\n",
      "\u001b[1;32m<ipython-input-19-8277426f3ad2>\u001b[0m in \u001b[0;36mmult\u001b[1;34m()\u001b[0m\n\u001b[0;32m      1\u001b[0m \u001b[1;32mdef\u001b[0m \u001b[0mmult\u001b[0m\u001b[1;33m(\u001b[0m\u001b[1;33m)\u001b[0m\u001b[1;33m:\u001b[0m\u001b[1;33m\u001b[0m\u001b[1;33m\u001b[0m\u001b[0m\n\u001b[1;32m----> 2\u001b[1;33m     \u001b[0ma\u001b[0m \u001b[1;33m=\u001b[0m \u001b[0mint\u001b[0m\u001b[1;33m(\u001b[0m\u001b[0minput\u001b[0m\u001b[1;33m(\u001b[0m\u001b[1;34m\"Ingresa un número: \"\u001b[0m\u001b[1;33m)\u001b[0m\u001b[1;33m)\u001b[0m\u001b[1;33m\u001b[0m\u001b[1;33m\u001b[0m\u001b[0m\n\u001b[0m\u001b[0;32m      3\u001b[0m     \u001b[0mb\u001b[0m \u001b[1;33m=\u001b[0m \u001b[0mint\u001b[0m\u001b[1;33m(\u001b[0m\u001b[0minput\u001b[0m\u001b[1;33m(\u001b[0m\u001b[1;34m\"Ingresa un número: \"\u001b[0m\u001b[1;33m)\u001b[0m\u001b[1;33m)\u001b[0m\u001b[1;33m\u001b[0m\u001b[1;33m\u001b[0m\u001b[0m\n\u001b[0;32m      4\u001b[0m     \u001b[1;32mreturn\u001b[0m \u001b[0ma\u001b[0m \u001b[1;33m*\u001b[0m \u001b[0mb\u001b[0m\u001b[1;33m\u001b[0m\u001b[1;33m\u001b[0m\u001b[0m\n\u001b[0;32m      5\u001b[0m \u001b[1;33m\u001b[0m\u001b[0m\n",
      "\u001b[1;31mValueError\u001b[0m: invalid literal for int() with base 10: ''"
     ]
    }
   ],
   "source": [
    "def mult():\n",
    "    a = int(input(\"Ingresa un número: \"))\n",
    "    b = int(input(\"Ingresa un número: \"))\n",
    "    return a * b\n",
    "\n",
    "def suma():\n",
    "    a = int(input(\"Ingresa un número: \"))\n",
    "    b = int(input(\"Ingresa un número: \"))\n",
    "    return a + b\n",
    "\n",
    "print(mult())\n",
    "print(suma())"
   ]
  },
  {
   "cell_type": "markdown",
   "metadata": {},
   "source": [
    "In the below function we are appending a element to the declared list inside the function. eg2 variable declared inside the function is a local variable.\n",
    "A continuación otro ejemplo de como las variables locales y globales afectan a un programa, `a` es declarado global y localmente, por lo que la función `f` imprime el `a` local, pero el print de después imprime el `a` global"
   ]
  },
  {
   "cell_type": "code",
   "execution_count": 20,
   "metadata": {},
   "outputs": [],
   "source": [
    "def egfunc1():\n",
    "    x=1\n",
    "    def thirdfunc():\n",
    "        x=2\n",
    "        print(\"Inside thirdfunc x =\", x) \n",
    "    thirdfunc()\n",
    "    print(\"Outside x =\", x)"
   ]
  },
  {
   "cell_type": "code",
   "execution_count": 21,
   "metadata": {},
   "outputs": [
    {
     "name": "stdout",
     "output_type": "stream",
     "text": [
      "Inside thirdfunc x = 2\n",
      "Outside x = 1\n",
      "Global x = 12\n"
     ]
    }
   ],
   "source": [
    "x=12\n",
    "egfunc1()\n",
    "print(\"Global x =\",x)"
   ]
  },
  {
   "cell_type": "markdown",
   "metadata": {},
   "source": [
    "If a `global` variable is defined as shown in the example below then that variable can be called from anywhere. Global values should be used sparingly as they make functions harder to re-use."
   ]
  },
  {
   "cell_type": "code",
   "execution_count": 22,
   "metadata": {},
   "outputs": [],
   "source": [
    "eg3 = [1,2,3,4,5]"
   ]
  },
  {
   "cell_type": "code",
   "execution_count": 23,
   "metadata": {},
   "outputs": [
    {
     "name": "stdout",
     "output_type": "stream",
     "text": [
      "El a en la función (local) vale 5\n",
      "a global vale:  10\n"
     ]
    }
   ],
   "source": [
    "a = 10\n",
    "def f():\n",
    "    a = 5\n",
    "    print(\"El a en la función (local) vale\", a)\n",
    "f()\n",
    "print(\"a global vale: \", a)"
   ]
  }
 ],
 "metadata": {
  "kernelspec": {
   "display_name": "Python 3",
   "language": "python",
   "name": "python3"
  },
  "language_info": {
   "codemirror_mode": {
    "name": "ipython",
    "version": 3
   },
   "file_extension": ".py",
   "mimetype": "text/x-python",
   "name": "python",
   "nbconvert_exporter": "python",
   "pygments_lexer": "ipython3",
   "version": "3.7.8"
  }
 },
 "nbformat": 4,
 "nbformat_minor": 1
}
