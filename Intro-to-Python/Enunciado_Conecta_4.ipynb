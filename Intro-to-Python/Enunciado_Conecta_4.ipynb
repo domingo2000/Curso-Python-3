{
  "nbformat": 4,
  "nbformat_minor": 0,
  "metadata": {
    "colab": {
      "name": "Enunciado Conecta4.ipynb",
      "provenance": [],
      "collapsed_sections": []
    },
    "kernelspec": {
      "name": "python3",
      "display_name": "Python 3"
    },
    "language_info": {
      "name": "python"
    }
  },
  "cells": [
    {
      "cell_type": "markdown",
      "metadata": {
        "id": "u_hu2sNaRapw"
      },
      "source": [
        "## Función para crear una matríz inicial\n",
        "\n",
        "La función generate_matrix, creará una matriz con dimensiones de n x n, es decir, que sera una lista de n listas, donde cada una de las listas tendrá a su vez n elementos inicialmente.\n",
        "\n",
        "Recuerda que una matriz, o una lista de listas, puede ser vista como un tablero, donde las posiciones estarán dadas por una fila y una columna. Y que puede ingresar a cada elemento con una doble indexación.\n",
        "\n",
        "\n",
        "Para efectos de la prueba, consideraremos que un 0 dentro de una matríz no es más que un espacio vacío dentro de un tablero."
      ]
    },
    {
      "cell_type": "code",
      "metadata": {
        "id": "CBpfYRwTgAlQ"
      },
      "source": [
        "def generate_matrix(n):\n",
        "  '''\n",
        "  Recibe un numero entero \"n\" y retorna una matriz de \"n x n\" inicializada \n",
        "  solo con valores \"0\".\n",
        "  Es decir, retorna una lista de listas que tiene \"n\" listas y donde cada lista\n",
        "  viene con \"n\" valores \"0\"\n",
        "  '''\n",
        "  matrix = []\n",
        "  for index in range(n):\n",
        "    matrix.append([str(0) for index in range(n)])\n",
        "  return matrix"
      ],
      "execution_count": null,
      "outputs": []
    },
    {
      "cell_type": "markdown",
      "metadata": {
        "id": "id7OGg1EQ_hN"
      },
      "source": [
        "## Función para visualizar un tablero\n",
        "\n",
        "La función matrix_format la pueden usar para visualizar cualquier matriz, lista de listas que tenga igual cantidad de filas y columnas, como si fuera un tablero"
      ]
    },
    {
      "cell_type": "code",
      "metadata": {
        "id": "29KTtEDVgfLc"
      },
      "source": [
        "def matrix_format(matrix):\n",
        "  '''\n",
        "  Recibe una matriz y retorna un string con la matriz con el formato para ser\n",
        "  impresa como trablero.\n",
        "  '''\n",
        "  if not isinstance(matrix, list):\n",
        "    return False\n",
        "  columns = len(matrix[0])\n",
        "  rows = len(matrix)\n",
        "  to_print = '     '\n",
        "  to_print += '   '.join([str(i) for i in range(columns)])\n",
        "  to_print += '\\n'\n",
        "  for index in range(rows):\n",
        "    row = ' | '.join(matrix[index])\n",
        "    to_print += f'\\n {str(index)}   ' + row\n",
        "  return to_print"
      ],
      "execution_count": null,
      "outputs": []
    },
    {
      "cell_type": "markdown",
      "metadata": {
        "id": "3saLitPgTPmt"
      },
      "source": [
        "# Conecta 4\n",
        "\n",
        "El objetivo de esta prueba es poder crear un conecta 4, para esto, utilizaremos una lista de listas como tablero.\n",
        "\n",
        "Si no sabes lo que es un conecta 4, revisa este video: https://www.youtube.com/watch?v=JBSbiilzg9U\n",
        "\n",
        "Para efectos del juego que haremos, utilizaremos un tablero de 5 filas y 5 columnas inicialmente. El que comenzará solo con \"0\" en todas las posiciones.\n",
        "\n",
        "Lo primero que haremos será crear la función para ingresar fichas. debajo de esta celda, esta la función ya definida, se explica que recibe como parámetros y tiene una pequeña validación de input al comienzo. No te preocupes por esto, tu encargate de programar el comportamiento de las fichas."
      ]
    },
    {
      "cell_type": "code",
      "metadata": {
        "id": "kLx3azp-ioTy"
      },
      "source": [
        "def player_move(matrix, column, player_number):\n",
        "  '''\n",
        "  Recibe como parametros la matriz, el numero de columna y numero del jugador.\n",
        "  Si se ingresan parametros malos:\n",
        "      Imprime un mensaje en consola, explicando que pasó y retorna la matriz \n",
        "      que le entregaron inicialmente y un booleano False\n",
        "  En caso de que todo ocurra bien:\n",
        "      retorna la matriz actualizada en la posición donde se insertó la ficha y \n",
        "      un booleano True.\n",
        "\n",
        "  LA FICHA SIEMPRE TIENE QUE SER INSERTADA EN LA FILA CON EL ÍNDICE MÁS GRANDE \n",
        "  QUE TENGA UN ESPACIO DISPONIBLE EN LA COLUMNA ENTREGADA COMO PARÁMETRO.\n",
        "\n",
        "  SIMULANDO LA GRAVEDAD DE UN TABLERO DE CONECTA 4.\n",
        "  '''\n",
        "  # Validación de inputs y turno de un jugador real:\n",
        "  if len(matrix) < 0:\n",
        "    print('Tienes que ingresar una matriz valida 4x4 o más, es decir, que ' + \n",
        "    'tenga la misma cantidad de fila que de columnas y que esa cantidad sea' + \n",
        "    ' mayor o igual a 4.')\n",
        "    return matrix, False\n",
        "  if player_number == 1:\n",
        "    ficha = 'X'\n",
        "  elif player_number == 2:\n",
        "    ficha = 'D'\n",
        "  else:\n",
        "    print('solo pueden jugar 2 personas...')\n",
        "    return matrix, False\n",
        "  if matrix[0][column] != \"0\":\n",
        "    print('Esta columna ya está llena, intenta con una nueva')\n",
        "    return matrix, False\n",
        "\n",
        "  #############################################\n",
        "  # Comienza tu codigo debajo de este mensaje #\n",
        "  #############################################\n",
        "  "
      ],
      "execution_count": null,
      "outputs": []
    },
    {
      "cell_type": "code",
      "metadata": {
        "colab": {
          "base_uri": "https://localhost:8080/"
        },
        "id": "r8XOkM-8nWMl",
        "outputId": "a21b8ab6-5009-49dd-869b-322d5df73e98"
      },
      "source": [
        "a = generate_matrix(5)\n",
        "for i in range(2):\n",
        "  jugada, respuesta = player_move(a,2,2)\n",
        "  b = matrix_format(jugada)\n",
        "  print(b)"
      ],
      "execution_count": null,
      "outputs": [
        {
          "output_type": "stream",
          "text": [
            "     0   1   2   3   4\n",
            "\n",
            " 0   0 | 0 | 0 | 0 | 0\n",
            " 1   0 | 0 | 0 | 0 | 0\n",
            " 2   0 | 0 | 0 | 0 | 0\n",
            " 3   0 | 0 | 0 | 0 | 0\n",
            " 4   0 | 0 | D | 0 | 0\n",
            "     0   1   2   3   4\n",
            "\n",
            " 0   0 | 0 | 0 | 0 | 0\n",
            " 1   0 | 0 | 0 | 0 | 0\n",
            " 2   0 | 0 | 0 | 0 | 0\n",
            " 3   0 | 0 | D | 0 | 0\n",
            " 4   0 | 0 | D | 0 | 0\n"
          ],
          "name": "stdout"
        }
      ]
    },
    {
      "cell_type": "markdown",
      "metadata": {
        "id": "CYROe1cegB2w"
      },
      "source": [
        "## Revisar conecta 4 horizontal\n",
        "\n",
        "Ahora que podemos insertar fichas en nuestro tablero, queremos revisar si alguno de los jugadores ganó, para esto, revisamos si existen 4 fichas iguales dentro de una misma fila.\n",
        "\n",
        "Esta verificación tenemos que hacerla para todas las filas del tablero, por lo que hay que ir fila por fila revisando si tiene 4 fichas iguales."
      ]
    },
    {
      "cell_type": "code",
      "metadata": {
        "id": "Z0Kk8A3Ve3Y7"
      },
      "source": [
        "def horizontal_check(matrix):\n",
        "  ''' \n",
        "  Crear una función que reciba una matriz, revise las filas y retorne True\n",
        "  si alguna fila contiene 4 elementos iguales distintos de 0.\n",
        "  '''\n",
        "  #############################################\n",
        "  # Comienza tu codigo debajo de este mensaje #\n",
        "  #############################################\n"
      ],
      "execution_count": null,
      "outputs": []
    },
    {
      "cell_type": "markdown",
      "metadata": {
        "id": "rjcbMmBcZ9WS"
      },
      "source": [
        "### Puedes probar tu codigo en la siguiente celda\n",
        "\n",
        "Cambia los valores de test_matrix para probarla"
      ]
    },
    {
      "cell_type": "code",
      "metadata": {
        "colab": {
          "base_uri": "https://localhost:8080/"
        },
        "id": "Nvi4TePoZW_z",
        "outputId": "6ba50f4c-7cc5-43a1-8bef-377571783512"
      },
      "source": [
        "test_matrix = [['x', 'x', '0', '0', '0'], ['x', 'x', 'x', '0', '0'], ['x', '0', 'x', 'x', '0'], ['x', '0', 'x', 'x', 'x'], ['x', '0', '0', 'x', 'x']]\n",
        "\n",
        "\n",
        "print('Tu matriz es la siguiente: \\n')\n",
        "print( matrix_format(test_matrix))\n",
        "print('\\n')\n",
        "check = horizontal_check(test_matrix)\n",
        "print('¿Tiene alguna fila con 4 elementos o más iguales?\\n')\n",
        "print(f'La respuesta es:     {check}')\n",
        "\n"
      ],
      "execution_count": null,
      "outputs": [
        {
          "output_type": "stream",
          "text": [
            "Tu matriz es la siguiente: \n",
            "\n",
            "     0   1   2   3   4\n",
            "\n",
            " 0   x | x | 0 | 0 | 0\n",
            " 1   x | x | x | 0 | 0\n",
            " 2   x | 0 | x | x | 0\n",
            " 3   x | 0 | x | x | x\n",
            " 4   x | 0 | 0 | x | x\n",
            "\n",
            "\n",
            "¿Tiene alguna fila con 4 elementos o más iguales?\n",
            "\n",
            "La respuesta es:     False\n"
          ],
          "name": "stdout"
        }
      ]
    },
    {
      "cell_type": "markdown",
      "metadata": {
        "id": "3XkaaT0jVtva"
      },
      "source": [
        "## Revisar conecta 4 Verticales\n",
        "\n",
        "Ahora que podemos insertar fichas en nuestro tablero, queremos revisar si alguno de los jugadores ganó, para esto, revisamos si existen 4 fichas iguales dentro de una misma columna.\n",
        "\n",
        "Esta verificación tenemos que hacerla para todas las columnas del tablero, por lo que hay que ir columna por columna revisando si tiene 4 fichas iguales."
      ]
    },
    {
      "cell_type": "code",
      "metadata": {
        "id": "aXiyQD0o0J2e"
      },
      "source": [
        "def vertical_check(matrix):\n",
        "  ''' \n",
        "  Crear una función que reciba una matriz, revise las columnas y retorne True\n",
        "  si alguna columna contiene 4 elementos iguales distintos de 0.\n",
        "  '''\n",
        "  #############################################\n",
        "  # Comienza tu codigo debajo de este mensaje #\n",
        "  #############################################\n"
      ],
      "execution_count": null,
      "outputs": []
    },
    {
      "cell_type": "markdown",
      "metadata": {
        "id": "BBmaQ0hqaRqr"
      },
      "source": [
        "### Puedes probar tu codigo en la siguiente celda\n",
        "\n",
        "Cambia los valores de test_matrix para probarla"
      ]
    },
    {
      "cell_type": "code",
      "metadata": {
        "colab": {
          "base_uri": "https://localhost:8080/"
        },
        "id": "IdeEbe81toBf",
        "outputId": "e4c4bcd2-63c1-4287-cf9f-8e64291f9f4c"
      },
      "source": [
        "test_matrix = [['0', 'x', '0', '0', '0'], ['x', 'x', 'x', '0', '0'], ['x', 'x', 'x', 'x', '0'], ['x', '0', 'x', 'x', 'x'], ['x', '0', '0', 'x', 'x']]\n",
        "\n",
        "\n",
        "print('Tu matriz es la siguiente: \\n')\n",
        "print( matrix_format(test_matrix))\n",
        "print('\\n')\n",
        "check = horizontal_check(test_matrix)\n",
        "print('¿Tiene alguna fila con 4 elementos o más iguales?\\n')\n",
        "print(f'La respuesta es:     {check}')\n",
        "\n"
      ],
      "execution_count": null,
      "outputs": [
        {
          "output_type": "stream",
          "text": [
            "Tu matriz es la siguiente: \n",
            "\n",
            "     0   1   2   3   4\n",
            "\n",
            " 0   0 | x | 0 | 0 | 0\n",
            " 1   x | x | x | 0 | 0\n",
            " 2   x | x | x | x | 0\n",
            " 3   x | 0 | x | x | x\n",
            " 4   x | 0 | 0 | x | x\n",
            "\n",
            "\n",
            "En la fila: 2 hay 4 fichas x\n",
            "¿Tiene alguna fila con 4 elementos o más iguales?\n",
            "\n",
            "La respuesta es:     True\n"
          ],
          "name": "stdout"
        }
      ]
    },
    {
      "cell_type": "markdown",
      "metadata": {
        "id": "eMmqUYFj5wlT"
      },
      "source": [
        "## Busqueda de 4 elementos iguales en la Diagonal de una matriz de nxn;\n",
        "\n",
        "Ahora buscaremos si existen 4 elementos iguales en una matrix de nxn, es decir, en un tablero de n filas y n columnas.\n",
        "\n",
        "Para este ejercicio, es importante que tengas en cuenta los posibles casos donde esto podría darse. Por ejemplo, si tenemos una matriz de 5 x 5, la busqueda en diagonal de 4 elementos iguales solo es posible en 6 ubicaciones: \n",
        "\n",
        "* Las 2 diagonales más grande del tablero, 1 que va desde la esquina superior izquierda hacia la inferior derecha, y la otra que va desde la esquina superior derecha hacia la inferior izquierda.\n",
        "\n",
        "* Y las 2 que acompañan por arriba y por debajo a las recien mensionadas.\n",
        "\n",
        "Por esto, haremos 2 funciones que utilizarán otra función dentro de ellas:\n",
        "* check_left_to_right: Revisa todas las diagonales que caen de izquierda a derecha en el tablero.\n",
        "  * down_to_right: revisa una diagonal que cae de izquierda a derecha partiendo desde un punto particular.\n",
        "* rigth_to_left: Que revisa las que caen de derecha a izquierda en el tablero.\n",
        "  * down_to_left: revisa una diagonal que cae de derecha a izquierda partiendo desde un punto particular."
      ]
    },
    {
      "cell_type": "markdown",
      "metadata": {
        "id": "Bv_Bz6wLNO-x"
      },
      "source": [
        "<h3> A continuación se muestra como hacer esto para las diagonales que caen desde la esquina superior izquierda, hacia la esquina inferior derecha. <h3>"
      ]
    },
    {
      "cell_type": "code",
      "metadata": {
        "id": "73UJywqK5Stg"
      },
      "source": [
        "def left_to_right(matrix, coincidence_quantity=4):\n",
        "  ''' \n",
        "  función que recibe una matriz y la cantidad de elementos iguales a \n",
        "  encontrar en las diagonales. \n",
        "  \n",
        "  Revisa las posibles diagonales que caen de izquierda a derecha donde podrían \n",
        "  haber la cantidad de elementos iguales que se solicitan. E\n",
        "  \n",
        "  Entregue True en caso de que haya coinicidencia de la cantidad de elementos \n",
        "  pedidos, siempre que estos elementos sean iguales entre si y distintos de \"0\"\n",
        "  \n",
        "  Entregue False en caso contrario.\n",
        "  '''\n",
        "  index1 = 0\n",
        "  index2 = 0\n",
        "  check = down_to_right(matrix, index1, index2, coincidence_quantity)\n",
        "  # Checkeamos la diagonal desde el punto 0,0 de la matriz.\n",
        "  if check == True:\n",
        "    # Si esta diagonal tiene las coincidencias, entonces devolvemos True.\n",
        "    return True\n",
        "  \n",
        "  while index1 < len(matrix) - 1:\n",
        "    index1 += 1\n",
        "    \n",
        "    check = down_to_right(matrix, index1, index2, coincidence_quantity)\n",
        "    if check == None:\n",
        "      # Si entra aca, quiere decir que estamos en un punto en el que la diagonal \n",
        "      #tiene menos elementos de los que queremos encontrar\n",
        "      index = len(matrix) \n",
        "    elif check == True:\n",
        "      #Si entra aca, es porque la diagonal sobre la que estamos parados tiene \n",
        "      # la cantidad de elementos que estamos buscando\n",
        "      return True\n",
        "  index1 = 0\n",
        "  \n",
        "  while index2 < len(matrix) - 1:\n",
        "    index2 += 1\n",
        "    \n",
        "    check = down_to_right(matrix, index1, index2, coincidence_quantity)\n",
        "    if check == None:\n",
        "      # Si entra aca, quiere decir que estamos en un punto en el que la diagonal \n",
        "      #tiene menos elementos de los que queremos encontrar\n",
        "      index = len(matrix) \n",
        "    elif check == True:\n",
        "      #Si entra aca, es porque la diagonal sobre la que estamos parados tiene \n",
        "      # la cantidad de elementos que estamos buscando\n",
        "      return True\n",
        "  # Si llega hasta este return False, quiere decir que probamos todas las \n",
        "  # posibles diagonales que caen desde la esquina superior izquierda hasta la \n",
        "  # inferior derecha donde podrían haber la cantidad de elementos que estamos \n",
        "  # buscando y no encontramos esa cantidad de elementos iguales.\n",
        "  return False\n",
        "\n"
      ],
      "execution_count": null,
      "outputs": []
    },
    {
      "cell_type": "code",
      "metadata": {
        "id": "9brk4lF2_LLJ"
      },
      "source": [
        "def down_to_right(matrix, row, column, coincidence_quantity=4):\n",
        "  '''\n",
        "  Recibe una matriz, el punto del que queremos partir la revisión de la diagonal\n",
        "  y la cantidad de coincidencias que queremos buscar en esa diagonal\n",
        "\n",
        "  Revisa la diagonal que baja desde izquierda hacia la derecha y comienza en el \n",
        "  punto con las coordenadas (row,column) entregadas. Retorna True si encuentra \n",
        "  la cantidad de coincidencias pedidas, False si no tiene coincidencias y \n",
        "  retorna None si se esta buscando desde un punto donde la diagonal tiene menos \n",
        "  elementos que los que se quieren encontrar.\n",
        "  '''\n",
        "  ## vemos en que eje estamos más avanzados en nuestro punto inicial\n",
        "  biger = max(row,column)\n",
        "  ##Nos fijamos que en la diagonal del punto incial permita tener tantas \n",
        "  ## coincidencias como queremos.\n",
        "  if len(matrix) - biger >= coincidence_quantity: \n",
        "    '''\n",
        "    El largo de la matriz menos la coordenada más grande del punto de partida,\n",
        "    nos dicen cuantos cuadrados quedan en la diagonal.\n",
        "    '''\n",
        "    equals = 0\n",
        "    count = 0\n",
        "    # Fijamos el ultimo checkeado a \"0\", para tener una base de la que \n",
        "    #partir y seguir la generalización desde ahí.\n",
        "    last_checked = '0'\n",
        "    posible = True\n",
        "    while posible:\n",
        "      # Verificamos si estamos parados sobre un punto distinto de \"0\"\n",
        "      if matrix[row][column] != '0':\n",
        "        # En caso que estemos parado sobre una ficha distinta de 0, seguimos.\n",
        "        # Revisamos si el punto anterior en la diagonal es \"0\".\n",
        "        if last_checked == '0':\n",
        "          equals = 1\n",
        "          last_checked = matrix[row][column]\n",
        "        elif last_checked != '0' and last_checked == matrix[row][column]:\n",
        "          equals += 1\n",
        "        else:\n",
        "          equals = 0\n",
        "          last_checked = matrix[row][column]\n",
        "        if equals == coincidence_quantity:\n",
        "          return True\n",
        "      # Si estamos parados en un punto igual a \"0\", se rompe la racha de iguales\n",
        "      # si existia, por lo que reseteamos el contador de iguales y fijamos el\n",
        "      # ultimo checkeado a \"0\".\n",
        "      else:\n",
        "        equals = 0\n",
        "        last_checkd = '0'\n",
        "      row += 1\n",
        "      column += 1\n",
        "      biger = max(row,column)\n",
        "      if len(matrix) - biger < coincidence_quantity - equals: \n",
        "        return False"
      ],
      "execution_count": null,
      "outputs": []
    },
    {
      "cell_type": "markdown",
      "metadata": {
        "id": "-wbqxn9NNicI"
      },
      "source": [
        "Aquí hay un ejemplo con el que puedes jugar para entender que pasa en cada caso. Cambia la lista de lista de manera que crees diagonales que caigan desde la esquina superior izquieda hacia la inferior derecha."
      ]
    },
    {
      "cell_type": "code",
      "metadata": {
        "id": "vNpfRgg4NyVu"
      },
      "source": [
        "def test_down_to_right(test_matrix):\n",
        "  print('Tu matriz es la siguiente: \\n')\n",
        "  print( matrix_format(test_matrix))\n",
        "  print('\\n')\n",
        "  numero = 4\n",
        "  a = left_to_right(test_matrix, numero)\n",
        "  print(f'\\n¿Tiene diagonales con {numero} variables iguales?:')\n",
        "  print(f'\\n La respuesta es:  {a}')"
      ],
      "execution_count": null,
      "outputs": []
    },
    {
      "cell_type": "markdown",
      "metadata": {
        "id": "cZzPpw85OA5D"
      },
      "source": [
        "Si cambias los valores de la matriz de prueba, puedes ver como se comporta corriendo la celda que se encuentra debajo de esta."
      ]
    },
    {
      "cell_type": "code",
      "metadata": {
        "colab": {
          "base_uri": "https://localhost:8080/"
        },
        "id": "afv8mOFSNhWX",
        "outputId": "45f236eb-e634-48a7-af8a-09add2bdb6e9"
      },
      "source": [
        "matriz_de_prueba = [['x', '0', '0', '0', '0'], ['x', 'x', 'x', '0', '0'], ['0', 'x', 'x', 'x', '0'], ['0', '0', 'x', '0', 'x'], ['0', '0', '0', 'x', 'x']]\n",
        "test_down_to_right(matriz_de_prueba)"
      ],
      "execution_count": null,
      "outputs": [
        {
          "output_type": "stream",
          "text": [
            "Tu matriz es la siguiente: \n",
            "\n",
            "     0   1   2   3   4\n",
            "\n",
            " 0   x | 0 | 0 | 0 | 0\n",
            " 1   x | x | x | 0 | 0\n",
            " 2   0 | x | x | x | 0\n",
            " 3   0 | 0 | x | 0 | x\n",
            " 4   0 | 0 | 0 | x | x\n",
            "\n",
            "\n",
            "\n",
            "¿Tiene diagonales con 4 variables iguales?:\n",
            "\n",
            " La respuesta es:  True\n"
          ],
          "name": "stdout"
        }
      ]
    },
    {
      "cell_type": "markdown",
      "metadata": {
        "id": "rrXtHiwIPnA8"
      },
      "source": [
        "## Diagonales que faltan\n",
        "\n",
        "Como vez, ya tenemos la solución para la mitad de las diagonales. Utilizando lo que sabes y guiandote por lo que viste en las funciones anteriores, rellena las funciones que te dejamos aca abajo con lo que se necesita para hacer la validación por el lado de las diagonales que van desde la esquina superior derecha hacia la inferior izquierda."
      ]
    },
    {
      "cell_type": "code",
      "metadata": {
        "id": "2mCQDx-NMrbC"
      },
      "source": [
        "def right_to_left(matrix, coincidence_quantity=4):\n",
        "  ''' \n",
        "  Crear una función que reciba una matriz y la cantidad de elementos iguales a \n",
        "  encontrar en las diagonales. \n",
        "  Revise las posibles diagonales que caen de izquierda a derecha donde podrían \n",
        "  haber la cantidad de elementos iguales que se solicitan y entregue True en \n",
        "  caso de que haya coinicidencia de la cantidad de elementos pedidas, siempre \n",
        "  que estos elementos sean iguales entre si y distintos de \"0\".\n",
        "  Entregue False en caso contrario.\n",
        "  '''\n",
        "  #############################################\n",
        "  # Comienza tu codigo debajo de este mensaje #\n",
        "  #############################################\n",
        "  "
      ],
      "execution_count": null,
      "outputs": []
    },
    {
      "cell_type": "code",
      "metadata": {
        "id": "OKmciXanMo1p"
      },
      "source": [
        "def down_to_left(matrix, row, column, coincidence_quantity=4):\n",
        "  '''\n",
        "  Recibe una matriz, el punto del que queremos partir la revisión de la diagonal\n",
        "  y la cantidad de coincidencias que queremos buscar en esa diagonal\n",
        "\n",
        "  Revisa la diagonal que baja desde derecha hacia la izquierda y comienza en el \n",
        "  punto con las coordenadas (row,column) entregadas. Retorna True si encuentra \n",
        "  la cantidad de coincidencias pedidas, False si no tiene coincidencias y \n",
        "  retorna None si se esta buscando desde un punto donde la diagonal tiene menos \n",
        "  elementos que los que se quieren encontrar.\n",
        "  '''\n",
        "  #############################################\n",
        "  # Comienza tu codigo debajo de este mensaje #\n",
        "  #############################################\n",
        "  "
      ],
      "execution_count": null,
      "outputs": []
    },
    {
      "cell_type": "markdown",
      "metadata": {
        "id": "eHEMevA1QDYw"
      },
      "source": [
        "## Saluda al ganador\n",
        "\n",
        "En la siguiente celda, escribe la función que muestren en pantalla el tablero final y que retorne al usuario un mensaje de felicitaciones para el jugador ganador."
      ]
    },
    {
      "cell_type": "code",
      "metadata": {
        "id": "_whly7tUy_DC"
      },
      "source": [
        "def mensaje_victoria(player, matrix):\n",
        "  '''\n",
        "  Recibe el numero del jugador que ganó y el tablero final.\n",
        "  muestra en pantalla el tablero y retorna un mensaje que incluye el numero del \n",
        "  jugador que ganó la partida de conecta 4\n",
        "  '''\n",
        "  #############################################\n",
        "  # Comienza tu codigo debajo de este mensaje #\n",
        "  #############################################\n",
        "  "
      ],
      "execution_count": null,
      "outputs": []
    },
    {
      "cell_type": "markdown",
      "metadata": {
        "id": "ta3p87zsXRQI"
      },
      "source": [
        "## A jugar!\n",
        "\n",
        "Si todo lo que hiciste funciona, deberías poder correr la celda inferior para jugar y ver como avanza tu partida de Conecta 4."
      ]
    },
    {
      "cell_type": "code",
      "metadata": {
        "id": "GYnVnOjrt5IF"
      },
      "source": [
        "def comenzar_partida():\n",
        "  player = 1\n",
        "  # iniciar comando de salida != -1\n",
        "  move = 0\n",
        "  # Iniciar tablero\n",
        "  matrix = generate_matrix(5)\n",
        "  a = matrix_format(matrix)\n",
        "  while int(move) != -1:\n",
        "    move = input(f'jugador{player} pone ficha en columna:    ')\n",
        "    if int(move) == -1:\n",
        "      break\n",
        "    aux_matrix, done = player_move(matrix, int(move), player)\n",
        "    if done == True:\n",
        "      matrix = aux_matrix\n",
        "    try:\n",
        "      hor_check = horizontal_check(matrix)\n",
        "      if hor_check:\n",
        "        return mensaje_victoria(player, matrix)\n",
        "    except:\n",
        "      print('Tu verificación horizontal genera un error')\n",
        "\n",
        "    try:\n",
        "      ver_check = vertical_check(matrix)\n",
        "      if ver_check:\n",
        "        return mensaje_victoria(player, matrix)\n",
        "    \n",
        "      ver_left_right = left_to_right(matrix, 4)\n",
        "      if ver_left_right:\n",
        "        return mensaje_victoria(player, matrix)\n",
        "    except:\n",
        "      print('Tu verificación vertical genera un error')\n",
        "    \n",
        "    try:\n",
        "      ver_right_left = right_to_left(matrix, 4)\n",
        "      if ver_right_left:\n",
        "        return mensaje_victoria(player, matrix)\n",
        "    except:\n",
        "      print('Tu verificación de diagonal derecha a izquierda genera un error')\n",
        "    \n",
        "    if done == True:\n",
        "      if player == 1:\n",
        "        player += 1\n",
        "      else:\n",
        "        player -= 1\n",
        "    a = matrix_format(matrix)\n",
        "    print(a)"
      ],
      "execution_count": null,
      "outputs": []
    },
    {
      "cell_type": "code",
      "metadata": {
        "id": "CcqUaNbMutHq",
        "colab": {
          "base_uri": "https://localhost:8080/",
          "height": 1000
        },
        "outputId": "6d56254f-fa21-482b-aeca-c6f15beef0aa"
      },
      "source": [
        "comenzar_partida()"
      ],
      "execution_count": null,
      "outputs": [
        {
          "output_type": "stream",
          "text": [
            "jugador1 pone ficha en columna:    1\n",
            "valor: X\n",
            "0\n",
            "     0   1   2   3   4\n",
            "\n",
            " 0   0 | 0 | 0 | 0 | 0\n",
            " 1   0 | 0 | 0 | 0 | 0\n",
            " 2   0 | 0 | 0 | 0 | 0\n",
            " 3   0 | 0 | 0 | 0 | 0\n",
            " 4   0 | X | 0 | 0 | 0\n",
            "jugador2 pone ficha en columna:    1\n",
            "valor: D\n",
            "0\n",
            "valor: X\n",
            "1\n",
            "     0   1   2   3   4\n",
            "\n",
            " 0   0 | 0 | 0 | 0 | 0\n",
            " 1   0 | 0 | 0 | 0 | 0\n",
            " 2   0 | 0 | 0 | 0 | 0\n",
            " 3   0 | D | 0 | 0 | 0\n",
            " 4   0 | X | 0 | 0 | 0\n",
            "jugador1 pone ficha en columna:    2\n",
            "valor: D\n",
            "0\n",
            "valor: X\n",
            "1\n",
            "valor: X\n",
            "0\n",
            "     0   1   2   3   4\n",
            "\n",
            " 0   0 | 0 | 0 | 0 | 0\n",
            " 1   0 | 0 | 0 | 0 | 0\n",
            " 2   0 | 0 | 0 | 0 | 0\n",
            " 3   0 | D | 0 | 0 | 0\n",
            " 4   0 | X | X | 0 | 0\n"
          ],
          "name": "stdout"
        },
        {
          "output_type": "error",
          "ename": "KeyboardInterrupt",
          "evalue": "ignored",
          "traceback": [
            "\u001b[0;31m---------------------------------------------------------------------------\u001b[0m",
            "\u001b[0;31mKeyboardInterrupt\u001b[0m                         Traceback (most recent call last)",
            "\u001b[0;32m/usr/local/lib/python3.7/dist-packages/ipykernel/kernelbase.py\u001b[0m in \u001b[0;36m_input_request\u001b[0;34m(self, prompt, ident, parent, password)\u001b[0m\n\u001b[1;32m    728\u001b[0m             \u001b[0;32mtry\u001b[0m\u001b[0;34m:\u001b[0m\u001b[0;34m\u001b[0m\u001b[0;34m\u001b[0m\u001b[0m\n\u001b[0;32m--> 729\u001b[0;31m                 \u001b[0mident\u001b[0m\u001b[0;34m,\u001b[0m \u001b[0mreply\u001b[0m \u001b[0;34m=\u001b[0m \u001b[0mself\u001b[0m\u001b[0;34m.\u001b[0m\u001b[0msession\u001b[0m\u001b[0;34m.\u001b[0m\u001b[0mrecv\u001b[0m\u001b[0;34m(\u001b[0m\u001b[0mself\u001b[0m\u001b[0;34m.\u001b[0m\u001b[0mstdin_socket\u001b[0m\u001b[0;34m,\u001b[0m \u001b[0;36m0\u001b[0m\u001b[0;34m)\u001b[0m\u001b[0;34m\u001b[0m\u001b[0;34m\u001b[0m\u001b[0m\n\u001b[0m\u001b[1;32m    730\u001b[0m             \u001b[0;32mexcept\u001b[0m \u001b[0mException\u001b[0m\u001b[0;34m:\u001b[0m\u001b[0;34m\u001b[0m\u001b[0;34m\u001b[0m\u001b[0m\n",
            "\u001b[0;32m/usr/local/lib/python3.7/dist-packages/jupyter_client/session.py\u001b[0m in \u001b[0;36mrecv\u001b[0;34m(self, socket, mode, content, copy)\u001b[0m\n\u001b[1;32m    802\u001b[0m         \u001b[0;32mtry\u001b[0m\u001b[0;34m:\u001b[0m\u001b[0;34m\u001b[0m\u001b[0;34m\u001b[0m\u001b[0m\n\u001b[0;32m--> 803\u001b[0;31m             \u001b[0mmsg_list\u001b[0m \u001b[0;34m=\u001b[0m \u001b[0msocket\u001b[0m\u001b[0;34m.\u001b[0m\u001b[0mrecv_multipart\u001b[0m\u001b[0;34m(\u001b[0m\u001b[0mmode\u001b[0m\u001b[0;34m,\u001b[0m \u001b[0mcopy\u001b[0m\u001b[0;34m=\u001b[0m\u001b[0mcopy\u001b[0m\u001b[0;34m)\u001b[0m\u001b[0;34m\u001b[0m\u001b[0;34m\u001b[0m\u001b[0m\n\u001b[0m\u001b[1;32m    804\u001b[0m         \u001b[0;32mexcept\u001b[0m \u001b[0mzmq\u001b[0m\u001b[0;34m.\u001b[0m\u001b[0mZMQError\u001b[0m \u001b[0;32mas\u001b[0m \u001b[0me\u001b[0m\u001b[0;34m:\u001b[0m\u001b[0;34m\u001b[0m\u001b[0;34m\u001b[0m\u001b[0m\n",
            "\u001b[0;32m/usr/local/lib/python3.7/dist-packages/zmq/sugar/socket.py\u001b[0m in \u001b[0;36mrecv_multipart\u001b[0;34m(self, flags, copy, track)\u001b[0m\n\u001b[1;32m    618\u001b[0m         \"\"\"\n\u001b[0;32m--> 619\u001b[0;31m         \u001b[0mparts\u001b[0m \u001b[0;34m=\u001b[0m \u001b[0;34m[\u001b[0m\u001b[0mself\u001b[0m\u001b[0;34m.\u001b[0m\u001b[0mrecv\u001b[0m\u001b[0;34m(\u001b[0m\u001b[0mflags\u001b[0m\u001b[0;34m,\u001b[0m \u001b[0mcopy\u001b[0m\u001b[0;34m=\u001b[0m\u001b[0mcopy\u001b[0m\u001b[0;34m,\u001b[0m \u001b[0mtrack\u001b[0m\u001b[0;34m=\u001b[0m\u001b[0mtrack\u001b[0m\u001b[0;34m)\u001b[0m\u001b[0;34m]\u001b[0m\u001b[0;34m\u001b[0m\u001b[0;34m\u001b[0m\u001b[0m\n\u001b[0m\u001b[1;32m    620\u001b[0m         \u001b[0;31m# have first part already, only loop while more to receive\u001b[0m\u001b[0;34m\u001b[0m\u001b[0;34m\u001b[0m\u001b[0;34m\u001b[0m\u001b[0m\n",
            "\u001b[0;32mzmq/backend/cython/socket.pyx\u001b[0m in \u001b[0;36mzmq.backend.cython.socket.Socket.recv\u001b[0;34m()\u001b[0m\n",
            "\u001b[0;32mzmq/backend/cython/socket.pyx\u001b[0m in \u001b[0;36mzmq.backend.cython.socket.Socket.recv\u001b[0;34m()\u001b[0m\n",
            "\u001b[0;32mzmq/backend/cython/socket.pyx\u001b[0m in \u001b[0;36mzmq.backend.cython.socket._recv_copy\u001b[0;34m()\u001b[0m\n",
            "\u001b[0;32m/usr/local/lib/python3.7/dist-packages/zmq/backend/cython/checkrc.pxd\u001b[0m in \u001b[0;36mzmq.backend.cython.checkrc._check_rc\u001b[0;34m()\u001b[0m\n",
            "\u001b[0;31mKeyboardInterrupt\u001b[0m: ",
            "\nDuring handling of the above exception, another exception occurred:\n",
            "\u001b[0;31mKeyboardInterrupt\u001b[0m                         Traceback (most recent call last)",
            "\u001b[0;32m<ipython-input-17-a701a6531de6>\u001b[0m in \u001b[0;36m<module>\u001b[0;34m()\u001b[0m\n\u001b[0;32m----> 1\u001b[0;31m \u001b[0mcomenzar_partida\u001b[0m\u001b[0;34m(\u001b[0m\u001b[0;34m)\u001b[0m\u001b[0;34m\u001b[0m\u001b[0;34m\u001b[0m\u001b[0m\n\u001b[0m",
            "\u001b[0;32m<ipython-input-16-5b3a2a317134>\u001b[0m in \u001b[0;36mcomenzar_partida\u001b[0;34m()\u001b[0m\n\u001b[1;32m      7\u001b[0m   \u001b[0ma\u001b[0m \u001b[0;34m=\u001b[0m \u001b[0mmatrix_format\u001b[0m\u001b[0;34m(\u001b[0m\u001b[0mmatrix\u001b[0m\u001b[0;34m)\u001b[0m\u001b[0;34m\u001b[0m\u001b[0;34m\u001b[0m\u001b[0m\n\u001b[1;32m      8\u001b[0m   \u001b[0;32mwhile\u001b[0m \u001b[0mint\u001b[0m\u001b[0;34m(\u001b[0m\u001b[0mmove\u001b[0m\u001b[0;34m)\u001b[0m \u001b[0;34m!=\u001b[0m \u001b[0;34m-\u001b[0m\u001b[0;36m1\u001b[0m\u001b[0;34m:\u001b[0m\u001b[0;34m\u001b[0m\u001b[0;34m\u001b[0m\u001b[0m\n\u001b[0;32m----> 9\u001b[0;31m     \u001b[0mmove\u001b[0m \u001b[0;34m=\u001b[0m \u001b[0minput\u001b[0m\u001b[0;34m(\u001b[0m\u001b[0;34mf'jugador{player} pone ficha en columna:    '\u001b[0m\u001b[0;34m)\u001b[0m\u001b[0;34m\u001b[0m\u001b[0;34m\u001b[0m\u001b[0m\n\u001b[0m\u001b[1;32m     10\u001b[0m     \u001b[0;32mif\u001b[0m \u001b[0mint\u001b[0m\u001b[0;34m(\u001b[0m\u001b[0mmove\u001b[0m\u001b[0;34m)\u001b[0m \u001b[0;34m==\u001b[0m \u001b[0;34m-\u001b[0m\u001b[0;36m1\u001b[0m\u001b[0;34m:\u001b[0m\u001b[0;34m\u001b[0m\u001b[0;34m\u001b[0m\u001b[0m\n\u001b[1;32m     11\u001b[0m       \u001b[0;32mbreak\u001b[0m\u001b[0;34m\u001b[0m\u001b[0;34m\u001b[0m\u001b[0m\n",
            "\u001b[0;32m/usr/local/lib/python3.7/dist-packages/ipykernel/kernelbase.py\u001b[0m in \u001b[0;36mraw_input\u001b[0;34m(self, prompt)\u001b[0m\n\u001b[1;32m    702\u001b[0m             \u001b[0mself\u001b[0m\u001b[0;34m.\u001b[0m\u001b[0m_parent_ident\u001b[0m\u001b[0;34m,\u001b[0m\u001b[0;34m\u001b[0m\u001b[0;34m\u001b[0m\u001b[0m\n\u001b[1;32m    703\u001b[0m             \u001b[0mself\u001b[0m\u001b[0;34m.\u001b[0m\u001b[0m_parent_header\u001b[0m\u001b[0;34m,\u001b[0m\u001b[0;34m\u001b[0m\u001b[0;34m\u001b[0m\u001b[0m\n\u001b[0;32m--> 704\u001b[0;31m             \u001b[0mpassword\u001b[0m\u001b[0;34m=\u001b[0m\u001b[0;32mFalse\u001b[0m\u001b[0;34m,\u001b[0m\u001b[0;34m\u001b[0m\u001b[0;34m\u001b[0m\u001b[0m\n\u001b[0m\u001b[1;32m    705\u001b[0m         )\n\u001b[1;32m    706\u001b[0m \u001b[0;34m\u001b[0m\u001b[0m\n",
            "\u001b[0;32m/usr/local/lib/python3.7/dist-packages/ipykernel/kernelbase.py\u001b[0m in \u001b[0;36m_input_request\u001b[0;34m(self, prompt, ident, parent, password)\u001b[0m\n\u001b[1;32m    732\u001b[0m             \u001b[0;32mexcept\u001b[0m \u001b[0mKeyboardInterrupt\u001b[0m\u001b[0;34m:\u001b[0m\u001b[0;34m\u001b[0m\u001b[0;34m\u001b[0m\u001b[0m\n\u001b[1;32m    733\u001b[0m                 \u001b[0;31m# re-raise KeyboardInterrupt, to truncate traceback\u001b[0m\u001b[0;34m\u001b[0m\u001b[0;34m\u001b[0m\u001b[0;34m\u001b[0m\u001b[0m\n\u001b[0;32m--> 734\u001b[0;31m                 \u001b[0;32mraise\u001b[0m \u001b[0mKeyboardInterrupt\u001b[0m\u001b[0;34m\u001b[0m\u001b[0;34m\u001b[0m\u001b[0m\n\u001b[0m\u001b[1;32m    735\u001b[0m             \u001b[0;32melse\u001b[0m\u001b[0;34m:\u001b[0m\u001b[0;34m\u001b[0m\u001b[0;34m\u001b[0m\u001b[0m\n\u001b[1;32m    736\u001b[0m                 \u001b[0;32mbreak\u001b[0m\u001b[0;34m\u001b[0m\u001b[0;34m\u001b[0m\u001b[0m\n",
            "\u001b[0;31mKeyboardInterrupt\u001b[0m: "
          ]
        }
      ]
    },
    {
      "cell_type": "code",
      "metadata": {
        "id": "QxnfxfpvAibq"
      },
      "source": [
        ""
      ],
      "execution_count": null,
      "outputs": []
    }
  ]
}