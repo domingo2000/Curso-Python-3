{
 "cells": [
  {
   "cell_type": "markdown",
   "metadata": {
    "id": "PyAidb6v-r6y"
   },
   "source": [
    "# Ejercicios de Control de flujo\n"
   ]
  },
  {
   "cell_type": "markdown",
   "metadata": {
    "id": "HI5uotYp-yps"
   },
   "source": [
    "### Ejercicio 1\n",
    "Escribir un programa que pregunte al usuario su edad y muestre por pantalla si es mayor de edad o no."
   ]
  },
  {
   "cell_type": "code",
   "execution_count": 3,
   "metadata": {
    "id": "eD-TFFOG-0aV"
   },
   "outputs": [
    {
     "name": "stdout",
     "output_type": "stream",
     "text": [
      "Ingresa tu edad: 15\n",
      "Es menor de edad\n"
     ]
    }
   ],
   "source": [
    "# Escriba aqui su solución\n",
    "edad = int(input(\"Ingresa tu edad: \"))\n",
    "if edad >= 18:\n",
    "    print(\"Es mayor de edad\")\n",
    "else:\n",
    "    print(\"Es menor de edad\")"
   ]
  },
  {
   "cell_type": "markdown",
   "metadata": {
    "id": "JIznzlP_-y0r"
   },
   "source": [
    "### Ejercicio 2\n",
    "Escribir un programa que almacene la cadena de caracteres \"***contraseña***\" en una variable, pregunte al usuario por la contraseña e imprima por pantalla si la contraseña introducida por el usuario coincide con la guardada en la variable sin tener en cuenta mayúsculas y minúsculas.\n",
    "\n",
    "\n"
   ]
  },
  {
   "cell_type": "code",
   "execution_count": null,
   "metadata": {
    "id": "1emvzYqr_LfT"
   },
   "outputs": [],
   "source": [
    "# Escriba aqui su solución\n",
    "contraseña = \"12345678\"\n",
    "entrada = input(\"Ingrese su contraseña\")\n",
    "if entrada == contraseña:\n",
    "    print(\"La contraseña es correcta\")\n",
    "else:\n",
    "    print(\"La contraseña es incorrecta\")"
   ]
  },
  {
   "cell_type": "markdown",
   "metadata": {
    "id": "FMHTQXz1-y5b"
   },
   "source": [
    "### Ejercicio 3\n",
    "Escribir un programa que pida al usuario dos números y muestre por pantalla su división. Si el divisor es cero el programa debe mostrar un error."
   ]
  },
  {
   "cell_type": "code",
   "execution_count": 5,
   "metadata": {
    "id": "ckb5T0md_NJC"
   },
   "outputs": [
    {
     "name": "stdout",
     "output_type": "stream",
     "text": [
      "Ingrese el primer numero: 5\n",
      "Ingrese el segundo numero: 2\n",
      "La division entre ambos numeros vale 2.5\n"
     ]
    }
   ],
   "source": [
    "# Escriba aqui su solución\n",
    "a = int(input(\"Ingrese el primer numero: \"))\n",
    "b = int(input(\"Ingrese el segundo numero: \"))\n",
    "if b == 0:\n",
    "    print(\"Error, no se puede dividir por 0\")\n",
    "else:\n",
    "    print(\"La division entre ambos numeros vale\", a / b)"
   ]
  },
  {
   "cell_type": "markdown",
   "metadata": {
    "id": "ahReISEQ_N_w"
   },
   "source": [
    "### Ejercicio 4\n",
    "Escribir un programa que pida al usuario un número entero y muestre por pantalla si es par o impar."
   ]
  },
  {
   "cell_type": "code",
   "execution_count": 10,
   "metadata": {
    "id": "l2dccERB_OKC"
   },
   "outputs": [
    {
     "name": "stdout",
     "output_type": "stream",
     "text": [
      "Ingrese un número entero: 3\n",
      "El número es impar\n"
     ]
    }
   ],
   "source": [
    "# Escriba aqui su solución\n",
    "n = int(input(\"Ingrese un número entero: \"))\n",
    "if n % 2 == 0:\n",
    "    print(\"El número es par\")\n",
    "else:\n",
    "    print(\"El número es impar\")\n"
   ]
  },
  {
   "cell_type": "markdown",
   "metadata": {
    "id": "BVok_pwK_OS-"
   },
   "source": [
    "### Ejercicio 5\n",
    "Para tributar un determinado impuesto se debe ser mayor de 18 años y tener unos ingresos iguales o superiores a $1.000.000  mensuales. Escribir un programa que pregunte al usuario su edad y sus ingresos mensuales y muestre por pantalla si el usuario tiene que tributar o no."
   ]
  },
  {
   "cell_type": "code",
   "execution_count": null,
   "metadata": {
    "id": "6BnENpzd_Ob8"
   },
   "outputs": [],
   "source": [
    "# Escriba aqui su solución\n",
    "edad = int(input(\"Ingrese su edad: \"))\n",
    "ingresos = float(input(\"Ingrese sus ingresos mensuales: \"))\n",
    "if (edad >= 18) and (ingresos > 1000000):\n",
    "    print(\"Usted debe tributar sus ingresos\")\n",
    "else:\n",
    "    print(\"Usted no debe tributar sus ingresos\")\n"
   ]
  },
  {
   "cell_type": "markdown",
   "metadata": {
    "id": "22sopR73_O2n"
   },
   "source": [
    "### Ejercicio 7\n",
    "\n",
    "Los tramos impositivos para la declaración de la renta en un determinado país son los siguientes:\n",
    "\n",
    "|         Renta          | % de impuesto |\n",
    "| :--------------------: | :-------------: |\n",
    "|    Menos de 1.000.000    |       5%        |\n",
    "| Entre 1.000.000 y 2.000.000  |       15%       |\n",
    "| Entre 2.000.000 y 3.500.000  |       20%       |\n",
    "| Entre 3.500.000 y 6.000.000  |       30%       |\n",
    "|     Más de 6.000.000     |       45%       |\n",
    "\n",
    "Escribir un programa que pregunte al usuario su renta anual y muestre por pantalla lo que tiene que pagar. <br>\n",
    "Notar que los impuestos se aplican de forma marginal, eso quiere decir que si yo gano\n",
    "1.500.000 entonces los 500.000 sobre el millon pagan el 15% de impuestos y el otro millón restante paga el 5%, a continuación se muestran algunos ejemplos de cálculo de impuestos. Dada la dificultad que significa calcular impuestos por tramos a mano este programa es muy útil para simular diferentes impuestos para sueldos rápidamente.\n",
    "#### Ejemplo 1\n",
    "Renta de 6.500.000\n",
    "Dinero sobre 6 millones 500.000: <br>\n",
    "500.000 * 0.45 = **225.000** de impuesto en el último tramo<br>\n",
    "Dinero entre 3.500.000 y 6.000.000 = 1.500.000 <br>\n",
    "2.500.000 * 0.30 = **750.000** de impuesto en el cuarto tramo<br>\n",
    "Dinero entre 2.000.000 y 3.500.000 = 1.500.000 <br>\n",
    "1.500.000 * 0.20 = **300.000** de impuesto en el tercer tramo<br>\n",
    "Dinero entre 1.000.000 y 2.000.000 = 1.000.000 <br>\n",
    "1.000.000 * 0.15 = **150.000** de impuesto en el segundo tramo<br>\n",
    "Dinero entre 0 y 1.000.000 = 1.000.000<br>\n",
    "1.000.000 * 0.05 = **50.000**\n",
    "\n",
    "Impuesto total = 225.000 + 750.000 + 300.000 + 150.000 + 50.000 = 1.475.000 pesos de impuesto total\n",
    "#### Ejemplo 2\n",
    "renta total de 1.300.000 <br>\n",
    "los 300.000 sobre el millon pagan un 15% de impuestos = **45.000** <br>\n",
    "el millon restante paga el 5 % de impuesto pues está en el primer tramo = **50.000** <br>\n",
    "Impuesto Total de **95.000**\n",
    "\n",
    "Dato freak: ¿Porque se calculan de esa manera los impuestos y no simplemente se les saca el porcentaje completo?. Esto se hace para que los impuestos sean más justos y se evite la evasión de impuestos, puesto que si se cobraran directamente todos tratarían de bajar de tramo para que les cobren menos impuestos (ej: si se cobrara el 45% de 6.500.000 entonces convendría ganar 5.999.999 para que no me afecte el 45% en todo mi sueldo)."
   ]
  },
  {
   "cell_type": "code",
   "execution_count": 12,
   "metadata": {
    "id": "bpw3aFRj_O-f"
   },
   "outputs": [
    {
     "name": "stdout",
     "output_type": "stream",
     "text": [
      "Ingrese su renta anual: 6500000\n",
      "El impuesto total a pagar es de $1475000.0\n"
     ]
    }
   ],
   "source": [
    "# Escriba aqui su solución\n",
    "renta = float(input(\"Ingrese su renta anual: \"))\n",
    "impuesto_total = 0\n",
    "if renta > 6000000:\n",
    "    dinero_tramo_5 = renta - 6000000\n",
    "    impuesto_total += dinero_tramo_5 * 0.45\n",
    "    renta = 6000000\n",
    "if renta > 3500000:\n",
    "    dinero_tramo_4 = renta - 3500000\n",
    "    impuesto_total += dinero_tramo_4 * 0.30\n",
    "    renta = 3500000\n",
    "if renta > 2000000:\n",
    "    dinero_tramo_3 = renta - 2000000\n",
    "    impuesto_total += dinero_tramo_3 * 0.20\n",
    "    renta = 2000000\n",
    "if renta > 1000000:\n",
    "    dinero_tramo_2 = renta - 1000000\n",
    "    impuesto_total += dinero_tramo_2 * 0.15\n",
    "    renta = 1000000\n",
    "if renta > 0:\n",
    "    dinero_tramo_1 = renta\n",
    "    impuesto_total += dinero_tramo_1 * 0.05\n",
    "    renta = 0\n",
    "string = \"El impuesto total a pagar es de \" + \"$\" + str(impuesto_total)\n",
    "print(string)"
   ]
  },
  {
   "cell_type": "markdown",
   "metadata": {
    "id": "-13s8_Qo_PHy"
   },
   "source": [
    "### Ejercicio 8\n",
    "\n",
    "En una determinada empresa, sus empleados son evaluados al final de cada año. Los puntos que pueden obtener en la evaluación comienzan en 0.0 y pueden ir aumentando, traduciéndose en mejores beneficios.\n",
    "Los puntos que pueden conseguir los empleados pueden ser 0.0, 0.4. o 0.6, pero no valores intermedios entre las cifras mencionadas.\n",
    "A continuación se muestra una tabla con los niveles correspondientes a cada puntuación.\n",
    "La cantidad de dinero conseguida en cada nivel es de 2.400€ multiplicada por la puntuación del nivel.\n",
    "\n",
    "|    Nivel    | Puntuación |\n",
    "| :---------: | :--------: |\n",
    "| Inaceptable |    0.0     |\n",
    "|  Aceptable  |    0.4     |\n",
    "|  Meritorio  |    0.6     |\n",
    "\n",
    "Escribir un programa que lea la puntuación del usuario e indique su nivel de rendimiento, así como la cantidad de dinero que recibirá el usuario."
   ]
  },
  {
   "cell_type": "code",
   "execution_count": 7,
   "metadata": {
    "id": "W60cmZSL_PPE"
   },
   "outputs": [
    {
     "name": "stdout",
     "output_type": "stream",
     "text": [
      "Ingrese su puntuación de usuario: 0.5\n",
      "La puntuación es inválida!\n"
     ]
    }
   ],
   "source": [
    "# Escriba aqui su solución\n",
    "puntuacion = float(input(\"Ingrese su puntuación de usuario: \"))\n",
    "base = 2400\n",
    "if (puntuacion == 0.0) or (puntuacion == 0.6) or (puntuacion == 0.4):\n",
    "    dinero = base * puntuacion\n",
    "    print(\"El bono conseguido es de: $\" + str(dinero))\n",
    "else:\n",
    "    print(\"La puntuación es inválida!\")"
   ]
  },
  {
   "cell_type": "markdown",
   "metadata": {
    "id": "uVVKoW5r_PXx"
   },
   "source": [
    "### Ejercicio 9\n",
    "Escribir un programa para una empresa que tiene salas de juegos para todas las edades y quiere calcular de forma automática el precio que debe cobrar a sus clientes por entrar. El programa debe preguntar al usuario la edad del cliente y mostrar el precio de la entrada. Si el cliente es menor de 4 años puede entrar gratis, si tiene entre 4 y 18 años debe pagar 5.000 y si es mayor de 18 años, 10.000."
   ]
  },
  {
   "cell_type": "code",
   "execution_count": 12,
   "metadata": {
    "id": "j7hwNNg8_PfZ"
   },
   "outputs": [
    {
     "name": "stdout",
     "output_type": "stream",
     "text": [
      "Ingresa cuantos años tienes: 2\n",
      "Puedes pasar gratis! Adelante\n"
     ]
    }
   ],
   "source": [
    "# Escriba aqui su solución\n",
    "edad = int(input(\"Ingresa cuantos años tienes: \"))\n",
    "if edad < 4:\n",
    "    print(\"Puedes pasar gratis! Adelante\")\n",
    "elif 4 <= edad < 18:\n",
    "    print(\"Debes pagar $5.000 para entrar\")\n",
    "else:\n",
    "    print(\"Debes pagar $10.000 para entrar\")"
   ]
  },
  {
   "cell_type": "markdown",
   "metadata": {
    "id": "CdcJD494_PnL"
   },
   "source": [
    "### Ejercicio 10\n",
    "\n",
    "\n",
    "La pizzería Bella Napoli ofrece pizzas vegetarianas y no vegetarianas a sus clientes.\n",
    "Los ingredientes para cada tipo de pizza aparecen a continuación.\n",
    "\n",
    "- Ingredientes vegetarianos: Pimiento y tofu.\n",
    "- Ingredientes no vegetarianos: Peperoni, Jamón y Salmón.\n",
    "\n",
    "Escribir un programa que pregunte al usuario si quiere una pizza vegetariana o no, y en función de su respuesta le muestre un menú con los ingredientes disponibles para que elija.\n",
    "Solo se puede eligir un ingrediente además de la mozzarella y el tomate que están en todas la pizzas.\n",
    "Al final se debe mostrar por pantalla si la pizza elegida es vegetariana o no y todos los ingredientes que lleva.\n"
   ]
  },
  {
   "cell_type": "code",
   "execution_count": 18,
   "metadata": {
    "id": "pls61EAH_Pux"
   },
   "outputs": [
    {
     "name": "stdout",
     "output_type": "stream",
     "text": [
      "Ingrese si es vegetariano o no, ingrese \"1\" si es vegetariano y \"0\" si no lo es: 0\n",
      "Los ingrdientes disponibles son:\n",
      "[0] Peperoni\n",
      "[1] Jamón\n",
      "[2] Salmón\n",
      "Ingrese el número del ingrediente que quiere comer: 2\n",
      "Los ingredientes de su pizza son mozazarella, tomate y Salmón\n"
     ]
    }
   ],
   "source": [
    "# Escriba aqui su solución\n",
    "vegetariano = int(input('Ingrese si es vegetariano o no, ingrese \"1\" si es vegetariano y \"0\" si no lo es: '))\n",
    "print(\"Los ingrdientes disponibles son:\")\n",
    "if vegetariano == 1:\n",
    "    print(\"[0] Pimiento\")\n",
    "    print(\"[1] Tofu\")\n",
    "    ingrediente = int(input(\"Ingrese el número del ingrediente que quiere comer: \"))\n",
    "    if ingrediente == 0:\n",
    "        ingrediente = \"Pimiento\"\n",
    "    elif ingrediente == 1:\n",
    "        ingrediente = \"Tofu\"\n",
    "    else:\n",
    "        print(\"Ingrediente inválido\")\n",
    "elif vegetariano == 0:\n",
    "    print(\"[0] Peperoni\")\n",
    "    print(\"[1] Jamón\")\n",
    "    print(\"[2] Salmón\")\n",
    "    ingrediente = int(input(\"Ingrese el número del ingrediente que quiere comer: \"))\n",
    "    if ingrediente == 0:\n",
    "        ingrediente = \"Peperoni\"\n",
    "    elif ingrediente == 1:\n",
    "        ingrediente = \"Jamón\"\n",
    "    elif ingrediente == 2:\n",
    "        ingrediente = \"Salmón\"\n",
    "    else:\n",
    "        print(\"Ingrediente inválido\")\n",
    "else:\n",
    "    print(\"Entrada inválida\")\n",
    "mensaje = \"Los ingredientes de su pizza son mozazarella, tomate y \" + ingrediente\n",
    "print(mensaje)"
   ]
  },
  {
   "cell_type": "markdown",
   "metadata": {
    "id": "zTW7MD_rVd4x"
   },
   "source": [
    "### Ejercicio 11\n",
    "Se requiere calcular el área de tres figuras geométricas: cuadrado (figura tipo 1), círculo (figura tipo 2) y triángulo (figura tipo 3). Tu programa primero debe preguntar qué tipo es la figura, luego preguntar la información relevante para calcular el área, guardar el área calculada en una variable llamada area, e imprimir su valor en pantalla al finalizar."
   ]
  },
  {
   "cell_type": "code",
   "execution_count": 25,
   "metadata": {
    "id": "e9iO3hvzVeKh"
   },
   "outputs": [
    {
     "name": "stdout",
     "output_type": "stream",
     "text": [
      "Elija una figura para calcular su area\n",
      "[0] Cuadrado\n",
      "[1] Círculo\n",
      "[2] Triángulo\n",
      "Ingrese el número de la figura para calcular su area: 4\n",
      "Figura inválida!\n"
     ]
    }
   ],
   "source": [
    "# Escriba aqui su solución\n",
    "import math\n",
    "\n",
    "print(\"Elija una figura para calcular su area\")\n",
    "print(\"[0] Cuadrado\")\n",
    "print(\"[1] Círculo\")\n",
    "print(\"[2] Triángulo\")\n",
    "figura = int(input(\"Ingrese el número de la figura para calcular su area: \"))\n",
    "if figura == 0:\n",
    "    lado = float(input(\"Ingrse la medida del lado: \"))\n",
    "    area = lado * lado\n",
    "elif figura == 1:\n",
    "    radio = float(input(\"Ingrse la medida del radio: \"))\n",
    "    area = math.pi * (radio ** 2)\n",
    "    area = round(area, 2)\n",
    "elif figura == 2:\n",
    "    base = float(input(\"Ingrse la medida de la base: \"))\n",
    "    altura = float(input(\"Ingrse la medida de la altura: \"))\n",
    "    area = (base * altura) / 2\n",
    "else:\n",
    "    print(\"Figura inválida!\")\n",
    "    area = -1\n",
    "\n",
    "if area >= 0: # Pues no definimos el area en caso de que la entrada sea inválida y nos arrojaría un error en ese caso\n",
    "    print(\"El area de la figura escogida es de\", area)"
   ]
  },
  {
   "cell_type": "markdown",
   "metadata": {
    "id": "Dc4suDxmVeSA"
   },
   "source": [
    "### Ejercicio 12\n",
    "Realiza un programa que pida al usuario dos números a y b. Luego debe pedir un tercer número que representa una operación matemática (1 para sumar, 2 para resta, 3 para multiplicación y 4 para división). Debe imprimir en pantalla el resultado de operar a con b mediante el operador que quería usar el usuario."
   ]
  },
  {
   "cell_type": "code",
   "execution_count": 33,
   "metadata": {
    "id": "AhxguA_3Veap"
   },
   "outputs": [
    {
     "name": "stdout",
     "output_type": "stream",
     "text": [
      "Ingrese un número: 3\n",
      "Ingrese otro número: 5\n",
      "A continuación se muestran las posibles operaciones para los números dados\n",
      "[1] sumar\n",
      "[2] restar\n",
      "[3] multiplicar\n",
      "[4] dividir\n",
      "Ingrese que operacion quiere realizar: 4\n",
      "El resultado de la operacion es:  0.6\n"
     ]
    }
   ],
   "source": [
    "# Escriba aqui su solución\n",
    "a = float(input(\"Ingrese un número: \"))\n",
    "b = float(input(\"Ingrese otro número: \"))\n",
    "print(\"A continuación se muestran las posibles operaciones para los números dados\")\n",
    "print(\"[1] sumar\")\n",
    "print(\"[2] restar\")\n",
    "print(\"[3] multiplicar\")\n",
    "print(\"[4] dividir\")\n",
    "opcion = int(input(\"Ingrese que operacion quiere realizar: \"))\n",
    "\n",
    "if opcion == 1:\n",
    "    resultado = a + b\n",
    "elif opcion == 2:\n",
    "    resultado = a - b\n",
    "    pass\n",
    "elif opcion == 3:\n",
    "    resultado = a * b\n",
    "    pass\n",
    "elif opcion == 4:\n",
    "    resultado = a / b\n",
    "    resultado = round(resultado, 2)\n",
    "    pass\n",
    "else:\n",
    "    opcion = -1\n",
    "    print(\"opción inválida\")\n",
    "\n",
    "if opcion != -1:\n",
    "    print(\"El resultado de la operacion es: \", resultado)\n"
   ]
  }
 ],
 "metadata": {
  "colab": {
   "collapsed_sections": [],
   "name": "Ejercicios Control de flujo.ipynb",
   "provenance": []
  },
  "kernelspec": {
   "display_name": "Python 3",
   "language": "python",
   "name": "python3"
  },
  "language_info": {
   "codemirror_mode": {
    "name": "ipython",
    "version": 3
   },
   "file_extension": ".py",
   "mimetype": "text/x-python",
   "name": "python",
   "nbconvert_exporter": "python",
   "pygments_lexer": "ipython3",
   "version": "3.7.8"
  }
 },
 "nbformat": 4,
 "nbformat_minor": 1
}
