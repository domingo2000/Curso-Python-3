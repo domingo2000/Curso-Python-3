{
 "cells": [
  {
   "cell_type": "markdown",
   "metadata": {
    "id": "w_iB33OJtSZu"
   },
   "source": [
    "# Estructuras de datos"
   ]
  },
  {
   "cell_type": "markdown",
   "metadata": {
    "id": "K7okpDW9tSZu"
   },
   "source": [
    "Hasta ahora solo hemos conocido tipos de datos simples como números y strings, y hemos escrito código con ellas. Por lo general al escribir programas se necesita además de estructuras un poco mas grandes llamadas **Estructuras de datos**, estas se usan para almacenar distintos tipos de datos, es decir son como cajas que nos permiten guardar varios datos en un mismo lugar.\n",
    "Las estructuras de datos que existen en python incluyen las **listas**, **tuplas**, **diccionarios** y **sets**, cada una de ellas se utilizan para guardar un conjunto de datos en situaciones diferentes, y se puede escribir código para poder manipular los datos en ellas como veremos a continuación.\n"
   ]
  },
  {
   "cell_type": "markdown",
   "metadata": {
    "id": "1LH4luhCtSZv"
   },
   "source": [
    "## Listas (list)"
   ]
  },
  {
   "cell_type": "markdown",
   "metadata": {
    "id": "ESCoKxUCtSZv"
   },
   "source": [
    "Las listas son la estructura de datos mas usada en python, las listas definen una *secuencia* de datos, piensenlo como varios datos dentro de dos corchetes y separados por comas, a continuación se muestra un ejemplo con la syntax para declarar una lista que dejará claro en que consiste una estructura de datos."
   ]
  },
  {
   "cell_type": "code",
   "execution_count": 1,
   "metadata": {
    "colab": {
     "base_uri": "https://localhost:8080/"
    },
    "id": "mkvN5hdrtSZw",
    "outputId": "42637b71-dbd3-428c-fd16-73fab5f75b3d"
   },
   "outputs": [
    {
     "name": "stdout",
     "output_type": "stream",
     "text": [
      "[10, 20, 5, 1]\n"
     ]
    }
   ],
   "source": [
    "a = [10, 20, 5, 1] # Como ven podemos meter muchos datos en una lista en este caso números\n",
    "print(a)"
   ]
  },
  {
   "cell_type": "code",
   "execution_count": 2,
   "metadata": {
    "colab": {
     "base_uri": "https://localhost:8080/"
    },
    "id": "7iAhdNP-tSZw",
    "outputId": "d2e2fa83-8b75-43fd-83f6-5956fedb415a"
   },
   "outputs": [
    {
     "name": "stdout",
     "output_type": "stream",
     "text": [
      "[10, 10.5, 'hola', True]\n"
     ]
    }
   ],
   "source": [
    "# Ademas python deja meter distintos tipos de datos en una sola lista\n",
    "b = [10, 10.5, \"hola\", True]\n",
    "print(b)"
   ]
  },
  {
   "cell_type": "markdown",
   "metadata": {
    "id": "-6A_Jk9NtSZ3"
   },
   "source": [
    "### Indexamiento"
   ]
  },
  {
   "cell_type": "markdown",
   "metadata": {
    "id": "OFkimtWytSZ3"
   },
   "source": [
    "En python cuando queremos encontrar un elemento en una posición de una lista usamos **índices**, como hemos dicho antes, los computadores (y por lo tanto python también), **cuentan desde el 0**, por lo que para obtener el primer elemento de una lista hacemos lo siguiente"
   ]
  },
  {
   "cell_type": "code",
   "execution_count": 5,
   "metadata": {
    "colab": {
     "base_uri": "https://localhost:8080/"
    },
    "id": "SOzMfCiytSZ4",
    "outputId": "3132eac8-5c06-4d68-c829-3aa616ea6e48"
   },
   "outputs": [
    {
     "name": "stdout",
     "output_type": "stream",
     "text": [
      "apple\n"
     ]
    }
   ],
   "source": [
    "x = ['apple', 'orange', 'banana', 'watermelon', 'pinaple']\n",
    "elemento_1 = x[0]\n",
    "print(elemento_1)"
   ]
  },
  {
   "cell_type": "markdown",
   "metadata": {
    "id": "7FwrW2P_2k4K"
   },
   "source": [
    "A esta acción de obtener un elemento por su índice se le llama **indexamiento**,las listas permiten este comportamiento por lo tanto se dicen **indexables**. <br>\n",
    "Nota: *Si no entiendes bien el conxepto de indexable ya lo entenderás cuando veas las otras estructuras de datos que no son indexables.*"
   ]
  },
  {
   "cell_type": "markdown",
   "metadata": {
    "id": "b0lanQ521wrT"
   },
   "source": [
    "Si queremos obtener cualquier posición seguimos contando desde el 0 en adelante, es decir: <br>\n",
    "Posicion: 1, 2, 3, 4, 5, 6, 7 ... <br>\n",
    "  Indice: 0, 1, 2, 3, 4, 5, 6 ..."
   ]
  },
  {
   "cell_type": "code",
   "execution_count": 6,
   "metadata": {
    "colab": {
     "base_uri": "https://localhost:8080/"
    },
    "id": "yiK2PHrw2CWY",
    "outputId": "a12e2188-e7cd-46c7-8fe1-a7e40221fb2f"
   },
   "outputs": [
    {
     "name": "stdout",
     "output_type": "stream",
     "text": [
      "pinaple\n",
      "orange\n"
     ]
    }
   ],
   "source": [
    "# Intenta cambiar los indices para ir obteniendo los distintos elementos de la lista\n",
    "elemento_5 = x[4]\n",
    "elemento_2 = x[1]\n",
    "print(elemento_5)\n",
    "print(elemento_2)"
   ]
  },
  {
   "cell_type": "markdown",
   "metadata": {
    "id": "ApKbjFigtSZ4"
   },
   "source": [
    "Además podemos ir indexando los elementos en orden inverso, para ello usamos índices negativos, es decir, si ponemos -1 nos da el último elemento, -2 nos da el penúltimo, y asi seguimos."
   ]
  },
  {
   "cell_type": "code",
   "execution_count": 16,
   "metadata": {
    "colab": {
     "base_uri": "https://localhost:8080/"
    },
    "id": "8gHjyb_otSZ5",
    "outputId": "82e03824-3e7f-4ffa-fe43-04e175fef2b3"
   },
   "outputs": [
    {
     "name": "stdout",
     "output_type": "stream",
     "text": [
      "pinaple\n",
      "watermelon\n"
     ]
    }
   ],
   "source": [
    "ultimo = x[-1]\n",
    "print(ultimo)\n",
    "penultimo = x[-2]\n",
    "print(penultimo)"
   ]
  },
  {
   "cell_type": "markdown",
   "metadata": {
    "id": "kjE9AJR96xQn"
   },
   "source": [
    "## Listas de Listas\n",
    "Como dijimos antes, en una lista puedo meter cualquier tipo de dato, por lo tanto, !Podemos meter listas dentro de listas!, así como en una caja grande podemos meter varias cajas pequeñas, en las listas podemos meter dentro de ellas otras listas."
   ]
  },
  {
   "cell_type": "markdown",
   "metadata": {
    "id": "BQg2mBoRtSZ8"
   },
   "source": [
    "Para dar un ejemplo de como hasemos esto haremos un ejemplo, en este tenemos dos listas, cada una contiene el nombre de una persona, su apellido y su edad de la siguiente forma `persona = [nombre, apellido, edad]`, si queremos hacer una lista con varias personas entonces debemos meter estas listas con los datos de una persona en otra que tenga a todas las personas com ose muestra a continuacion."
   ]
  },
  {
   "cell_type": "code",
   "execution_count": 7,
   "metadata": {
    "colab": {
     "base_uri": "https://localhost:8080/"
    },
    "id": "BNMHNabk9GrT",
    "outputId": "711ba18b-9dda-4139-fa3a-00c5383d21ed"
   },
   "outputs": [
    {
     "name": "stdout",
     "output_type": "stream",
     "text": [
      "[['Arturo', 'Vidal', '34'], ['Gary', 'Medel', '33']]\n"
     ]
    }
   ],
   "source": [
    "p1 = [\"Arturo\", \"Vidal\", \"34\"]\n",
    "p2 = [\"Gary\", \"Medel\", \"33\"]\n",
    "personas = [p1, p2]\n",
    "print(personas)"
   ]
  },
  {
   "cell_type": "markdown",
   "metadata": {
    "id": "QWTu15HO9i3h"
   },
   "source": [
    "Como pueden ver, tenemos una lista de personas que contiene dos listas con los datos de dichas personas, a continuación veremos como acceder a dichos datos con indexamiento."
   ]
  },
  {
   "cell_type": "code",
   "execution_count": 8,
   "metadata": {
    "colab": {
     "base_uri": "https://localhost:8080/"
    },
    "id": "VGCyduQV9sCF",
    "outputId": "c7a0c952-0b0b-49cf-889d-f85973ea54e3"
   },
   "outputs": [
    {
     "name": "stdout",
     "output_type": "stream",
     "text": [
      "['Arturo', 'Vidal', '34']\n"
     ]
    }
   ],
   "source": [
    "# Si queremos obtener la persona 1 entonces hacemos lo mismo que antes\n",
    "persona_1 = personas[0]\n",
    "print(persona_1)"
   ]
  },
  {
   "cell_type": "code",
   "execution_count": 9,
   "metadata": {
    "colab": {
     "base_uri": "https://localhost:8080/"
    },
    "id": "VD-GsXiI92vC",
    "outputId": "a066e007-270c-45ff-b765-dafd54704478"
   },
   "outputs": [
    {
     "name": "stdout",
     "output_type": "stream",
     "text": [
      "Vidal\n",
      "34\n"
     ]
    }
   ],
   "source": [
    "# Si queremos acceder directamente a un dato 2 de la persona 1 usamos índices dobles\n",
    "# El primer índice saca el dato de la lista, y el segundo de la lista dentro de la anterior\n",
    "apellido = personas[0][1]\n",
    "print(apellido)\n",
    "edad = personas[0][2]\n",
    "print(edad)"
   ]
  },
  {
   "cell_type": "code",
   "execution_count": 12,
   "metadata": {
    "colab": {
     "base_uri": "https://localhost:8080/"
    },
    "id": "hqtAzgyZ-Oe9",
    "outputId": "151b287c-a35a-48a5-ce04-4694049e5960"
   },
   "outputs": [
    {
     "name": "stdout",
     "output_type": "stream",
     "text": [
      "Datos sobre Gary Medel:\n",
      "Medel\n",
      "33\n"
     ]
    }
   ],
   "source": [
    "# Otro ejemplo accediendo a los datos de Gary\n",
    "print(\"Datos sobre Gary Medel:\")\n",
    "apellido = personas[1][1]\n",
    "print(apellido)\n",
    "edad = personas[1][2]\n",
    "print(edad)"
   ]
  },
  {
   "cell_type": "markdown",
   "metadata": {
    "id": "mUxCmXLRtSZ_"
   },
   "source": [
    "El indexamiento en listas de listas puede ser confuso, por lo que vamos a explicar paso por paso que es lo que pasa cuando hacemos `personas[0][2]` para obtener la edad de arturo vidal.\n",
    "1. En primer lugar el indice `[0]` saca la lista en la posición 1 de la lista personas, es decir `['Arturo', 'Vidal', '34']`\n",
    "2. Luego el indice `[2]` accede a la lista `['Arturo', 'Vidal', '34']` y da el tercer elemento de ella es decir `34`"
   ]
  },
  {
   "cell_type": "code",
   "execution_count": 14,
   "metadata": {},
   "outputs": [
    {
     "name": "stdout",
     "output_type": "stream",
     "text": [
      "34\n"
     ]
    }
   ],
   "source": [
    "print(personas[0][2])"
   ]
  },
  {
   "cell_type": "markdown",
   "metadata": {
    "id": "ZIJv80xytSaB"
   },
   "source": [
    "Las listas no tienen que ser *homogeneas*. Es decir puedo tener diferentes tipos de datos en una sola lista."
   ]
  },
  {
   "cell_type": "code",
   "execution_count": 16,
   "metadata": {
    "id": "rQ0try16tSaF",
    "outputId": "13b7a03f-5de6-4afa-a455-9137ab4132dd"
   },
   "outputs": [
    {
     "data": {
      "text/plain": [
       "['this is a valid list', 2, 3.6, (1+2j), ['a', 'sublist']]"
      ]
     },
     "execution_count": 16,
     "metadata": {},
     "output_type": "execute_result"
    }
   ],
   "source": [
    "# Esta lista tiene strings, ints, complejos, float y incluso otra lista\n",
    "[\"this is a valid list\",2,3.6,(1+2j),[\"a\",\"sublist\"]] "
   ]
  },
  {
   "cell_type": "markdown",
   "metadata": {
    "id": "huUi8uJStSaH"
   },
   "source": [
    "### Slicing"
   ]
  },
  {
   "cell_type": "markdown",
   "metadata": {
    "id": "-rCJDHzjtSaI"
   },
   "source": [
    "Cuando hacemos indexamiento estamos limitados a solo obtener un elemento de la lista, **slicing** por otro lado me permite acceder a una secuencia de datos de la lista, es decir puedo acceder a varios datos si lo deseo en vez de solo 1. La traducción de slicing es \"rebanar\" y significa que cortamos la lista en un rango definido.\n",
    "\n",
    "El slicing se hace definiendo indices para el valor del primer y ultimo elemento que queremos obtener de la lista como se muestra a continuación."
   ]
  },
  {
   "cell_type": "code",
   "execution_count": 18,
   "metadata": {
    "id": "vQQqwtr3tSaI",
    "outputId": "abd5ca52-096d-4d81-cc66-ff5849e92733"
   },
   "outputs": [
    {
     "name": "stdout",
     "output_type": "stream",
     "text": [
      "[0, 1, 2, 3]\n",
      "['Alexis', 'Vidal', 'Medel']\n"
     ]
    }
   ],
   "source": [
    "num = [0,1,2,3,4,5,6,7,8,9]\n",
    "# El primer indice es 0 asi que toma el numero 0, y el último indice es el 4 osea hasta el quinto elemento sin incluirlo\n",
    "print(num[0:4]) \n",
    "futbolistas = [\"Alexis\", \"Vidal\", \"Medel\", \"Maripan\"]\n",
    "buenos = futbolistas[0:3]\n",
    "print(buenos)"
   ]
  },
  {
   "cell_type": "markdown",
   "metadata": {},
   "source": [
    "Matemáticamente un slicing de la forma `list[a:b]` te entrega todos los elementos partiendo del índice a, hasta el indice b sin incluir el último elemento. Es decir para el ejemplo de los futbolistas tenemos que <br>\n",
    "`futbolistas[0]` $\\xrightarrow{}$ `\"Alexis\"` <br>\n",
    "`futbolistas[3]` $\\xrightarrow{}$ `\"Maripan\"`<br>\n",
    "`futbolistas[0:3]` son todos los fútbolistas desde alexis hasta maripan sin incluir a maripan"
   ]
  },
  {
   "cell_type": "markdown",
   "metadata": {},
   "source": [
    "Además se puede hacer slicing omitiendo el primer o útlimo indice<br>\n",
    "si se omite el primer índice de la forma `list[:b]` toma todos los elementos desde el inicio es decir `list[0,b]`\n",
    "si se omite el segundo índice `list[a:]` entonces toma desde a hasta el último elemnto incluyendolo"
   ]
  },
  {
   "cell_type": "code",
   "execution_count": 19,
   "metadata": {},
   "outputs": [
    {
     "name": "stdout",
     "output_type": "stream",
     "text": [
      "['Alexis', 'Vidal']\n",
      "['Medel', 'Maripan']\n"
     ]
    }
   ],
   "source": [
    "print(futbolistas[:2]) # parte desde el início hasta el indice 2 sin incluir el último\n",
    "print(futbolistas[2:]) # Parte desde el índice 2 es decir el tercer elemento y muestra hasta el final"
   ]
  },
  {
   "cell_type": "markdown",
   "metadata": {
    "id": "F0bFLgrftSaK"
   },
   "source": [
    "Por úlimo se puede indexar por **pasos** es decir se va saltando algunos elementos para ello hacemos <br>\n",
    "`list[a:b:step]` <br>\n",
    "donde step es la cantidad de pasos que se va saltando, hagamos un ejemplo para que quede claro."
   ]
  },
  {
   "cell_type": "code",
   "execution_count": 21,
   "metadata": {
    "id": "GZC-fKuYtSaK",
    "outputId": "08278119-1e17-42a5-d50a-2f2c3dcef0f6"
   },
   "outputs": [
    {
     "name": "stdout",
     "output_type": "stream",
     "text": [
      "[2, 4, 6, 8, 10, 12, 14]\n",
      "[0, 2, 4, 6, 8, 10, 12, 14]\n",
      "[1, 3, 5, 7, 9, 11, 13]\n"
     ]
    }
   ],
   "source": [
    "num = [0, 1, 2, 3, 4, 5, 6, 7, 8, 9, 10, 11, 12, 13, 14]\n",
    "pares = num[2:15:2] # empiezo del 2, hasta el índice 15 (elemento 14) y voy saltando de 2 en 2\n",
    "print(pares)\n",
    "pares = num[::2] # Como no pongo ni a ni b entonces parte del primero hasta el último pero salta de 2 en 2\n",
    "print(pares)\n",
    "impares = num[1::2] # Parto desde el 1 recorro hasta el final y salto de 2 en 2 para los impares\n",
    "print(impares)"
   ]
  },
  {
   "cell_type": "markdown",
   "metadata": {
    "id": "rOK5ufyhtSaL"
   },
   "source": [
    "### Funciones built-in\n",
    "Hay algunas funciones que se pueden aplicar a listas que vienen con python, a continuación se muestran las más usadas."
   ]
  },
  {
   "cell_type": "markdown",
   "metadata": {
    "id": "KLbCjUNatSaL"
   },
   "source": [
    "Para encontrar el largo de una lista usamos `len(list)` donde `len` viene de la palabra *length* que significa largo."
   ]
  },
  {
   "cell_type": "code",
   "execution_count": 22,
   "metadata": {
    "id": "oZfA7QhutSaL",
    "outputId": "e7949b26-f5f4-4ad7-c1eb-73c37784d91e"
   },
   "outputs": [
    {
     "data": {
      "text/plain": [
       "11"
      ]
     },
     "execution_count": 22,
     "metadata": {},
     "output_type": "execute_result"
    }
   ],
   "source": [
    "num = [0, 1, 2, 3, 4, 5, 6, 7, 8, 9, 10]\n",
    "len(num) # Notar que hay 11 elementos en num pues está el 0 también"
   ]
  },
  {
   "cell_type": "markdown",
   "metadata": {
    "id": "UTdX8mrHtSaL"
   },
   "source": [
    "If the list consists of all integer elements then `min( )` and `max( )` gives the minimum and maximum value in the list. Similarly `sum` is the sum"
   ]
  },
  {
   "cell_type": "code",
   "execution_count": null,
   "metadata": {
    "id": "P9qTNPCQtSaM",
    "outputId": "9796e0ef-63a3-4c63-f375-7687c8d13add"
   },
   "outputs": [
    {
     "name": "stdout",
     "output_type": "stream",
     "text": [
      "min = 0   max = 9   total = 45\n"
     ]
    }
   ],
   "source": [
    "print(\"min =\",min(num),\"  max =\",max(num),\"  total =\",sum(num))"
   ]
  },
  {
   "cell_type": "markdown",
   "metadata": {
    "id": "BMlMMUUPtSaN"
   },
   "source": [
    "Lists can be concatenated by adding, '+' them. The resultant list will contain all the elements of the lists that were added. The resultant list will not be a nested list."
   ]
  },
  {
   "cell_type": "code",
   "execution_count": null,
   "metadata": {
    "id": "gKVkNdzptSaN",
    "outputId": "ae9dcb5d-60f7-4c05-a713-3b7e26c87453"
   },
   "outputs": [
    {
     "data": {
      "text/plain": [
       "[1, 2, 3, 5, 4, 7]"
      ]
     },
     "execution_count": 14,
     "metadata": {
      "tags": []
     },
     "output_type": "execute_result"
    }
   ],
   "source": [
    "[1,2,3] + [5,4,7]"
   ]
  },
  {
   "cell_type": "markdown",
   "metadata": {
    "id": "OEH8prBItSaO"
   },
   "source": [
    "There might arise a requirement where you might need to check if a particular element is there in a predefined list. Consider the below list."
   ]
  },
  {
   "cell_type": "code",
   "execution_count": null,
   "metadata": {
    "id": "ZdTRCBDYtSaO"
   },
   "outputs": [],
   "source": [
    "names = ['Earth','Air','Fire','Water']"
   ]
  },
  {
   "cell_type": "markdown",
   "metadata": {
    "id": "ZaiH_L4stSaO"
   },
   "source": [
    "To check if 'Fire' and 'Metal' are present in the list names. A conventional approach would be to use a for loop and iterate over the list and use the if condition. But in python you can use `a in b` concept which would return 'True' if a is present in b and 'False' if not."
   ]
  },
  {
   "cell_type": "code",
   "execution_count": null,
   "metadata": {
    "id": "mkvCRvCatSaO",
    "outputId": "7ed76162-5a02-4a17-e490-cdda6b7d3d7b"
   },
   "outputs": [
    {
     "data": {
      "text/plain": [
       "True"
      ]
     },
     "execution_count": 16,
     "metadata": {
      "tags": []
     },
     "output_type": "execute_result"
    }
   ],
   "source": [
    "'Fire' in names"
   ]
  },
  {
   "cell_type": "code",
   "execution_count": null,
   "metadata": {
    "id": "3I-BraMvtSaP",
    "outputId": "d2d6d035-317b-4596-e279-25f4d53ffb29"
   },
   "outputs": [
    {
     "data": {
      "text/plain": [
       "False"
      ]
     },
     "execution_count": 17,
     "metadata": {
      "tags": []
     },
     "output_type": "execute_result"
    }
   ],
   "source": [
    "'Metal' in names"
   ]
  },
  {
   "cell_type": "markdown",
   "metadata": {
    "id": "-2N1HB38tSaQ"
   },
   "source": [
    "In a list with string elements, `*max( )` and `min( )` are still applicable and return the first/last element in lexicographical order. "
   ]
  },
  {
   "cell_type": "code",
   "execution_count": null,
   "metadata": {
    "id": "tNQSNOh-tSaQ",
    "outputId": "7b45de4b-206b-4608-e453-c7060eb4a291"
   },
   "outputs": [
    {
     "name": "stdout",
     "output_type": "stream",
     "text": [
      "max = z\n",
      "min = az\n"
     ]
    }
   ],
   "source": [
    "mlist = ['bzaa','ds','nc','az','z','klm']\n",
    "print(\"max =\",max(mlist))\n",
    "print(\"min =\",min(mlist))"
   ]
  },
  {
   "cell_type": "markdown",
   "metadata": {
    "id": "2DaTiUOvtSaS"
   },
   "source": [
    "Here the first index of each element is considered and thus z has the highest ASCII value thus it is returned and minimum ASCII is a. But what if numbers are declared as strings?"
   ]
  },
  {
   "cell_type": "code",
   "execution_count": null,
   "metadata": {
    "id": "fU8fCWbVtSaT",
    "outputId": "08ba563a-77d1-4896-98af-9f42815d706f"
   },
   "outputs": [
    {
     "name": "stdout",
     "output_type": "stream",
     "text": [
      "max = 93\n",
      "min = 1000\n"
     ]
    }
   ],
   "source": [
    "nlist = ['5','24','93','1000']\n",
    "print(\"max =\",max(nlist))\n",
    "print('min =',min(nlist))"
   ]
  },
  {
   "cell_type": "markdown",
   "metadata": {
    "id": "Z7A2sIixtSaT"
   },
   "source": [
    "Even if the numbers are declared in a string the first index of each element is considered and the maximum and minimum values are returned accordingly."
   ]
  },
  {
   "cell_type": "markdown",
   "metadata": {
    "id": "SzLqsF_KtSaU"
   },
   "source": [
    "But if you want to find the `max( )` string element based on the length of the string then another parameter `key` can be used to specify the function to use for generating the value on which to sort. Hence finding the longest and shortest string in `mlist` can be doen using the `len` function:"
   ]
  },
  {
   "cell_type": "code",
   "execution_count": null,
   "metadata": {
    "id": "a-HeARxytSaV",
    "outputId": "ad23cc5c-e6d6-44ee-cc36-bd853ad7d8fe"
   },
   "outputs": [
    {
     "name": "stdout",
     "output_type": "stream",
     "text": [
      "longest = bzaa\n",
      "shortest = z\n"
     ]
    }
   ],
   "source": [
    "print('longest =',max(mlist, key=len))\n",
    "print('shortest =',min(mlist, key=len))"
   ]
  },
  {
   "cell_type": "markdown",
   "metadata": {
    "id": "1BK9OO_vtSaV"
   },
   "source": [
    "Any other built-in or user defined function can be used.\n",
    "\n",
    "A string can be converted into a list by using the `list()` function, or more usefully using the `split()` method, which breaks strings up based on spaces."
   ]
  },
  {
   "cell_type": "code",
   "execution_count": null,
   "metadata": {
    "id": "lrC1M9NdtSaV",
    "outputId": "0b2f6b69-370c-48c8-de47-4536ad3e0ca8"
   },
   "outputs": [
    {
     "name": "stdout",
     "output_type": "stream",
     "text": [
      "['h', 'e', 'l', 'l', 'o', ' ', 'w', 'o', 'r', 'l', 'd', ' ', '!'] ['Hello', 'World', '!!']\n"
     ]
    }
   ],
   "source": [
    "print(list('hello world !'),'Hello   World !!'.split())"
   ]
  },
  {
   "cell_type": "markdown",
   "metadata": {
    "id": "hyqRZdKVtSaW"
   },
   "source": [
    "`append( )` is used to add a single element at the end of the list."
   ]
  },
  {
   "cell_type": "code",
   "execution_count": null,
   "metadata": {
    "id": "J7aJGzYZtSaW",
    "outputId": "4f86d030-9348-4606-b652-834382838560"
   },
   "outputs": [
    {
     "name": "stdout",
     "output_type": "stream",
     "text": [
      "[1, 1, 4, 8, 7, 1]\n"
     ]
    }
   ],
   "source": [
    "lst = [1,1,4,8,7]\n",
    "lst.append(1)\n",
    "print(lst)"
   ]
  },
  {
   "cell_type": "markdown",
   "metadata": {
    "id": "kP-wY3q9tSaY"
   },
   "source": [
    "Appending a list to a list would create a sublist. If a nested list is not what is desired then the `extend( )` function can be used."
   ]
  },
  {
   "cell_type": "code",
   "execution_count": null,
   "metadata": {
    "id": "DGNcptB6tSaY",
    "outputId": "920ab6c0-3502-4d4c-9c58-8cea366e4777"
   },
   "outputs": [
    {
     "name": "stdout",
     "output_type": "stream",
     "text": [
      "[1, 1, 4, 8, 7, 1, 10, 11, 12]\n"
     ]
    }
   ],
   "source": [
    "lst.extend([10,11,12])\n",
    "print(lst)"
   ]
  },
  {
   "cell_type": "markdown",
   "metadata": {
    "id": "efHgR9POtSaZ"
   },
   "source": [
    "`count( )` is used to count the number of a particular element that is present in the list. "
   ]
  },
  {
   "cell_type": "code",
   "execution_count": null,
   "metadata": {
    "id": "0Rfz2VbHtSaZ",
    "outputId": "f1868723-58b8-4cdf-9fa0-006e9b6eea92"
   },
   "outputs": [
    {
     "data": {
      "text/plain": [
       "3"
      ]
     },
     "execution_count": 24,
     "metadata": {
      "tags": []
     },
     "output_type": "execute_result"
    }
   ],
   "source": [
    "lst.count(1)"
   ]
  },
  {
   "cell_type": "markdown",
   "metadata": {
    "id": "1iKcjgfetSaZ"
   },
   "source": [
    "`index( )` is used to find the index value of a particular element. Note that if there are multiple elements of the same value then the first index value of that element is returned."
   ]
  },
  {
   "cell_type": "code",
   "execution_count": null,
   "metadata": {
    "id": "H3yvv-xrtSaa",
    "outputId": "5bffe026-15eb-4279-ebfc-f6088c1726c5"
   },
   "outputs": [
    {
     "data": {
      "text/plain": [
       "0"
      ]
     },
     "execution_count": 25,
     "metadata": {
      "tags": []
     },
     "output_type": "execute_result"
    }
   ],
   "source": [
    "lst.index(1)"
   ]
  },
  {
   "cell_type": "markdown",
   "metadata": {
    "id": "B3qTdLUStSaa"
   },
   "source": [
    "`insert(x,y)` is used to insert a element y at a specified index value x. Note that `L.append(y)` is equivalent to `L.insert(len(L)+1,y)` - that is insertion right at the end of the list L. "
   ]
  },
  {
   "cell_type": "code",
   "execution_count": null,
   "metadata": {
    "id": "RU2haWG-tSaa",
    "outputId": "7e38ab32-46da-4a04-da60-6845a960e480"
   },
   "outputs": [
    {
     "name": "stdout",
     "output_type": "stream",
     "text": [
      "[1, 1, 4, 8, 7, 'name', 1, 10, 11, 12]\n"
     ]
    }
   ],
   "source": [
    "lst.insert(5, 'name')\n",
    "print(lst)"
   ]
  },
  {
   "cell_type": "markdown",
   "metadata": {
    "id": "IV7MuqGStSaa"
   },
   "source": [
    "`insert(x,y)` inserts but does not replace element. If you want to replace the element with another element you simply assign the value to that particular index."
   ]
  },
  {
   "cell_type": "code",
   "execution_count": null,
   "metadata": {
    "id": "f2K5_OnatSaa",
    "outputId": "989a99b9-5217-430a-bed8-e9f303a4de93"
   },
   "outputs": [
    {
     "name": "stdout",
     "output_type": "stream",
     "text": [
      "[1, 1, 4, 8, 7, 'Python', 1, 10, 11, 12]\n"
     ]
    }
   ],
   "source": [
    "lst[5] = 'Python'\n",
    "print(lst)"
   ]
  },
  {
   "cell_type": "markdown",
   "metadata": {
    "id": "wdSaEhsOtSab"
   },
   "source": [
    "`pop( )` function return the last element in the list. This is similar to the operation of a stack. Hence lists can be used as stacks by using `append()` for push and `pop()` to remove the most recently added element."
   ]
  },
  {
   "cell_type": "code",
   "execution_count": null,
   "metadata": {
    "id": "RYrT1eTXtSab",
    "outputId": "a4aa0a9e-cfd5-42c6-d12a-c547d19fa477"
   },
   "outputs": [
    {
     "data": {
      "text/plain": [
       "12"
      ]
     },
     "execution_count": 28,
     "metadata": {
      "tags": []
     },
     "output_type": "execute_result"
    }
   ],
   "source": [
    "lst.pop()"
   ]
  },
  {
   "cell_type": "markdown",
   "metadata": {
    "id": "P6vunAVUtSab"
   },
   "source": [
    "Index value can be specified to pop a ceratin element corresponding to that index value."
   ]
  },
  {
   "cell_type": "code",
   "execution_count": null,
   "metadata": {
    "id": "KNMxJly4tSab",
    "outputId": "45c24437-4aa6-45ca-e597-eaffb9447671"
   },
   "outputs": [
    {
     "data": {
      "text/plain": [
       "1"
      ]
     },
     "execution_count": 29,
     "metadata": {
      "tags": []
     },
     "output_type": "execute_result"
    }
   ],
   "source": [
    "lst.pop(0)"
   ]
  },
  {
   "cell_type": "markdown",
   "metadata": {
    "id": "i4ysjT2DtSab"
   },
   "source": [
    "`pop( )` is used to remove element based on it's index value which can be assigned to a variable. One can also remove element by specifying the element itself using the `remove( )` function."
   ]
  },
  {
   "cell_type": "code",
   "execution_count": null,
   "metadata": {
    "id": "b-oxcqcBtSac",
    "outputId": "51ebdc0d-c722-4934-ac9b-bcf44cd0c441"
   },
   "outputs": [
    {
     "name": "stdout",
     "output_type": "stream",
     "text": [
      "[1, 4, 8, 7, 1, 10, 11]\n"
     ]
    }
   ],
   "source": [
    "lst.remove('Python')\n",
    "print(lst)"
   ]
  },
  {
   "cell_type": "markdown",
   "metadata": {
    "id": "J1HazfhCtSac"
   },
   "source": [
    "Alternative to `remove` function but with using index value is `del`"
   ]
  },
  {
   "cell_type": "code",
   "execution_count": null,
   "metadata": {
    "id": "af8MPM8WtSac",
    "outputId": "39d3a18e-a051-4b0d-8789-202a252356e3"
   },
   "outputs": [
    {
     "name": "stdout",
     "output_type": "stream",
     "text": [
      "[1, 8, 7, 1, 10, 11]\n"
     ]
    }
   ],
   "source": [
    "del lst[1]\n",
    "print(lst)"
   ]
  },
  {
   "cell_type": "markdown",
   "metadata": {
    "id": "HZvJgY4ZtSac"
   },
   "source": [
    "The entire elements present in the list can be reversed by using the `reverse()` function."
   ]
  },
  {
   "cell_type": "code",
   "execution_count": null,
   "metadata": {
    "id": "dPQe1ZiAtSad",
    "outputId": "14233ffb-38e6-40b6-f83a-3fe339652816"
   },
   "outputs": [
    {
     "name": "stdout",
     "output_type": "stream",
     "text": [
      "[11, 10, 1, 7, 8, 1]\n"
     ]
    }
   ],
   "source": [
    "lst.reverse()\n",
    "print(lst)"
   ]
  },
  {
   "cell_type": "markdown",
   "metadata": {
    "id": "rPNQNQi8tSad"
   },
   "source": [
    "Note that the nested list [5,4,2,8] is treated as a single element of the parent list lst. Thus the elements inside the nested list is not reversed.\n",
    "\n",
    "Python offers built in operation `sort( )` to arrange the elements in ascending order. Alternatively `sorted()` can be used to construct a copy of the list in sorted order"
   ]
  },
  {
   "cell_type": "code",
   "execution_count": null,
   "metadata": {
    "id": "0rcyhAQvtSad",
    "outputId": "f176a039-791d-4e16-e1c8-449f577513f1"
   },
   "outputs": [
    {
     "name": "stdout",
     "output_type": "stream",
     "text": [
      "[1, 1, 7, 8, 10, 11]\n",
      "[1, 2, 3]\n"
     ]
    }
   ],
   "source": [
    "lst.sort()\n",
    "print(lst)\n",
    "print(sorted([3,2,1])) # another way to sort"
   ]
  },
  {
   "cell_type": "markdown",
   "metadata": {
    "id": "_jgg9_E9tSad"
   },
   "source": [
    "For descending order an optional keyword argument `reverse` is provided. Setting this to True would arrange the elements in descending order."
   ]
  },
  {
   "cell_type": "code",
   "execution_count": null,
   "metadata": {
    "id": "dPbYZYuctSad",
    "outputId": "d0f01b16-0b58-46b9-af31-eeb1b0a37c49"
   },
   "outputs": [
    {
     "name": "stdout",
     "output_type": "stream",
     "text": [
      "[11, 10, 8, 7, 1, 1]\n",
      "[1, 1, 7, 8, 10, 11]\n"
     ]
    }
   ],
   "source": [
    "print(sorted(lst,reverse=True)) \n",
    "print(lst) # remember that `sorted` creates a copy of the list in sorted order"
   ]
  },
  {
   "cell_type": "markdown",
   "metadata": {
    "id": "YdPxr0zHtSae"
   },
   "source": [
    "Similarly for lists containing string elements, `sort( )` would sort the elements based on it's ASCII value in ascending and by specifying reverse=True in descending."
   ]
  },
  {
   "cell_type": "code",
   "execution_count": null,
   "metadata": {
    "id": "oqiH7wIMtSae",
    "outputId": "916e5668-924e-4fc3-f8a1-4e64f0079893"
   },
   "outputs": [
    {
     "name": "stdout",
     "output_type": "stream",
     "text": [
      "['Air', 'Earth', 'Fire', 'Water']\n",
      "['Water', 'Fire', 'Earth', 'Air']\n"
     ]
    }
   ],
   "source": [
    "names.sort()\n",
    "print(names)\n",
    "names.sort(reverse=True)\n",
    "print(names)"
   ]
  },
  {
   "cell_type": "markdown",
   "metadata": {
    "id": "hGQ6V0u4tSae"
   },
   "source": [
    "To sort based on length `key=len` should be specified as shown."
   ]
  },
  {
   "cell_type": "code",
   "execution_count": null,
   "metadata": {
    "id": "EHLmNCsrtSae",
    "outputId": "3061ff29-1666-4f89-e475-86c1eee996ee"
   },
   "outputs": [
    {
     "name": "stdout",
     "output_type": "stream",
     "text": [
      "['Air', 'Fire', 'Water', 'Earth']\n",
      "['Water', 'Earth', 'Fire', 'Air']\n"
     ]
    }
   ],
   "source": [
    "names.sort(key=len)\n",
    "print(names)\n",
    "print(sorted(names,key=len,reverse=True))"
   ]
  },
  {
   "cell_type": "markdown",
   "metadata": {
    "id": "lBrD-xKCtSae"
   },
   "source": [
    "### Copying a list"
   ]
  },
  {
   "cell_type": "markdown",
   "metadata": {
    "id": "5agrzUThtSaf"
   },
   "source": [
    "Assignment of a list does not imply copying. It simply creates a second reference to the same list. Most of new python programmers get caught out by this initially. Consider the following,"
   ]
  },
  {
   "cell_type": "code",
   "execution_count": null,
   "metadata": {
    "id": "iO5ljig4tSaf",
    "outputId": "82330432-d5da-4972-bf60-e0e30c386f8a"
   },
   "outputs": [
    {
     "name": "stdout",
     "output_type": "stream",
     "text": [
      "[2, 1, 4, 3]\n"
     ]
    }
   ],
   "source": [
    "lista= [2,1,4,3]\n",
    "listb = lista\n",
    "print(listb)"
   ]
  },
  {
   "cell_type": "markdown",
   "metadata": {
    "id": "CobZYOx8tSaf"
   },
   "source": [
    "Here, We have declared a list, `lista = [2,1,4,3]`. This list is copied to `listb` by assigning its value. Now we perform some random operations on lista."
   ]
  },
  {
   "cell_type": "code",
   "execution_count": null,
   "metadata": {
    "id": "M7qJUQlhtSaf",
    "outputId": "c5b687e0-8810-4f73-8258-922b09d47d3a"
   },
   "outputs": [
    {
     "name": "stdout",
     "output_type": "stream",
     "text": [
      "A = [1, 2, 3, 9]\n",
      "B = [1, 2, 3, 9]\n"
     ]
    }
   ],
   "source": [
    "lista.sort()\n",
    "lista.pop()\n",
    "lista.append(9)\n",
    "print(\"A =\",lista)\n",
    "print(\"B =\",listb)"
   ]
  },
  {
   "cell_type": "markdown",
   "metadata": {
    "id": "JsuMDQiLtSaf"
   },
   "source": [
    "`listb` has also changed though no operation has been performed on it. This is because in Python **assignment assigns references to the same object, rather than creating copies**. So how do fix this?\n",
    "\n",
    "If you recall, in slicing we had seen that `parentlist[a:b]` returns a list from parent list with start index a and end index b and if a and b is not mentioned then by default it considers the first and last element. We use the same concept here. By doing so, we are assigning the data of lista to listb as a variable."
   ]
  },
  {
   "cell_type": "code",
   "execution_count": null,
   "metadata": {
    "id": "d-868z8ctSag",
    "outputId": "0aad6429-0680-45ff-9b40-5d90f8d19a2c"
   },
   "outputs": [
    {
     "name": "stdout",
     "output_type": "stream",
     "text": [
      "Starting with:\n",
      "A = [2, 1, 4, 3]\n",
      "B = [2, 1, 4, 3]\n",
      "Finnished with:\n",
      "A = [1, 2, 3, 9]\n",
      "B = [2, 1, 4, 3]\n"
     ]
    }
   ],
   "source": [
    "lista = [2,1,4,3]\n",
    "listb = lista[:] # make a copy by taking a slice from beginning to end\n",
    "print(\"Starting with:\")\n",
    "print(\"A =\",lista)\n",
    "print(\"B =\",listb)\n",
    "lista.sort()\n",
    "lista.pop()\n",
    "lista.append(9)\n",
    "print(\"Finnished with:\")\n",
    "print(\"A =\",lista)\n",
    "print(\"B =\",listb)"
   ]
  },
  {
   "cell_type": "markdown",
   "metadata": {
    "id": "fn-Nyr2OtSai"
   },
   "source": [
    "## List comprehension\n",
    "A very powerful concept in Python (that also applies to Tuples, sets and dictionaries as we will see below), is the ability to define lists using list comprehension (looping) expression. For example:"
   ]
  },
  {
   "cell_type": "code",
   "execution_count": null,
   "metadata": {
    "id": "k-Pcl71ftSaj",
    "outputId": "3673cc93-503a-4ba2-e863-bf4f1974826e"
   },
   "outputs": [
    {
     "data": {
      "text/plain": [
       "[1, 4, 9]"
      ]
     },
     "execution_count": 40,
     "metadata": {
      "tags": []
     },
     "output_type": "execute_result"
    }
   ],
   "source": [
    "[i**2 for i in [1,2,3]]"
   ]
  },
  {
   "cell_type": "markdown",
   "metadata": {
    "id": "hrBOKFIYtSaj"
   },
   "source": [
    "In general this takes the form of `[ <expression> for <variable> in <List> ]`. That is a new list is constructed by taking each element of the given List is turn, assigning it to the variable and then evaluating the expression with this variable assignment.\n",
    "\n",
    "As can be seen this constructs a new list by taking each element of the original `[1,2,3]` and squaring it. We can have multiple such implied loops to get for example:"
   ]
  },
  {
   "cell_type": "code",
   "execution_count": null,
   "metadata": {
    "id": "mnldaG47tSak",
    "outputId": "57e50582-48d4-4c20-ae49-160f2c67aa10"
   },
   "outputs": [
    {
     "data": {
      "text/plain": [
       "[15, 17, 25, 27, 35, 37]"
      ]
     },
     "execution_count": 41,
     "metadata": {
      "tags": []
     },
     "output_type": "execute_result"
    }
   ],
   "source": [
    "[10*i+j for i in [1,2,3] for j in [5,7]]"
   ]
  },
  {
   "cell_type": "markdown",
   "metadata": {
    "id": "jcyP6ulntSau"
   },
   "source": [
    "Finally the looping can be filtered using an **if** expression with the **for** - **in** construct."
   ]
  },
  {
   "cell_type": "code",
   "execution_count": null,
   "metadata": {
    "id": "TaCOYfSBtSav",
    "outputId": "ca8edf51-2b55-4c5d-eaf5-b523f92883dc"
   },
   "outputs": [
    {
     "data": {
      "text/plain": [
       "[15, 17, 37]"
      ]
     },
     "execution_count": 42,
     "metadata": {
      "tags": []
     },
     "output_type": "execute_result"
    }
   ],
   "source": [
    "[10*i+j for i in [1,2,3] if i%2==1 for j in [4,5,7] if j >= i+4] # keep odd i and  j larger than i+3 only"
   ]
  },
  {
   "cell_type": "markdown",
   "metadata": {
    "id": "hYvoax44tSav"
   },
   "source": [
    "## Tuples"
   ]
  },
  {
   "cell_type": "markdown",
   "metadata": {
    "id": "GfW2NTSZtSav"
   },
   "source": [
    "Tuples are similar to lists but only big difference is the elements inside a list can be changed but in tuple it cannot be changed. Tuples are the natural extension of ordered pairs, triplets etc in mathematics. \n",
    "To show how this works consider the following code working with cartesian coordinates in the plane:"
   ]
  },
  {
   "cell_type": "code",
   "execution_count": null,
   "metadata": {
    "id": "uZqoD3RdtSav",
    "outputId": "b162e512-00f5-40ce-913c-c69f20c7ff2f"
   },
   "outputs": [
    {
     "name": "stdout",
     "output_type": "stream",
     "text": [
      "(1, 0, 0)\n",
      "<class 'tuple'>\n"
     ]
    }
   ],
   "source": [
    "origin = (0.0,0.0,0.0)\n",
    "x = origin\n",
    "# x[1] = 1 # can't do something like this as it would change the origin\n",
    "x = (1, 0, 0) # perfectly OK\n",
    "print(x)\n",
    "print(type(x))"
   ]
  },
  {
   "cell_type": "markdown",
   "metadata": {
    "id": "SEIL9YHztSaw"
   },
   "source": [
    "To define a tuple, a variable is assigned to paranthesis ( ) or tuple( )."
   ]
  },
  {
   "cell_type": "code",
   "execution_count": null,
   "metadata": {
    "id": "DguQZT8htSaw"
   },
   "outputs": [],
   "source": [
    "tup = () # empty, zero-length tuple\n",
    "tup2 = tuple()"
   ]
  },
  {
   "cell_type": "markdown",
   "metadata": {
    "id": "ZWhip-Z9tSaw"
   },
   "source": [
    "If you want to directly declare a tuple of length 1 it can be done by using a comma at the end of the data."
   ]
  },
  {
   "cell_type": "code",
   "execution_count": null,
   "metadata": {
    "id": "B1M1PRgrtSaw",
    "outputId": "353f4211-b619-4af7-865e-bf591b7231d3"
   },
   "outputs": [
    {
     "data": {
      "text/plain": [
       "(27,)"
      ]
     },
     "execution_count": 45,
     "metadata": {
      "tags": []
     },
     "output_type": "execute_result"
    }
   ],
   "source": [
    "27,"
   ]
  },
  {
   "cell_type": "markdown",
   "metadata": {
    "id": "Y6AXCyxJtSax"
   },
   "source": [
    "27 when multiplied by 2 yields 54, But when multiplied with a tuple the data is repeated twice."
   ]
  },
  {
   "cell_type": "code",
   "execution_count": null,
   "metadata": {
    "id": "aAX29gX9tSax",
    "outputId": "73d69710-0cd1-4e36-d9f7-7ee8bba5e4ff"
   },
   "outputs": [
    {
     "data": {
      "text/plain": [
       "(27, 27)"
      ]
     },
     "execution_count": 46,
     "metadata": {
      "tags": []
     },
     "output_type": "execute_result"
    }
   ],
   "source": [
    "2*(27,)"
   ]
  },
  {
   "cell_type": "markdown",
   "metadata": {
    "id": "OX6aUAEGtSax"
   },
   "source": [
    "Values can be assigned while declaring a tuple. It takes a list as input and converts it into a tuple or it takes a string and converts it into a tuple."
   ]
  },
  {
   "cell_type": "code",
   "execution_count": null,
   "metadata": {
    "id": "x1PtH47itSay",
    "outputId": "e5fbe08e-0ea6-4c93-da00-8658b165a9cb",
    "scrolled": true
   },
   "outputs": [
    {
     "name": "stdout",
     "output_type": "stream",
     "text": [
      "(1, 2, 3)\n",
      "('H', 'e', 'l', 'l', 'o')\n"
     ]
    }
   ],
   "source": [
    "tup3 = tuple([1,2,3])\n",
    "print(tup3)\n",
    "tup4 = tuple('Hello')\n",
    "print(tup4)"
   ]
  },
  {
   "cell_type": "markdown",
   "metadata": {
    "id": "BF5LtTiotSay"
   },
   "source": [
    "It follows the same indexing and slicing as Lists."
   ]
  },
  {
   "cell_type": "code",
   "execution_count": null,
   "metadata": {
    "id": "X7BrBMnjtSay",
    "outputId": "dd5411f5-90f2-4fdc-83d4-c98863911fbc"
   },
   "outputs": [
    {
     "name": "stdout",
     "output_type": "stream",
     "text": [
      "2\n",
      "('H', 'e', 'l')\n"
     ]
    }
   ],
   "source": [
    "print(tup3[1])\n",
    "tup5 = tup4[:3]\n",
    "print(tup5)"
   ]
  },
  {
   "cell_type": "markdown",
   "metadata": {
    "id": "QMwpAzF5tSay"
   },
   "source": [
    "### Mapping one tuple to another\n",
    "Tupples can be used as the left hand side of assignments and are matched to the correct right hand side elements - assuming they have the right length"
   ]
  },
  {
   "cell_type": "code",
   "execution_count": null,
   "metadata": {
    "id": "rYu9_8eftSay",
    "outputId": "25c8208d-1b51-4f13-8eb7-34c08c690c44"
   },
   "outputs": [
    {
     "name": "stdout",
     "output_type": "stream",
     "text": [
      "alpha beta gamma\n",
      "Alpha Beta Gamma\n",
      "this is ok\n"
     ]
    }
   ],
   "source": [
    "(a,b,c)= ('alpha','beta','gamma') # are optional\n",
    "a,b,c= 'alpha','beta','gamma' # The same as the above\n",
    "print(a,b,c)\n",
    "a,b,c = ['Alpha','Beta','Gamma'] # can assign lists\n",
    "print(a,b,c)\n",
    "[a,b,c]=('this','is','ok') # even this is OK\n",
    "print(a,b,c)"
   ]
  },
  {
   "cell_type": "markdown",
   "metadata": {
    "id": "2nyn0VgNtSaz"
   },
   "source": [
    "More complex nexted unpackings of values are also possible"
   ]
  },
  {
   "cell_type": "code",
   "execution_count": null,
   "metadata": {
    "id": "bt4iCc-OtSaz",
    "outputId": "499c4dc4-59be-4db4-b3b4-a971268f3509"
   },
   "outputs": [
    {
     "name": "stdout",
     "output_type": "stream",
     "text": [
      "1 2 3 4\n",
      "1 (2, 3) 4\n"
     ]
    }
   ],
   "source": [
    "(w,(x,y),z)=(1,(2,3),4)\n",
    "print(w,x,y,z)\n",
    "(w,xy,z)=(1,(2,3),4)\n",
    "print(w,xy,z) # notice that xy is now a tuple"
   ]
  },
  {
   "cell_type": "markdown",
   "metadata": {
    "id": "L7aMTcgZtSa0"
   },
   "source": [
    "### Built In Tuple functions"
   ]
  },
  {
   "cell_type": "markdown",
   "metadata": {
    "id": "bVtu1NcutSa0"
   },
   "source": [
    "`count()` function counts the number of specified element that is present in the tuple."
   ]
  },
  {
   "cell_type": "code",
   "execution_count": null,
   "metadata": {
    "id": "4McKMUxGtSa0",
    "outputId": "c4651f3a-0838-44e1-a3ff-d03e9a301528"
   },
   "outputs": [
    {
     "data": {
      "text/plain": [
       "3"
      ]
     },
     "execution_count": 51,
     "metadata": {
      "tags": []
     },
     "output_type": "execute_result"
    }
   ],
   "source": [
    "d=tuple('a string with many \"a\"s')\n",
    "d.count('a')"
   ]
  },
  {
   "cell_type": "markdown",
   "metadata": {
    "id": "kann-s3qtSa0"
   },
   "source": [
    "`index()` function returns the index of the specified element. If the elements are more than one then the index of the first element of that specified element is returned"
   ]
  },
  {
   "cell_type": "code",
   "execution_count": null,
   "metadata": {
    "id": "cRJdjf7YtSa0",
    "outputId": "2bf8bd9d-a748-4238-be7e-b53afbf86b5a"
   },
   "outputs": [
    {
     "data": {
      "text/plain": [
       "0"
      ]
     },
     "execution_count": 52,
     "metadata": {
      "tags": []
     },
     "output_type": "execute_result"
    }
   ],
   "source": [
    "d.index('a')"
   ]
  },
  {
   "cell_type": "markdown",
   "metadata": {
    "id": "RW5Mx7e_tSa1"
   },
   "source": [
    "Note that many of the other list functions such as `min()`, `max()`, `sum()` and `sorted()`, as well as the operator `in`, also work for tuples in the expected way."
   ]
  },
  {
   "cell_type": "markdown",
   "metadata": {
    "id": "GrBDpiXrtSa1"
   },
   "source": [
    "## Sets"
   ]
  },
  {
   "cell_type": "markdown",
   "metadata": {
    "id": "RwL5v37CtSa1"
   },
   "source": [
    "Sets are mainly used to eliminate repeated numbers in a sequence/list. It is also used to perform some standard set operations.\n",
    "\n",
    "Sets are declared as `set()` which will initialize a empty set. Also `set([sequence])` can be executed to declare a set with elements. Note that unlike lists, the elements of a set are not in a sequence and cannot be accessed by an index."
   ]
  },
  {
   "cell_type": "code",
   "execution_count": null,
   "metadata": {
    "id": "6859bdhJtSa1",
    "outputId": "536a4095-4c06-4c5a-a951-8c9dac7a3ea3"
   },
   "outputs": [
    {
     "name": "stdout",
     "output_type": "stream",
     "text": [
      "<class 'set'>\n"
     ]
    }
   ],
   "source": [
    "set1 = set()\n",
    "print(type(set1))"
   ]
  },
  {
   "cell_type": "code",
   "execution_count": null,
   "metadata": {
    "id": "2czedl50tSa2",
    "outputId": "847def8d-9df4-45da-86cf-1789ee06b78b"
   },
   "outputs": [
    {
     "name": "stdout",
     "output_type": "stream",
     "text": [
      "{1, 2, 3, 4}\n"
     ]
    }
   ],
   "source": [
    "set0 = set([1,2,2,3,3,4])\n",
    "set0 = {3,3,4,1,2,2} # equivalent to the above\n",
    "print(set0) # order is not preserved"
   ]
  },
  {
   "cell_type": "markdown",
   "metadata": {
    "id": "HuHgfxXjtSa2"
   },
   "source": [
    "elements 2,3 which are repeated twice are seen only once. Thus in a set each element is distinct.\n",
    "\n",
    "However be warned that **{}** is **NOT** a set, but a dictionary (see next chapter of this tutorial)"
   ]
  },
  {
   "cell_type": "code",
   "execution_count": null,
   "metadata": {
    "id": "9Ecpc9_MtSa2",
    "outputId": "2606fc06-bd1c-4d58-b17e-21b955e9b2b3"
   },
   "outputs": [
    {
     "data": {
      "text/plain": [
       "dict"
      ]
     },
     "execution_count": 55,
     "metadata": {
      "tags": []
     },
     "output_type": "execute_result"
    }
   ],
   "source": [
    "type({})"
   ]
  },
  {
   "cell_type": "markdown",
   "metadata": {
    "id": "pPA8sb7JtSa2"
   },
   "source": [
    "#### Built-in Functions"
   ]
  },
  {
   "cell_type": "code",
   "execution_count": null,
   "metadata": {
    "id": "WDV2iVe-tSa2"
   },
   "outputs": [],
   "source": [
    "set1 = set([1,2,3])"
   ]
  },
  {
   "cell_type": "code",
   "execution_count": null,
   "metadata": {
    "id": "v3p9lNY_tSa3"
   },
   "outputs": [],
   "source": [
    "set2 = set([2,3,4,5])"
   ]
  },
  {
   "cell_type": "markdown",
   "metadata": {
    "id": "S1YeEMa3tSa3"
   },
   "source": [
    "`union( )` function returns a set which contains all the elements of both the sets without repition."
   ]
  },
  {
   "cell_type": "code",
   "execution_count": null,
   "metadata": {
    "id": "bJ872Yn6tSa3",
    "outputId": "6d19416d-e4ee-4ad7-ad1b-06676f6196f5"
   },
   "outputs": [
    {
     "data": {
      "text/plain": [
       "{1, 2, 3, 4, 5}"
      ]
     },
     "execution_count": 58,
     "metadata": {
      "tags": []
     },
     "output_type": "execute_result"
    }
   ],
   "source": [
    "set1.union(set2)"
   ]
  },
  {
   "cell_type": "markdown",
   "metadata": {
    "id": "1PxDRQD-tSa3"
   },
   "source": [
    "`add( )` will add a particular element into the set. Note that the index of the newly added element is arbitrary and can be placed anywhere not neccessarily in the end."
   ]
  },
  {
   "cell_type": "code",
   "execution_count": null,
   "metadata": {
    "id": "20ovd7AntSa3",
    "outputId": "c38d456b-5b02-435f-f3dd-53d0671b6cc5"
   },
   "outputs": [
    {
     "data": {
      "text/plain": [
       "{0, 1, 2, 3}"
      ]
     },
     "execution_count": 59,
     "metadata": {
      "tags": []
     },
     "output_type": "execute_result"
    }
   ],
   "source": [
    "set1.add(0)\n",
    "set1"
   ]
  },
  {
   "cell_type": "markdown",
   "metadata": {
    "id": "iqxlOqIctSa4"
   },
   "source": [
    "`intersection( )` function outputs a set which contains all the elements that are in both sets."
   ]
  },
  {
   "cell_type": "code",
   "execution_count": null,
   "metadata": {
    "id": "rVwXcQuatSa4",
    "outputId": "668a9cc7-49c6-4f90-9299-404bcbf350f3"
   },
   "outputs": [
    {
     "data": {
      "text/plain": [
       "{2, 3}"
      ]
     },
     "execution_count": 60,
     "metadata": {
      "tags": []
     },
     "output_type": "execute_result"
    }
   ],
   "source": [
    "set1.intersection(set2)"
   ]
  },
  {
   "cell_type": "markdown",
   "metadata": {
    "id": "ZeD-YRL0tSa4"
   },
   "source": [
    "`difference( )` function ouptuts a set which contains elements that are in set1 and not in set2."
   ]
  },
  {
   "cell_type": "code",
   "execution_count": null,
   "metadata": {
    "id": "_iqbFatXtSa4",
    "outputId": "0e67e80a-17de-4023-c472-706f0cb0415e"
   },
   "outputs": [
    {
     "data": {
      "text/plain": [
       "{0, 1}"
      ]
     },
     "execution_count": 61,
     "metadata": {
      "tags": []
     },
     "output_type": "execute_result"
    }
   ],
   "source": [
    "set1.difference(set2)"
   ]
  },
  {
   "cell_type": "markdown",
   "metadata": {
    "id": "jMwANUd4tSa5"
   },
   "source": [
    "`symmetric_difference( )` function computes the set of elements that are in exactly one of the two given sets."
   ]
  },
  {
   "cell_type": "code",
   "execution_count": null,
   "metadata": {
    "id": "4ihC-M-FtSa6",
    "outputId": "4fc75735-913f-4d12-b715-8058bb369ff7"
   },
   "outputs": [
    {
     "data": {
      "text/plain": [
       "{0, 1, 4, 5}"
      ]
     },
     "execution_count": 62,
     "metadata": {
      "tags": []
     },
     "output_type": "execute_result"
    }
   ],
   "source": [
    "set2.symmetric_difference(set1)"
   ]
  },
  {
   "cell_type": "markdown",
   "metadata": {
    "id": "rNLPDKXitSa6"
   },
   "source": [
    "`issubset( ), isdisjoint( ), issuperset( )` are used to check if the set1 is a subset, disjoint or superset of set2respectively."
   ]
  },
  {
   "cell_type": "code",
   "execution_count": null,
   "metadata": {
    "id": "kUHuohgktSa6",
    "outputId": "b3c72591-1ac4-4181-84ef-9e88f893db81"
   },
   "outputs": [
    {
     "name": "stdout",
     "output_type": "stream",
     "text": [
      "False\n",
      "False\n",
      "False\n"
     ]
    }
   ],
   "source": [
    "print( set1.issubset(set2) )\n",
    "print( set1.isdisjoint(set2) )\n",
    "print( set1.issuperset(set2) )"
   ]
  },
  {
   "cell_type": "markdown",
   "metadata": {
    "id": "JziCDRBrtSa6"
   },
   "source": [
    "`pop( )` is used to remove an arbitrary element in the set"
   ]
  },
  {
   "cell_type": "code",
   "execution_count": null,
   "metadata": {
    "id": "Kz99-FfstSa7",
    "outputId": "91573de5-0017-40bf-e2db-339cd38e5b94"
   },
   "outputs": [
    {
     "name": "stdout",
     "output_type": "stream",
     "text": [
      "{1, 2, 3}\n"
     ]
    }
   ],
   "source": [
    "set1.pop()\n",
    "print(set1)"
   ]
  },
  {
   "cell_type": "markdown",
   "metadata": {
    "id": "UGPCEaqKtSa7"
   },
   "source": [
    "`remove( )` function deletes the specified element from the set."
   ]
  },
  {
   "cell_type": "code",
   "execution_count": null,
   "metadata": {
    "id": "LH8MCPZdtSa7",
    "outputId": "ead0cd67-903b-4b97-f972-21ac0343e047"
   },
   "outputs": [
    {
     "data": {
      "text/plain": [
       "{1, 3}"
      ]
     },
     "execution_count": 65,
     "metadata": {
      "tags": []
     },
     "output_type": "execute_result"
    }
   ],
   "source": [
    "set1.remove(2)\n",
    "set1"
   ]
  },
  {
   "cell_type": "markdown",
   "metadata": {
    "id": "7_rfTvrxtSa7"
   },
   "source": [
    "`clear( )` is used to clear all the elements and make that set an empty set."
   ]
  },
  {
   "cell_type": "code",
   "execution_count": null,
   "metadata": {
    "id": "_O0Sl1OWtSa7",
    "outputId": "91e49d6b-71be-4203-9e3e-d0f70ebc9299"
   },
   "outputs": [
    {
     "data": {
      "text/plain": [
       "set()"
      ]
     },
     "execution_count": 66,
     "metadata": {
      "tags": []
     },
     "output_type": "execute_result"
    }
   ],
   "source": [
    "set1.clear()\n",
    "set1"
   ]
  },
  {
   "cell_type": "markdown",
   "metadata": {
    "id": "Pm2W_hdttSa8"
   },
   "source": [
    "### Empty means false\n",
    "In python an empty data structure is always equivalent to `False`"
   ]
  },
  {
   "cell_type": "code",
   "execution_count": null,
   "metadata": {
    "id": "w07O-LSHtSa9",
    "outputId": "f5f6af3a-68e4-4f82-82a3-044ceb3f5984"
   },
   "outputs": [
    {
     "data": {
      "text/plain": [
       "''"
      ]
     },
     "execution_count": 67,
     "metadata": {
      "tags": []
     },
     "output_type": "execute_result"
    }
   ],
   "source": [
    " \"\" and not set() and not [] and not {}"
   ]
  },
  {
   "cell_type": "code",
   "execution_count": null,
   "metadata": {
    "id": "G_vVoZyatSa-",
    "outputId": "e16abe49-a75f-46e9-8f46-4a5305bd42d3"
   },
   "outputs": [
    {
     "data": {
      "text/plain": [
       "[]"
      ]
     },
     "execution_count": 68,
     "metadata": {
      "tags": []
     },
     "output_type": "execute_result"
    }
   ],
   "source": [
    "\"\" or [] # returns the last \"False\" value"
   ]
  },
  {
   "cell_type": "code",
   "execution_count": null,
   "metadata": {
    "id": "rrMIaKpPtSa-",
    "outputId": "23b88909-a239-48ea-c1fa-9b672345d631"
   },
   "outputs": [
    {
     "data": {
      "text/plain": [
       "{1, 2}"
      ]
     },
     "execution_count": 69,
     "metadata": {
      "tags": []
     },
     "output_type": "execute_result"
    }
   ],
   "source": [
    "{1,2} or \"\""
   ]
  },
  {
   "cell_type": "code",
   "execution_count": null,
   "metadata": {
    "id": "AyXhVhLHtSa-"
   },
   "outputs": [],
   "source": []
  }
 ],
 "metadata": {
  "colab": {
   "name": "03.ipynb",
   "provenance": []
  },
  "kernelspec": {
   "display_name": "Python 3",
   "language": "python",
   "name": "python3"
  },
  "language_info": {
   "codemirror_mode": {
    "name": "ipython",
    "version": 3
   },
   "file_extension": ".py",
   "mimetype": "text/x-python",
   "name": "python",
   "nbconvert_exporter": "python",
   "pygments_lexer": "ipython3",
   "version": "3.7.8"
  }
 },
 "nbformat": 4,
 "nbformat_minor": 1
}
