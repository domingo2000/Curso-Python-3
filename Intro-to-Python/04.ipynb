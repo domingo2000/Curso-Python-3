{
 "cells": [
  {
   "cell_type": "markdown",
   "metadata": {
    "id": "w_iB33OJtSZu"
   },
   "source": [
    "# Estructuras de datos"
   ]
  },
  {
   "cell_type": "markdown",
   "metadata": {
    "id": "K7okpDW9tSZu"
   },
   "source": [
    "Hasta ahora solo hemos conocido tipos de datos simples como números y strings, y hemos escrito código con ellas. Por lo general al escribir programas se necesita además de estructuras un poco mas grandes llamadas **Estructuras de datos**, estas se usan para almacenar distintos tipos de datos, es decir son como cajas que nos permiten guardar varios datos en un mismo lugar.\n",
    "Las estructuras de datos que existen en python incluyen las **listas**, **tuplas**, **diccionarios** y **sets**, cada una de ellas se utilizan para guardar un conjunto de datos en situaciones diferentes, y se puede escribir código para poder manipular los datos en ellas como veremos a continuación.\n"
   ]
  },
  {
   "cell_type": "markdown",
   "metadata": {
    "id": "1LH4luhCtSZv"
   },
   "source": [
    "## Listas (list)"
   ]
  },
  {
   "cell_type": "markdown",
   "metadata": {
    "id": "ESCoKxUCtSZv"
   },
   "source": [
    "Las listas son la estructura de datos mas usada en python, las listas definen una *secuencia* de datos, piensenlo como varios datos dentro de dos corchetes y separados por comas, a continuación se muestra un ejemplo con la syntax para declarar una lista que dejará claro en que consiste una estructura de datos."
   ]
  },
  {
   "cell_type": "code",
   "execution_count": 28,
   "metadata": {
    "colab": {
     "base_uri": "https://localhost:8080/"
    },
    "id": "mkvN5hdrtSZw",
    "outputId": "42637b71-dbd3-428c-fd16-73fab5f75b3d"
   },
   "outputs": [
    {
     "name": "stdout",
     "output_type": "stream",
     "text": [
      "[10, 20, 5, 1]\n"
     ]
    }
   ],
   "source": [
    "a = [10, 20, 5, 1] # Como ven podemos meter muchos datos en una lista en este caso números\n",
    "print(a)"
   ]
  },
  {
   "cell_type": "code",
   "execution_count": 29,
   "metadata": {
    "colab": {
     "base_uri": "https://localhost:8080/"
    },
    "id": "7iAhdNP-tSZw",
    "outputId": "d2e2fa83-8b75-43fd-83f6-5956fedb415a"
   },
   "outputs": [
    {
     "name": "stdout",
     "output_type": "stream",
     "text": [
      "[10, 10.5, 'hola', True]\n"
     ]
    }
   ],
   "source": [
    "# Ademas python deja meter distintos tipos de datos en una sola lista\n",
    "b = [10, 10.5, \"hola\", True]\n",
    "print(b)"
   ]
  },
  {
   "cell_type": "markdown",
   "metadata": {},
   "source": [
    "Para \"recorrer\" los distintos valores que hay en una lista de manera simple podemos usar la sentencia `for`"
   ]
  },
  {
   "cell_type": "code",
   "execution_count": 30,
   "metadata": {},
   "outputs": [
    {
     "name": "stdout",
     "output_type": "stream",
     "text": [
      "10\n",
      "10.5\n",
      "hola\n",
      "True\n"
     ]
    }
   ],
   "source": [
    "# En este caso la variable i va tomando los valores de la lista a medida que se recorre\n",
    "for i in b:\n",
    "    print(i)"
   ]
  },
  {
   "cell_type": "code",
   "execution_count": 31,
   "metadata": {},
   "outputs": [
    {
     "name": "stdout",
     "output_type": "stream",
     "text": [
      "6\n",
      "7\n",
      "8\n",
      "9\n",
      "10\n"
     ]
    }
   ],
   "source": [
    "# Otro ejemplo en que le sumamos 5 a cada elemento de la lista\n",
    "numeros = [1, 2, 3, 4, 5]\n",
    "for numero in numeros:\n",
    "    print(numero + 5)"
   ]
  },
  {
   "cell_type": "markdown",
   "metadata": {
    "id": "-6A_Jk9NtSZ3"
   },
   "source": [
    "### Indexamiento"
   ]
  },
  {
   "cell_type": "markdown",
   "metadata": {
    "id": "OFkimtWytSZ3"
   },
   "source": [
    "En python cuando queremos encontrar un elemento en una posición de una lista usamos **índices**, como hemos dicho antes, los computadores (y por lo tanto python también), **cuentan desde el 0**, por lo que para obtener el primer elemento de una lista hacemos lo siguiente"
   ]
  },
  {
   "cell_type": "code",
   "execution_count": 5,
   "metadata": {
    "colab": {
     "base_uri": "https://localhost:8080/"
    },
    "id": "SOzMfCiytSZ4",
    "outputId": "3132eac8-5c06-4d68-c829-3aa616ea6e48"
   },
   "outputs": [
    {
     "name": "stdout",
     "output_type": "stream",
     "text": [
      "apple\n"
     ]
    }
   ],
   "source": [
    "x = ['apple', 'orange', 'banana', 'watermelon', 'pinaple']\n",
    "elemento_1 = x[0]\n",
    "print(elemento_1)"
   ]
  },
  {
   "cell_type": "markdown",
   "metadata": {
    "id": "7FwrW2P_2k4K"
   },
   "source": [
    "A esta acción de obtener un elemento por su índice se le llama **indexamiento**,las listas permiten este comportamiento por lo tanto se dicen **indexables**. <br>\n",
    "Nota: *Si no entiendes bien el conxepto de indexable ya lo entenderás cuando veas las otras estructuras de datos que no son indexables.*"
   ]
  },
  {
   "cell_type": "markdown",
   "metadata": {
    "id": "b0lanQ521wrT"
   },
   "source": [
    "Si queremos obtener cualquier posición seguimos contando desde el 0 en adelante, es decir: <br>\n",
    "Posicion: 1, 2, 3, 4, 5, 6, 7 ... <br>\n",
    "  Indice: 0, 1, 2, 3, 4, 5, 6 ..."
   ]
  },
  {
   "cell_type": "code",
   "execution_count": 6,
   "metadata": {
    "colab": {
     "base_uri": "https://localhost:8080/"
    },
    "id": "yiK2PHrw2CWY",
    "outputId": "a12e2188-e7cd-46c7-8fe1-a7e40221fb2f"
   },
   "outputs": [
    {
     "name": "stdout",
     "output_type": "stream",
     "text": [
      "pinaple\n",
      "orange\n"
     ]
    }
   ],
   "source": [
    "# Intenta cambiar los indices para ir obteniendo los distintos elementos de la lista\n",
    "elemento_5 = x[4]\n",
    "elemento_2 = x[1]\n",
    "print(elemento_5)\n",
    "print(elemento_2)"
   ]
  },
  {
   "cell_type": "markdown",
   "metadata": {
    "id": "ApKbjFigtSZ4"
   },
   "source": [
    "Además podemos ir indexando los elementos en orden inverso, para ello usamos índices negativos, es decir, si ponemos -1 nos da el último elemento, -2 nos da el penúltimo, y asi seguimos."
   ]
  },
  {
   "cell_type": "code",
   "execution_count": 16,
   "metadata": {
    "colab": {
     "base_uri": "https://localhost:8080/"
    },
    "id": "8gHjyb_otSZ5",
    "outputId": "82e03824-3e7f-4ffa-fe43-04e175fef2b3"
   },
   "outputs": [
    {
     "name": "stdout",
     "output_type": "stream",
     "text": [
      "pinaple\n",
      "watermelon\n"
     ]
    }
   ],
   "source": [
    "ultimo = x[-1]\n",
    "print(ultimo)\n",
    "penultimo = x[-2]\n",
    "print(penultimo)"
   ]
  },
  {
   "cell_type": "markdown",
   "metadata": {},
   "source": [
    "A continuación un ejemplo en que recorremos dos listas al mismo tiempo para imprimir los nombres y apellidos de las personas en las listas"
   ]
  },
  {
   "cell_type": "code",
   "execution_count": 48,
   "metadata": {},
   "outputs": [
    {
     "name": "stdout",
     "output_type": "stream",
     "text": [
      "Pedro Vergara\n",
      "Juan Soto\n",
      "Diego Gonzales\n"
     ]
    }
   ],
   "source": [
    "nombres = [\"Pedro\", \"Juan\", \"Diego\"]\n",
    "apellidos = [\"Vergara\", \"Soto\", \"Gonzales\"]\n",
    "\n",
    "cantidad_personas = len(nombres)\n",
    "for i in range(cantidad_personas):\n",
    "    # En este caso i va tomando los valores de los indices para ir accediendo a ambas listas al mismo tiempo\n",
    "    nombre_completo = nombres[i] + \" \" + apellidos[i]\n",
    "    print(nombre_completo)\n"
   ]
  },
  {
   "cell_type": "markdown",
   "metadata": {},
   "source": [
    "El metodo `index(valor)` nos permite obtener el índice de un elemento en la lista dado un valor como se muestra a continuación"
   ]
  },
  {
   "cell_type": "code",
   "execution_count": 53,
   "metadata": {},
   "outputs": [
    {
     "name": "stdout",
     "output_type": "stream",
     "text": [
      "2\n",
      "0\n"
     ]
    }
   ],
   "source": [
    "nombres = [\"juan\", \"maria\", \"pedro\", \"pelayo\"]\n",
    "print(nombres.index(\"pedro\")) # pedro es el tercer elemento es decir indice 2\n",
    "print(nombres.index(\"juan\")) # juan esta en el índice 0"
   ]
  },
  {
   "cell_type": "code",
   "execution_count": 52,
   "metadata": {},
   "outputs": [
    {
     "ename": "ValueError",
     "evalue": "'raton' is not in list",
     "output_type": "error",
     "traceback": [
      "\u001b[1;31m---------------------------------------------------------------------------\u001b[0m",
      "\u001b[1;31mValueError\u001b[0m                                Traceback (most recent call last)",
      "\u001b[1;32m<ipython-input-52-959b102d25ab>\u001b[0m in \u001b[0;36m<module>\u001b[1;34m\u001b[0m\n\u001b[1;32m----> 1\u001b[1;33m \u001b[0mprint\u001b[0m\u001b[1;33m(\u001b[0m\u001b[0mnombres\u001b[0m\u001b[1;33m.\u001b[0m\u001b[0mindex\u001b[0m\u001b[1;33m(\u001b[0m\u001b[1;34m\"raton\"\u001b[0m\u001b[1;33m)\u001b[0m\u001b[1;33m)\u001b[0m \u001b[1;31m# Arroja error porque no está ratón en la lista.\u001b[0m\u001b[1;33m\u001b[0m\u001b[1;33m\u001b[0m\u001b[0m\n\u001b[0m",
      "\u001b[1;31mValueError\u001b[0m: 'raton' is not in list"
     ]
    }
   ],
   "source": [
    "print(nombres.index(\"raton\")) # Arroja error porque no está ratón en la lista."
   ]
  },
  {
   "cell_type": "markdown",
   "metadata": {},
   "source": [
    "## Añadiendo y Sacando elementos de una lista"
   ]
  },
  {
   "cell_type": "markdown",
   "metadata": {},
   "source": [
    "Para añadir un elemento extra al final de la lista usamos `append(elemento)`"
   ]
  },
  {
   "cell_type": "code",
   "execution_count": 35,
   "metadata": {},
   "outputs": [
    {
     "name": "stdout",
     "output_type": "stream",
     "text": [
      "['juan', 'maria', 'pedro']\n"
     ]
    }
   ],
   "source": [
    "nombres = [\"juan\", \"maria\"]\n",
    "nombres.append(\"pedro\") # añado el nombre pedro a la lista `nombres`\n",
    "print(nombres)"
   ]
  },
  {
   "cell_type": "markdown",
   "metadata": {},
   "source": [
    "Si queremos añadir el elemento en un lugar especifico usamos el método `insert(indice, elemento)`, el cual mete el elemento dado en el indice dado"
   ]
  },
  {
   "cell_type": "code",
   "execution_count": 38,
   "metadata": {},
   "outputs": [
    {
     "name": "stdout",
     "output_type": "stream",
     "text": [
      "['juan', 'pelayo', 'maria', 'pedro']\n"
     ]
    }
   ],
   "source": [
    "nombres = [\"juan\", \"maria\", \"pedro\"]\n",
    "nombres.insert(1, \"pelayo\") # añado el nombre pelayo a la posición 1 de la lista (recuerden que contamos desde el 0)\n",
    "print(nombres)"
   ]
  },
  {
   "cell_type": "markdown",
   "metadata": {},
   "source": [
    "Si queremos sacar el último elemento de la lista usamos el método `pop()`"
   ]
  },
  {
   "cell_type": "code",
   "execution_count": 39,
   "metadata": {},
   "outputs": [
    {
     "name": "stdout",
     "output_type": "stream",
     "text": [
      "pedro\n",
      "['juan', 'maria']\n"
     ]
    }
   ],
   "source": [
    "nombres = [\"juan\", \"maria\", \"pedro\"]\n",
    "print(nombres.pop()) # Notar que pop devuelve el elemento que sacamos y además los saca de la lista\n",
    "print(nombres) # Como sacamos el ultimo entonces solo nos muestra a juan y a maría."
   ]
  },
  {
   "cell_type": "markdown",
   "metadata": {},
   "source": [
    "`pop` al igual que `insert` puede recibir un índice para sacar un elemento en una posición específica."
   ]
  },
  {
   "cell_type": "code",
   "execution_count": 42,
   "metadata": {},
   "outputs": [
    {
     "name": "stdout",
     "output_type": "stream",
     "text": [
      "juan\n",
      "['maria', 'pedro']\n"
     ]
    }
   ],
   "source": [
    "nombres = [\"juan\", \"maria\", \"pedro\"]\n",
    "print(nombres.pop(0)) # Sacamos el elemento 0 de la lista\n",
    "print(nombres)"
   ]
  },
  {
   "cell_type": "markdown",
   "metadata": {},
   "source": [
    "Por ultimo si queremos remover un elemento dado su valor y no su índice usamos el método `remove(valor)` el cual remueve el primer elemento de la lista que coíncida con su valor"
   ]
  },
  {
   "cell_type": "code",
   "execution_count": 47,
   "metadata": {},
   "outputs": [
    {
     "name": "stdout",
     "output_type": "stream",
     "text": [
      "None\n",
      "['juan', 'pedro', 'pelayo']\n",
      "['juan', 'pedro']\n"
     ]
    }
   ],
   "source": [
    "nombres = [\"juan\", \"maria\", \"pedro\", \"pelayo\"]\n",
    "print(nombres.remove(\"maria\")) # Notar que remove no devuelve el elemento que se sacó de la lista, simplemente lo remueve\n",
    "print(nombres) # Ya no está maría\n",
    "nombres.remove(\"pelayo\")\n",
    "print(nombres) # Ya no está pelayo"
   ]
  },
  {
   "cell_type": "markdown",
   "metadata": {},
   "source": [
    "Por ejemplo si queremos usar `pop` para sacar a maría podriamos combinarlo con `index`, pues index nos da la posición en que está maría y pop saca a maría con ese indice dado"
   ]
  },
  {
   "cell_type": "code",
   "execution_count": 55,
   "metadata": {},
   "outputs": [
    {
     "name": "stdout",
     "output_type": "stream",
     "text": [
      "maria\n",
      "['juan', 'pedro', 'pelayo']\n"
     ]
    }
   ],
   "source": [
    "nombres = [\"juan\", \"maria\", \"pedro\", \"pelayo\"]\n",
    "print(nombres.pop(nombres.index(\"maria\")))\n",
    "print(nombres)"
   ]
  },
  {
   "cell_type": "markdown",
   "metadata": {
    "id": "huUi8uJStSaH"
   },
   "source": [
    "### Slicing"
   ]
  },
  {
   "cell_type": "markdown",
   "metadata": {
    "id": "-rCJDHzjtSaI"
   },
   "source": [
    "Cuando hacemos indexamiento estamos limitados a solo obtener un elemento de la lista, **slicing** por otro lado me permite acceder a una secuencia de datos de la lista, es decir puedo acceder a varios datos si lo deseo en vez de solo 1. La traducción de slicing es \"rebanar\" y significa que cortamos la lista en un rango definido.\n",
    "\n",
    "El slicing se hace definiendo indices para el valor del primer y ultimo elemento que queremos obtener de la lista como se muestra a continuación."
   ]
  },
  {
   "cell_type": "code",
   "execution_count": 18,
   "metadata": {
    "id": "vQQqwtr3tSaI",
    "outputId": "abd5ca52-096d-4d81-cc66-ff5849e92733"
   },
   "outputs": [
    {
     "name": "stdout",
     "output_type": "stream",
     "text": [
      "[0, 1, 2, 3]\n",
      "['Alexis', 'Vidal', 'Medel']\n"
     ]
    }
   ],
   "source": [
    "num = [0,1,2,3,4,5,6,7,8,9]\n",
    "# El primer indice es 0 asi que toma el numero 0, y el último indice es el 4 osea hasta el quinto elemento sin incluirlo\n",
    "print(num[0:4]) \n",
    "futbolistas = [\"Alexis\", \"Vidal\", \"Medel\", \"Maripan\"]\n",
    "buenos = futbolistas[0:3]\n",
    "print(buenos)"
   ]
  },
  {
   "cell_type": "markdown",
   "metadata": {},
   "source": [
    "Matemáticamente un slicing de la forma `list[a:b]` te entrega todos los elementos partiendo del índice a, hasta el indice b sin incluir el último elemento. Es decir para el ejemplo de los futbolistas tenemos que <br>\n",
    "`futbolistas[0]` $\\xrightarrow{}$ `\"Alexis\"` <br>\n",
    "`futbolistas[3]` $\\xrightarrow{}$ `\"Maripan\"`<br>\n",
    "`futbolistas[0:3]` son todos los fútbolistas desde alexis hasta maripan sin incluir a maripan"
   ]
  },
  {
   "cell_type": "markdown",
   "metadata": {},
   "source": [
    "Además se puede hacer slicing omitiendo el primer o útlimo indice<br>\n",
    "si se omite el primer índice de la forma `list[:b]` toma todos los elementos desde el inicio es decir `list[0,b]`\n",
    "si se omite el segundo índice `list[a:]` entonces toma desde a hasta el último elemnto incluyendolo"
   ]
  },
  {
   "cell_type": "code",
   "execution_count": 19,
   "metadata": {},
   "outputs": [
    {
     "name": "stdout",
     "output_type": "stream",
     "text": [
      "['Alexis', 'Vidal']\n",
      "['Medel', 'Maripan']\n"
     ]
    }
   ],
   "source": [
    "print(futbolistas[:2]) # parte desde el início hasta el indice 2 sin incluir el último\n",
    "print(futbolistas[2:]) # Parte desde el índice 2 es decir el tercer elemento y muestra hasta el final"
   ]
  },
  {
   "cell_type": "markdown",
   "metadata": {
    "id": "F0bFLgrftSaK"
   },
   "source": [
    "Por úlimo se puede indexar por **pasos** es decir se va saltando algunos elementos para ello hacemos <br>\n",
    "`list[a:b:step]` <br>\n",
    "donde step es la cantidad de pasos que se va saltando, hagamos un ejemplo para que quede claro."
   ]
  },
  {
   "cell_type": "code",
   "execution_count": 21,
   "metadata": {
    "id": "GZC-fKuYtSaK",
    "outputId": "08278119-1e17-42a5-d50a-2f2c3dcef0f6"
   },
   "outputs": [
    {
     "name": "stdout",
     "output_type": "stream",
     "text": [
      "[2, 4, 6, 8, 10, 12, 14]\n",
      "[0, 2, 4, 6, 8, 10, 12, 14]\n",
      "[1, 3, 5, 7, 9, 11, 13]\n"
     ]
    }
   ],
   "source": [
    "num = [0, 1, 2, 3, 4, 5, 6, 7, 8, 9, 10, 11, 12, 13, 14]\n",
    "pares = num[2:15:2] # empiezo del 2, hasta el índice 15 (elemento 14) y voy saltando de 2 en 2\n",
    "print(pares)\n",
    "pares = num[::2] # Como no pongo ni a ni b entonces parte del primero hasta el último pero salta de 2 en 2\n",
    "print(pares)\n",
    "impares = num[1::2] # Parto desde el 1 recorro hasta el final y salto de 2 en 2 para los impares\n",
    "print(impares)"
   ]
  },
  {
   "cell_type": "markdown",
   "metadata": {
    "id": "kjE9AJR96xQn"
   },
   "source": [
    "## Listas de Listas\n",
    "Como dijimos antes, en una lista puedo meter cualquier tipo de dato, por lo tanto, !Podemos meter listas dentro de listas!, así como en una caja grande podemos meter varias cajas pequeñas, en las listas podemos meter dentro de ellas otras listas."
   ]
  },
  {
   "cell_type": "markdown",
   "metadata": {
    "id": "BQg2mBoRtSZ8"
   },
   "source": [
    "Para dar un ejemplo de como hasemos esto haremos un ejemplo, en este tenemos dos listas, cada una contiene el nombre de una persona, su apellido y su edad de la siguiente forma `persona = [nombre, apellido, edad]`, si queremos hacer una lista con varias personas entonces debemos meter estas listas con los datos de una persona en otra que tenga a todas las personas com ose muestra a continuacion."
   ]
  },
  {
   "cell_type": "code",
   "execution_count": 7,
   "metadata": {
    "colab": {
     "base_uri": "https://localhost:8080/"
    },
    "id": "BNMHNabk9GrT",
    "outputId": "711ba18b-9dda-4139-fa3a-00c5383d21ed"
   },
   "outputs": [
    {
     "name": "stdout",
     "output_type": "stream",
     "text": [
      "[['Arturo', 'Vidal', '34'], ['Gary', 'Medel', '33']]\n"
     ]
    }
   ],
   "source": [
    "p1 = [\"Arturo\", \"Vidal\", \"34\"]\n",
    "p2 = [\"Gary\", \"Medel\", \"33\"]\n",
    "personas = [p1, p2]\n",
    "print(personas)"
   ]
  },
  {
   "cell_type": "markdown",
   "metadata": {
    "id": "QWTu15HO9i3h"
   },
   "source": [
    "Como pueden ver, tenemos una lista de personas que contiene dos listas con los datos de dichas personas, a continuación veremos como acceder a dichos datos con indexamiento."
   ]
  },
  {
   "cell_type": "code",
   "execution_count": 8,
   "metadata": {
    "colab": {
     "base_uri": "https://localhost:8080/"
    },
    "id": "VGCyduQV9sCF",
    "outputId": "c7a0c952-0b0b-49cf-889d-f85973ea54e3"
   },
   "outputs": [
    {
     "name": "stdout",
     "output_type": "stream",
     "text": [
      "['Arturo', 'Vidal', '34']\n"
     ]
    }
   ],
   "source": [
    "# Si queremos obtener la persona 1 entonces hacemos lo mismo que antes\n",
    "persona_1 = personas[0]\n",
    "print(persona_1)"
   ]
  },
  {
   "cell_type": "code",
   "execution_count": 9,
   "metadata": {
    "colab": {
     "base_uri": "https://localhost:8080/"
    },
    "id": "VD-GsXiI92vC",
    "outputId": "a066e007-270c-45ff-b765-dafd54704478"
   },
   "outputs": [
    {
     "name": "stdout",
     "output_type": "stream",
     "text": [
      "Vidal\n",
      "34\n"
     ]
    }
   ],
   "source": [
    "# Si queremos acceder directamente a un dato 2 de la persona 1 usamos índices dobles\n",
    "# El primer índice saca el dato de la lista, y el segundo de la lista dentro de la anterior\n",
    "apellido = personas[0][1]\n",
    "print(apellido)\n",
    "edad = personas[0][2]\n",
    "print(edad)"
   ]
  },
  {
   "cell_type": "code",
   "execution_count": 12,
   "metadata": {
    "colab": {
     "base_uri": "https://localhost:8080/"
    },
    "id": "hqtAzgyZ-Oe9",
    "outputId": "151b287c-a35a-48a5-ce04-4694049e5960"
   },
   "outputs": [
    {
     "name": "stdout",
     "output_type": "stream",
     "text": [
      "Datos sobre Gary Medel:\n",
      "Medel\n",
      "33\n"
     ]
    }
   ],
   "source": [
    "# Otro ejemplo accediendo a los datos de Gary\n",
    "print(\"Datos sobre Gary Medel:\")\n",
    "apellido = personas[1][1]\n",
    "print(apellido)\n",
    "edad = personas[1][2]\n",
    "print(edad)"
   ]
  },
  {
   "cell_type": "markdown",
   "metadata": {
    "id": "mUxCmXLRtSZ_"
   },
   "source": [
    "El indexamiento en listas de listas puede ser confuso, por lo que vamos a explicar paso por paso que es lo que pasa cuando hacemos `personas[0][2]` para obtener la edad de arturo vidal.\n",
    "1. En primer lugar el indice `[0]` saca la lista en la posición 1 de la lista personas, es decir `['Arturo', 'Vidal', '34']`\n",
    "2. Luego el indice `[2]` accede a la lista `['Arturo', 'Vidal', '34']` y da el tercer elemento de ella es decir `34`"
   ]
  },
  {
   "cell_type": "code",
   "execution_count": 14,
   "metadata": {},
   "outputs": [
    {
     "name": "stdout",
     "output_type": "stream",
     "text": [
      "34\n"
     ]
    }
   ],
   "source": [
    "print(personas[0][2])"
   ]
  },
  {
   "cell_type": "markdown",
   "metadata": {
    "id": "ZIJv80xytSaB"
   },
   "source": [
    "Las listas no tienen que ser *homogeneas*. Es decir puedo tener diferentes tipos de datos en una sola lista."
   ]
  },
  {
   "cell_type": "code",
   "execution_count": 16,
   "metadata": {
    "id": "rQ0try16tSaF",
    "outputId": "13b7a03f-5de6-4afa-a455-9137ab4132dd"
   },
   "outputs": [
    {
     "data": {
      "text/plain": [
       "['this is a valid list', 2, 3.6, (1+2j), ['a', 'sublist']]"
      ]
     },
     "execution_count": 16,
     "metadata": {},
     "output_type": "execute_result"
    }
   ],
   "source": [
    "# Esta lista tiene strings, ints, complejos, float y incluso otra lista\n",
    "[\"this is a valid list\",2,3.6,(1+2j),[\"a\",\"sublist\"]] "
   ]
  },
  {
   "cell_type": "markdown",
   "metadata": {
    "id": "rOK5ufyhtSaL"
   },
   "source": [
    "### Funciones built-in\n",
    "Hay algunas funciones que se pueden aplicar a listas que vienen con python, a continuación se muestran las más usadas."
   ]
  },
  {
   "cell_type": "markdown",
   "metadata": {
    "id": "KLbCjUNatSaL"
   },
   "source": [
    "Para encontrar el largo de una lista usamos `len(list)` donde `len` viene de la palabra *length* que significa largo."
   ]
  },
  {
   "cell_type": "code",
   "execution_count": 2,
   "metadata": {
    "id": "oZfA7QhutSaL",
    "outputId": "e7949b26-f5f4-4ad7-c1eb-73c37784d91e"
   },
   "outputs": [
    {
     "data": {
      "text/plain": [
       "11"
      ]
     },
     "execution_count": 2,
     "metadata": {},
     "output_type": "execute_result"
    }
   ],
   "source": [
    "num = [0, 1, 2, 3, 4, 5, 6, 7, 8, 9, 10]\n",
    "len(num) # Notar que hay 11 elementos en num pues está el 0 también"
   ]
  },
  {
   "cell_type": "markdown",
   "metadata": {
    "id": "UTdX8mrHtSaL"
   },
   "source": [
    "Si la lista solo tiene elementos numéricos las funciones `min( )` y `max( )` dan el valor mínimo y máximo de la lista respectivamente, `sum()` da el valor de la suma de todos sus elementos."
   ]
  },
  {
   "cell_type": "code",
   "execution_count": 3,
   "metadata": {
    "id": "P9qTNPCQtSaM",
    "outputId": "9796e0ef-63a3-4c63-f375-7687c8d13add"
   },
   "outputs": [
    {
     "name": "stdout",
     "output_type": "stream",
     "text": [
      "min = 0   max = 10   total = 55\n"
     ]
    }
   ],
   "source": [
    "print(\"min =\",min(num),\"  max =\",max(num),\"  total =\",sum(num))"
   ]
  },
  {
   "cell_type": "markdown",
   "metadata": {
    "id": "BMlMMUUPtSaN"
   },
   "source": [
    "Podemos concatenar dos listas usando `+` entre ellas, el resultado da una lista con los elementos de las dos que se sumaron."
   ]
  },
  {
   "cell_type": "code",
   "execution_count": 4,
   "metadata": {
    "id": "gKVkNdzptSaN",
    "outputId": "ae9dcb5d-60f7-4c05-a713-3b7e26c87453"
   },
   "outputs": [
    {
     "data": {
      "text/plain": [
       "[1, 2, 3, 5, 4, 7]"
      ]
     },
     "execution_count": 4,
     "metadata": {},
     "output_type": "execute_result"
    }
   ],
   "source": [
    "[1,2,3] + [5,4,7]"
   ]
  },
  {
   "cell_type": "markdown",
   "metadata": {
    "id": "OEH8prBItSaO"
   },
   "source": [
    "There might arise a requirement where you might need to check if a particular element is there in a predefined list. Consider the below list.\n",
    "A veces queremos chequear si un elemento especifico esta o no en una lista, para eso usamos la sentencia `in`, la cual retorna `True` si el elemento está en la lista y `False` si no está en la lista."
   ]
  },
  {
   "cell_type": "code",
   "execution_count": 8,
   "metadata": {
    "id": "ZdTRCBDYtSaO"
   },
   "outputs": [],
   "source": [
    "names = ['Earth','Air','Fire','Water']"
   ]
  },
  {
   "cell_type": "code",
   "execution_count": 9,
   "metadata": {
    "id": "mkvCRvCatSaO",
    "outputId": "7ed76162-5a02-4a17-e490-cdda6b7d3d7b"
   },
   "outputs": [
    {
     "data": {
      "text/plain": [
       "True"
      ]
     },
     "execution_count": 9,
     "metadata": {},
     "output_type": "execute_result"
    }
   ],
   "source": [
    "'Fire' in names"
   ]
  },
  {
   "cell_type": "code",
   "execution_count": 10,
   "metadata": {
    "id": "3I-BraMvtSaP",
    "outputId": "d2d6d035-317b-4596-e279-25f4d53ffb29"
   },
   "outputs": [
    {
     "data": {
      "text/plain": [
       "False"
      ]
     },
     "execution_count": 10,
     "metadata": {},
     "output_type": "execute_result"
    }
   ],
   "source": [
    "'Metal' in names"
   ]
  },
  {
   "cell_type": "markdown",
   "metadata": {
    "id": "ZaiH_L4stSaO"
   },
   "source": [
    "Podemos ver que `Fire` está en la lista pero `Metal` no está."
   ]
  },
  {
   "cell_type": "code",
   "execution_count": 12,
   "metadata": {},
   "outputs": [
    {
     "name": "stdout",
     "output_type": "stream",
     "text": [
      "El poderoso señor del fuego está en los elementos\n"
     ]
    }
   ],
   "source": [
    "# Ejemplo usando condicionales\n",
    "if \"Fire\" in names:\n",
    "    print(\"El poderoso señor del fuego está en los elementos\")\n",
    "else:\n",
    "    print(\"La nación del fuego nos abandonó\")"
   ]
  },
  {
   "cell_type": "markdown",
   "metadata": {
    "id": "1BK9OO_vtSaV"
   },
   "source": [
    "Any other built-in or user defined function can be used.\n",
    "\n",
    "A string can be converted into a list by using the `list()` function, or more usefully using the `split()` method, which breaks strings up based on spaces.\n",
    "\n",
    "Otra funcion útil es la funcion `list()` la cual convierte objetos en listas (como strings por ejemplo)\n",
    "Por otra parte el método `split()` separa strings y los convierte en una lista. Veamos a continuación un par de ejemplos."
   ]
  },
  {
   "cell_type": "code",
   "execution_count": 56,
   "metadata": {
    "id": "lrC1M9NdtSaV",
    "outputId": "0b2f6b69-370c-48c8-de47-4536ad3e0ca8"
   },
   "outputs": [
    {
     "name": "stdout",
     "output_type": "stream",
     "text": [
      "['H', 'e', 'l', 'l', 'o', ' ', 'W', 'o', 'r', 'l', 'd']\n",
      "[1, 2, 3, 4, 5]\n"
     ]
    }
   ],
   "source": [
    "# List es una función que toma como parametro un string (u otro objeto transformable a lista) y lo convierte en una lista\n",
    "print(list(\"Hello World\"))\n",
    "tupla = (1, 2, 3, 4, 5)\n",
    "print(list(tupla))"
   ]
  },
  {
   "cell_type": "code",
   "execution_count": 57,
   "metadata": {},
   "outputs": [
    {
     "name": "stdout",
     "output_type": "stream",
     "text": [
      "['Hello', 'World']\n",
      "['Hello', 'World']\n",
      "['Hell', ' W', 'rld']\n",
      "['2', '3', '4', '5', '6']\n"
     ]
    }
   ],
   "source": [
    "# Split se aplica sobre un string, y toma como parámetro otro string que es el separador\n",
    "# Por defecto split separa las palabras separadas por espacios\n",
    "print(\"Hello World\".split())\n",
    "# Lo de arriba es lo mismo que hacer\n",
    "print(\"Hello World\".split(\" \"))\n",
    "# Si le pasamos otro parametro por ejemplo la \"o\" corta el string separandolo con la \"o\"\n",
    "print(\"Hello World\".split(\"o\"))\n",
    "# Es util si queremos separar datos por comas por ejemplo\n",
    "print(\"2,3,4,5,6\".split(\",\"))"
   ]
  },
  {
   "cell_type": "code",
   "execution_count": 58,
   "metadata": {},
   "outputs": [
    {
     "name": "stdout",
     "output_type": "stream",
     "text": [
      "[1, 2, 3, 4, 5]\n"
     ]
    }
   ],
   "source": [
    "# Flujo sencillo para separar un string de numeros separados por comas y convertirlo en una lista de numeros\n",
    "string_numeros = \"1,2,3,4,5\"\n",
    "numeros = string_numeros.split(\",\")\n",
    "numeros_int = []\n",
    "for numero in numeros:\n",
    "    numeros_int.append(int(numero))\n",
    "\n",
    "print(numeros_int)"
   ]
  },
  {
   "cell_type": "markdown",
   "metadata": {
    "id": "HZvJgY4ZtSac"
   },
   "source": [
    "The entire elements present in the list can be reversed by using the `reverse()` function.\n",
    "Podemos dar vuelta una lista usando `reverse()`. Ojo que reverse da vuelta la lista misma, no es que retorne una lista nueva que este dada vuelta como cuando hacemos slicing."
   ]
  },
  {
   "cell_type": "code",
   "execution_count": 65,
   "metadata": {
    "id": "dPQe1ZiAtSad",
    "outputId": "14233ffb-38e6-40b6-f83a-3fe339652816"
   },
   "outputs": [
    {
     "name": "stdout",
     "output_type": "stream",
     "text": [
      "[5, 4, 3, 2, 1]\n"
     ]
    }
   ],
   "source": [
    "lst = [1,2,3,4,5]\n",
    "lst.reverse()\n",
    "print(lst)"
   ]
  },
  {
   "cell_type": "code",
   "execution_count": 68,
   "metadata": {},
   "outputs": [
    {
     "name": "stdout",
     "output_type": "stream",
     "text": [
      "[5, 4, 3, 2, 1]\n",
      "lst original no ha cambiado [1, 2, 3, 4, 5]\n"
     ]
    }
   ],
   "source": [
    "# Podemos conseguir lo mismo usando indexamiento, esta devuelve una lista nueva pero no cambia la original\n",
    "lst = [1,2,3,4,5]\n",
    "print(lst[::-1])\n",
    "print(\"lst original no ha cambiado\", lst)"
   ]
  },
  {
   "cell_type": "markdown",
   "metadata": {
    "id": "rPNQNQi8tSad"
   },
   "source": [
    "Note that the nested list [5,4,2,8] is treated as a single element of the parent list lst. Thus the elements inside the nested list is not reversed.\n",
    "\n",
    "Python offers built in operation `sort( )` to arrange the elements in ascending order. Alternatively `sorted()` can be used to construct a copy of the list in sorted order\n",
    "\n",
    "Podemos ordenar una lista usando el método `sort()` el cual ordena la lista misma"
   ]
  },
  {
   "cell_type": "code",
   "execution_count": 74,
   "metadata": {},
   "outputs": [
    {
     "name": "stdout",
     "output_type": "stream",
     "text": [
      "None\n",
      "[1, 2, 3, 5, 5]\n"
     ]
    }
   ],
   "source": [
    "lst = [3,5,2,1,5]\n",
    "print(lst.sort()) # Notar que no se devuelve nada, pues se está alterando la lista en si\n",
    "print(lst)"
   ]
  },
  {
   "cell_type": "markdown",
   "metadata": {},
   "source": [
    "Por otro lado la función `sorted()` ordena la lista, pero devuelve una copia, dejando intacta la original."
   ]
  },
  {
   "cell_type": "code",
   "execution_count": 75,
   "metadata": {},
   "outputs": [
    {
     "name": "stdout",
     "output_type": "stream",
     "text": [
      "[1, 2, 3, 5, 5]\n",
      "[3, 5, 2, 1, 5]\n"
     ]
    }
   ],
   "source": [
    "lst = [3,5,2,1,5]\n",
    "print(sorted(lst)) # Notar que si se devuelve una lista neuva cuando usamos la función sorted\n",
    "print(lst)"
   ]
  },
  {
   "cell_type": "markdown",
   "metadata": {
    "id": "_jgg9_E9tSad"
   },
   "source": [
    "Si queremos ordenar en order descendiente podemos pasarle el parámetro keyword `reverse` como `True` (pues por defecto se ordena de forma ascendente)."
   ]
  },
  {
   "cell_type": "code",
   "execution_count": 79,
   "metadata": {
    "id": "dPbYZYuctSad",
    "outputId": "d0f01b16-0b58-46b9-af31-eeb1b0a37c49"
   },
   "outputs": [
    {
     "name": "stdout",
     "output_type": "stream",
     "text": [
      "None\n",
      "[5, 5, 3, 2, 1]\n"
     ]
    }
   ],
   "source": [
    "lst = [3,5,2,1,5]\n",
    "print(lst.sort(reverse=True)) # Notar que no se devuelve nada, pues se está alterando la lista en si\n",
    "print(lst)"
   ]
  },
  {
   "cell_type": "code",
   "execution_count": 80,
   "metadata": {},
   "outputs": [
    {
     "name": "stdout",
     "output_type": "stream",
     "text": [
      "[5, 5, 3, 2, 1]\n",
      "[3, 5, 2, 1, 5]\n"
     ]
    }
   ],
   "source": [
    "lst = [3,5,2,1,5]\n",
    "print(sorted(lst, reverse=True)) # Notar que si se devuelve una lista neuva cuando usamos la función sorted\n",
    "print(lst)"
   ]
  },
  {
   "cell_type": "markdown",
   "metadata": {
    "id": "lBrD-xKCtSae"
   },
   "source": [
    "### Copiando una lista"
   ]
  },
  {
   "cell_type": "markdown",
   "metadata": {
    "id": "5agrzUThtSaf"
   },
   "source": [
    "Assignment of a list does not imply copying. It simply creates a second reference to the same list. Most of new python programmers get caught out by this initially. Consider the following,\n",
    "Veamos el siguiente codigo"
   ]
  },
  {
   "cell_type": "code",
   "execution_count": 89,
   "metadata": {},
   "outputs": [
    {
     "name": "stdout",
     "output_type": "stream",
     "text": [
      "b: 5\n",
      "b: 5\n",
      "a: 2\n"
     ]
    }
   ],
   "source": [
    "a = 5 # a vale 5\n",
    "b = a # b vale lo mismo que a es decir 5\n",
    "print(\"b:\", b) # b vale 5\n",
    "a = 2 # a ahora vale 2\n",
    "print(\"b:\", b) # se imprime el valor de b que sigue siendo 5\n",
    "print(\"a:\",a) # se imprime el valor de a que ahora vale 2"
   ]
  },
  {
   "cell_type": "markdown",
   "metadata": {},
   "source": [
    "El mismo ejemplo no funciona del todo bien si usamos listas"
   ]
  },
  {
   "cell_type": "code",
   "execution_count": 96,
   "metadata": {},
   "outputs": [
    {
     "name": "stdout",
     "output_type": "stream",
     "text": [
      "a: [1, 2, 3]\n",
      "b: [1, 2, 3]\n",
      "b: [1, 2, 3, '4']\n"
     ]
    }
   ],
   "source": [
    "a = [1, 2, 3]\n",
    "print(\"a:\", a)\n",
    "b = a\n",
    "print(\"b:\", b)\n",
    "a.append(\"4\")\n",
    "print(\"b:\", b) # ¿Por que si yo le meti el 4 a la lista `a` este se agrego a la lista `b`?"
   ]
  },
  {
   "cell_type": "markdown",
   "metadata": {},
   "source": [
    "Resulta que cuando yo hago `b = a` no estoy copiando la lista `a` en la variable `b`, sino que la variable `b` va a ser la misma lista `a`, el mismo objeto, por lo que si cambiamos a o b es como cambiar la misma lista, se dice que tanto la variable `a` como `b` **referencian** al mismo objeto, en este caso la lista."
   ]
  },
  {
   "cell_type": "markdown",
   "metadata": {},
   "source": [
    "Si queremos efectivamente hacer una copia de la lista para tener dos listas distintas debemos usar slicing, a continuación se muestra un ejemplo que hace lo mismo que lo anterior pero esta vez se copia la lista a en vez de hacer referencia a ella."
   ]
  },
  {
   "cell_type": "code",
   "execution_count": 101,
   "metadata": {},
   "outputs": [
    {
     "name": "stdout",
     "output_type": "stream",
     "text": [
      "b: [1, 2, 3]\n",
      "a:  [1, 2, 3, 4]\n"
     ]
    }
   ],
   "source": [
    "a = [1,2,3]\n",
    "b = a[:] # Recuerda que slicing devuelve una copia de la lista\n",
    "a.append(4)\n",
    "print(\"b:\", b)\n",
    "print(\"a: \", a)"
   ]
  },
  {
   "cell_type": "markdown",
   "metadata": {
    "id": "hYvoax44tSav"
   },
   "source": [
    "## Tuples"
   ]
  },
  {
   "cell_type": "markdown",
   "metadata": {
    "id": "GfW2NTSZtSav"
   },
   "source": [
    "Las tuplas son casi iguales que las listas pero son **inmutables** es decir no podemos cambiar los elementos que están dentro de ella pues nos arrojaría un error. Las tuplas al igual que las listas son ordenadas e indexables (Es decir cada elemento tiene una posición específica y se puede obtener por un indice igual que en las listas).\n",
    "Las tuplas se declaran con paréntes `()` en vez de corchetes `[]`"
   ]
  },
  {
   "cell_type": "code",
   "execution_count": 102,
   "metadata": {
    "id": "uZqoD3RdtSav",
    "outputId": "b162e512-00f5-40ce-913c-c69f20c7ff2f"
   },
   "outputs": [
    {
     "name": "stdout",
     "output_type": "stream",
     "text": [
      "maria\n",
      "pedro\n",
      "juan\n",
      "maria\n",
      "El largo de la tupla es:  3\n"
     ]
    }
   ],
   "source": [
    "tupla = (\"maria\", \"pedro\", \"juan\")\n",
    "for nombre in tupla:\n",
    "    print(nombre)\n",
    "print(tupla[0])\n",
    "print(\"El largo de la tupla es: \", len(tupla))"
   ]
  },
  {
   "cell_type": "markdown",
   "metadata": {},
   "source": [
    "Los siguientes codigos arrojan un error pues las tuplas no pueden cambiar, son inmutables"
   ]
  },
  {
   "cell_type": "code",
   "execution_count": 104,
   "metadata": {},
   "outputs": [
    {
     "ename": "TypeError",
     "evalue": "'tuple' object does not support item assignment",
     "output_type": "error",
     "traceback": [
      "\u001b[1;31m---------------------------------------------------------------------------\u001b[0m",
      "\u001b[1;31mTypeError\u001b[0m                                 Traceback (most recent call last)",
      "\u001b[1;32m<ipython-input-104-4c97d0eb7d6f>\u001b[0m in \u001b[0;36m<module>\u001b[1;34m\u001b[0m\n\u001b[1;32m----> 1\u001b[1;33m \u001b[0mtupla\u001b[0m\u001b[1;33m[\u001b[0m\u001b[1;36m0\u001b[0m\u001b[1;33m]\u001b[0m \u001b[1;33m=\u001b[0m \u001b[1;34m\"pelayo\"\u001b[0m\u001b[1;33m\u001b[0m\u001b[1;33m\u001b[0m\u001b[0m\n\u001b[0m",
      "\u001b[1;31mTypeError\u001b[0m: 'tuple' object does not support item assignment"
     ]
    }
   ],
   "source": [
    "tupla[0] = \"pelayo\""
   ]
  },
  {
   "cell_type": "code",
   "execution_count": 106,
   "metadata": {},
   "outputs": [
    {
     "ename": "AttributeError",
     "evalue": "'tuple' object has no attribute 'append'",
     "output_type": "error",
     "traceback": [
      "\u001b[1;31m---------------------------------------------------------------------------\u001b[0m",
      "\u001b[1;31mAttributeError\u001b[0m                            Traceback (most recent call last)",
      "\u001b[1;32m<ipython-input-106-bd5d7ce9b339>\u001b[0m in \u001b[0;36m<module>\u001b[1;34m\u001b[0m\n\u001b[0;32m      1\u001b[0m \u001b[1;31m# Al no poder cambiar entonces tampoco podemos añadir o remover elementos, solamente podemos acceder a ellos\u001b[0m\u001b[1;33m\u001b[0m\u001b[1;33m\u001b[0m\u001b[1;33m\u001b[0m\u001b[0m\n\u001b[1;32m----> 2\u001b[1;33m \u001b[0mtupla\u001b[0m\u001b[1;33m.\u001b[0m\u001b[0mappend\u001b[0m\u001b[1;33m(\u001b[0m\u001b[1;34m\"pelayo\"\u001b[0m\u001b[1;33m)\u001b[0m\u001b[1;33m\u001b[0m\u001b[1;33m\u001b[0m\u001b[0m\n\u001b[0m",
      "\u001b[1;31mAttributeError\u001b[0m: 'tuple' object has no attribute 'append'"
     ]
    }
   ],
   "source": [
    "# Al no poder cambiar entonces tampoco podemos añadir o remover elementos, solamente podemos acceder a ellos\n",
    "tupla.append(\"pelayo\")"
   ]
  },
  {
   "cell_type": "code",
   "execution_count": 107,
   "metadata": {},
   "outputs": [
    {
     "ename": "AttributeError",
     "evalue": "'tuple' object has no attribute 'remove'",
     "output_type": "error",
     "traceback": [
      "\u001b[1;31m---------------------------------------------------------------------------\u001b[0m",
      "\u001b[1;31mAttributeError\u001b[0m                            Traceback (most recent call last)",
      "\u001b[1;32m<ipython-input-107-371438cb57b6>\u001b[0m in \u001b[0;36m<module>\u001b[1;34m\u001b[0m\n\u001b[1;32m----> 1\u001b[1;33m \u001b[0mtupla\u001b[0m\u001b[1;33m.\u001b[0m\u001b[0mremove\u001b[0m\u001b[1;33m(\u001b[0m\u001b[1;34m\"pelayo\"\u001b[0m\u001b[1;33m)\u001b[0m\u001b[1;33m\u001b[0m\u001b[1;33m\u001b[0m\u001b[0m\n\u001b[0m",
      "\u001b[1;31mAttributeError\u001b[0m: 'tuple' object has no attribute 'remove'"
     ]
    }
   ],
   "source": [
    "tupla.remove(\"pelayo\")"
   ]
  },
  {
   "cell_type": "markdown",
   "metadata": {
    "id": "OX6aUAEGtSax"
   },
   "source": [
    "Values can be assigned while declaring a tuple. It takes a list as input and converts it into a tuple or it takes a string and converts it into a tuple.\n",
    "Podemos convertir una lista en tupla usando la función `tuple()`"
   ]
  },
  {
   "cell_type": "code",
   "execution_count": 109,
   "metadata": {
    "id": "x1PtH47itSay",
    "outputId": "e5fbe08e-0ea6-4c93-da00-8658b165a9cb",
    "scrolled": true
   },
   "outputs": [
    {
     "name": "stdout",
     "output_type": "stream",
     "text": [
      "(1, 2, 3)\n",
      "('H', 'e', 'l', 'l', 'o')\n"
     ]
    }
   ],
   "source": [
    "tup3 = tuple([1,2,3])\n",
    "print(tup3)\n",
    "tup4 = tuple('Hello')\n",
    "print(tup4)"
   ]
  },
  {
   "cell_type": "markdown",
   "metadata": {
    "id": "GrBDpiXrtSa1"
   },
   "source": [
    "## Sets"
   ]
  },
  {
   "cell_type": "markdown",
   "metadata": {
    "id": "RwL5v37CtSa1"
   },
   "source": [
    "Los sets en python son la representación de lo que es un conjunto en matemáticas, estos no son ordenados, ni tampoco indexables, además solo puede estar 1 vez cada elemento (no puede haber elementos repetidos).\n",
    "Para definir un set vació usamos `set()` y para definir uno con elementos usamos corchetes `{}`\n",
    "Para añadir elementos usamos el método `add(elemento)` y para sacar elementos usamos `remove(valor)`"
   ]
  },
  {
   "cell_type": "code",
   "execution_count": 114,
   "metadata": {
    "id": "6859bdhJtSa1",
    "outputId": "536a4095-4c06-4c5a-a951-8c9dac7a3ea3"
   },
   "outputs": [
    {
     "name": "stdout",
     "output_type": "stream",
     "text": [
      "{3, 5}\n"
     ]
    }
   ],
   "source": [
    "a = set()\n",
    "a.add(5)\n",
    "a.add(5) # El 5 ya está asi que no se repite\n",
    "a.add(3)\n",
    "print(a)"
   ]
  },
  {
   "cell_type": "code",
   "execution_count": 119,
   "metadata": {},
   "outputs": [
    {
     "name": "stdout",
     "output_type": "stream",
     "text": [
      "{1, 3, 4, 5, 6}\n",
      "b tiene: 5 elementos\n"
     ]
    }
   ],
   "source": [
    "b = {1, 2, 3, 4, 5}\n",
    "b.add(6)\n",
    "b.add(5)\n",
    "b.remove(2)\n",
    "print(b)\n",
    "print(\"b tiene:\", len(b), \"elementos\")"
   ]
  },
  {
   "cell_type": "code",
   "execution_count": 121,
   "metadata": {},
   "outputs": [
    {
     "ename": "TypeError",
     "evalue": "'set' object is not subscriptable",
     "output_type": "error",
     "traceback": [
      "\u001b[1;31m---------------------------------------------------------------------------\u001b[0m",
      "\u001b[1;31mTypeError\u001b[0m                                 Traceback (most recent call last)",
      "\u001b[1;32m<ipython-input-121-489aede9223a>\u001b[0m in \u001b[0;36m<module>\u001b[1;34m\u001b[0m\n\u001b[0;32m      1\u001b[0m \u001b[1;31m# No podemos usar indices en un set pues nos arroja un error\u001b[0m\u001b[1;33m\u001b[0m\u001b[1;33m\u001b[0m\u001b[1;33m\u001b[0m\u001b[0m\n\u001b[0;32m      2\u001b[0m \u001b[0mb\u001b[0m \u001b[1;33m=\u001b[0m \u001b[1;33m{\u001b[0m\u001b[1;36m1\u001b[0m\u001b[1;33m,\u001b[0m \u001b[1;36m2\u001b[0m\u001b[1;33m,\u001b[0m \u001b[1;36m3\u001b[0m\u001b[1;33m,\u001b[0m \u001b[1;36m4\u001b[0m\u001b[1;33m,\u001b[0m \u001b[1;36m5\u001b[0m\u001b[1;33m}\u001b[0m\u001b[1;33m\u001b[0m\u001b[1;33m\u001b[0m\u001b[0m\n\u001b[1;32m----> 3\u001b[1;33m \u001b[0mb\u001b[0m\u001b[1;33m[\u001b[0m\u001b[1;36m0\u001b[0m\u001b[1;33m]\u001b[0m\u001b[1;33m\u001b[0m\u001b[1;33m\u001b[0m\u001b[0m\n\u001b[0m",
      "\u001b[1;31mTypeError\u001b[0m: 'set' object is not subscriptable"
     ]
    }
   ],
   "source": [
    "# No podemos usar indices en un set pues nos arroja un error\n",
    "b = {1, 2, 3, 4, 5}\n",
    "b[0]"
   ]
  },
  {
   "cell_type": "markdown",
   "metadata": {},
   "source": [
    "Por último si iteramos sobre un set sabemos que vamos a pasar por todos los elementos si o si."
   ]
  },
  {
   "cell_type": "code",
   "execution_count": 129,
   "metadata": {},
   "outputs": [
    {
     "name": "stdout",
     "output_type": "stream",
     "text": [
      "1\n",
      "2\n",
      "3\n",
      "4\n",
      "5\n"
     ]
    }
   ],
   "source": [
    "b = {1, 2, 3, 4, 5}\n",
    "for i in b:\n",
    "    print(i)"
   ]
  },
  {
   "cell_type": "code",
   "execution_count": 130,
   "metadata": {
    "id": "2czedl50tSa2",
    "outputId": "847def8d-9df4-45da-86cf-1789ee06b78b"
   },
   "outputs": [
    {
     "name": "stdout",
     "output_type": "stream",
     "text": [
      "{1, 2, 3, 4}\n"
     ]
    }
   ],
   "source": [
    "set0 = set([1,2,2,3,3,4])\n",
    "set0 = {3,3,4,1,2,2} # equivalent to the above\n",
    "print(set0) # order is not preserved"
   ]
  },
  {
   "cell_type": "markdown",
   "metadata": {
    "id": "pPA8sb7JtSa2"
   },
   "source": [
    "#### Built-in Functions de sets"
   ]
  },
  {
   "cell_type": "code",
   "execution_count": 133,
   "metadata": {
    "id": "WDV2iVe-tSa2"
   },
   "outputs": [],
   "source": [
    "set1 = {1,2,3}"
   ]
  },
  {
   "cell_type": "code",
   "execution_count": 134,
   "metadata": {
    "id": "v3p9lNY_tSa3"
   },
   "outputs": [],
   "source": [
    "set2 = {2,3,4,5,6}"
   ]
  },
  {
   "cell_type": "markdown",
   "metadata": {
    "id": "S1YeEMa3tSa3"
   },
   "source": [
    "`union( )` da la union de ambos conjuntos, a diferencia de las listas, los elementos no se repiten pues son sets"
   ]
  },
  {
   "cell_type": "code",
   "execution_count": 137,
   "metadata": {
    "id": "bJ872Yn6tSa3",
    "outputId": "6d19416d-e4ee-4ad7-ad1b-06676f6196f5"
   },
   "outputs": [
    {
     "data": {
      "text/plain": [
       "{1, 2, 3, 4, 5, 6}"
      ]
     },
     "execution_count": 137,
     "metadata": {},
     "output_type": "execute_result"
    }
   ],
   "source": [
    "set1.union(set2)"
   ]
  },
  {
   "cell_type": "markdown",
   "metadata": {
    "id": "iqxlOqIctSa4"
   },
   "source": [
    "`intersection( )` da la intersección de dos conjuntos, es decir elementos que estan en ambos sets"
   ]
  },
  {
   "cell_type": "code",
   "execution_count": 139,
   "metadata": {
    "id": "rVwXcQuatSa4",
    "outputId": "668a9cc7-49c6-4f90-9299-404bcbf350f3"
   },
   "outputs": [
    {
     "data": {
      "text/plain": [
       "{2, 3}"
      ]
     },
     "execution_count": 139,
     "metadata": {},
     "output_type": "execute_result"
    }
   ],
   "source": [
    "set1.intersection(set2)"
   ]
  },
  {
   "cell_type": "markdown",
   "metadata": {
    "id": "ZeD-YRL0tSa4"
   },
   "source": [
    "`difference( )` da los elementos que están en el set 1 pero que no están en el set 2"
   ]
  },
  {
   "cell_type": "code",
   "execution_count": 140,
   "metadata": {
    "id": "_iqbFatXtSa4",
    "outputId": "0e67e80a-17de-4023-c472-706f0cb0415e"
   },
   "outputs": [
    {
     "data": {
      "text/plain": [
       "{1}"
      ]
     },
     "execution_count": 140,
     "metadata": {},
     "output_type": "execute_result"
    }
   ],
   "source": [
    "set1.difference(set2)"
   ]
  },
  {
   "cell_type": "markdown",
   "metadata": {
    "id": "JziCDRBrtSa6"
   },
   "source": [
    "`pop( )` remueve un elemento cualquiera del set, al ser este no ordenador puede devolver cualquier elemento, no necesariamente el ultimo."
   ]
  },
  {
   "cell_type": "code",
   "execution_count": 155,
   "metadata": {
    "id": "Kz99-FfstSa7",
    "outputId": "91573de5-0017-40bf-e2db-339cd38e5b94"
   },
   "outputs": [
    {
     "name": "stdout",
     "output_type": "stream",
     "text": [
      "4\n",
      "que chori\n",
      "{'hola', 'adios', 'aaaa'}\n"
     ]
    }
   ],
   "source": [
    "set1 = {\"hola\", \"aaaa\", \"que chori\", \"adios\", 4}\n",
    "print(set1.pop())\n",
    "print(set1.pop())\n",
    "print(set1)"
   ]
  },
  {
   "cell_type": "markdown",
   "metadata": {
    "id": "7_rfTvrxtSa7"
   },
   "source": [
    "`clear( )` vacía el set que tenemos"
   ]
  },
  {
   "cell_type": "code",
   "execution_count": 157,
   "metadata": {
    "id": "_O0Sl1OWtSa7",
    "outputId": "91e49d6b-71be-4203-9e3e-d0f70ebc9299"
   },
   "outputs": [
    {
     "data": {
      "text/plain": [
       "set()"
      ]
     },
     "execution_count": 157,
     "metadata": {},
     "output_type": "execute_result"
    }
   ],
   "source": [
    "set1.clear()\n",
    "set1 # Ahora está vació nuevamente"
   ]
  },
  {
   "cell_type": "markdown",
   "metadata": {
    "id": "Pm2W_hdttSa8"
   },
   "source": [
    "### Vacio significa False\n",
    "En python si una estructura de datos está vacía esta se interpreta como `False`, podemos usar esto en condicionales"
   ]
  },
  {
   "cell_type": "code",
   "execution_count": 158,
   "metadata": {},
   "outputs": [
    {
     "name": "stdout",
     "output_type": "stream",
     "text": [
      "A está vació\n"
     ]
    }
   ],
   "source": [
    "a = []\n",
    "if a:\n",
    "    print(\"Hay elementos en a\")\n",
    "else:\n",
    "    print(\"A está vació\")"
   ]
  },
  {
   "cell_type": "code",
   "execution_count": 160,
   "metadata": {},
   "outputs": [
    {
     "name": "stdout",
     "output_type": "stream",
     "text": [
      "Hay elementos en a\n",
      "[1, 2, 3, 4]\n"
     ]
    }
   ],
   "source": [
    "a = [1,2,3,4]\n",
    "if a:\n",
    "    print(\"Hay elementos en a\")\n",
    "    print(a)\n",
    "else:\n",
    "    print(\"A está vació\")"
   ]
  },
  {
   "cell_type": "code",
   "execution_count": 162,
   "metadata": {},
   "outputs": [
    {
     "name": "stdout",
     "output_type": "stream",
     "text": [
      "Hay elementos en a\n",
      "(1, 2, 3, 4)\n"
     ]
    }
   ],
   "source": [
    "a = (1,2,3,4)\n",
    "if a:\n",
    "    print(\"Hay elementos en a\")\n",
    "    print(a)\n",
    "else:\n",
    "    print(\"A está vació\")"
   ]
  },
  {
   "cell_type": "code",
   "execution_count": 161,
   "metadata": {},
   "outputs": [
    {
     "name": "stdout",
     "output_type": "stream",
     "text": [
      "A está vació\n"
     ]
    }
   ],
   "source": [
    "a = ()\n",
    "if a:\n",
    "    print(\"Hay elementos en a\")\n",
    "    print(a)\n",
    "else:\n",
    "    print(\"A está vació\")"
   ]
  },
  {
   "cell_type": "code",
   "execution_count": 165,
   "metadata": {},
   "outputs": [
    {
     "name": "stdout",
     "output_type": "stream",
     "text": [
      "A está vació\n"
     ]
    }
   ],
   "source": [
    "a = set()\n",
    "if a:\n",
    "    print(\"Hay elementos en a\")\n",
    "    print(a)\n",
    "else:\n",
    "    print(\"A está vació\")"
   ]
  },
  {
   "cell_type": "code",
   "execution_count": 167,
   "metadata": {},
   "outputs": [
    {
     "name": "stdout",
     "output_type": "stream",
     "text": [
      "Hay elementos en a\n",
      "{1, 2, 3, 4}\n"
     ]
    }
   ],
   "source": [
    "a = {1,2,3,4}\n",
    "if a:\n",
    "    print(\"Hay elementos en a\")\n",
    "    print(a)\n",
    "else:\n",
    "    print(\"A está vació\")"
   ]
  },
  {
   "cell_type": "markdown",
   "metadata": {},
   "source": [
    "## Ventajas de cada tipo de dato"
   ]
  },
  {
   "cell_type": "code",
   "execution_count": 37,
   "metadata": {},
   "outputs": [],
   "source": [
    "import time\n",
    "import random"
   ]
  },
  {
   "cell_type": "markdown",
   "metadata": {},
   "source": [
    "Cuando queremos buscar un elemento la estructura ganadora son los sets, si queremos encontrar algo en ellos siempre nos demoramos lo mismo, en las listas nos demoramos mucho en encontrarlos si tenemos muchos elementos"
   ]
  },
  {
   "cell_type": "code",
   "execution_count": 38,
   "metadata": {},
   "outputs": [],
   "source": [
    "a = [random.randint(0, 40000) for i in range(1000000)]\n",
    "b = set(a)"
   ]
  },
  {
   "cell_type": "code",
   "execution_count": 39,
   "metadata": {},
   "outputs": [
    {
     "name": "stdout",
     "output_type": "stream",
     "text": [
      "True\n",
      "0.001996278762817383\n",
      "True\n",
      "0.0\n"
     ]
    }
   ],
   "source": [
    "# Veamos cuanto nos demoramos en encontrar un elemento en una lista de 100.000 elementos\n",
    "t1 = time.time()\n",
    "print(4543 in a)\n",
    "t2 = time.time()\n",
    "print(t2 - t1)\n",
    "# Ahora veamos cuanto se demora en encontrar el mismo elemento en un set\n",
    "t1 = time.time()\n",
    "print(4543 in b)\n",
    "t2 = time.time()\n",
    "print(t2 - t1)"
   ]
  },
  {
   "cell_type": "markdown",
   "metadata": {},
   "source": [
    "Podemos ver que la tupla siempre se demora casi 0 segundos en ver si el elemento está mientras que la lista demora mas tiempo, imaginate si tuvieramos cientos de millones de datos."
   ]
  },
  {
   "cell_type": "markdown",
   "metadata": {},
   "source": [
    "Cuando queremos que de ninguna forma se repitan los datos podemos usar los sets, por ejemplo si tenemos ruts de personas, dos personas no deberían nunca tener el mismo rut, por lo que es conveniente usar sets. Además estos nos sirven para campos mas matemáticos al poder usar uniones, intersecciones y diferencias de conjuntos, a diferencia de las listas que no tienen implementadas dichas operaciones."
   ]
  },
  {
   "cell_type": "markdown",
   "metadata": {},
   "source": [
    "En conclusión, las listas tienen casi todos los comportamientos mas flexibles, pero son las mas pesadas y lentas, por lo que si tenemos pocos datos (cientos de datos) pueden ser una buena opción, pero cuando ya tenemos miles de millones de datos podrían no ser la estructura de datos mas adecuada."
   ]
  },
  {
   "cell_type": "markdown",
   "metadata": {
    "id": "fn-Nyr2OtSai"
   },
   "source": [
    "## List comprehension\n",
    "A very powerful concept in Python (that also applies to Tuples, sets and dictionaries as we will see below), is the ability to define lists using list comprehension (looping) expression. For example:"
   ]
  },
  {
   "cell_type": "code",
   "execution_count": null,
   "metadata": {
    "id": "k-Pcl71ftSaj",
    "outputId": "3673cc93-503a-4ba2-e863-bf4f1974826e"
   },
   "outputs": [
    {
     "data": {
      "text/plain": [
       "[1, 4, 9]"
      ]
     },
     "execution_count": 40,
     "metadata": {
      "tags": []
     },
     "output_type": "execute_result"
    }
   ],
   "source": [
    "[i**2 for i in [1,2,3]]"
   ]
  },
  {
   "cell_type": "markdown",
   "metadata": {
    "id": "hrBOKFIYtSaj"
   },
   "source": [
    "In general this takes the form of `[ <expression> for <variable> in <List> ]`. That is a new list is constructed by taking each element of the given List is turn, assigning it to the variable and then evaluating the expression with this variable assignment.\n",
    "\n",
    "As can be seen this constructs a new list by taking each element of the original `[1,2,3]` and squaring it. We can have multiple such implied loops to get for example:"
   ]
  },
  {
   "cell_type": "code",
   "execution_count": null,
   "metadata": {
    "id": "mnldaG47tSak",
    "outputId": "57e50582-48d4-4c20-ae49-160f2c67aa10"
   },
   "outputs": [
    {
     "data": {
      "text/plain": [
       "[15, 17, 25, 27, 35, 37]"
      ]
     },
     "execution_count": 41,
     "metadata": {
      "tags": []
     },
     "output_type": "execute_result"
    }
   ],
   "source": [
    "[10*i+j for i in [1,2,3] for j in [5,7]]"
   ]
  },
  {
   "cell_type": "markdown",
   "metadata": {
    "id": "jcyP6ulntSau"
   },
   "source": [
    "Finally the looping can be filtered using an **if** expression with the **for** - **in** construct."
   ]
  },
  {
   "cell_type": "code",
   "execution_count": null,
   "metadata": {
    "id": "TaCOYfSBtSav",
    "outputId": "ca8edf51-2b55-4c5d-eaf5-b523f92883dc"
   },
   "outputs": [
    {
     "data": {
      "text/plain": [
       "[15, 17, 37]"
      ]
     },
     "execution_count": 42,
     "metadata": {
      "tags": []
     },
     "output_type": "execute_result"
    }
   ],
   "source": [
    "[10*i+j for i in [1,2,3] if i%2==1 for j in [4,5,7] if j >= i+4] # keep odd i and  j larger than i+3 only"
   ]
  }
 ],
 "metadata": {
  "colab": {
   "name": "03.ipynb",
   "provenance": []
  },
  "kernelspec": {
   "display_name": "Python 3",
   "language": "python",
   "name": "python3"
  },
  "language_info": {
   "codemirror_mode": {
    "name": "ipython",
    "version": 3
   },
   "file_extension": ".py",
   "mimetype": "text/x-python",
   "name": "python",
   "nbconvert_exporter": "python",
   "pygments_lexer": "ipython3",
   "version": "3.7.8"
  }
 },
 "nbformat": 4,
 "nbformat_minor": 1
}
