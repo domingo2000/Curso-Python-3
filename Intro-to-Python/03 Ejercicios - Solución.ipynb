{
  "nbformat": 4,
  "nbformat_minor": 0,
  "metadata": {
    "colab": {
      "name": "funciones.ipynb",
      "provenance": [],
      "collapsed_sections": []
    },
    "kernelspec": {
      "display_name": "Python 3",
      "language": "python",
      "name": "python3"
    },
    "language_info": {
      "codemirror_mode": {
        "name": "ipython",
        "version": 3
      },
      "file_extension": ".py",
      "mimetype": "text/x-python",
      "name": "python",
      "nbconvert_exporter": "python",
      "pygments_lexer": "ipython3",
      "version": "3.7.8"
    }
  },
  "cells": [
    {
      "cell_type": "markdown",
      "metadata": {
        "id": "wr-eyFLQLQfN"
      },
      "source": [
        "# Guía ejercicios Funciones de python"
      ]
    },
    {
      "cell_type": "markdown",
      "metadata": {
        "id": "E2Yawce46uRt"
      },
      "source": [
        "## Ejercicio 1\n",
        "Escribir una función que muestre por pantalla el saludo ¡Hola amiga! cada vez que se la invoque."
      ]
    },
    {
      "cell_type": "code",
      "metadata": {
        "id": "eC80XcxJ6rQY",
        "outputId": "990de6da-b783-4cbf-fc00-2059a8915e64",
        "colab": {
          "base_uri": "https://localhost:8080/"
        }
      },
      "source": [
        "# Escriba aqui su solución\n",
        "def saludo():\n",
        "  print(\"¡Hola amiga!\") # Notar que hacemos print pues solo queremos imprimir un mensaje\n",
        "\n",
        "# En el flujo principal si llamamos varias veces a la funcion entonces se imprime varias veces hola amiga\n",
        "saludo()\n",
        "saludo()\n",
        "saludo()"
      ],
      "execution_count": 3,
      "outputs": [
        {
          "output_type": "stream",
          "text": [
            "¡Hola amiga!\n",
            "¡Hola amiga!\n",
            "¡Hola amiga!\n"
          ],
          "name": "stdout"
        }
      ]
    },
    {
      "cell_type": "markdown",
      "metadata": {
        "id": "h8aV7xOe6wy5"
      },
      "source": [
        "## Ejercicio 2\n",
        "Escribir una función a la que se le pase una cadena \\<nombre\\> y muestre por pantalla el saludo ¡hola \\<nombre\\>!."
      ]
    },
    {
      "cell_type": "code",
      "metadata": {
        "id": "CUyXt6Wy6sgy",
        "outputId": "cf7dc4cc-b71a-4114-ac23-93f0b1350bf7",
        "colab": {
          "base_uri": "https://localhost:8080/"
        }
      },
      "source": [
        "# Escriba aqui su solución\n",
        "def saludo2(nombre):\n",
        "  string = \"Hola \" + nombre + \"!\"\n",
        "  print(string)\n",
        "\n",
        "saludo2(\"Domingo\")\n",
        "saludo2(\"Fransisco\")\n",
        "saludo2(\"Felipe\")\n",
        "saludo2(\"Jorge\")"
      ],
      "execution_count": 4,
      "outputs": [
        {
          "output_type": "stream",
          "text": [
            "Hola Domingo!\n",
            "Hola Fransisco!\n",
            "Hola Felipe!\n",
            "Hola Jorge!\n"
          ],
          "name": "stdout"
        }
      ]
    },
    {
      "cell_type": "markdown",
      "metadata": {
        "id": "i5IMc00G6zS1"
      },
      "source": [
        "## Ejercicio 3\n",
        "Escribir una función que reciba un número entero positivo y devuelva su factorial."
      ]
    },
    {
      "cell_type": "code",
      "metadata": {
        "id": "bAJAxqJE6zfS",
        "outputId": "5c2fede8-3260-44c3-c702-7b0e5a44a82b",
        "colab": {
          "base_uri": "https://localhost:8080/"
        }
      },
      "source": [
        "# Escriba aqui su solución\n",
        "def factorial(n):\n",
        "  resultado = 1\n",
        "  while n >= 1:\n",
        "    resultado = resultado * n\n",
        "    n -= 1\n",
        "  return resultado\n",
        "\n",
        "# Vemos si la función está correcta con valores conocidos llamando a la funcion\n",
        "print(factorial(5))\n",
        "print(factorial(0))\n",
        "print(factorial(1))\n",
        "print(factorial(3))"
      ],
      "execution_count": 8,
      "outputs": [
        {
          "output_type": "stream",
          "text": [
            "120\n",
            "1\n",
            "1\n",
            "6\n"
          ],
          "name": "stdout"
        }
      ]
    },
    {
      "cell_type": "markdown",
      "metadata": {
        "id": "j58GpRcH6zwI"
      },
      "source": [
        "## Ejercicio 4\n",
        "Escribir una función que calcule el total de una factura tras aplicarle el IVA. La función debe recibir la cantidad sin IVA y el porcentaje de IVA a aplicar, y devolver el total de la factura. Si se invoca la función sin pasarle el porcentaje de IVA, deberá aplicar un 19%."
      ]
    },
    {
      "cell_type": "code",
      "metadata": {
        "id": "CwZoaXoa6z5d",
        "outputId": "021c3347-356d-437a-a745-34de742d2eaf",
        "colab": {
          "base_uri": "https://localhost:8080/"
        }
      },
      "source": [
        "# Escriba aqui su solución\n",
        "\n",
        "def precio_iva(precio, iva=0.19): # Por defecto toma el valor de 0.19\n",
        "  costo_extra = precio * iva\n",
        "  costo_total = precio + costo_extra\n",
        "  return costo_total\n",
        "\n",
        "# Probamos la funcion\n",
        "print(precio_iva(100, 0.14))\n",
        "print(precio_iva(100)) # Por defecto toma el 19 %\n",
        "print(precio_iva(100, 0.19))\n",
        "print(precio_iva(iva=0.20, precio=1000)) # Llamamos por keyword argument en vez de positional argument"
      ],
      "execution_count": 11,
      "outputs": [
        {
          "output_type": "stream",
          "text": [
            "114.0\n",
            "119.0\n",
            "119.0\n",
            "1200.0\n"
          ],
          "name": "stdout"
        }
      ]
    },
    {
      "cell_type": "markdown",
      "metadata": {
        "id": "-OrVgLiT60Bt"
      },
      "source": [
        "## Ejercicio 5\n",
        "Escribir una función que calcule el área de un círculo y otra que calcule el volumen de un cilindro usando la primera función."
      ]
    },
    {
      "cell_type": "code",
      "metadata": {
        "id": "PlFGfFb060J0",
        "outputId": "08842096-42a9-4e31-f5ec-f7e1c0e14544",
        "colab": {
          "base_uri": "https://localhost:8080/"
        }
      },
      "source": [
        "# Escriba aqui su solución\n",
        "import math # Aca traje math para usar un valor exacto de pi en vez de 3.14\n",
        "def area_circulo(r):\n",
        "  return math.pi * (r ** 2)\n",
        "\n",
        "def volumen_cilindro(diametro, altura):\n",
        "  radio = diametro / 2\n",
        "  area_basal = area_circulo(radio) * altura\n",
        "  volumen = area_basal * altura\n",
        "  return volumen\n",
        "\n",
        "\n",
        "# Probamos que este bien el del circulo\n",
        "print(area_circulo(5))\n",
        "print(area_circulo(1))\n",
        "print(area_circulo(2))\n",
        "\n",
        "# Probamos el del cilindro\n",
        "print(volumen_cilindro(10, 3))\n",
        "print(volumen_cilindro(altura=3, diametro=5)) # Podemos dart vuelta los parametros usando keyword arguments"
      ],
      "execution_count": 15,
      "outputs": [
        {
          "output_type": "stream",
          "text": [
            "78.53981633974483\n",
            "3.141592653589793\n",
            "12.566370614359172\n",
            "706.8583470577034\n",
            "176.71458676442586\n"
          ],
          "name": "stdout"
        }
      ]
    },
    {
      "cell_type": "markdown",
      "metadata": {
        "id": "P0tgEFM260TM"
      },
      "source": [
        "## Ejercicio 6\n",
        "Escribir una función que reciba una muestra de números en una lista y devuelva su media."
      ]
    },
    {
      "cell_type": "code",
      "metadata": {
        "id": "EWyzlq6e60cI",
        "outputId": "cf13bff2-55d6-4629-ab51-c9ad99d8d2f5",
        "colab": {
          "base_uri": "https://localhost:8080/"
        }
      },
      "source": [
        "# Escriba aqui su solución\n",
        "def media(lista):\n",
        "  suma = 0\n",
        "  cantidad_elementos = 0\n",
        "  for numero in lista:\n",
        "    suma += numero\n",
        "    cantidad_elementos += 1\n",
        "\n",
        "  # Ojo que no puedo ponerle media a la variable porque la función ya se llama media, por eso le puse u\n",
        "  u = suma / cantidad_elementos \n",
        "  return u\n",
        "\n",
        "# Probamos si funciona\n",
        "l = [1, 2, 3]\n",
        "print(media(l)) # Debiera dar 2\n",
        "l = [5, 2, 5]\n",
        "print(media(l)) # Debierda dar 4"
      ],
      "execution_count": 18,
      "outputs": [
        {
          "output_type": "stream",
          "text": [
            "2.0\n",
            "4.0\n"
          ],
          "name": "stdout"
        }
      ]
    },
    {
      "cell_type": "markdown",
      "metadata": {
        "id": "KvG3rPkf60lu"
      },
      "source": [
        "## Ejercicio 7\n",
        "Escribir una función que reciba un número y devuelva las potencias cuadrado y cubo de dicho número."
      ]
    },
    {
      "cell_type": "code",
      "metadata": {
        "id": "7pMmtm2360us",
        "outputId": "01cb6b5d-31fb-4903-f88e-b8b5d0066ef7",
        "colab": {
          "base_uri": "https://localhost:8080/"
        }
      },
      "source": [
        "# Escriba aqui su solución\n",
        "def potencias(n):\n",
        "  cuadrado = n ** 2\n",
        "  cubo = n ** 3\n",
        "  return cuadrado, cubo # Devolvemos las dos cosas separadas por coma\n",
        "\n",
        "# Probamos la funcion\n",
        "a, b = potencias(3) # Ojo que debemos declarar a y b en la misma linea para que funcione\n",
        "print(\"Cuadrado\", a)\n",
        "print(\"Cubo\", b)\n",
        "\n",
        "a, b = potencias(5) # Ojo que debemos declarar a y b en la misma linea para que funcione\n",
        "print(\"Cuadrado\", a)\n",
        "print(\"Cubo\", b)"
      ],
      "execution_count": 20,
      "outputs": [
        {
          "output_type": "stream",
          "text": [
            "Cuadrado 9\n",
            "Cubo 27\n",
            "Cuadrado 25\n",
            "Cubo 125\n"
          ],
          "name": "stdout"
        }
      ]
    },
    {
      "cell_type": "code",
      "metadata": {
        "id": "e-uDIMGSeV3e"
      },
      "source": [
        "# Return con parentesis hace lo mismo\n",
        "def potencias(n):\n",
        "  cuadrado = n ** 2\n",
        "  cubo = n ** 3\n",
        "  return (cuadrado, cubo) # Esto es exactamente lo mismo que lo anterior\n"
      ],
      "execution_count": 21,
      "outputs": []
    },
    {
      "cell_type": "markdown",
      "metadata": {
        "id": "MTkBUyWe603-"
      },
      "source": [
        "## Ejercicio 8\n",
        "Escribir una función que reciba una muestra de números en una lista y devuelva un diccionario con su media, varianza y desviación típica."
      ]
    },
    {
      "cell_type": "code",
      "metadata": {
        "id": "jkhLEtf561AJ",
        "outputId": "24fd49de-fd8a-4984-af08-49ab6663b5f0",
        "colab": {
          "base_uri": "https://localhost:8080/"
        }
      },
      "source": [
        "# Escriba aqui su solución\n",
        "\n",
        "# Vamos a definir funciones para calcular cada cosa por separado y las reutilizamos\n",
        "# Además ya tenemos definida por el ejercicio 6 una función que calcula la media\n",
        "\n",
        "def varianza(lista):\n",
        "  suma = 0\n",
        "  n = len(lista) # La función len recibe una lista y devuelve el largo de ella\n",
        "  u = media(lista)\n",
        "  for x in lista:\n",
        "    suma += (x - u) ** 2\n",
        "  \n",
        "  var = suma / n\n",
        "  return var\n",
        "\n",
        "def desviacion(lista):\n",
        "  std = varianza(lista) ** (1/2) # Reusamos la varianza y le sacamos la raiz cuadrada\n",
        "  return std\n",
        "\n",
        "def estadisticas(lista):\n",
        "  resultado = {} # Diccionario vacio\n",
        "  u = media(lista)\n",
        "  var = varianza(lista)\n",
        "  std = desviacion(lista)\n",
        "  resultado[\"media\"] = u\n",
        "  resultado[\"varianza\"] = var\n",
        "  resultado[\"desviacion\"] = std\n",
        "  return resultado\n",
        "\n",
        "# Probamos primero cada función por separado\n",
        "a = [1, 2, 3]\n",
        "print(media(a)) # Deberia dar 2\n",
        "print(varianza(a)) # Deberia dar 0.6666\n",
        "print(desviacion(a)) # Deberia dar 0.8164...\n",
        "\n",
        "# Probamos la funcion estadisticas para ver si nos da las tres cosas en el diccionario\n",
        "y = estadisticas(a)\n",
        "print(y)\n",
        "print(y[\"media\"])\n",
        "print(y[\"varianza\"])\n",
        "print(y[\"desviacion\"])"
      ],
      "execution_count": 26,
      "outputs": [
        {
          "output_type": "stream",
          "text": [
            "2.0\n",
            "0.6666666666666666\n",
            "0.816496580927726\n",
            "{'media': 2.0, 'varianza': 0.6666666666666666, 'desviacion': 0.816496580927726}\n",
            "2.0\n",
            "0.6666666666666666\n",
            "0.816496580927726\n"
          ],
          "name": "stdout"
        }
      ]
    },
    {
      "cell_type": "markdown",
      "metadata": {
        "id": "FBpi3uNf61JR"
      },
      "source": [
        "## Ejercicio 9\n",
        "Escribir una función que calcule el máximo común divisor de dos números y otra que calcule el mínimo común múltiplo.\n"
      ]
    },
    {
      "cell_type": "code",
      "metadata": {
        "id": "MlfLTAip61Rk",
        "outputId": "6b250d20-0271-46bd-c292-4a802bf35568",
        "colab": {
          "base_uri": "https://localhost:8080/"
        }
      },
      "source": [
        "# No pesquen este ejercicio si todavía no vemos listas, ya con listas visto deberían poder hacerlos\n",
        "\n",
        "# Escriba aqui su solución\n",
        "def mcd(a, b):\n",
        "  divisores_a = []\n",
        "  divisores_b = []\n",
        "\n",
        "  # Calculamos todos los divisores de a\n",
        "  for i in range(1, a + 1):\n",
        "    if a % i == 0:\n",
        "      divisores_a.append(i)\n",
        "\n",
        "  # Calculamos todos los divisores de b\n",
        "  for i in range(1, b + 1):\n",
        "    if b % i == 0:\n",
        "      divisores_b.append(i)\n",
        "\n",
        "  # Notese que podriamos definir una funcion que me de todos los divisores dado un número\n",
        "  # y la podriamos haber usado para calcular lo de arriba\n",
        "  \n",
        "  # Iteramos sobre ambas listas para ver el mayor que este en ambas listas de divisores\n",
        "  maximo_divisor = -1\n",
        "  for divisor_a in divisores_a:\n",
        "    for divisor_b in divisores_b:\n",
        "      if (divisor_a == divisor_b) and (divisor_a > maximo_divisor):\n",
        "        maximo_divisor = divisor_a\n",
        "\n",
        "  return (maximo_divisor)\n",
        "\n",
        "def mcm(a, b):\n",
        "  # Wikipedia nos ayuda a calcular esto con una formula bastante facil\n",
        "  # MCM = a * b / MCD(a, b)\n",
        "  return (a * b) / mcd(a, b)\n",
        "# Probemos primero la funcion es primo\n",
        "print(es_primo(7))\n",
        "print(es_primo(5))\n",
        "print(es_primo(4))\n",
        "# Ahora probamos la funcion primos(n)\n",
        "print(primos(10))\n",
        "print(primos(100))\n",
        "# Probamos el MCD\n",
        "print(mcd(45, 120)) # Debiera dar 15\n",
        "# probamos el MCM\n",
        "print(mcm(7, 4)) # Debiera dar 28\n",
        "print(mcm(8, 4)) # Debiera dar 8"
      ],
      "execution_count": 56,
      "outputs": [
        {
          "output_type": "stream",
          "text": [
            "True\n",
            "True\n",
            "False\n",
            "[0, 1, 2, 3, 5, 7]\n",
            "[0, 1, 2, 3, 5, 7, 11, 13, 17, 19, 23, 29, 31, 37, 41, 43, 47, 53, 59, 61, 67, 71, 73, 79, 83, 89, 97]\n",
            "15\n",
            "28.0\n",
            "8.0\n"
          ],
          "name": "stdout"
        }
      ]
    },
    {
      "cell_type": "markdown",
      "metadata": {
        "id": "Mk00dBDg61ac"
      },
      "source": [
        "## Ejercicio 10\n",
        "Escribir una función que convierta un número decimal en binario y otra que convierta un número binario en decimal."
      ]
    },
    {
      "cell_type": "code",
      "metadata": {
        "id": "ShxzQmy961kJ",
        "outputId": "3039f282-c195-484b-d71d-c650bf86e2fd",
        "colab": {
          "base_uri": "https://localhost:8080/"
        }
      },
      "source": [
        "# Escriba aqui su solución\n",
        "\n",
        "def dec_bin(decimal):\n",
        "  \"\"\"\n",
        "  Toma un numero decimal y devuelve su forma binaria\n",
        "  \"\"\"\n",
        "  # El caso borde del 0\n",
        "  if decimal == 0:\n",
        "    return \"0\"\n",
        "  # Todos los demás números\n",
        "  else:\n",
        "    binario = \"\"\n",
        "    while decimal != 0:\n",
        "      resto = decimal % 2\n",
        "      binario = str(resto) + binario\n",
        "      decimal = decimal // 2\n",
        "\n",
        "    return binario\n",
        "\n",
        "def dar_vuelta_string(string):\n",
        "  \"\"\"\n",
        "  Toma un string y lo devuelve dado vuelta\n",
        "  \"\"\"\n",
        "  y = \"\"\n",
        "  for c in string:\n",
        "    y = c + y\n",
        "  \n",
        "  return y\n",
        "\n",
        "# Probamos dar vuelta\n",
        "print(dar_vuelta_string(\"1110000\"))\n",
        "print(dar_vuelta_string(\"hola\"))\n",
        "\n",
        "# Para esta función usamos dar vuelta porque es mas facil ir subiendo las potencias de 2\n",
        "# que saber cual es la mayor y luego ir bajando\n",
        "def bin_dec(binario):\n",
        "  \"\"\"\n",
        "  Toma un numero binario y devuelve su valor en base decimal\n",
        "  \"\"\"\n",
        "  \n",
        "  string_binario = str(binario)\n",
        "  potencia = 1\n",
        "  numero = 0\n",
        "  for i in dar_vuelta_string(string_binario):\n",
        "    i = int(i)\n",
        "    numero += i * potencia\n",
        "    potencia = potencia * 2\n",
        "  \n",
        "  return numero\n",
        "\n",
        "\n",
        "# Probamos la función de decimal a binario\n",
        "print(\"#### Probando la funcion decimal a binario ####\")\n",
        "print(dec_bin(3))\n",
        "print(dec_bin(6))\n",
        "print(dec_bin(1))\n",
        "print(dec_bin(0))\n",
        "\n",
        "# Probamos la funcion binario a decimal\n",
        "print(\"#### Probando la funcion binario a decimal ####\")\n",
        "print(bin_dec(3))\n",
        "print(bin_dec(6))\n",
        "print(bin_dec(1))\n",
        "print(bin_dec(0))"
      ],
      "execution_count": 67,
      "outputs": [
        {
          "output_type": "stream",
          "text": [
            "0000111\n",
            "aloh\n",
            "#### Probando la funcion decimal a binario ####\n",
            "11\n",
            "110\n",
            "1\n",
            "0\n",
            "#### Probando la funcion binario a decimal ####\n",
            "3\n",
            "6\n",
            "1\n",
            "0\n"
          ],
          "name": "stdout"
        }
      ]
    },
    {
      "cell_type": "markdown",
      "metadata": {
        "id": "g_MfIIEP618g"
      },
      "source": [
        "## Ejercicio 11\n",
        "Escribir un programa que reciba el radio de una circunferencia y devuelva su área y perimetro."
      ]
    },
    {
      "cell_type": "code",
      "metadata": {
        "id": "iwH1_7nK62GX",
        "outputId": "0cc2d89e-e503-46c3-ab7f-7e823cc17e7f",
        "colab": {
          "base_uri": "https://localhost:8080/"
        }
      },
      "source": [
        "# Escriba aqui su solución\n",
        "\n",
        "def datos_circulo(r):\n",
        "  area = math.pi * (r ** 2)\n",
        "  perimetro = 2 * math.pi * r\n",
        "  return area, perimetro\n",
        "\n",
        "# Probamos la funcion\n",
        "area, perimetro = datos_circulo(5)\n",
        "print(area)\n",
        "print(perimetro)\n",
        "area, perimetro = datos_circulo(1)\n",
        "print(area)\n",
        "print(perimetro)"
      ],
      "execution_count": 69,
      "outputs": [
        {
          "output_type": "stream",
          "text": [
            "78.53981633974483\n",
            "31.41592653589793\n",
            "3.141592653589793\n",
            "6.283185307179586\n"
          ],
          "name": "stdout"
        }
      ]
    },
    {
      "cell_type": "markdown",
      "metadata": {
        "id": "jgylSR3HCMDN"
      },
      "source": [
        "## Ejercicio 12\n",
        "Solicitar números al usuario hasta que ingrese el cero. Por cada uno, mostrar la suma de sus dígitos (utilizando una función que realice dicha suma)."
      ]
    },
    {
      "cell_type": "code",
      "metadata": {
        "id": "gvvUVdoRCMSw",
        "outputId": "d89976f4-fe7f-4cfb-b7a3-0dbd261cb375",
        "colab": {
          "base_uri": "https://localhost:8080/"
        }
      },
      "source": [
        "# Escriba aqui su solución\n",
        "def suma_digitos(n):\n",
        "  suma = 0\n",
        "  for c in str(n):\n",
        "    num = int(c)\n",
        "    suma += num\n",
        "  \n",
        "  return suma\n",
        "\n",
        "# Probamos la suma de los digitos\n",
        "print(suma_digitos(123))\n",
        "print(suma_digitos(11111))\n",
        "print(suma_digitos(243))\n",
        "# Ahora que ya funciona vamos a definir la función que pida las entradas del usuario\n",
        "# y valla dando las sumas de sus digitos\n",
        "\n",
        "def suma_digitos_usuario():\n",
        "  entrada = int(input(\"Ingrese un numero positivo para ver la suma de sus digitos, si quiere salir ingrese 0: \"))\n",
        "  while entrada != 0:\n",
        "    print(suma_digitos(entrada))\n",
        "    entrada = int(input(\"Ingrese un numero positivo para ver la suma de sus digitos, si quiere salir ingrese 0: \"))\n",
        "\n",
        "  print(\"Hasta luego!\")\n",
        "\n",
        "# Probamos la funcion suma_digitos_usuario\n",
        "# Esta no recibe ningun parametro y termina de corrrerse cuando el usuario ingresa el 0 como input en consola\n",
        "suma_digitos_usuario() "
      ],
      "execution_count": 74,
      "outputs": [
        {
          "output_type": "stream",
          "text": [
            "6\n",
            "5\n",
            "9\n",
            "Ingrese un numero positivo para ver la suma de sus digitos, si quiere salir ingrese 0: 34\n",
            "7\n",
            "Ingrese un numero positivo para ver la suma de sus digitos, si quiere salir ingrese 0: 2\n",
            "2\n",
            "Ingrese un numero positivo para ver la suma de sus digitos, si quiere salir ingrese 0: 123\n",
            "6\n",
            "Ingrese un numero positivo para ver la suma de sus digitos, si quiere salir ingrese 0: 0\n",
            "Hasta luego!\n"
          ],
          "name": "stdout"
        }
      ]
    },
    {
      "cell_type": "markdown",
      "metadata": {
        "id": "cxeCliCEC-iz"
      },
      "source": [
        "## Ejercicio 13\n",
        "Solicitar números al usuario hasta que ingrese el cero. Por cada uno, mostrar la suma de sus dígitos. Al finalizar, mostrar la sumatoria de todos los números ingresados y la suma de sus dígitos. Reutilizar la misma función realizada en el ejercicio 2.\n"
      ]
    },
    {
      "cell_type": "code",
      "metadata": {
        "id": "YIR9b5-xC-sR",
        "outputId": "fefaee4d-d509-4541-8df6-f34f16113f8f",
        "colab": {
          "base_uri": "https://localhost:8080/"
        }
      },
      "source": [
        "# Escriba aqui su solución\n",
        "# Vamos a hacer copy paste de la función de arriba y le vamos a añadir las cosas nuevas que tiene que hacer\n",
        "def suma_digitos_usuario():\n",
        "  suma_numeros = 0\n",
        "  entrada = int(input(\"Ingrese un numero positivo para ver la suma de sus digitos, si quiere salir ingrese 0: \"))\n",
        "  while entrada != 0:\n",
        "    print(suma_digitos(entrada))\n",
        "    suma_numeros += entrada\n",
        "    entrada = int(input(\"Ingrese un numero positivo para ver la suma de sus digitos, si quiere salir ingrese 0: \"))\n",
        "\n",
        "  print(\"La suma de los numeros ingresados fue:\", suma_numeros)\n",
        "  print(\"Hasta luego!\")\n",
        "  return suma_numeros\n",
        "\n",
        "suma_digitos_usuario()"
      ],
      "execution_count": 75,
      "outputs": [
        {
          "output_type": "stream",
          "text": [
            "Ingrese un numero positivo para ver la suma de sus digitos, si quiere salir ingrese 0: 123\n",
            "6\n",
            "Ingrese un numero positivo para ver la suma de sus digitos, si quiere salir ingrese 0: 2\n",
            "2\n",
            "Ingrese un numero positivo para ver la suma de sus digitos, si quiere salir ingrese 0: 23\n",
            "5\n",
            "Ingrese un numero positivo para ver la suma de sus digitos, si quiere salir ingrese 0: 0\n",
            "La suma de los numeros ingresados fue: 148\n",
            "Hasta luego!\n"
          ],
          "name": "stdout"
        },
        {
          "output_type": "execute_result",
          "data": {
            "text/plain": [
              "148"
            ]
          },
          "metadata": {
            "tags": []
          },
          "execution_count": 75
        }
      ]
    },
    {
      "cell_type": "markdown",
      "metadata": {
        "id": "DmKna2rAC-1A"
      },
      "source": [
        "## Ejercicio 14\n",
        "Escribir una función que, dado un número de RUN, retorne True si el número es válido y False si no lo es. Para que un número de RUN sea válido debe tener 8 dígitos y dígito verificador. Ejemplos 04234345-k o 11646567-6"
      ]
    },
    {
      "cell_type": "code",
      "metadata": {
        "id": "U_N7StX4C-9w",
        "outputId": "59e79589-acba-47f2-d2a1-4cc6b1f3b5f8",
        "colab": {
          "base_uri": "https://localhost:8080/"
        }
      },
      "source": [
        "# Escriba aqui su solución\n",
        "# string.isnumeric() ve si un string es un numero\n",
        "# string.isdigit() ve si un string es un digito o no\n",
        "# Pueden buscar en google cosas que verifican si algo es un numero, digito y les van a aparecer estos comandos\n",
        "def rut_valido(rut):\n",
        "  if len(rut) < 10: # 8 mas el guion y el verificador\n",
        "    return False\n",
        "  elif not(rut[0:7].isnumeric()):\n",
        "    return False\n",
        "  elif rut[8] != \"-\":\n",
        "    return False\n",
        "  elif not( rut[-1].isdigit() or rut[-1] == \"k\" ):\n",
        "    return False\n",
        "  else:\n",
        "    return True\n",
        "\n",
        "# Probamos la funcion de rut\n",
        "print(rut_valido(\"4354-8\"))\n",
        "print(rut_valido(\"20429881-k\"))\n",
        "print(rut_valido(\"20429881-5\"))\n",
        "print(rut_valido(\"19429881-5\"))\n",
        "print(rut_valido(\"09429881-5\"))\n",
        "print(rut_valido(\"asbs3456-5\"))\n",
        "print(rut_valido(\"-5\"))"
      ],
      "execution_count": 88,
      "outputs": [
        {
          "output_type": "stream",
          "text": [
            "False\n",
            "True\n",
            "True\n",
            "True\n",
            "True\n",
            "False\n",
            "False\n"
          ],
          "name": "stdout"
        }
      ]
    },
    {
      "cell_type": "markdown",
      "metadata": {
        "id": "Uc62q91TC_GJ"
      },
      "source": [
        "## Ejercicio 15\n",
        "Escribir la función titulo(), la cual recibe un string y lo retorna convirtiendo la primera letra de cada palabra a mayúscula y las demás letras a minúscula, dejando inalterados los demás caracteres. Precondición: el separador de palabras es el espacio: \" \". Agregar doctests con suficientes casos de prueba para validar que la función retorna el valor esperado ante distintos argumentos."
      ]
    },
    {
      "cell_type": "code",
      "metadata": {
        "id": "t6GuXMXNC_Or",
        "outputId": "374216b1-ed3c-4bc0-b3ad-6a24671b9c46",
        "colab": {
          "base_uri": "https://localhost:8080/"
        }
      },
      "source": [
        "# Escriba aqui su solución\n",
        "\n",
        "def capitalizar(palabra):\n",
        "  string = \"\"\n",
        "  c = 0\n",
        "  for letra in palabra:\n",
        "    if c == 0:\n",
        "      string += letra.upper() # Upper pasa a mayuscula\n",
        "      c += 1\n",
        "    else:\n",
        "      string += letra.lower() # Lower pasa a minuscula\n",
        "  return string\n",
        "\n",
        "# Probemos capitalizar\n",
        "print(capitalizar(\"oLA\"))\n",
        "print(capitalizar(\"weeeena\"))\n",
        "print(capitalizar(\"wAeAeena\"))\n",
        "\n",
        "def titulo(oracion):\n",
        "  s = \"\"\n",
        "  palabras = oracion.split() # Con split separamos las palabras\n",
        "  for palabra in palabras:\n",
        "    s += capitalizar(palabra)\n",
        "    s += \" \"\n",
        "  return s\n",
        "\n",
        "# Probemos titulo\n",
        "# Todas deberían devolver el mismo string\n",
        "print(titulo(\"los juegos del hambre\"))\n",
        "print(titulo(\"los juegos Del hambre\"))\n",
        "print(titulo(\"los juEgos Del hAmbRe\"))"
      ],
      "execution_count": 97,
      "outputs": [
        {
          "output_type": "stream",
          "text": [
            "Ola\n",
            "Weeeena\n",
            "Waeaeena\n",
            "Los Juegos Del Hambre \n",
            "Los Juegos Del Hambre \n",
            "Los Juegos Del Hambre \n"
          ],
          "name": "stdout"
        }
      ]
    },
    {
      "cell_type": "code",
      "metadata": {
        "id": "-nqYwCwuuAPe",
        "outputId": "75f2deda-e0f5-4d2a-9761-b2d39368fac6",
        "colab": {
          "base_uri": "https://localhost:8080/"
        }
      },
      "source": [
        "# Como ejercicio extra podriamos querer definir la funcion split\n",
        "\n",
        "def split2(string):\n",
        "  palabras = []\n",
        "\n",
        "  palabra = \"\"\n",
        "  for c in string:\n",
        "    if c != \" \":\n",
        "      palabra += c\n",
        "    else:\n",
        "      palabras.append(palabra)\n",
        "      palabra = \"\"\n",
        "  \n",
        "  # Falta meter la ultima palabra del string\n",
        "  # pues como no hay espacio al final del string no se corre el else\n",
        "  palabras.append(palabra)\n",
        "  return palabras\n",
        "\n",
        "print(split2(\"Hola como estas\"))\n",
        "print(split2(\"Muy bien y tu\"))"
      ],
      "execution_count": 106,
      "outputs": [
        {
          "output_type": "stream",
          "text": [
            "['Hola', 'como', 'estas']\n",
            "['Muy', 'bien', 'y', 'tu']\n"
          ],
          "name": "stdout"
        }
      ]
    },
    {
      "cell_type": "code",
      "metadata": {
        "id": "oAA2uTALtTh5"
      },
      "source": [
        ""
      ],
      "execution_count": null,
      "outputs": []
    }
  ]
}